{
 "cells": [
  {
   "cell_type": "markdown",
   "metadata": {
    "id": "3rYiDeEH0q0f"
   },
   "source": [
    "# ¿Cuál es la mejor tarifa?\n",
    "\n",
    "Trabajas como analista para el operador de telecomunicaciones Megaline. La empresa ofrece a sus clientes dos tarifas de prepago, Surf y Ultimate. El departamento comercial quiere saber cuál de las tarifas genera más ingresos para poder ajustar el presupuesto de publicidad.\n",
    "\n",
    "Vas a realizar un análisis preliminar de las tarifas basado en una selección de clientes relativamente pequeña. Tendrás los datos de 500 clientes de Megaline: quiénes son los clientes, de dónde son, qué tarifa usan, así como la cantidad de llamadas que hicieron y los mensajes de texto que enviaron en 2018. Tu trabajo es analizar el comportamiento de los clientes y determinar qué tarifa de prepago genera más ingresos."
   ]
  },
  {
   "cell_type": "markdown",
   "metadata": {
    "id": "VNddPNRQ0q0w"
   },
   "source": [
    "El propósito del proyecto es determinar cual de las 2 tarifas prepago que ofrece el operador de telecomunicaciones Megaline genera mas ingresos para invertirle mas publicidad y atraer mas clientes a esa tarifa.\n",
    "\n",
    "Pasos a seguir:\n",
    "* Importar librerias\n",
    "* Cargar, limpiar, preprosesar datos.\n",
    "* explorar datos y analizar.\n",
    "* Realizar y determinar hipotesis.\n"
   ]
  },
  {
   "cell_type": "markdown",
   "metadata": {
    "id": "MQi4IPy70q0y"
   },
   "source": [
    "## Inicialización"
   ]
  },
  {
   "cell_type": "code",
   "execution_count": 7,
   "metadata": {
    "id": "MtYIuBxu0q0z"
   },
   "outputs": [],
   "source": [
    "# Cargar todas las librerías\n",
    "import pandas as pd\n",
    "import numpy as np\n",
    "import math\n",
    "from matplotlib import pyplot as plt\n",
    "from scipy import stats as st\n",
    "import seaborn as sns"
   ]
  },
  {
   "cell_type": "markdown",
   "metadata": {},
   "source": [
    "<div class=\"alert alert-block alert-success\">\n",
    "<b>Comentario del revisor</b> <a class=\"tocSkip\"></a>\n",
    "\n",
    "Muy buen trabajo con los ajustes!\n",
    "</div>"
   ]
  },
  {
   "cell_type": "markdown",
   "metadata": {
    "id": "4ysWWC5i0q00"
   },
   "source": [
    "## Cargar datos"
   ]
  },
  {
   "cell_type": "code",
   "execution_count": 8,
   "metadata": {
    "id": "CCqPW7rS0q01"
   },
   "outputs": [],
   "source": [
    "# Carga los archivos de datos en diferentes DataFrames\n",
    "usuarios_df = pd.read_csv(r'datasets\\megaline_users.csv')\n",
    "llamadas_df = pd.read_csv(r'datasets\\megaline_calls.csv')\n",
    "mensajes_df = pd.read_csv(r'datasets\\megaline_messages.csv')\n",
    "internet_df = pd.read_csv(r'datasets\\megaline_internet.csv')\n",
    "planes_df = pd.read_csv(r'datasets\\megaline_plans.csv')"
   ]
  },
  {
   "cell_type": "markdown",
   "metadata": {
    "id": "69qqoJ3r0q01"
   },
   "source": [
    "## Preparar los datos"
   ]
  },
  {
   "cell_type": "markdown",
   "metadata": {
    "id": "vUuZw80S0q01"
   },
   "source": [
    "En este paso se debe verificar los datos de los dataframes, mediante los metodo info() y head()."
   ]
  },
  {
   "cell_type": "markdown",
   "metadata": {
    "id": "ohBhimvH0q01"
   },
   "source": [
    "## Tarifas"
   ]
  },
  {
   "cell_type": "code",
   "execution_count": 9,
   "metadata": {
    "id": "GptqP3Q40q02"
   },
   "outputs": [
    {
     "name": "stdout",
     "output_type": "stream",
     "text": [
      "<class 'pandas.core.frame.DataFrame'>\n",
      "RangeIndex: 2 entries, 0 to 1\n",
      "Data columns (total 8 columns):\n",
      " #   Column                 Non-Null Count  Dtype  \n",
      "---  ------                 --------------  -----  \n",
      " 0   messages_included      2 non-null      int64  \n",
      " 1   mb_per_month_included  2 non-null      int64  \n",
      " 2   minutes_included       2 non-null      int64  \n",
      " 3   usd_monthly_pay        2 non-null      int64  \n",
      " 4   usd_per_gb             2 non-null      int64  \n",
      " 5   usd_per_message        2 non-null      float64\n",
      " 6   usd_per_minute         2 non-null      float64\n",
      " 7   plan_name              2 non-null      object \n",
      "dtypes: float64(2), int64(5), object(1)\n",
      "memory usage: 260.0+ bytes\n"
     ]
    }
   ],
   "source": [
    "# Imprime la información general/resumida sobre el DataFrame de las tarifas\n",
    "planes_df.info()\n",
    "\n",
    "# messages_included: SMS incluidos al mes.\n",
    "# mb_per_month_included: datos incluidos al mes (en megabytes).\n",
    "# minutes_included: minutos incluidos al mes.\n",
    "# usd_monthly_pay: pago mensual en dólares estadounidenses.\n",
    "# usd_per_gb: precio por gigabyte de los datos extra tras exceder los límites del paquete (1 GB = 1024 megabytes).\n",
    "# usd_per_message: precio por SMS tras exceder los límites del paquete.\n",
    "# usd_per_minute: precio por minuto tras exceder los límites del paquete (por ejemplo, si el paquete incluye 100 minutos, el operador cobrará el minuto 101).\n",
    "# plan_name: nombre de la tarifa."
   ]
  },
  {
   "cell_type": "code",
   "execution_count": 10,
   "metadata": {
    "id": "64xzjwL70q02"
   },
   "outputs": [
    {
     "data": {
      "text/html": [
       "<div>\n",
       "<style scoped>\n",
       "    .dataframe tbody tr th:only-of-type {\n",
       "        vertical-align: middle;\n",
       "    }\n",
       "\n",
       "    .dataframe tbody tr th {\n",
       "        vertical-align: top;\n",
       "    }\n",
       "\n",
       "    .dataframe thead th {\n",
       "        text-align: right;\n",
       "    }\n",
       "</style>\n",
       "<table border=\"1\" class=\"dataframe\">\n",
       "  <thead>\n",
       "    <tr style=\"text-align: right;\">\n",
       "      <th></th>\n",
       "      <th>messages_included</th>\n",
       "      <th>mb_per_month_included</th>\n",
       "      <th>minutes_included</th>\n",
       "      <th>usd_monthly_pay</th>\n",
       "      <th>usd_per_gb</th>\n",
       "      <th>usd_per_message</th>\n",
       "      <th>usd_per_minute</th>\n",
       "      <th>plan_name</th>\n",
       "    </tr>\n",
       "  </thead>\n",
       "  <tbody>\n",
       "    <tr>\n",
       "      <th>0</th>\n",
       "      <td>50</td>\n",
       "      <td>15360</td>\n",
       "      <td>500</td>\n",
       "      <td>20</td>\n",
       "      <td>10</td>\n",
       "      <td>0.03</td>\n",
       "      <td>0.03</td>\n",
       "      <td>surf</td>\n",
       "    </tr>\n",
       "    <tr>\n",
       "      <th>1</th>\n",
       "      <td>1000</td>\n",
       "      <td>30720</td>\n",
       "      <td>3000</td>\n",
       "      <td>70</td>\n",
       "      <td>7</td>\n",
       "      <td>0.01</td>\n",
       "      <td>0.01</td>\n",
       "      <td>ultimate</td>\n",
       "    </tr>\n",
       "  </tbody>\n",
       "</table>\n",
       "</div>"
      ],
      "text/plain": [
       "   messages_included  mb_per_month_included  minutes_included  \\\n",
       "0                 50                  15360               500   \n",
       "1               1000                  30720              3000   \n",
       "\n",
       "   usd_monthly_pay  usd_per_gb  usd_per_message  usd_per_minute plan_name  \n",
       "0               20          10             0.03            0.03      surf  \n",
       "1               70           7             0.01            0.01  ultimate  "
      ]
     },
     "execution_count": 10,
     "metadata": {},
     "output_type": "execute_result"
    }
   ],
   "source": [
    "# Imprime una muestra de los datos para las tarifas\n",
    "planes_df.head()"
   ]
  },
  {
   "cell_type": "markdown",
   "metadata": {
    "id": "mEc_3_hs0q02"
   },
   "source": [
    "En este data frame se esperaba tener los valores de los 2 planes.\n",
    "* No presenta valores ausentes.\n",
    "* Los valores son los correctos de acuerdo a la información proporcionada.\n",
    "* Los tipos de datos son los correctos, no se necesita trabajar en ellos."
   ]
  },
  {
   "cell_type": "markdown",
   "metadata": {
    "id": "R3C05i1l0q03"
   },
   "source": [
    "## Corregir datos"
   ]
  },
  {
   "cell_type": "markdown",
   "metadata": {
    "id": "bIi8StZI0q03"
   },
   "source": [
    "Los datos no presentan errores."
   ]
  },
  {
   "cell_type": "markdown",
   "metadata": {
    "id": "LJir7bml0q03"
   },
   "source": [
    "## Enriquecer los datos"
   ]
  },
  {
   "cell_type": "markdown",
   "metadata": {
    "id": "eqADpCfg0q04"
   },
   "source": [
    "Considero que los datos estan correctos y claros.\n",
    "* Se debe realizar la transformacion de megabytes a gigabytes \n",
    "* 1GB = 1024 MBs"
   ]
  },
  {
   "cell_type": "markdown",
   "metadata": {
    "id": "1n2X6WXf0q04"
   },
   "source": [
    "## Usuarios/as"
   ]
  },
  {
   "cell_type": "code",
   "execution_count": 11,
   "metadata": {
    "id": "2NgjWFqx0q05"
   },
   "outputs": [
    {
     "name": "stdout",
     "output_type": "stream",
     "text": [
      "<class 'pandas.core.frame.DataFrame'>\n",
      "RangeIndex: 500 entries, 0 to 499\n",
      "Data columns (total 8 columns):\n",
      " #   Column      Non-Null Count  Dtype \n",
      "---  ------      --------------  ----- \n",
      " 0   user_id     500 non-null    int64 \n",
      " 1   first_name  500 non-null    object\n",
      " 2   last_name   500 non-null    object\n",
      " 3   age         500 non-null    int64 \n",
      " 4   city        500 non-null    object\n",
      " 5   reg_date    500 non-null    object\n",
      " 6   plan        500 non-null    object\n",
      " 7   churn_date  34 non-null     object\n",
      "dtypes: int64(2), object(6)\n",
      "memory usage: 31.4+ KB\n"
     ]
    }
   ],
   "source": [
    "# Imprime la información general/resumida sobre el DataFrame de usuarios\n",
    "usuarios_df.info()\n",
    "\n",
    "# user_id: identificador único del usuario.\n",
    "# first_name: nombre del usuario.\n",
    "# last_name: apellido del usuario.\n",
    "# age: edad del usuario (en años).\n",
    "# city: ciudad de residencia del usuario.\n",
    "# reg_date: fecha de suscripción (dd, mm, aa).\n",
    "# plan: nombre de la tarifa.\n",
    "# churn_date: la fecha en la que el usuario dejó de usar el servicio (si el valor es ausente, la tarifa se estaba usando cuando fue extraída esta base de datos)."
   ]
  },
  {
   "cell_type": "code",
   "execution_count": 12,
   "metadata": {
    "id": "1IN1L9uh0q05"
   },
   "outputs": [
    {
     "data": {
      "text/html": [
       "<div>\n",
       "<style scoped>\n",
       "    .dataframe tbody tr th:only-of-type {\n",
       "        vertical-align: middle;\n",
       "    }\n",
       "\n",
       "    .dataframe tbody tr th {\n",
       "        vertical-align: top;\n",
       "    }\n",
       "\n",
       "    .dataframe thead th {\n",
       "        text-align: right;\n",
       "    }\n",
       "</style>\n",
       "<table border=\"1\" class=\"dataframe\">\n",
       "  <thead>\n",
       "    <tr style=\"text-align: right;\">\n",
       "      <th></th>\n",
       "      <th>user_id</th>\n",
       "      <th>first_name</th>\n",
       "      <th>last_name</th>\n",
       "      <th>age</th>\n",
       "      <th>city</th>\n",
       "      <th>reg_date</th>\n",
       "      <th>plan</th>\n",
       "      <th>churn_date</th>\n",
       "    </tr>\n",
       "  </thead>\n",
       "  <tbody>\n",
       "    <tr>\n",
       "      <th>0</th>\n",
       "      <td>1000</td>\n",
       "      <td>Anamaria</td>\n",
       "      <td>Bauer</td>\n",
       "      <td>45</td>\n",
       "      <td>Atlanta-Sandy Springs-Roswell, GA MSA</td>\n",
       "      <td>2018-12-24</td>\n",
       "      <td>ultimate</td>\n",
       "      <td>NaN</td>\n",
       "    </tr>\n",
       "    <tr>\n",
       "      <th>1</th>\n",
       "      <td>1001</td>\n",
       "      <td>Mickey</td>\n",
       "      <td>Wilkerson</td>\n",
       "      <td>28</td>\n",
       "      <td>Seattle-Tacoma-Bellevue, WA MSA</td>\n",
       "      <td>2018-08-13</td>\n",
       "      <td>surf</td>\n",
       "      <td>NaN</td>\n",
       "    </tr>\n",
       "    <tr>\n",
       "      <th>2</th>\n",
       "      <td>1002</td>\n",
       "      <td>Carlee</td>\n",
       "      <td>Hoffman</td>\n",
       "      <td>36</td>\n",
       "      <td>Las Vegas-Henderson-Paradise, NV MSA</td>\n",
       "      <td>2018-10-21</td>\n",
       "      <td>surf</td>\n",
       "      <td>NaN</td>\n",
       "    </tr>\n",
       "    <tr>\n",
       "      <th>3</th>\n",
       "      <td>1003</td>\n",
       "      <td>Reynaldo</td>\n",
       "      <td>Jenkins</td>\n",
       "      <td>52</td>\n",
       "      <td>Tulsa, OK MSA</td>\n",
       "      <td>2018-01-28</td>\n",
       "      <td>surf</td>\n",
       "      <td>NaN</td>\n",
       "    </tr>\n",
       "    <tr>\n",
       "      <th>4</th>\n",
       "      <td>1004</td>\n",
       "      <td>Leonila</td>\n",
       "      <td>Thompson</td>\n",
       "      <td>40</td>\n",
       "      <td>Seattle-Tacoma-Bellevue, WA MSA</td>\n",
       "      <td>2018-05-23</td>\n",
       "      <td>surf</td>\n",
       "      <td>NaN</td>\n",
       "    </tr>\n",
       "    <tr>\n",
       "      <th>5</th>\n",
       "      <td>1005</td>\n",
       "      <td>Livia</td>\n",
       "      <td>Shields</td>\n",
       "      <td>31</td>\n",
       "      <td>Dallas-Fort Worth-Arlington, TX MSA</td>\n",
       "      <td>2018-11-29</td>\n",
       "      <td>surf</td>\n",
       "      <td>NaN</td>\n",
       "    </tr>\n",
       "    <tr>\n",
       "      <th>6</th>\n",
       "      <td>1006</td>\n",
       "      <td>Jesusa</td>\n",
       "      <td>Bradford</td>\n",
       "      <td>73</td>\n",
       "      <td>San Francisco-Oakland-Berkeley, CA MSA</td>\n",
       "      <td>2018-11-27</td>\n",
       "      <td>ultimate</td>\n",
       "      <td>2018-12-18</td>\n",
       "    </tr>\n",
       "    <tr>\n",
       "      <th>7</th>\n",
       "      <td>1007</td>\n",
       "      <td>Eusebio</td>\n",
       "      <td>Welch</td>\n",
       "      <td>42</td>\n",
       "      <td>Grand Rapids-Kentwood, MI MSA</td>\n",
       "      <td>2018-07-11</td>\n",
       "      <td>surf</td>\n",
       "      <td>NaN</td>\n",
       "    </tr>\n",
       "    <tr>\n",
       "      <th>8</th>\n",
       "      <td>1008</td>\n",
       "      <td>Emely</td>\n",
       "      <td>Hoffman</td>\n",
       "      <td>53</td>\n",
       "      <td>Orlando-Kissimmee-Sanford, FL MSA</td>\n",
       "      <td>2018-08-03</td>\n",
       "      <td>ultimate</td>\n",
       "      <td>NaN</td>\n",
       "    </tr>\n",
       "    <tr>\n",
       "      <th>9</th>\n",
       "      <td>1009</td>\n",
       "      <td>Gerry</td>\n",
       "      <td>Little</td>\n",
       "      <td>19</td>\n",
       "      <td>San Jose-Sunnyvale-Santa Clara, CA MSA</td>\n",
       "      <td>2018-04-22</td>\n",
       "      <td>surf</td>\n",
       "      <td>NaN</td>\n",
       "    </tr>\n",
       "  </tbody>\n",
       "</table>\n",
       "</div>"
      ],
      "text/plain": [
       "   user_id first_name  last_name  age                                    city  \\\n",
       "0     1000   Anamaria      Bauer   45   Atlanta-Sandy Springs-Roswell, GA MSA   \n",
       "1     1001     Mickey  Wilkerson   28         Seattle-Tacoma-Bellevue, WA MSA   \n",
       "2     1002     Carlee    Hoffman   36    Las Vegas-Henderson-Paradise, NV MSA   \n",
       "3     1003   Reynaldo    Jenkins   52                           Tulsa, OK MSA   \n",
       "4     1004    Leonila   Thompson   40         Seattle-Tacoma-Bellevue, WA MSA   \n",
       "5     1005      Livia    Shields   31     Dallas-Fort Worth-Arlington, TX MSA   \n",
       "6     1006     Jesusa   Bradford   73  San Francisco-Oakland-Berkeley, CA MSA   \n",
       "7     1007    Eusebio      Welch   42           Grand Rapids-Kentwood, MI MSA   \n",
       "8     1008      Emely    Hoffman   53       Orlando-Kissimmee-Sanford, FL MSA   \n",
       "9     1009      Gerry     Little   19  San Jose-Sunnyvale-Santa Clara, CA MSA   \n",
       "\n",
       "     reg_date      plan  churn_date  \n",
       "0  2018-12-24  ultimate         NaN  \n",
       "1  2018-08-13      surf         NaN  \n",
       "2  2018-10-21      surf         NaN  \n",
       "3  2018-01-28      surf         NaN  \n",
       "4  2018-05-23      surf         NaN  \n",
       "5  2018-11-29      surf         NaN  \n",
       "6  2018-11-27  ultimate  2018-12-18  \n",
       "7  2018-07-11      surf         NaN  \n",
       "8  2018-08-03  ultimate         NaN  \n",
       "9  2018-04-22      surf         NaN  "
      ]
     },
     "execution_count": 12,
     "metadata": {},
     "output_type": "execute_result"
    }
   ],
   "source": [
    "# Imprime una muestra de datos para usuarios\n",
    "usuarios_df.head(10)"
   ]
  },
  {
   "cell_type": "markdown",
   "metadata": {
    "id": "dCZoUq4f0q06"
   },
   "source": [
    "\n",
    "* Los nombres de la tabla son los correctos \n",
    "* Presenta datos ausentes, de acuerdo a los datos representa que la tarifa se estaba usando cuando fue extraída esta base de datos.\n",
    "* tiene columnas de fecha que deben ser modificadas para el analisis.\n",
    "* pasar a un formato mejor de lectura de nombres ( todo a minuscula).\n"
   ]
  },
  {
   "cell_type": "markdown",
   "metadata": {
    "id": "BX5FQh_I0q06"
   },
   "source": [
    "### Corregir los datos"
   ]
  },
  {
   "cell_type": "markdown",
   "metadata": {
    "id": "8OdKMwJv0q06"
   },
   "source": [
    "Se va a convertir columnas de fechas a tipo datetime y  unificar el formato de las columnas de texto."
   ]
  },
  {
   "cell_type": "code",
   "execution_count": 13,
   "metadata": {
    "id": "yUqX-K0C0q07"
   },
   "outputs": [],
   "source": [
    "\n",
    "# Convertir columnas de fechas a tipo datetime\n",
    "usuarios_df['reg_date'] = pd.to_datetime(usuarios_df['reg_date'])\n",
    "usuarios_df['churn_date'] = pd.to_datetime(usuarios_df['churn_date'])\n",
    "\n",
    "# Cambiar formato de las columnas de texto\n",
    "usuarios_df['first_name'] = usuarios_df['first_name'].str.strip().str.lower()\n",
    "usuarios_df['last_name'] = usuarios_df['last_name'].str.strip().str.lower()\n",
    "usuarios_df['city'] = usuarios_df['city'].str.strip()"
   ]
  },
  {
   "cell_type": "code",
   "execution_count": 14,
   "metadata": {},
   "outputs": [
    {
     "name": "stdout",
     "output_type": "stream",
     "text": [
      "<class 'pandas.core.frame.DataFrame'>\n",
      "RangeIndex: 500 entries, 0 to 499\n",
      "Data columns (total 8 columns):\n",
      " #   Column      Non-Null Count  Dtype         \n",
      "---  ------      --------------  -----         \n",
      " 0   user_id     500 non-null    int64         \n",
      " 1   first_name  500 non-null    object        \n",
      " 2   last_name   500 non-null    object        \n",
      " 3   age         500 non-null    int64         \n",
      " 4   city        500 non-null    object        \n",
      " 5   reg_date    500 non-null    datetime64[ns]\n",
      " 6   plan        500 non-null    object        \n",
      " 7   churn_date  34 non-null     datetime64[ns]\n",
      "dtypes: datetime64[ns](2), int64(2), object(4)\n",
      "memory usage: 31.4+ KB\n",
      "None\n"
     ]
    },
    {
     "data": {
      "text/html": [
       "<div>\n",
       "<style scoped>\n",
       "    .dataframe tbody tr th:only-of-type {\n",
       "        vertical-align: middle;\n",
       "    }\n",
       "\n",
       "    .dataframe tbody tr th {\n",
       "        vertical-align: top;\n",
       "    }\n",
       "\n",
       "    .dataframe thead th {\n",
       "        text-align: right;\n",
       "    }\n",
       "</style>\n",
       "<table border=\"1\" class=\"dataframe\">\n",
       "  <thead>\n",
       "    <tr style=\"text-align: right;\">\n",
       "      <th></th>\n",
       "      <th>user_id</th>\n",
       "      <th>first_name</th>\n",
       "      <th>last_name</th>\n",
       "      <th>age</th>\n",
       "      <th>city</th>\n",
       "      <th>reg_date</th>\n",
       "      <th>plan</th>\n",
       "      <th>churn_date</th>\n",
       "    </tr>\n",
       "  </thead>\n",
       "  <tbody>\n",
       "    <tr>\n",
       "      <th>0</th>\n",
       "      <td>1000</td>\n",
       "      <td>anamaria</td>\n",
       "      <td>bauer</td>\n",
       "      <td>45</td>\n",
       "      <td>Atlanta-Sandy Springs-Roswell, GA MSA</td>\n",
       "      <td>2018-12-24</td>\n",
       "      <td>ultimate</td>\n",
       "      <td>NaT</td>\n",
       "    </tr>\n",
       "    <tr>\n",
       "      <th>1</th>\n",
       "      <td>1001</td>\n",
       "      <td>mickey</td>\n",
       "      <td>wilkerson</td>\n",
       "      <td>28</td>\n",
       "      <td>Seattle-Tacoma-Bellevue, WA MSA</td>\n",
       "      <td>2018-08-13</td>\n",
       "      <td>surf</td>\n",
       "      <td>NaT</td>\n",
       "    </tr>\n",
       "    <tr>\n",
       "      <th>2</th>\n",
       "      <td>1002</td>\n",
       "      <td>carlee</td>\n",
       "      <td>hoffman</td>\n",
       "      <td>36</td>\n",
       "      <td>Las Vegas-Henderson-Paradise, NV MSA</td>\n",
       "      <td>2018-10-21</td>\n",
       "      <td>surf</td>\n",
       "      <td>NaT</td>\n",
       "    </tr>\n",
       "    <tr>\n",
       "      <th>3</th>\n",
       "      <td>1003</td>\n",
       "      <td>reynaldo</td>\n",
       "      <td>jenkins</td>\n",
       "      <td>52</td>\n",
       "      <td>Tulsa, OK MSA</td>\n",
       "      <td>2018-01-28</td>\n",
       "      <td>surf</td>\n",
       "      <td>NaT</td>\n",
       "    </tr>\n",
       "    <tr>\n",
       "      <th>4</th>\n",
       "      <td>1004</td>\n",
       "      <td>leonila</td>\n",
       "      <td>thompson</td>\n",
       "      <td>40</td>\n",
       "      <td>Seattle-Tacoma-Bellevue, WA MSA</td>\n",
       "      <td>2018-05-23</td>\n",
       "      <td>surf</td>\n",
       "      <td>NaT</td>\n",
       "    </tr>\n",
       "    <tr>\n",
       "      <th>5</th>\n",
       "      <td>1005</td>\n",
       "      <td>livia</td>\n",
       "      <td>shields</td>\n",
       "      <td>31</td>\n",
       "      <td>Dallas-Fort Worth-Arlington, TX MSA</td>\n",
       "      <td>2018-11-29</td>\n",
       "      <td>surf</td>\n",
       "      <td>NaT</td>\n",
       "    </tr>\n",
       "    <tr>\n",
       "      <th>6</th>\n",
       "      <td>1006</td>\n",
       "      <td>jesusa</td>\n",
       "      <td>bradford</td>\n",
       "      <td>73</td>\n",
       "      <td>San Francisco-Oakland-Berkeley, CA MSA</td>\n",
       "      <td>2018-11-27</td>\n",
       "      <td>ultimate</td>\n",
       "      <td>2018-12-18</td>\n",
       "    </tr>\n",
       "    <tr>\n",
       "      <th>7</th>\n",
       "      <td>1007</td>\n",
       "      <td>eusebio</td>\n",
       "      <td>welch</td>\n",
       "      <td>42</td>\n",
       "      <td>Grand Rapids-Kentwood, MI MSA</td>\n",
       "      <td>2018-07-11</td>\n",
       "      <td>surf</td>\n",
       "      <td>NaT</td>\n",
       "    </tr>\n",
       "    <tr>\n",
       "      <th>8</th>\n",
       "      <td>1008</td>\n",
       "      <td>emely</td>\n",
       "      <td>hoffman</td>\n",
       "      <td>53</td>\n",
       "      <td>Orlando-Kissimmee-Sanford, FL MSA</td>\n",
       "      <td>2018-08-03</td>\n",
       "      <td>ultimate</td>\n",
       "      <td>NaT</td>\n",
       "    </tr>\n",
       "    <tr>\n",
       "      <th>9</th>\n",
       "      <td>1009</td>\n",
       "      <td>gerry</td>\n",
       "      <td>little</td>\n",
       "      <td>19</td>\n",
       "      <td>San Jose-Sunnyvale-Santa Clara, CA MSA</td>\n",
       "      <td>2018-04-22</td>\n",
       "      <td>surf</td>\n",
       "      <td>NaT</td>\n",
       "    </tr>\n",
       "  </tbody>\n",
       "</table>\n",
       "</div>"
      ],
      "text/plain": [
       "   user_id first_name  last_name  age                                    city  \\\n",
       "0     1000   anamaria      bauer   45   Atlanta-Sandy Springs-Roswell, GA MSA   \n",
       "1     1001     mickey  wilkerson   28         Seattle-Tacoma-Bellevue, WA MSA   \n",
       "2     1002     carlee    hoffman   36    Las Vegas-Henderson-Paradise, NV MSA   \n",
       "3     1003   reynaldo    jenkins   52                           Tulsa, OK MSA   \n",
       "4     1004    leonila   thompson   40         Seattle-Tacoma-Bellevue, WA MSA   \n",
       "5     1005      livia    shields   31     Dallas-Fort Worth-Arlington, TX MSA   \n",
       "6     1006     jesusa   bradford   73  San Francisco-Oakland-Berkeley, CA MSA   \n",
       "7     1007    eusebio      welch   42           Grand Rapids-Kentwood, MI MSA   \n",
       "8     1008      emely    hoffman   53       Orlando-Kissimmee-Sanford, FL MSA   \n",
       "9     1009      gerry     little   19  San Jose-Sunnyvale-Santa Clara, CA MSA   \n",
       "\n",
       "    reg_date      plan churn_date  \n",
       "0 2018-12-24  ultimate        NaT  \n",
       "1 2018-08-13      surf        NaT  \n",
       "2 2018-10-21      surf        NaT  \n",
       "3 2018-01-28      surf        NaT  \n",
       "4 2018-05-23      surf        NaT  \n",
       "5 2018-11-29      surf        NaT  \n",
       "6 2018-11-27  ultimate 2018-12-18  \n",
       "7 2018-07-11      surf        NaT  \n",
       "8 2018-08-03  ultimate        NaT  \n",
       "9 2018-04-22      surf        NaT  "
      ]
     },
     "execution_count": 14,
     "metadata": {},
     "output_type": "execute_result"
    }
   ],
   "source": [
    "print(usuarios_df.info())\n",
    "usuarios_df.head(10)"
   ]
  },
  {
   "cell_type": "markdown",
   "metadata": {
    "id": "ycwuARJp0q07"
   },
   "source": [
    "### Enriquecer los datos"
   ]
  },
  {
   "cell_type": "markdown",
   "metadata": {
    "id": "96NIh4CJ0q08"
   },
   "source": [
    "Separar las ciudades de su estado en una columna de  Área Estadística Metropolitana (MSA).\n",
    "Crear una columna nueva para determinar si el usuario sigue con el plan o lo cancelo."
   ]
  },
  {
   "cell_type": "code",
   "execution_count": 15,
   "metadata": {
    "id": "iq0AaBS90q08"
   },
   "outputs": [],
   "source": [
    "# Separar la columna 'city' en 'area' y 'state'\n",
    "usuarios_df[['area', 'state_msa']\n",
    "            ] = usuarios_df['city'].str.split(', ', expand=True)\n",
    "\n",
    "# Eliminar la parte 'MSA' de la columna 'state'\n",
    "usuarios_df['state_msa'] = usuarios_df['state_msa'].str.replace(' MSA', '')\n",
    "# Eliminar columna city\n",
    "usuarios_df = usuarios_df.drop(columns=['city'])\n",
    "# Cambiar el nombre de la columna 'metro_area' a 'city'\n",
    "usuarios_df = usuarios_df.rename(columns={'area': 'city'})\n",
    "\n",
    "# Crear una columna adicional para indicar si el usuario está activo\n",
    "usuarios_df['is_active'] = usuarios_df['churn_date'].isna()\n",
    "\n",
    "# Convertir churn_date a datetime, permitiendo NaT para valores NaN\n",
    "# df['churn_date'] = pd.to_datetime(df['churn_date'], errors='coerce')"
   ]
  },
  {
   "cell_type": "code",
   "execution_count": 73,
   "metadata": {},
   "outputs": [
    {
     "data": {
      "text/html": [
       "<div>\n",
       "<style scoped>\n",
       "    .dataframe tbody tr th:only-of-type {\n",
       "        vertical-align: middle;\n",
       "    }\n",
       "\n",
       "    .dataframe tbody tr th {\n",
       "        vertical-align: top;\n",
       "    }\n",
       "\n",
       "    .dataframe thead th {\n",
       "        text-align: right;\n",
       "    }\n",
       "</style>\n",
       "<table border=\"1\" class=\"dataframe\">\n",
       "  <thead>\n",
       "    <tr style=\"text-align: right;\">\n",
       "      <th></th>\n",
       "      <th>user_id</th>\n",
       "      <th>first_name</th>\n",
       "      <th>last_name</th>\n",
       "      <th>age</th>\n",
       "      <th>reg_date</th>\n",
       "      <th>plan</th>\n",
       "      <th>churn_date</th>\n",
       "      <th>city</th>\n",
       "      <th>state_msa</th>\n",
       "      <th>is_active</th>\n",
       "    </tr>\n",
       "  </thead>\n",
       "  <tbody>\n",
       "    <tr>\n",
       "      <th>0</th>\n",
       "      <td>1000</td>\n",
       "      <td>anamaria</td>\n",
       "      <td>bauer</td>\n",
       "      <td>45</td>\n",
       "      <td>2018-12-24</td>\n",
       "      <td>ultimate</td>\n",
       "      <td>NaT</td>\n",
       "      <td>Atlanta-Sandy Springs-Roswell</td>\n",
       "      <td>GA</td>\n",
       "      <td>True</td>\n",
       "    </tr>\n",
       "    <tr>\n",
       "      <th>1</th>\n",
       "      <td>1001</td>\n",
       "      <td>mickey</td>\n",
       "      <td>wilkerson</td>\n",
       "      <td>28</td>\n",
       "      <td>2018-08-13</td>\n",
       "      <td>surf</td>\n",
       "      <td>NaT</td>\n",
       "      <td>Seattle-Tacoma-Bellevue</td>\n",
       "      <td>WA</td>\n",
       "      <td>True</td>\n",
       "    </tr>\n",
       "    <tr>\n",
       "      <th>2</th>\n",
       "      <td>1002</td>\n",
       "      <td>carlee</td>\n",
       "      <td>hoffman</td>\n",
       "      <td>36</td>\n",
       "      <td>2018-10-21</td>\n",
       "      <td>surf</td>\n",
       "      <td>NaT</td>\n",
       "      <td>Las Vegas-Henderson-Paradise</td>\n",
       "      <td>NV</td>\n",
       "      <td>True</td>\n",
       "    </tr>\n",
       "    <tr>\n",
       "      <th>3</th>\n",
       "      <td>1003</td>\n",
       "      <td>reynaldo</td>\n",
       "      <td>jenkins</td>\n",
       "      <td>52</td>\n",
       "      <td>2018-01-28</td>\n",
       "      <td>surf</td>\n",
       "      <td>NaT</td>\n",
       "      <td>Tulsa</td>\n",
       "      <td>OK</td>\n",
       "      <td>True</td>\n",
       "    </tr>\n",
       "    <tr>\n",
       "      <th>4</th>\n",
       "      <td>1004</td>\n",
       "      <td>leonila</td>\n",
       "      <td>thompson</td>\n",
       "      <td>40</td>\n",
       "      <td>2018-05-23</td>\n",
       "      <td>surf</td>\n",
       "      <td>NaT</td>\n",
       "      <td>Seattle-Tacoma-Bellevue</td>\n",
       "      <td>WA</td>\n",
       "      <td>True</td>\n",
       "    </tr>\n",
       "  </tbody>\n",
       "</table>\n",
       "</div>"
      ],
      "text/plain": [
       "   user_id first_name  last_name  age   reg_date      plan churn_date  \\\n",
       "0     1000   anamaria      bauer   45 2018-12-24  ultimate        NaT   \n",
       "1     1001     mickey  wilkerson   28 2018-08-13      surf        NaT   \n",
       "2     1002     carlee    hoffman   36 2018-10-21      surf        NaT   \n",
       "3     1003   reynaldo    jenkins   52 2018-01-28      surf        NaT   \n",
       "4     1004    leonila   thompson   40 2018-05-23      surf        NaT   \n",
       "\n",
       "                            city state_msa  is_active  \n",
       "0  Atlanta-Sandy Springs-Roswell        GA       True  \n",
       "1        Seattle-Tacoma-Bellevue        WA       True  \n",
       "2   Las Vegas-Henderson-Paradise        NV       True  \n",
       "3                          Tulsa        OK       True  \n",
       "4        Seattle-Tacoma-Bellevue        WA       True  "
      ]
     },
     "execution_count": 73,
     "metadata": {},
     "output_type": "execute_result"
    }
   ],
   "source": [
    "usuarios_df.head()"
   ]
  },
  {
   "cell_type": "markdown",
   "metadata": {
    "id": "o7MeKCid0q08"
   },
   "source": [
    "## Llamadas"
   ]
  },
  {
   "cell_type": "code",
   "execution_count": 17,
   "metadata": {
    "id": "6dDlnoDm0q08"
   },
   "outputs": [
    {
     "name": "stdout",
     "output_type": "stream",
     "text": [
      "<class 'pandas.core.frame.DataFrame'>\n",
      "RangeIndex: 137735 entries, 0 to 137734\n",
      "Data columns (total 4 columns):\n",
      " #   Column     Non-Null Count   Dtype  \n",
      "---  ------     --------------   -----  \n",
      " 0   id         137735 non-null  object \n",
      " 1   user_id    137735 non-null  int64  \n",
      " 2   call_date  137735 non-null  object \n",
      " 3   duration   137735 non-null  float64\n",
      "dtypes: float64(1), int64(1), object(2)\n",
      "memory usage: 4.2+ MB\n"
     ]
    }
   ],
   "source": [
    "# Imprime la información general/resumida sobre el DataFrame de las llamadas\n",
    "llamadas_df.info()\n",
    "\n",
    "# id: identificador único de la llamada.\n",
    "# user_id: el identificador del usuario que realiza la llamada.\n",
    "# call_date: fecha de la llamada.\n",
    "# duration: duración de la llamada (en minutos)."
   ]
  },
  {
   "cell_type": "code",
   "execution_count": 18,
   "metadata": {
    "id": "kuh1vlNB0q09"
   },
   "outputs": [
    {
     "name": "stdout",
     "output_type": "stream",
     "text": [
      "         id  user_id   call_date  duration\n",
      "0   1000_93     1000  2018-12-27      8.52\n",
      "1  1000_145     1000  2018-12-27     13.66\n",
      "2  1000_247     1000  2018-12-27     14.48\n",
      "3  1000_309     1000  2018-12-28      5.76\n",
      "4  1000_380     1000  2018-12-30      4.22\n",
      "              id  user_id   call_date  duration\n",
      "137730  1499_199     1499  2018-11-21      8.72\n",
      "137731  1499_200     1499  2018-10-20     10.89\n",
      "137732  1499_201     1499  2018-09-21      8.12\n",
      "137733  1499_202     1499  2018-10-10      0.37\n",
      "137734  1499_203     1499  2018-12-29     13.86\n"
     ]
    }
   ],
   "source": [
    "# Imprime una muestra de datos para las llamadas\n",
    "print(llamadas_df.head())\n",
    "print(llamadas_df.tail())"
   ]
  },
  {
   "cell_type": "code",
   "execution_count": 19,
   "metadata": {},
   "outputs": [
    {
     "data": {
      "text/plain": [
       "np.int64(0)"
      ]
     },
     "execution_count": 19,
     "metadata": {},
     "output_type": "execute_result"
    }
   ],
   "source": [
    "llamadas_df.duplicated().sum()"
   ]
  },
  {
   "cell_type": "markdown",
   "metadata": {
    "id": "DOAxYJSx0q09"
   },
   "source": [
    "\n",
    "* los nombres de columnas se encuentran bien\n",
    "* los tipos de datos se encuentran mal, se debe cambiar a tipo datetime la columna 'call date'\n",
    "* no presenta valores ausentes.\n",
    "* el id de llamada se compone del id del ususario + un valor numerico separado por _"
   ]
  },
  {
   "cell_type": "markdown",
   "metadata": {
    "id": "S7hzxmbX0q0-"
   },
   "source": [
    "### Corregir los datos"
   ]
  },
  {
   "cell_type": "markdown",
   "metadata": {
    "id": "YxWyAjD20q0-"
   },
   "source": [
    "corregir el tipo de dato de la fecha"
   ]
  },
  {
   "cell_type": "code",
   "execution_count": 20,
   "metadata": {
    "id": "S2r8xA4f0q0-"
   },
   "outputs": [],
   "source": [
    "llamadas_df['call_date'] = pd.to_datetime(llamadas_df['call_date'])"
   ]
  },
  {
   "cell_type": "code",
   "execution_count": 21,
   "metadata": {},
   "outputs": [
    {
     "name": "stdout",
     "output_type": "stream",
     "text": [
      "<class 'pandas.core.frame.DataFrame'>\n",
      "RangeIndex: 137735 entries, 0 to 137734\n",
      "Data columns (total 4 columns):\n",
      " #   Column     Non-Null Count   Dtype         \n",
      "---  ------     --------------   -----         \n",
      " 0   id         137735 non-null  object        \n",
      " 1   user_id    137735 non-null  int64         \n",
      " 2   call_date  137735 non-null  datetime64[ns]\n",
      " 3   duration   137735 non-null  float64       \n",
      "dtypes: datetime64[ns](1), float64(1), int64(1), object(1)\n",
      "memory usage: 4.2+ MB\n",
      "None\n",
      "         id  user_id  call_date  duration\n",
      "0   1000_93     1000 2018-12-27      8.52\n",
      "1  1000_145     1000 2018-12-27     13.66\n",
      "2  1000_247     1000 2018-12-27     14.48\n",
      "3  1000_309     1000 2018-12-28      5.76\n",
      "4  1000_380     1000 2018-12-30      4.22\n"
     ]
    }
   ],
   "source": [
    "print(llamadas_df.info())\n",
    "print(llamadas_df.head())"
   ]
  },
  {
   "cell_type": "markdown",
   "metadata": {
    "id": "KrMgTrlG0q0_"
   },
   "source": [
    "### Enriquecer los datos"
   ]
  },
  {
   "cell_type": "markdown",
   "metadata": {
    "id": "a9MbmEvE0q0_"
   },
   "source": [
    "Se debe redondear las llamadas al numero superior, las decimas.\n",
    "agregar columna de meses"
   ]
  },
  {
   "cell_type": "code",
   "execution_count": 22,
   "metadata": {
    "id": "iZ1avpA_0q0_"
   },
   "outputs": [
    {
     "data": {
      "text/html": [
       "<div>\n",
       "<style scoped>\n",
       "    .dataframe tbody tr th:only-of-type {\n",
       "        vertical-align: middle;\n",
       "    }\n",
       "\n",
       "    .dataframe tbody tr th {\n",
       "        vertical-align: top;\n",
       "    }\n",
       "\n",
       "    .dataframe thead th {\n",
       "        text-align: right;\n",
       "    }\n",
       "</style>\n",
       "<table border=\"1\" class=\"dataframe\">\n",
       "  <thead>\n",
       "    <tr style=\"text-align: right;\">\n",
       "      <th></th>\n",
       "      <th>id</th>\n",
       "      <th>user_id</th>\n",
       "      <th>call_date</th>\n",
       "      <th>duration</th>\n",
       "      <th>month</th>\n",
       "    </tr>\n",
       "  </thead>\n",
       "  <tbody>\n",
       "    <tr>\n",
       "      <th>0</th>\n",
       "      <td>1000_93</td>\n",
       "      <td>1000</td>\n",
       "      <td>2018-12-27</td>\n",
       "      <td>9</td>\n",
       "      <td>12</td>\n",
       "    </tr>\n",
       "    <tr>\n",
       "      <th>1</th>\n",
       "      <td>1000_145</td>\n",
       "      <td>1000</td>\n",
       "      <td>2018-12-27</td>\n",
       "      <td>14</td>\n",
       "      <td>12</td>\n",
       "    </tr>\n",
       "    <tr>\n",
       "      <th>2</th>\n",
       "      <td>1000_247</td>\n",
       "      <td>1000</td>\n",
       "      <td>2018-12-27</td>\n",
       "      <td>15</td>\n",
       "      <td>12</td>\n",
       "    </tr>\n",
       "    <tr>\n",
       "      <th>3</th>\n",
       "      <td>1000_309</td>\n",
       "      <td>1000</td>\n",
       "      <td>2018-12-28</td>\n",
       "      <td>6</td>\n",
       "      <td>12</td>\n",
       "    </tr>\n",
       "    <tr>\n",
       "      <th>4</th>\n",
       "      <td>1000_380</td>\n",
       "      <td>1000</td>\n",
       "      <td>2018-12-30</td>\n",
       "      <td>5</td>\n",
       "      <td>12</td>\n",
       "    </tr>\n",
       "    <tr>\n",
       "      <th>...</th>\n",
       "      <td>...</td>\n",
       "      <td>...</td>\n",
       "      <td>...</td>\n",
       "      <td>...</td>\n",
       "      <td>...</td>\n",
       "    </tr>\n",
       "    <tr>\n",
       "      <th>137730</th>\n",
       "      <td>1499_199</td>\n",
       "      <td>1499</td>\n",
       "      <td>2018-11-21</td>\n",
       "      <td>9</td>\n",
       "      <td>11</td>\n",
       "    </tr>\n",
       "    <tr>\n",
       "      <th>137731</th>\n",
       "      <td>1499_200</td>\n",
       "      <td>1499</td>\n",
       "      <td>2018-10-20</td>\n",
       "      <td>11</td>\n",
       "      <td>10</td>\n",
       "    </tr>\n",
       "    <tr>\n",
       "      <th>137732</th>\n",
       "      <td>1499_201</td>\n",
       "      <td>1499</td>\n",
       "      <td>2018-09-21</td>\n",
       "      <td>9</td>\n",
       "      <td>9</td>\n",
       "    </tr>\n",
       "    <tr>\n",
       "      <th>137733</th>\n",
       "      <td>1499_202</td>\n",
       "      <td>1499</td>\n",
       "      <td>2018-10-10</td>\n",
       "      <td>1</td>\n",
       "      <td>10</td>\n",
       "    </tr>\n",
       "    <tr>\n",
       "      <th>137734</th>\n",
       "      <td>1499_203</td>\n",
       "      <td>1499</td>\n",
       "      <td>2018-12-29</td>\n",
       "      <td>14</td>\n",
       "      <td>12</td>\n",
       "    </tr>\n",
       "  </tbody>\n",
       "</table>\n",
       "<p>137735 rows × 5 columns</p>\n",
       "</div>"
      ],
      "text/plain": [
       "              id  user_id  call_date  duration  month\n",
       "0        1000_93     1000 2018-12-27         9     12\n",
       "1       1000_145     1000 2018-12-27        14     12\n",
       "2       1000_247     1000 2018-12-27        15     12\n",
       "3       1000_309     1000 2018-12-28         6     12\n",
       "4       1000_380     1000 2018-12-30         5     12\n",
       "...          ...      ...        ...       ...    ...\n",
       "137730  1499_199     1499 2018-11-21         9     11\n",
       "137731  1499_200     1499 2018-10-20        11     10\n",
       "137732  1499_201     1499 2018-09-21         9      9\n",
       "137733  1499_202     1499 2018-10-10         1     10\n",
       "137734  1499_203     1499 2018-12-29        14     12\n",
       "\n",
       "[137735 rows x 5 columns]"
      ]
     },
     "execution_count": 22,
     "metadata": {},
     "output_type": "execute_result"
    }
   ],
   "source": [
    "\n",
    "llamadas_df['duration'] = llamadas_df['duration'].apply(math.ceil)\n",
    "\n",
    "# Crear columna de meses\n",
    "llamadas_df['month'] = llamadas_df['call_date'].dt.month\n",
    "\n",
    "# Mostrar el resultado\n",
    "llamadas_df"
   ]
  },
  {
   "cell_type": "markdown",
   "metadata": {
    "id": "mOUZSi180q0_"
   },
   "source": [
    "## Mensajes"
   ]
  },
  {
   "cell_type": "code",
   "execution_count": 23,
   "metadata": {
    "id": "R-bYJpdV0q1A"
   },
   "outputs": [
    {
     "name": "stdout",
     "output_type": "stream",
     "text": [
      "<class 'pandas.core.frame.DataFrame'>\n",
      "RangeIndex: 76051 entries, 0 to 76050\n",
      "Data columns (total 3 columns):\n",
      " #   Column        Non-Null Count  Dtype \n",
      "---  ------        --------------  ----- \n",
      " 0   id            76051 non-null  object\n",
      " 1   user_id       76051 non-null  int64 \n",
      " 2   message_date  76051 non-null  object\n",
      "dtypes: int64(1), object(2)\n",
      "memory usage: 1.7+ MB\n",
      "None\n",
      "            user_id\n",
      "count  76051.000000\n",
      "mean    1245.972768\n",
      "std      139.843635\n",
      "min     1000.000000\n",
      "25%     1123.000000\n",
      "50%     1251.000000\n",
      "75%     1362.000000\n",
      "max     1497.000000\n"
     ]
    }
   ],
   "source": [
    "# Imprime la información general/resumida sobre el DataFrame de los mensajes\n",
    "print(mensajes_df.info())\n",
    "\n",
    "print(mensajes_df.describe())"
   ]
  },
  {
   "cell_type": "code",
   "execution_count": 24,
   "metadata": {
    "id": "mCEl2iGE0q1A"
   },
   "outputs": [
    {
     "name": "stdout",
     "output_type": "stream",
     "text": [
      "         id  user_id message_date\n",
      "0  1000_125     1000   2018-12-27\n",
      "1  1000_160     1000   2018-12-31\n",
      "2  1000_223     1000   2018-12-31\n",
      "3  1000_251     1000   2018-12-27\n",
      "4  1000_255     1000   2018-12-26\n",
      "             id  user_id message_date\n",
      "76046  1497_526     1497   2018-12-24\n",
      "76047  1497_536     1497   2018-12-24\n",
      "76048  1497_547     1497   2018-12-31\n",
      "76049  1497_558     1497   2018-12-24\n",
      "76050  1497_613     1497   2018-12-23\n"
     ]
    }
   ],
   "source": [
    "# Imprime una muestra de datos para los mensajes\n",
    "print(mensajes_df.head())\n",
    "print(mensajes_df.tail())"
   ]
  },
  {
   "cell_type": "code",
   "execution_count": 25,
   "metadata": {},
   "outputs": [
    {
     "data": {
      "text/plain": [
       "np.int64(0)"
      ]
     },
     "execution_count": 25,
     "metadata": {},
     "output_type": "execute_result"
    }
   ],
   "source": [
    "mensajes_df.duplicated().sum()"
   ]
  },
  {
   "cell_type": "markdown",
   "metadata": {
    "id": "04xDj7KH0q1A"
   },
   "source": [
    "Los datos se encuentran bien,no se encuentran datos vacios ni nulos ni duplicados.\n"
   ]
  },
  {
   "cell_type": "markdown",
   "metadata": {
    "id": "Sprfak900q1B"
   },
   "source": [
    "### Corregir los datos"
   ]
  },
  {
   "cell_type": "markdown",
   "metadata": {
    "id": "eGw7d9j10q1B"
   },
   "source": [
    "Se modifica el tipo de dato de la fecha."
   ]
  },
  {
   "cell_type": "code",
   "execution_count": 26,
   "metadata": {
    "id": "vsllvkoa0q1B"
   },
   "outputs": [
    {
     "name": "stdout",
     "output_type": "stream",
     "text": [
      "<class 'pandas.core.frame.DataFrame'>\n",
      "RangeIndex: 76051 entries, 0 to 76050\n",
      "Data columns (total 3 columns):\n",
      " #   Column        Non-Null Count  Dtype         \n",
      "---  ------        --------------  -----         \n",
      " 0   id            76051 non-null  object        \n",
      " 1   user_id       76051 non-null  int64         \n",
      " 2   message_date  76051 non-null  datetime64[ns]\n",
      "dtypes: datetime64[ns](1), int64(1), object(1)\n",
      "memory usage: 1.7+ MB\n"
     ]
    },
    {
     "data": {
      "text/html": [
       "<div>\n",
       "<style scoped>\n",
       "    .dataframe tbody tr th:only-of-type {\n",
       "        vertical-align: middle;\n",
       "    }\n",
       "\n",
       "    .dataframe tbody tr th {\n",
       "        vertical-align: top;\n",
       "    }\n",
       "\n",
       "    .dataframe thead th {\n",
       "        text-align: right;\n",
       "    }\n",
       "</style>\n",
       "<table border=\"1\" class=\"dataframe\">\n",
       "  <thead>\n",
       "    <tr style=\"text-align: right;\">\n",
       "      <th></th>\n",
       "      <th>id</th>\n",
       "      <th>user_id</th>\n",
       "      <th>message_date</th>\n",
       "    </tr>\n",
       "  </thead>\n",
       "  <tbody>\n",
       "    <tr>\n",
       "      <th>0</th>\n",
       "      <td>1000_125</td>\n",
       "      <td>1000</td>\n",
       "      <td>2018-12-27</td>\n",
       "    </tr>\n",
       "    <tr>\n",
       "      <th>1</th>\n",
       "      <td>1000_160</td>\n",
       "      <td>1000</td>\n",
       "      <td>2018-12-31</td>\n",
       "    </tr>\n",
       "    <tr>\n",
       "      <th>2</th>\n",
       "      <td>1000_223</td>\n",
       "      <td>1000</td>\n",
       "      <td>2018-12-31</td>\n",
       "    </tr>\n",
       "    <tr>\n",
       "      <th>3</th>\n",
       "      <td>1000_251</td>\n",
       "      <td>1000</td>\n",
       "      <td>2018-12-27</td>\n",
       "    </tr>\n",
       "    <tr>\n",
       "      <th>4</th>\n",
       "      <td>1000_255</td>\n",
       "      <td>1000</td>\n",
       "      <td>2018-12-26</td>\n",
       "    </tr>\n",
       "    <tr>\n",
       "      <th>...</th>\n",
       "      <td>...</td>\n",
       "      <td>...</td>\n",
       "      <td>...</td>\n",
       "    </tr>\n",
       "    <tr>\n",
       "      <th>76046</th>\n",
       "      <td>1497_526</td>\n",
       "      <td>1497</td>\n",
       "      <td>2018-12-24</td>\n",
       "    </tr>\n",
       "    <tr>\n",
       "      <th>76047</th>\n",
       "      <td>1497_536</td>\n",
       "      <td>1497</td>\n",
       "      <td>2018-12-24</td>\n",
       "    </tr>\n",
       "    <tr>\n",
       "      <th>76048</th>\n",
       "      <td>1497_547</td>\n",
       "      <td>1497</td>\n",
       "      <td>2018-12-31</td>\n",
       "    </tr>\n",
       "    <tr>\n",
       "      <th>76049</th>\n",
       "      <td>1497_558</td>\n",
       "      <td>1497</td>\n",
       "      <td>2018-12-24</td>\n",
       "    </tr>\n",
       "    <tr>\n",
       "      <th>76050</th>\n",
       "      <td>1497_613</td>\n",
       "      <td>1497</td>\n",
       "      <td>2018-12-23</td>\n",
       "    </tr>\n",
       "  </tbody>\n",
       "</table>\n",
       "<p>76051 rows × 3 columns</p>\n",
       "</div>"
      ],
      "text/plain": [
       "             id  user_id message_date\n",
       "0      1000_125     1000   2018-12-27\n",
       "1      1000_160     1000   2018-12-31\n",
       "2      1000_223     1000   2018-12-31\n",
       "3      1000_251     1000   2018-12-27\n",
       "4      1000_255     1000   2018-12-26\n",
       "...         ...      ...          ...\n",
       "76046  1497_526     1497   2018-12-24\n",
       "76047  1497_536     1497   2018-12-24\n",
       "76048  1497_547     1497   2018-12-31\n",
       "76049  1497_558     1497   2018-12-24\n",
       "76050  1497_613     1497   2018-12-23\n",
       "\n",
       "[76051 rows x 3 columns]"
      ]
     },
     "execution_count": 26,
     "metadata": {},
     "output_type": "execute_result"
    }
   ],
   "source": [
    "mensajes_df['message_date'] = pd.to_datetime(mensajes_df['message_date'])\n",
    "mensajes_df.info()\n",
    "mensajes_df"
   ]
  },
  {
   "cell_type": "markdown",
   "metadata": {
    "id": "HvLid7iD0q1B"
   },
   "source": [
    "### Enriquecer los datos"
   ]
  },
  {
   "cell_type": "markdown",
   "metadata": {
    "id": "8nhPFKIe0q1C"
   },
   "source": [
    "Crear una columna de meses para agrupar por estos."
   ]
  },
  {
   "cell_type": "code",
   "execution_count": 27,
   "metadata": {
    "id": "zYEXZac10q1C"
   },
   "outputs": [
    {
     "data": {
      "text/html": [
       "<div>\n",
       "<style scoped>\n",
       "    .dataframe tbody tr th:only-of-type {\n",
       "        vertical-align: middle;\n",
       "    }\n",
       "\n",
       "    .dataframe tbody tr th {\n",
       "        vertical-align: top;\n",
       "    }\n",
       "\n",
       "    .dataframe thead th {\n",
       "        text-align: right;\n",
       "    }\n",
       "</style>\n",
       "<table border=\"1\" class=\"dataframe\">\n",
       "  <thead>\n",
       "    <tr style=\"text-align: right;\">\n",
       "      <th></th>\n",
       "      <th>id</th>\n",
       "      <th>user_id</th>\n",
       "      <th>message_date</th>\n",
       "      <th>month</th>\n",
       "    </tr>\n",
       "  </thead>\n",
       "  <tbody>\n",
       "    <tr>\n",
       "      <th>0</th>\n",
       "      <td>1000_125</td>\n",
       "      <td>1000</td>\n",
       "      <td>2018-12-27</td>\n",
       "      <td>12</td>\n",
       "    </tr>\n",
       "    <tr>\n",
       "      <th>1</th>\n",
       "      <td>1000_160</td>\n",
       "      <td>1000</td>\n",
       "      <td>2018-12-31</td>\n",
       "      <td>12</td>\n",
       "    </tr>\n",
       "    <tr>\n",
       "      <th>2</th>\n",
       "      <td>1000_223</td>\n",
       "      <td>1000</td>\n",
       "      <td>2018-12-31</td>\n",
       "      <td>12</td>\n",
       "    </tr>\n",
       "    <tr>\n",
       "      <th>3</th>\n",
       "      <td>1000_251</td>\n",
       "      <td>1000</td>\n",
       "      <td>2018-12-27</td>\n",
       "      <td>12</td>\n",
       "    </tr>\n",
       "    <tr>\n",
       "      <th>4</th>\n",
       "      <td>1000_255</td>\n",
       "      <td>1000</td>\n",
       "      <td>2018-12-26</td>\n",
       "      <td>12</td>\n",
       "    </tr>\n",
       "    <tr>\n",
       "      <th>...</th>\n",
       "      <td>...</td>\n",
       "      <td>...</td>\n",
       "      <td>...</td>\n",
       "      <td>...</td>\n",
       "    </tr>\n",
       "    <tr>\n",
       "      <th>76046</th>\n",
       "      <td>1497_526</td>\n",
       "      <td>1497</td>\n",
       "      <td>2018-12-24</td>\n",
       "      <td>12</td>\n",
       "    </tr>\n",
       "    <tr>\n",
       "      <th>76047</th>\n",
       "      <td>1497_536</td>\n",
       "      <td>1497</td>\n",
       "      <td>2018-12-24</td>\n",
       "      <td>12</td>\n",
       "    </tr>\n",
       "    <tr>\n",
       "      <th>76048</th>\n",
       "      <td>1497_547</td>\n",
       "      <td>1497</td>\n",
       "      <td>2018-12-31</td>\n",
       "      <td>12</td>\n",
       "    </tr>\n",
       "    <tr>\n",
       "      <th>76049</th>\n",
       "      <td>1497_558</td>\n",
       "      <td>1497</td>\n",
       "      <td>2018-12-24</td>\n",
       "      <td>12</td>\n",
       "    </tr>\n",
       "    <tr>\n",
       "      <th>76050</th>\n",
       "      <td>1497_613</td>\n",
       "      <td>1497</td>\n",
       "      <td>2018-12-23</td>\n",
       "      <td>12</td>\n",
       "    </tr>\n",
       "  </tbody>\n",
       "</table>\n",
       "<p>76051 rows × 4 columns</p>\n",
       "</div>"
      ],
      "text/plain": [
       "             id  user_id message_date  month\n",
       "0      1000_125     1000   2018-12-27     12\n",
       "1      1000_160     1000   2018-12-31     12\n",
       "2      1000_223     1000   2018-12-31     12\n",
       "3      1000_251     1000   2018-12-27     12\n",
       "4      1000_255     1000   2018-12-26     12\n",
       "...         ...      ...          ...    ...\n",
       "76046  1497_526     1497   2018-12-24     12\n",
       "76047  1497_536     1497   2018-12-24     12\n",
       "76048  1497_547     1497   2018-12-31     12\n",
       "76049  1497_558     1497   2018-12-24     12\n",
       "76050  1497_613     1497   2018-12-23     12\n",
       "\n",
       "[76051 rows x 4 columns]"
      ]
     },
     "execution_count": 27,
     "metadata": {},
     "output_type": "execute_result"
    }
   ],
   "source": [
    "# Crear columna de meses\n",
    "mensajes_df['month'] = mensajes_df['message_date'].dt.month\n",
    "\n",
    "# Mostrar el resultado\n",
    "mensajes_df"
   ]
  },
  {
   "cell_type": "markdown",
   "metadata": {
    "id": "bStkaxn40q1C"
   },
   "source": [
    "## Internet"
   ]
  },
  {
   "cell_type": "code",
   "execution_count": 28,
   "metadata": {
    "id": "e-Uz5qyn0q1C"
   },
   "outputs": [
    {
     "name": "stdout",
     "output_type": "stream",
     "text": [
      "<class 'pandas.core.frame.DataFrame'>\n",
      "RangeIndex: 104825 entries, 0 to 104824\n",
      "Data columns (total 4 columns):\n",
      " #   Column        Non-Null Count   Dtype  \n",
      "---  ------        --------------   -----  \n",
      " 0   id            104825 non-null  object \n",
      " 1   user_id       104825 non-null  int64  \n",
      " 2   session_date  104825 non-null  object \n",
      " 3   mb_used       104825 non-null  float64\n",
      "dtypes: float64(1), int64(1), object(2)\n",
      "memory usage: 3.2+ MB\n"
     ]
    },
    {
     "data": {
      "text/html": [
       "<div>\n",
       "<style scoped>\n",
       "    .dataframe tbody tr th:only-of-type {\n",
       "        vertical-align: middle;\n",
       "    }\n",
       "\n",
       "    .dataframe tbody tr th {\n",
       "        vertical-align: top;\n",
       "    }\n",
       "\n",
       "    .dataframe thead th {\n",
       "        text-align: right;\n",
       "    }\n",
       "</style>\n",
       "<table border=\"1\" class=\"dataframe\">\n",
       "  <thead>\n",
       "    <tr style=\"text-align: right;\">\n",
       "      <th></th>\n",
       "      <th>user_id</th>\n",
       "      <th>mb_used</th>\n",
       "    </tr>\n",
       "  </thead>\n",
       "  <tbody>\n",
       "    <tr>\n",
       "      <th>count</th>\n",
       "      <td>104825.000000</td>\n",
       "      <td>104825.000000</td>\n",
       "    </tr>\n",
       "    <tr>\n",
       "      <th>mean</th>\n",
       "      <td>1242.496361</td>\n",
       "      <td>366.713701</td>\n",
       "    </tr>\n",
       "    <tr>\n",
       "      <th>std</th>\n",
       "      <td>142.053913</td>\n",
       "      <td>277.170542</td>\n",
       "    </tr>\n",
       "    <tr>\n",
       "      <th>min</th>\n",
       "      <td>1000.000000</td>\n",
       "      <td>0.000000</td>\n",
       "    </tr>\n",
       "    <tr>\n",
       "      <th>25%</th>\n",
       "      <td>1122.000000</td>\n",
       "      <td>136.080000</td>\n",
       "    </tr>\n",
       "    <tr>\n",
       "      <th>50%</th>\n",
       "      <td>1236.000000</td>\n",
       "      <td>343.980000</td>\n",
       "    </tr>\n",
       "    <tr>\n",
       "      <th>75%</th>\n",
       "      <td>1367.000000</td>\n",
       "      <td>554.610000</td>\n",
       "    </tr>\n",
       "    <tr>\n",
       "      <th>max</th>\n",
       "      <td>1499.000000</td>\n",
       "      <td>1693.470000</td>\n",
       "    </tr>\n",
       "  </tbody>\n",
       "</table>\n",
       "</div>"
      ],
      "text/plain": [
       "             user_id        mb_used\n",
       "count  104825.000000  104825.000000\n",
       "mean     1242.496361     366.713701\n",
       "std       142.053913     277.170542\n",
       "min      1000.000000       0.000000\n",
       "25%      1122.000000     136.080000\n",
       "50%      1236.000000     343.980000\n",
       "75%      1367.000000     554.610000\n",
       "max      1499.000000    1693.470000"
      ]
     },
     "execution_count": 28,
     "metadata": {},
     "output_type": "execute_result"
    }
   ],
   "source": [
    "# Imprime la información general/resumida sobre el DataFrame de internet\n",
    "internet_df.info()\n",
    "# id: identificador único de la sesión.\n",
    "# mb_used: el volumen de datos gastados durante la sesión (en megabytes).\n",
    "# session_date: fecha de la sesión web.\n",
    "# user_id: identificador del usuario.\n",
    "internet_df.describe()"
   ]
  },
  {
   "cell_type": "code",
   "execution_count": 29,
   "metadata": {
    "id": "9r3x_XLw0q1C"
   },
   "outputs": [
    {
     "name": "stdout",
     "output_type": "stream",
     "text": [
      "         id  user_id session_date  mb_used\n",
      "0   1000_13     1000   2018-12-29    89.86\n",
      "1  1000_204     1000   2018-12-31     0.00\n",
      "2  1000_379     1000   2018-12-28   660.40\n",
      "3  1000_413     1000   2018-12-26   270.99\n",
      "4  1000_442     1000   2018-12-27   880.22\n",
      "              id  user_id session_date  mb_used\n",
      "104820  1499_215     1499   2018-10-20   218.06\n",
      "104821  1499_216     1499   2018-12-30   304.72\n",
      "104822  1499_217     1499   2018-09-22   292.75\n",
      "104823  1499_218     1499   2018-12-07     0.00\n",
      "104824  1499_219     1499   2018-12-24   758.31\n"
     ]
    }
   ],
   "source": [
    "# Imprime una muestra de datos para el tráfico de internet\n",
    "print(internet_df.head())\n",
    "print(internet_df.tail())"
   ]
  },
  {
   "cell_type": "code",
   "execution_count": 30,
   "metadata": {},
   "outputs": [
    {
     "data": {
      "text/plain": [
       "np.int64(0)"
      ]
     },
     "execution_count": 30,
     "metadata": {},
     "output_type": "execute_result"
    }
   ],
   "source": [
    "internet_df.duplicated().sum()"
   ]
  },
  {
   "cell_type": "markdown",
   "metadata": {
    "id": "EzOG5ik30q1D"
   },
   "source": [
    "Los datos se encuentran completos no existen valores nulos ni duplicados.\n",
    "* El tipo de dato de la fecha debe cambiarse."
   ]
  },
  {
   "cell_type": "markdown",
   "metadata": {
    "id": "yA0tkPFg0q1D"
   },
   "source": [
    "### Corregir los datos"
   ]
  },
  {
   "cell_type": "markdown",
   "metadata": {
    "id": "zlZMuIEK0q1D"
   },
   "source": [
    "Se procede a cambiar el tipo de dato de la fecha"
   ]
  },
  {
   "cell_type": "code",
   "execution_count": 31,
   "metadata": {
    "id": "zVeanzdd0q1E"
   },
   "outputs": [
    {
     "name": "stdout",
     "output_type": "stream",
     "text": [
      "<class 'pandas.core.frame.DataFrame'>\n",
      "RangeIndex: 104825 entries, 0 to 104824\n",
      "Data columns (total 4 columns):\n",
      " #   Column        Non-Null Count   Dtype         \n",
      "---  ------        --------------   -----         \n",
      " 0   id            104825 non-null  object        \n",
      " 1   user_id       104825 non-null  int64         \n",
      " 2   session_date  104825 non-null  datetime64[ns]\n",
      " 3   mb_used       104825 non-null  float64       \n",
      "dtypes: datetime64[ns](1), float64(1), int64(1), object(1)\n",
      "memory usage: 3.2+ MB\n"
     ]
    },
    {
     "data": {
      "text/html": [
       "<div>\n",
       "<style scoped>\n",
       "    .dataframe tbody tr th:only-of-type {\n",
       "        vertical-align: middle;\n",
       "    }\n",
       "\n",
       "    .dataframe tbody tr th {\n",
       "        vertical-align: top;\n",
       "    }\n",
       "\n",
       "    .dataframe thead th {\n",
       "        text-align: right;\n",
       "    }\n",
       "</style>\n",
       "<table border=\"1\" class=\"dataframe\">\n",
       "  <thead>\n",
       "    <tr style=\"text-align: right;\">\n",
       "      <th></th>\n",
       "      <th>id</th>\n",
       "      <th>user_id</th>\n",
       "      <th>session_date</th>\n",
       "      <th>mb_used</th>\n",
       "    </tr>\n",
       "  </thead>\n",
       "  <tbody>\n",
       "    <tr>\n",
       "      <th>0</th>\n",
       "      <td>1000_13</td>\n",
       "      <td>1000</td>\n",
       "      <td>2018-12-29</td>\n",
       "      <td>89.86</td>\n",
       "    </tr>\n",
       "    <tr>\n",
       "      <th>1</th>\n",
       "      <td>1000_204</td>\n",
       "      <td>1000</td>\n",
       "      <td>2018-12-31</td>\n",
       "      <td>0.00</td>\n",
       "    </tr>\n",
       "    <tr>\n",
       "      <th>2</th>\n",
       "      <td>1000_379</td>\n",
       "      <td>1000</td>\n",
       "      <td>2018-12-28</td>\n",
       "      <td>660.40</td>\n",
       "    </tr>\n",
       "    <tr>\n",
       "      <th>3</th>\n",
       "      <td>1000_413</td>\n",
       "      <td>1000</td>\n",
       "      <td>2018-12-26</td>\n",
       "      <td>270.99</td>\n",
       "    </tr>\n",
       "    <tr>\n",
       "      <th>4</th>\n",
       "      <td>1000_442</td>\n",
       "      <td>1000</td>\n",
       "      <td>2018-12-27</td>\n",
       "      <td>880.22</td>\n",
       "    </tr>\n",
       "    <tr>\n",
       "      <th>...</th>\n",
       "      <td>...</td>\n",
       "      <td>...</td>\n",
       "      <td>...</td>\n",
       "      <td>...</td>\n",
       "    </tr>\n",
       "    <tr>\n",
       "      <th>104820</th>\n",
       "      <td>1499_215</td>\n",
       "      <td>1499</td>\n",
       "      <td>2018-10-20</td>\n",
       "      <td>218.06</td>\n",
       "    </tr>\n",
       "    <tr>\n",
       "      <th>104821</th>\n",
       "      <td>1499_216</td>\n",
       "      <td>1499</td>\n",
       "      <td>2018-12-30</td>\n",
       "      <td>304.72</td>\n",
       "    </tr>\n",
       "    <tr>\n",
       "      <th>104822</th>\n",
       "      <td>1499_217</td>\n",
       "      <td>1499</td>\n",
       "      <td>2018-09-22</td>\n",
       "      <td>292.75</td>\n",
       "    </tr>\n",
       "    <tr>\n",
       "      <th>104823</th>\n",
       "      <td>1499_218</td>\n",
       "      <td>1499</td>\n",
       "      <td>2018-12-07</td>\n",
       "      <td>0.00</td>\n",
       "    </tr>\n",
       "    <tr>\n",
       "      <th>104824</th>\n",
       "      <td>1499_219</td>\n",
       "      <td>1499</td>\n",
       "      <td>2018-12-24</td>\n",
       "      <td>758.31</td>\n",
       "    </tr>\n",
       "  </tbody>\n",
       "</table>\n",
       "<p>104825 rows × 4 columns</p>\n",
       "</div>"
      ],
      "text/plain": [
       "              id  user_id session_date  mb_used\n",
       "0        1000_13     1000   2018-12-29    89.86\n",
       "1       1000_204     1000   2018-12-31     0.00\n",
       "2       1000_379     1000   2018-12-28   660.40\n",
       "3       1000_413     1000   2018-12-26   270.99\n",
       "4       1000_442     1000   2018-12-27   880.22\n",
       "...          ...      ...          ...      ...\n",
       "104820  1499_215     1499   2018-10-20   218.06\n",
       "104821  1499_216     1499   2018-12-30   304.72\n",
       "104822  1499_217     1499   2018-09-22   292.75\n",
       "104823  1499_218     1499   2018-12-07     0.00\n",
       "104824  1499_219     1499   2018-12-24   758.31\n",
       "\n",
       "[104825 rows x 4 columns]"
      ]
     },
     "execution_count": 31,
     "metadata": {},
     "output_type": "execute_result"
    }
   ],
   "source": [
    "internet_df['session_date'] = pd.to_datetime(internet_df['session_date'])\n",
    "internet_df.info()\n",
    "internet_df"
   ]
  },
  {
   "cell_type": "markdown",
   "metadata": {
    "id": "e8_mLF4a0q1E"
   },
   "source": [
    "### Enriquecer los datos"
   ]
  },
  {
   "cell_type": "markdown",
   "metadata": {
    "id": "xhNdn2tE0q1E"
   },
   "source": [
    "* se aumenta columna de mes\n",
    "* Se debe tener en cuenta que ya separados los datos por meses se debe realizar la conversion a GB y redondeo respectivo"
   ]
  },
  {
   "cell_type": "code",
   "execution_count": 32,
   "metadata": {
    "id": "ESiYPIEK0q1E"
   },
   "outputs": [
    {
     "data": {
      "text/html": [
       "<div>\n",
       "<style scoped>\n",
       "    .dataframe tbody tr th:only-of-type {\n",
       "        vertical-align: middle;\n",
       "    }\n",
       "\n",
       "    .dataframe tbody tr th {\n",
       "        vertical-align: top;\n",
       "    }\n",
       "\n",
       "    .dataframe thead th {\n",
       "        text-align: right;\n",
       "    }\n",
       "</style>\n",
       "<table border=\"1\" class=\"dataframe\">\n",
       "  <thead>\n",
       "    <tr style=\"text-align: right;\">\n",
       "      <th></th>\n",
       "      <th>id</th>\n",
       "      <th>user_id</th>\n",
       "      <th>session_date</th>\n",
       "      <th>mb_used</th>\n",
       "      <th>month</th>\n",
       "    </tr>\n",
       "  </thead>\n",
       "  <tbody>\n",
       "    <tr>\n",
       "      <th>0</th>\n",
       "      <td>1000_13</td>\n",
       "      <td>1000</td>\n",
       "      <td>2018-12-29</td>\n",
       "      <td>89.86</td>\n",
       "      <td>12</td>\n",
       "    </tr>\n",
       "    <tr>\n",
       "      <th>1</th>\n",
       "      <td>1000_204</td>\n",
       "      <td>1000</td>\n",
       "      <td>2018-12-31</td>\n",
       "      <td>0.00</td>\n",
       "      <td>12</td>\n",
       "    </tr>\n",
       "    <tr>\n",
       "      <th>2</th>\n",
       "      <td>1000_379</td>\n",
       "      <td>1000</td>\n",
       "      <td>2018-12-28</td>\n",
       "      <td>660.40</td>\n",
       "      <td>12</td>\n",
       "    </tr>\n",
       "    <tr>\n",
       "      <th>3</th>\n",
       "      <td>1000_413</td>\n",
       "      <td>1000</td>\n",
       "      <td>2018-12-26</td>\n",
       "      <td>270.99</td>\n",
       "      <td>12</td>\n",
       "    </tr>\n",
       "    <tr>\n",
       "      <th>4</th>\n",
       "      <td>1000_442</td>\n",
       "      <td>1000</td>\n",
       "      <td>2018-12-27</td>\n",
       "      <td>880.22</td>\n",
       "      <td>12</td>\n",
       "    </tr>\n",
       "    <tr>\n",
       "      <th>...</th>\n",
       "      <td>...</td>\n",
       "      <td>...</td>\n",
       "      <td>...</td>\n",
       "      <td>...</td>\n",
       "      <td>...</td>\n",
       "    </tr>\n",
       "    <tr>\n",
       "      <th>104820</th>\n",
       "      <td>1499_215</td>\n",
       "      <td>1499</td>\n",
       "      <td>2018-10-20</td>\n",
       "      <td>218.06</td>\n",
       "      <td>10</td>\n",
       "    </tr>\n",
       "    <tr>\n",
       "      <th>104821</th>\n",
       "      <td>1499_216</td>\n",
       "      <td>1499</td>\n",
       "      <td>2018-12-30</td>\n",
       "      <td>304.72</td>\n",
       "      <td>12</td>\n",
       "    </tr>\n",
       "    <tr>\n",
       "      <th>104822</th>\n",
       "      <td>1499_217</td>\n",
       "      <td>1499</td>\n",
       "      <td>2018-09-22</td>\n",
       "      <td>292.75</td>\n",
       "      <td>9</td>\n",
       "    </tr>\n",
       "    <tr>\n",
       "      <th>104823</th>\n",
       "      <td>1499_218</td>\n",
       "      <td>1499</td>\n",
       "      <td>2018-12-07</td>\n",
       "      <td>0.00</td>\n",
       "      <td>12</td>\n",
       "    </tr>\n",
       "    <tr>\n",
       "      <th>104824</th>\n",
       "      <td>1499_219</td>\n",
       "      <td>1499</td>\n",
       "      <td>2018-12-24</td>\n",
       "      <td>758.31</td>\n",
       "      <td>12</td>\n",
       "    </tr>\n",
       "  </tbody>\n",
       "</table>\n",
       "<p>104825 rows × 5 columns</p>\n",
       "</div>"
      ],
      "text/plain": [
       "              id  user_id session_date  mb_used  month\n",
       "0        1000_13     1000   2018-12-29    89.86     12\n",
       "1       1000_204     1000   2018-12-31     0.00     12\n",
       "2       1000_379     1000   2018-12-28   660.40     12\n",
       "3       1000_413     1000   2018-12-26   270.99     12\n",
       "4       1000_442     1000   2018-12-27   880.22     12\n",
       "...          ...      ...          ...      ...    ...\n",
       "104820  1499_215     1499   2018-10-20   218.06     10\n",
       "104821  1499_216     1499   2018-12-30   304.72     12\n",
       "104822  1499_217     1499   2018-09-22   292.75      9\n",
       "104823  1499_218     1499   2018-12-07     0.00     12\n",
       "104824  1499_219     1499   2018-12-24   758.31     12\n",
       "\n",
       "[104825 rows x 5 columns]"
      ]
     },
     "execution_count": 32,
     "metadata": {},
     "output_type": "execute_result"
    }
   ],
   "source": [
    "# Crear columna de meses\n",
    "internet_df['month'] = internet_df['session_date'].dt.month\n",
    "\n",
    "# Mostrar el resultado\n",
    "internet_df"
   ]
  },
  {
   "cell_type": "markdown",
   "metadata": {
    "id": "3UA2cqIW0q1E"
   },
   "source": [
    "## Estudiar las condiciones de las tarifas"
   ]
  },
  {
   "cell_type": "markdown",
   "metadata": {
    "id": "T86Sqltq0q1F"
   },
   "source": [
    "Valores de la tarifa"
   ]
  },
  {
   "cell_type": "code",
   "execution_count": 33,
   "metadata": {
    "id": "i409op8p0q1F"
   },
   "outputs": [
    {
     "data": {
      "text/html": [
       "<div>\n",
       "<style scoped>\n",
       "    .dataframe tbody tr th:only-of-type {\n",
       "        vertical-align: middle;\n",
       "    }\n",
       "\n",
       "    .dataframe tbody tr th {\n",
       "        vertical-align: top;\n",
       "    }\n",
       "\n",
       "    .dataframe thead th {\n",
       "        text-align: right;\n",
       "    }\n",
       "</style>\n",
       "<table border=\"1\" class=\"dataframe\">\n",
       "  <thead>\n",
       "    <tr style=\"text-align: right;\">\n",
       "      <th></th>\n",
       "      <th>messages_included</th>\n",
       "      <th>mb_per_month_included</th>\n",
       "      <th>minutes_included</th>\n",
       "      <th>usd_monthly_pay</th>\n",
       "      <th>usd_per_gb</th>\n",
       "      <th>usd_per_message</th>\n",
       "      <th>usd_per_minute</th>\n",
       "      <th>plan_name</th>\n",
       "    </tr>\n",
       "  </thead>\n",
       "  <tbody>\n",
       "    <tr>\n",
       "      <th>0</th>\n",
       "      <td>50</td>\n",
       "      <td>15360</td>\n",
       "      <td>500</td>\n",
       "      <td>20</td>\n",
       "      <td>10</td>\n",
       "      <td>0.03</td>\n",
       "      <td>0.03</td>\n",
       "      <td>surf</td>\n",
       "    </tr>\n",
       "    <tr>\n",
       "      <th>1</th>\n",
       "      <td>1000</td>\n",
       "      <td>30720</td>\n",
       "      <td>3000</td>\n",
       "      <td>70</td>\n",
       "      <td>7</td>\n",
       "      <td>0.01</td>\n",
       "      <td>0.01</td>\n",
       "      <td>ultimate</td>\n",
       "    </tr>\n",
       "  </tbody>\n",
       "</table>\n",
       "</div>"
      ],
      "text/plain": [
       "   messages_included  mb_per_month_included  minutes_included  \\\n",
       "0                 50                  15360               500   \n",
       "1               1000                  30720              3000   \n",
       "\n",
       "   usd_monthly_pay  usd_per_gb  usd_per_message  usd_per_minute plan_name  \n",
       "0               20          10             0.03            0.03      surf  \n",
       "1               70           7             0.01            0.01  ultimate  "
      ]
     },
     "execution_count": 33,
     "metadata": {},
     "output_type": "execute_result"
    }
   ],
   "source": [
    "# Imprime las condiciones de la tarifa y asegúrate de que te quedan claras\n",
    "planes_df"
   ]
  },
  {
   "cell_type": "markdown",
   "metadata": {
    "id": "hMR1tP5d0q1F"
   },
   "source": [
    "## Agregar datos por usuario\n"
   ]
  },
  {
   "cell_type": "code",
   "execution_count": 34,
   "metadata": {
    "id": "A332cedB0q1G"
   },
   "outputs": [
    {
     "data": {
      "text/html": [
       "<div>\n",
       "<style scoped>\n",
       "    .dataframe tbody tr th:only-of-type {\n",
       "        vertical-align: middle;\n",
       "    }\n",
       "\n",
       "    .dataframe tbody tr th {\n",
       "        vertical-align: top;\n",
       "    }\n",
       "\n",
       "    .dataframe thead th {\n",
       "        text-align: right;\n",
       "    }\n",
       "</style>\n",
       "<table border=\"1\" class=\"dataframe\">\n",
       "  <thead>\n",
       "    <tr style=\"text-align: right;\">\n",
       "      <th></th>\n",
       "      <th>user_id</th>\n",
       "      <th>month</th>\n",
       "      <th>calls_made</th>\n",
       "    </tr>\n",
       "  </thead>\n",
       "  <tbody>\n",
       "    <tr>\n",
       "      <th>0</th>\n",
       "      <td>1000</td>\n",
       "      <td>12</td>\n",
       "      <td>16</td>\n",
       "    </tr>\n",
       "    <tr>\n",
       "      <th>1</th>\n",
       "      <td>1001</td>\n",
       "      <td>8</td>\n",
       "      <td>27</td>\n",
       "    </tr>\n",
       "    <tr>\n",
       "      <th>2</th>\n",
       "      <td>1001</td>\n",
       "      <td>9</td>\n",
       "      <td>49</td>\n",
       "    </tr>\n",
       "    <tr>\n",
       "      <th>3</th>\n",
       "      <td>1001</td>\n",
       "      <td>10</td>\n",
       "      <td>65</td>\n",
       "    </tr>\n",
       "    <tr>\n",
       "      <th>4</th>\n",
       "      <td>1001</td>\n",
       "      <td>11</td>\n",
       "      <td>64</td>\n",
       "    </tr>\n",
       "    <tr>\n",
       "      <th>...</th>\n",
       "      <td>...</td>\n",
       "      <td>...</td>\n",
       "      <td>...</td>\n",
       "    </tr>\n",
       "    <tr>\n",
       "      <th>2253</th>\n",
       "      <td>1498</td>\n",
       "      <td>12</td>\n",
       "      <td>39</td>\n",
       "    </tr>\n",
       "    <tr>\n",
       "      <th>2254</th>\n",
       "      <td>1499</td>\n",
       "      <td>9</td>\n",
       "      <td>41</td>\n",
       "    </tr>\n",
       "    <tr>\n",
       "      <th>2255</th>\n",
       "      <td>1499</td>\n",
       "      <td>10</td>\n",
       "      <td>53</td>\n",
       "    </tr>\n",
       "    <tr>\n",
       "      <th>2256</th>\n",
       "      <td>1499</td>\n",
       "      <td>11</td>\n",
       "      <td>45</td>\n",
       "    </tr>\n",
       "    <tr>\n",
       "      <th>2257</th>\n",
       "      <td>1499</td>\n",
       "      <td>12</td>\n",
       "      <td>65</td>\n",
       "    </tr>\n",
       "  </tbody>\n",
       "</table>\n",
       "<p>2258 rows × 3 columns</p>\n",
       "</div>"
      ],
      "text/plain": [
       "      user_id  month  calls_made\n",
       "0        1000     12          16\n",
       "1        1001      8          27\n",
       "2        1001      9          49\n",
       "3        1001     10          65\n",
       "4        1001     11          64\n",
       "...       ...    ...         ...\n",
       "2253     1498     12          39\n",
       "2254     1499      9          41\n",
       "2255     1499     10          53\n",
       "2256     1499     11          45\n",
       "2257     1499     12          65\n",
       "\n",
       "[2258 rows x 3 columns]"
      ]
     },
     "execution_count": 34,
     "metadata": {},
     "output_type": "execute_result"
    }
   ],
   "source": [
    "# Calcula el número de llamadas hechas por cada usuario al mes. Guarda el resultado.\n",
    "\n",
    "# Agrupar por 'user_id' y el mes de 'call_date', contar las llamadas y guardar el resultado\n",
    "llamadas_por_mes = llamadas_df.groupby(\n",
    "    [llamadas_df['user_id'], llamadas_df['month']])['id'].count().reset_index()\n",
    "\n",
    "# Renombrar la columna 'id' a 'numero_llamadas'\n",
    "llamadas_por_mes = llamadas_por_mes.rename(columns={'id': 'calls_made'})\n",
    "\n",
    "llamadas_por_mes"
   ]
  },
  {
   "cell_type": "code",
   "execution_count": 35,
   "metadata": {},
   "outputs": [
    {
     "data": {
      "text/html": [
       "<div>\n",
       "<style scoped>\n",
       "    .dataframe tbody tr th:only-of-type {\n",
       "        vertical-align: middle;\n",
       "    }\n",
       "\n",
       "    .dataframe tbody tr th {\n",
       "        vertical-align: top;\n",
       "    }\n",
       "\n",
       "    .dataframe thead tr th {\n",
       "        text-align: left;\n",
       "    }\n",
       "</style>\n",
       "<table border=\"1\" class=\"dataframe\">\n",
       "  <thead>\n",
       "    <tr>\n",
       "      <th></th>\n",
       "      <th>user_id</th>\n",
       "      <th>month</th>\n",
       "      <th>sum</th>\n",
       "      <th>count</th>\n",
       "    </tr>\n",
       "    <tr>\n",
       "      <th></th>\n",
       "      <th></th>\n",
       "      <th></th>\n",
       "      <th>duration</th>\n",
       "      <th>duration</th>\n",
       "    </tr>\n",
       "  </thead>\n",
       "  <tbody>\n",
       "    <tr>\n",
       "      <th>0</th>\n",
       "      <td>1000</td>\n",
       "      <td>12</td>\n",
       "      <td>124</td>\n",
       "      <td>16</td>\n",
       "    </tr>\n",
       "    <tr>\n",
       "      <th>1</th>\n",
       "      <td>1001</td>\n",
       "      <td>8</td>\n",
       "      <td>182</td>\n",
       "      <td>27</td>\n",
       "    </tr>\n",
       "    <tr>\n",
       "      <th>2</th>\n",
       "      <td>1001</td>\n",
       "      <td>9</td>\n",
       "      <td>315</td>\n",
       "      <td>49</td>\n",
       "    </tr>\n",
       "    <tr>\n",
       "      <th>3</th>\n",
       "      <td>1001</td>\n",
       "      <td>10</td>\n",
       "      <td>393</td>\n",
       "      <td>65</td>\n",
       "    </tr>\n",
       "    <tr>\n",
       "      <th>4</th>\n",
       "      <td>1001</td>\n",
       "      <td>11</td>\n",
       "      <td>426</td>\n",
       "      <td>64</td>\n",
       "    </tr>\n",
       "    <tr>\n",
       "      <th>...</th>\n",
       "      <td>...</td>\n",
       "      <td>...</td>\n",
       "      <td>...</td>\n",
       "      <td>...</td>\n",
       "    </tr>\n",
       "    <tr>\n",
       "      <th>2253</th>\n",
       "      <td>1498</td>\n",
       "      <td>12</td>\n",
       "      <td>339</td>\n",
       "      <td>39</td>\n",
       "    </tr>\n",
       "    <tr>\n",
       "      <th>2254</th>\n",
       "      <td>1499</td>\n",
       "      <td>9</td>\n",
       "      <td>346</td>\n",
       "      <td>41</td>\n",
       "    </tr>\n",
       "    <tr>\n",
       "      <th>2255</th>\n",
       "      <td>1499</td>\n",
       "      <td>10</td>\n",
       "      <td>385</td>\n",
       "      <td>53</td>\n",
       "    </tr>\n",
       "    <tr>\n",
       "      <th>2256</th>\n",
       "      <td>1499</td>\n",
       "      <td>11</td>\n",
       "      <td>308</td>\n",
       "      <td>45</td>\n",
       "    </tr>\n",
       "    <tr>\n",
       "      <th>2257</th>\n",
       "      <td>1499</td>\n",
       "      <td>12</td>\n",
       "      <td>496</td>\n",
       "      <td>65</td>\n",
       "    </tr>\n",
       "  </tbody>\n",
       "</table>\n",
       "<p>2258 rows × 4 columns</p>\n",
       "</div>"
      ],
      "text/plain": [
       "     user_id month      sum    count\n",
       "                   duration duration\n",
       "0       1000    12      124       16\n",
       "1       1001     8      182       27\n",
       "2       1001     9      315       49\n",
       "3       1001    10      393       65\n",
       "4       1001    11      426       64\n",
       "...      ...   ...      ...      ...\n",
       "2253    1498    12      339       39\n",
       "2254    1499     9      346       41\n",
       "2255    1499    10      385       53\n",
       "2256    1499    11      308       45\n",
       "2257    1499    12      496       65\n",
       "\n",
       "[2258 rows x 4 columns]"
      ]
     },
     "execution_count": 35,
     "metadata": {},
     "output_type": "execute_result"
    }
   ],
   "source": [
    "# Crear una tabla dinamica para calcular el valor de duracion de llamadas por mes y el numero de llamadas realizadas.\n",
    "pivot_calls = llamadas_df.pivot_table(index=['user_id', 'month'],\n",
    "                                      values=['duration'],\n",
    "                                      aggfunc=['sum', 'count']).reset_index()\n",
    "pivot_calls"
   ]
  },
  {
   "cell_type": "code",
   "execution_count": 36,
   "metadata": {
    "id": "aw2cmuql0q1G"
   },
   "outputs": [
    {
     "data": {
      "text/html": [
       "<div>\n",
       "<style scoped>\n",
       "    .dataframe tbody tr th:only-of-type {\n",
       "        vertical-align: middle;\n",
       "    }\n",
       "\n",
       "    .dataframe tbody tr th {\n",
       "        vertical-align: top;\n",
       "    }\n",
       "\n",
       "    .dataframe thead th {\n",
       "        text-align: right;\n",
       "    }\n",
       "</style>\n",
       "<table border=\"1\" class=\"dataframe\">\n",
       "  <thead>\n",
       "    <tr style=\"text-align: right;\">\n",
       "      <th></th>\n",
       "      <th>user_id</th>\n",
       "      <th>month</th>\n",
       "      <th>duration</th>\n",
       "    </tr>\n",
       "  </thead>\n",
       "  <tbody>\n",
       "    <tr>\n",
       "      <th>0</th>\n",
       "      <td>1000</td>\n",
       "      <td>12</td>\n",
       "      <td>124</td>\n",
       "    </tr>\n",
       "    <tr>\n",
       "      <th>1</th>\n",
       "      <td>1001</td>\n",
       "      <td>8</td>\n",
       "      <td>182</td>\n",
       "    </tr>\n",
       "    <tr>\n",
       "      <th>2</th>\n",
       "      <td>1001</td>\n",
       "      <td>9</td>\n",
       "      <td>315</td>\n",
       "    </tr>\n",
       "    <tr>\n",
       "      <th>3</th>\n",
       "      <td>1001</td>\n",
       "      <td>10</td>\n",
       "      <td>393</td>\n",
       "    </tr>\n",
       "    <tr>\n",
       "      <th>4</th>\n",
       "      <td>1001</td>\n",
       "      <td>11</td>\n",
       "      <td>426</td>\n",
       "    </tr>\n",
       "    <tr>\n",
       "      <th>...</th>\n",
       "      <td>...</td>\n",
       "      <td>...</td>\n",
       "      <td>...</td>\n",
       "    </tr>\n",
       "    <tr>\n",
       "      <th>2253</th>\n",
       "      <td>1498</td>\n",
       "      <td>12</td>\n",
       "      <td>339</td>\n",
       "    </tr>\n",
       "    <tr>\n",
       "      <th>2254</th>\n",
       "      <td>1499</td>\n",
       "      <td>9</td>\n",
       "      <td>346</td>\n",
       "    </tr>\n",
       "    <tr>\n",
       "      <th>2255</th>\n",
       "      <td>1499</td>\n",
       "      <td>10</td>\n",
       "      <td>385</td>\n",
       "    </tr>\n",
       "    <tr>\n",
       "      <th>2256</th>\n",
       "      <td>1499</td>\n",
       "      <td>11</td>\n",
       "      <td>308</td>\n",
       "    </tr>\n",
       "    <tr>\n",
       "      <th>2257</th>\n",
       "      <td>1499</td>\n",
       "      <td>12</td>\n",
       "      <td>496</td>\n",
       "    </tr>\n",
       "  </tbody>\n",
       "</table>\n",
       "<p>2258 rows × 3 columns</p>\n",
       "</div>"
      ],
      "text/plain": [
       "      user_id  month  duration\n",
       "0        1000     12       124\n",
       "1        1001      8       182\n",
       "2        1001      9       315\n",
       "3        1001     10       393\n",
       "4        1001     11       426\n",
       "...       ...    ...       ...\n",
       "2253     1498     12       339\n",
       "2254     1499      9       346\n",
       "2255     1499     10       385\n",
       "2256     1499     11       308\n",
       "2257     1499     12       496\n",
       "\n",
       "[2258 rows x 3 columns]"
      ]
     },
     "execution_count": 36,
     "metadata": {},
     "output_type": "execute_result"
    }
   ],
   "source": [
    "# Calcula la cantidad de minutos usados por cada usuario al mes. Guarda el resultado.\n",
    "\n",
    "# Agrupar por 'user_id' y el mes de 'call_date', sumar la duración de las llamadas y guardar el resultado\n",
    "minutos_por_mes = llamadas_df.groupby(\n",
    "    [llamadas_df['user_id'], llamadas_df['month']])['duration'].sum().reset_index()\n",
    "\n",
    "# Mostrar el resultado\n",
    "minutos_por_mes"
   ]
  },
  {
   "cell_type": "code",
   "execution_count": 37,
   "metadata": {
    "id": "CcQvNHn60q1G"
   },
   "outputs": [
    {
     "data": {
      "text/html": [
       "<div>\n",
       "<style scoped>\n",
       "    .dataframe tbody tr th:only-of-type {\n",
       "        vertical-align: middle;\n",
       "    }\n",
       "\n",
       "    .dataframe tbody tr th {\n",
       "        vertical-align: top;\n",
       "    }\n",
       "\n",
       "    .dataframe thead th {\n",
       "        text-align: right;\n",
       "    }\n",
       "</style>\n",
       "<table border=\"1\" class=\"dataframe\">\n",
       "  <thead>\n",
       "    <tr style=\"text-align: right;\">\n",
       "      <th></th>\n",
       "      <th>user_id</th>\n",
       "      <th>month</th>\n",
       "      <th>sent_messages</th>\n",
       "    </tr>\n",
       "  </thead>\n",
       "  <tbody>\n",
       "    <tr>\n",
       "      <th>0</th>\n",
       "      <td>1000</td>\n",
       "      <td>12</td>\n",
       "      <td>11</td>\n",
       "    </tr>\n",
       "    <tr>\n",
       "      <th>1</th>\n",
       "      <td>1001</td>\n",
       "      <td>8</td>\n",
       "      <td>30</td>\n",
       "    </tr>\n",
       "    <tr>\n",
       "      <th>2</th>\n",
       "      <td>1001</td>\n",
       "      <td>9</td>\n",
       "      <td>44</td>\n",
       "    </tr>\n",
       "    <tr>\n",
       "      <th>3</th>\n",
       "      <td>1001</td>\n",
       "      <td>10</td>\n",
       "      <td>53</td>\n",
       "    </tr>\n",
       "    <tr>\n",
       "      <th>4</th>\n",
       "      <td>1001</td>\n",
       "      <td>11</td>\n",
       "      <td>36</td>\n",
       "    </tr>\n",
       "    <tr>\n",
       "      <th>...</th>\n",
       "      <td>...</td>\n",
       "      <td>...</td>\n",
       "      <td>...</td>\n",
       "    </tr>\n",
       "    <tr>\n",
       "      <th>1801</th>\n",
       "      <td>1496</td>\n",
       "      <td>9</td>\n",
       "      <td>21</td>\n",
       "    </tr>\n",
       "    <tr>\n",
       "      <th>1802</th>\n",
       "      <td>1496</td>\n",
       "      <td>10</td>\n",
       "      <td>18</td>\n",
       "    </tr>\n",
       "    <tr>\n",
       "      <th>1803</th>\n",
       "      <td>1496</td>\n",
       "      <td>11</td>\n",
       "      <td>13</td>\n",
       "    </tr>\n",
       "    <tr>\n",
       "      <th>1804</th>\n",
       "      <td>1496</td>\n",
       "      <td>12</td>\n",
       "      <td>11</td>\n",
       "    </tr>\n",
       "    <tr>\n",
       "      <th>1805</th>\n",
       "      <td>1497</td>\n",
       "      <td>12</td>\n",
       "      <td>50</td>\n",
       "    </tr>\n",
       "  </tbody>\n",
       "</table>\n",
       "<p>1806 rows × 3 columns</p>\n",
       "</div>"
      ],
      "text/plain": [
       "      user_id  month  sent_messages\n",
       "0        1000     12             11\n",
       "1        1001      8             30\n",
       "2        1001      9             44\n",
       "3        1001     10             53\n",
       "4        1001     11             36\n",
       "...       ...    ...            ...\n",
       "1801     1496      9             21\n",
       "1802     1496     10             18\n",
       "1803     1496     11             13\n",
       "1804     1496     12             11\n",
       "1805     1497     12             50\n",
       "\n",
       "[1806 rows x 3 columns]"
      ]
     },
     "execution_count": 37,
     "metadata": {},
     "output_type": "execute_result"
    }
   ],
   "source": [
    "# Calcula el número de mensajes enviados por cada usuario al mes. Guarda el resultado.\n",
    "\n",
    "# Agrupar por 'user_id' y el mes de 'message_date', contar los mensajes y guardar el resultado\n",
    "mensajes_por_mes = mensajes_df.groupby(\n",
    "    [mensajes_df['user_id'], mensajes_df['month']])['id'].count().reset_index()\n",
    "\n",
    "# Renombrar la columna 'id' a 'sent_messages'\n",
    "mensajes_por_mes = mensajes_por_mes.rename(columns={'id': 'sent_messages'})\n",
    "\n",
    "# Mostrar el resultado\n",
    "mensajes_por_mes"
   ]
  },
  {
   "cell_type": "code",
   "execution_count": 38,
   "metadata": {
    "id": "H1AqN2eG0q1H"
   },
   "outputs": [
    {
     "data": {
      "text/html": [
       "<div>\n",
       "<style scoped>\n",
       "    .dataframe tbody tr th:only-of-type {\n",
       "        vertical-align: middle;\n",
       "    }\n",
       "\n",
       "    .dataframe tbody tr th {\n",
       "        vertical-align: top;\n",
       "    }\n",
       "\n",
       "    .dataframe thead th {\n",
       "        text-align: right;\n",
       "    }\n",
       "</style>\n",
       "<table border=\"1\" class=\"dataframe\">\n",
       "  <thead>\n",
       "    <tr style=\"text-align: right;\">\n",
       "      <th></th>\n",
       "      <th>user_id</th>\n",
       "      <th>month</th>\n",
       "      <th>mb_used</th>\n",
       "    </tr>\n",
       "  </thead>\n",
       "  <tbody>\n",
       "    <tr>\n",
       "      <th>0</th>\n",
       "      <td>1000</td>\n",
       "      <td>12</td>\n",
       "      <td>1901.47</td>\n",
       "    </tr>\n",
       "    <tr>\n",
       "      <th>1</th>\n",
       "      <td>1001</td>\n",
       "      <td>8</td>\n",
       "      <td>6919.15</td>\n",
       "    </tr>\n",
       "    <tr>\n",
       "      <th>2</th>\n",
       "      <td>1001</td>\n",
       "      <td>9</td>\n",
       "      <td>13314.82</td>\n",
       "    </tr>\n",
       "    <tr>\n",
       "      <th>3</th>\n",
       "      <td>1001</td>\n",
       "      <td>10</td>\n",
       "      <td>22330.49</td>\n",
       "    </tr>\n",
       "    <tr>\n",
       "      <th>4</th>\n",
       "      <td>1001</td>\n",
       "      <td>11</td>\n",
       "      <td>18504.30</td>\n",
       "    </tr>\n",
       "    <tr>\n",
       "      <th>...</th>\n",
       "      <td>...</td>\n",
       "      <td>...</td>\n",
       "      <td>...</td>\n",
       "    </tr>\n",
       "    <tr>\n",
       "      <th>2272</th>\n",
       "      <td>1498</td>\n",
       "      <td>12</td>\n",
       "      <td>23137.69</td>\n",
       "    </tr>\n",
       "    <tr>\n",
       "      <th>2273</th>\n",
       "      <td>1499</td>\n",
       "      <td>9</td>\n",
       "      <td>12984.76</td>\n",
       "    </tr>\n",
       "    <tr>\n",
       "      <th>2274</th>\n",
       "      <td>1499</td>\n",
       "      <td>10</td>\n",
       "      <td>19492.43</td>\n",
       "    </tr>\n",
       "    <tr>\n",
       "      <th>2275</th>\n",
       "      <td>1499</td>\n",
       "      <td>11</td>\n",
       "      <td>16813.83</td>\n",
       "    </tr>\n",
       "    <tr>\n",
       "      <th>2276</th>\n",
       "      <td>1499</td>\n",
       "      <td>12</td>\n",
       "      <td>22059.21</td>\n",
       "    </tr>\n",
       "  </tbody>\n",
       "</table>\n",
       "<p>2277 rows × 3 columns</p>\n",
       "</div>"
      ],
      "text/plain": [
       "      user_id  month   mb_used\n",
       "0        1000     12   1901.47\n",
       "1        1001      8   6919.15\n",
       "2        1001      9  13314.82\n",
       "3        1001     10  22330.49\n",
       "4        1001     11  18504.30\n",
       "...       ...    ...       ...\n",
       "2272     1498     12  23137.69\n",
       "2273     1499      9  12984.76\n",
       "2274     1499     10  19492.43\n",
       "2275     1499     11  16813.83\n",
       "2276     1499     12  22059.21\n",
       "\n",
       "[2277 rows x 3 columns]"
      ]
     },
     "execution_count": 38,
     "metadata": {},
     "output_type": "execute_result"
    }
   ],
   "source": [
    "# Calcula el volumen del tráfico de Internet usado por cada usuario al mes. Guarda el resultado.\n",
    "\n",
    "# Agrupar por 'user_id' y el mes de 'session_date', sumar el volumen de datos por grupo\n",
    "volumen_internet_por_mes = internet_df.groupby(\n",
    "    [internet_df['user_id'], internet_df['month']])['mb_used'].sum().reset_index()\n",
    "\n",
    "# Mostrar el resultado\n",
    "volumen_internet_por_mes"
   ]
  },
  {
   "cell_type": "markdown",
   "metadata": {
    "id": "VDfYXnj80q1H"
   },
   "source": [
    "Junta los datos agregados en un DataFrame para que haya un registro que represente lo que consumió un usuario único en un mes determinado."
   ]
  },
  {
   "cell_type": "code",
   "execution_count": 39,
   "metadata": {
    "id": "FW99ykyf0q1H"
   },
   "outputs": [
    {
     "data": {
      "text/html": [
       "<div>\n",
       "<style scoped>\n",
       "    .dataframe tbody tr th:only-of-type {\n",
       "        vertical-align: middle;\n",
       "    }\n",
       "\n",
       "    .dataframe tbody tr th {\n",
       "        vertical-align: top;\n",
       "    }\n",
       "\n",
       "    .dataframe thead th {\n",
       "        text-align: right;\n",
       "    }\n",
       "</style>\n",
       "<table border=\"1\" class=\"dataframe\">\n",
       "  <thead>\n",
       "    <tr style=\"text-align: right;\">\n",
       "      <th></th>\n",
       "      <th>user_id</th>\n",
       "      <th>month</th>\n",
       "      <th>calls_made</th>\n",
       "      <th>duration</th>\n",
       "      <th>sent_messages</th>\n",
       "      <th>mb_used</th>\n",
       "    </tr>\n",
       "  </thead>\n",
       "  <tbody>\n",
       "    <tr>\n",
       "      <th>0</th>\n",
       "      <td>1000</td>\n",
       "      <td>12</td>\n",
       "      <td>16.0</td>\n",
       "      <td>124.0</td>\n",
       "      <td>11.0</td>\n",
       "      <td>1901.47</td>\n",
       "    </tr>\n",
       "    <tr>\n",
       "      <th>1</th>\n",
       "      <td>1001</td>\n",
       "      <td>8</td>\n",
       "      <td>27.0</td>\n",
       "      <td>182.0</td>\n",
       "      <td>30.0</td>\n",
       "      <td>6919.15</td>\n",
       "    </tr>\n",
       "    <tr>\n",
       "      <th>2</th>\n",
       "      <td>1001</td>\n",
       "      <td>9</td>\n",
       "      <td>49.0</td>\n",
       "      <td>315.0</td>\n",
       "      <td>44.0</td>\n",
       "      <td>13314.82</td>\n",
       "    </tr>\n",
       "    <tr>\n",
       "      <th>3</th>\n",
       "      <td>1001</td>\n",
       "      <td>10</td>\n",
       "      <td>65.0</td>\n",
       "      <td>393.0</td>\n",
       "      <td>53.0</td>\n",
       "      <td>22330.49</td>\n",
       "    </tr>\n",
       "    <tr>\n",
       "      <th>4</th>\n",
       "      <td>1001</td>\n",
       "      <td>11</td>\n",
       "      <td>64.0</td>\n",
       "      <td>426.0</td>\n",
       "      <td>36.0</td>\n",
       "      <td>18504.30</td>\n",
       "    </tr>\n",
       "    <tr>\n",
       "      <th>...</th>\n",
       "      <td>...</td>\n",
       "      <td>...</td>\n",
       "      <td>...</td>\n",
       "      <td>...</td>\n",
       "      <td>...</td>\n",
       "      <td>...</td>\n",
       "    </tr>\n",
       "    <tr>\n",
       "      <th>2288</th>\n",
       "      <td>1498</td>\n",
       "      <td>12</td>\n",
       "      <td>39.0</td>\n",
       "      <td>339.0</td>\n",
       "      <td>NaN</td>\n",
       "      <td>23137.69</td>\n",
       "    </tr>\n",
       "    <tr>\n",
       "      <th>2289</th>\n",
       "      <td>1499</td>\n",
       "      <td>9</td>\n",
       "      <td>41.0</td>\n",
       "      <td>346.0</td>\n",
       "      <td>NaN</td>\n",
       "      <td>12984.76</td>\n",
       "    </tr>\n",
       "    <tr>\n",
       "      <th>2290</th>\n",
       "      <td>1499</td>\n",
       "      <td>10</td>\n",
       "      <td>53.0</td>\n",
       "      <td>385.0</td>\n",
       "      <td>NaN</td>\n",
       "      <td>19492.43</td>\n",
       "    </tr>\n",
       "    <tr>\n",
       "      <th>2291</th>\n",
       "      <td>1499</td>\n",
       "      <td>11</td>\n",
       "      <td>45.0</td>\n",
       "      <td>308.0</td>\n",
       "      <td>NaN</td>\n",
       "      <td>16813.83</td>\n",
       "    </tr>\n",
       "    <tr>\n",
       "      <th>2292</th>\n",
       "      <td>1499</td>\n",
       "      <td>12</td>\n",
       "      <td>65.0</td>\n",
       "      <td>496.0</td>\n",
       "      <td>NaN</td>\n",
       "      <td>22059.21</td>\n",
       "    </tr>\n",
       "  </tbody>\n",
       "</table>\n",
       "<p>2293 rows × 6 columns</p>\n",
       "</div>"
      ],
      "text/plain": [
       "      user_id  month  calls_made  duration  sent_messages   mb_used\n",
       "0        1000     12        16.0     124.0           11.0   1901.47\n",
       "1        1001      8        27.0     182.0           30.0   6919.15\n",
       "2        1001      9        49.0     315.0           44.0  13314.82\n",
       "3        1001     10        65.0     393.0           53.0  22330.49\n",
       "4        1001     11        64.0     426.0           36.0  18504.30\n",
       "...       ...    ...         ...       ...            ...       ...\n",
       "2288     1498     12        39.0     339.0            NaN  23137.69\n",
       "2289     1499      9        41.0     346.0            NaN  12984.76\n",
       "2290     1499     10        53.0     385.0            NaN  19492.43\n",
       "2291     1499     11        45.0     308.0            NaN  16813.83\n",
       "2292     1499     12        65.0     496.0            NaN  22059.21\n",
       "\n",
       "[2293 rows x 6 columns]"
      ]
     },
     "execution_count": 39,
     "metadata": {},
     "output_type": "execute_result"
    }
   ],
   "source": [
    "# Fusiona los datos de llamadas, minutos, mensajes e Internet con base en user_id y month\n",
    "users_month_df = llamadas_por_mes.merge(\n",
    "    minutos_por_mes, on=['user_id', 'month'], how='outer')\n",
    "users_month_df = users_month_df.merge(\n",
    "    mensajes_por_mes, on=['user_id', 'month'], how='outer')\n",
    "users_month_df = users_month_df.merge(volumen_internet_por_mes, on=[\n",
    "                                      'user_id', 'month'], how='outer')\n",
    "users_month_df"
   ]
  },
  {
   "cell_type": "code",
   "execution_count": 40,
   "metadata": {},
   "outputs": [
    {
     "data": {
      "text/plain": [
       "user_id            0\n",
       "month              0\n",
       "calls_made        35\n",
       "duration          35\n",
       "sent_messages    487\n",
       "mb_used           16\n",
       "dtype: int64"
      ]
     },
     "execution_count": 40,
     "metadata": {},
     "output_type": "execute_result"
    }
   ],
   "source": [
    "users_month_df.isna().sum()"
   ]
  },
  {
   "cell_type": "markdown",
   "metadata": {},
   "source": [
    "Hacer  Data Wrangling al dataframe combinado\n",
    "* llenar valores nulos a 0 ya que estos son valores de consumo tipo int y seran 0 no afectaran al analisis."
   ]
  },
  {
   "cell_type": "code",
   "execution_count": 41,
   "metadata": {},
   "outputs": [
    {
     "data": {
      "text/html": [
       "<div>\n",
       "<style scoped>\n",
       "    .dataframe tbody tr th:only-of-type {\n",
       "        vertical-align: middle;\n",
       "    }\n",
       "\n",
       "    .dataframe tbody tr th {\n",
       "        vertical-align: top;\n",
       "    }\n",
       "\n",
       "    .dataframe thead th {\n",
       "        text-align: right;\n",
       "    }\n",
       "</style>\n",
       "<table border=\"1\" class=\"dataframe\">\n",
       "  <thead>\n",
       "    <tr style=\"text-align: right;\">\n",
       "      <th></th>\n",
       "      <th>user_id</th>\n",
       "      <th>month</th>\n",
       "      <th>calls_made</th>\n",
       "      <th>duration</th>\n",
       "      <th>sent_messages</th>\n",
       "      <th>mb_used</th>\n",
       "    </tr>\n",
       "  </thead>\n",
       "  <tbody>\n",
       "    <tr>\n",
       "      <th>0</th>\n",
       "      <td>1000</td>\n",
       "      <td>12</td>\n",
       "      <td>16</td>\n",
       "      <td>124</td>\n",
       "      <td>11</td>\n",
       "      <td>1901.47</td>\n",
       "    </tr>\n",
       "    <tr>\n",
       "      <th>1</th>\n",
       "      <td>1001</td>\n",
       "      <td>8</td>\n",
       "      <td>27</td>\n",
       "      <td>182</td>\n",
       "      <td>30</td>\n",
       "      <td>6919.15</td>\n",
       "    </tr>\n",
       "    <tr>\n",
       "      <th>2</th>\n",
       "      <td>1001</td>\n",
       "      <td>9</td>\n",
       "      <td>49</td>\n",
       "      <td>315</td>\n",
       "      <td>44</td>\n",
       "      <td>13314.82</td>\n",
       "    </tr>\n",
       "    <tr>\n",
       "      <th>3</th>\n",
       "      <td>1001</td>\n",
       "      <td>10</td>\n",
       "      <td>65</td>\n",
       "      <td>393</td>\n",
       "      <td>53</td>\n",
       "      <td>22330.49</td>\n",
       "    </tr>\n",
       "    <tr>\n",
       "      <th>4</th>\n",
       "      <td>1001</td>\n",
       "      <td>11</td>\n",
       "      <td>64</td>\n",
       "      <td>426</td>\n",
       "      <td>36</td>\n",
       "      <td>18504.30</td>\n",
       "    </tr>\n",
       "    <tr>\n",
       "      <th>...</th>\n",
       "      <td>...</td>\n",
       "      <td>...</td>\n",
       "      <td>...</td>\n",
       "      <td>...</td>\n",
       "      <td>...</td>\n",
       "      <td>...</td>\n",
       "    </tr>\n",
       "    <tr>\n",
       "      <th>2288</th>\n",
       "      <td>1498</td>\n",
       "      <td>12</td>\n",
       "      <td>39</td>\n",
       "      <td>339</td>\n",
       "      <td>0</td>\n",
       "      <td>23137.69</td>\n",
       "    </tr>\n",
       "    <tr>\n",
       "      <th>2289</th>\n",
       "      <td>1499</td>\n",
       "      <td>9</td>\n",
       "      <td>41</td>\n",
       "      <td>346</td>\n",
       "      <td>0</td>\n",
       "      <td>12984.76</td>\n",
       "    </tr>\n",
       "    <tr>\n",
       "      <th>2290</th>\n",
       "      <td>1499</td>\n",
       "      <td>10</td>\n",
       "      <td>53</td>\n",
       "      <td>385</td>\n",
       "      <td>0</td>\n",
       "      <td>19492.43</td>\n",
       "    </tr>\n",
       "    <tr>\n",
       "      <th>2291</th>\n",
       "      <td>1499</td>\n",
       "      <td>11</td>\n",
       "      <td>45</td>\n",
       "      <td>308</td>\n",
       "      <td>0</td>\n",
       "      <td>16813.83</td>\n",
       "    </tr>\n",
       "    <tr>\n",
       "      <th>2292</th>\n",
       "      <td>1499</td>\n",
       "      <td>12</td>\n",
       "      <td>65</td>\n",
       "      <td>496</td>\n",
       "      <td>0</td>\n",
       "      <td>22059.21</td>\n",
       "    </tr>\n",
       "  </tbody>\n",
       "</table>\n",
       "<p>2293 rows × 6 columns</p>\n",
       "</div>"
      ],
      "text/plain": [
       "      user_id  month  calls_made  duration  sent_messages   mb_used\n",
       "0        1000     12          16       124             11   1901.47\n",
       "1        1001      8          27       182             30   6919.15\n",
       "2        1001      9          49       315             44  13314.82\n",
       "3        1001     10          65       393             53  22330.49\n",
       "4        1001     11          64       426             36  18504.30\n",
       "...       ...    ...         ...       ...            ...       ...\n",
       "2288     1498     12          39       339              0  23137.69\n",
       "2289     1499      9          41       346              0  12984.76\n",
       "2290     1499     10          53       385              0  19492.43\n",
       "2291     1499     11          45       308              0  16813.83\n",
       "2292     1499     12          65       496              0  22059.21\n",
       "\n",
       "[2293 rows x 6 columns]"
      ]
     },
     "execution_count": 41,
     "metadata": {},
     "output_type": "execute_result"
    }
   ],
   "source": [
    "# llenar los campos vacios con un valor de 0 y hacerlos tipo int.\n",
    "\n",
    "# Llenar campos vacíos con 0\n",
    "users_month_df.fillna(0, inplace=True)\n",
    "\n",
    "# Convertir columnas a tipo int\n",
    "users_month_df['calls_made'] = users_month_df['calls_made'].astype(int)\n",
    "users_month_df['duration'] = users_month_df['duration'].astype(int)\n",
    "users_month_df['sent_messages'] = users_month_df['sent_messages'].astype(int)\n",
    "\n",
    "users_month_df"
   ]
  },
  {
   "cell_type": "code",
   "execution_count": 42,
   "metadata": {},
   "outputs": [
    {
     "data": {
      "text/html": [
       "<div>\n",
       "<style scoped>\n",
       "    .dataframe tbody tr th:only-of-type {\n",
       "        vertical-align: middle;\n",
       "    }\n",
       "\n",
       "    .dataframe tbody tr th {\n",
       "        vertical-align: top;\n",
       "    }\n",
       "\n",
       "    .dataframe thead th {\n",
       "        text-align: right;\n",
       "    }\n",
       "</style>\n",
       "<table border=\"1\" class=\"dataframe\">\n",
       "  <thead>\n",
       "    <tr style=\"text-align: right;\">\n",
       "      <th></th>\n",
       "      <th>user_id</th>\n",
       "      <th>first_name</th>\n",
       "      <th>last_name</th>\n",
       "      <th>age</th>\n",
       "      <th>reg_date</th>\n",
       "      <th>plan</th>\n",
       "      <th>churn_date</th>\n",
       "      <th>city</th>\n",
       "      <th>state_msa</th>\n",
       "      <th>is_active</th>\n",
       "      <th>messages_included</th>\n",
       "      <th>mb_per_month_included</th>\n",
       "      <th>minutes_included</th>\n",
       "      <th>usd_monthly_pay</th>\n",
       "      <th>usd_per_gb</th>\n",
       "      <th>usd_per_message</th>\n",
       "      <th>usd_per_minute</th>\n",
       "      <th>plan_name</th>\n",
       "    </tr>\n",
       "  </thead>\n",
       "  <tbody>\n",
       "    <tr>\n",
       "      <th>0</th>\n",
       "      <td>1000</td>\n",
       "      <td>anamaria</td>\n",
       "      <td>bauer</td>\n",
       "      <td>45</td>\n",
       "      <td>2018-12-24</td>\n",
       "      <td>ultimate</td>\n",
       "      <td>NaT</td>\n",
       "      <td>Atlanta-Sandy Springs-Roswell</td>\n",
       "      <td>GA</td>\n",
       "      <td>True</td>\n",
       "      <td>1000</td>\n",
       "      <td>30720</td>\n",
       "      <td>3000</td>\n",
       "      <td>70</td>\n",
       "      <td>7</td>\n",
       "      <td>0.01</td>\n",
       "      <td>0.01</td>\n",
       "      <td>ultimate</td>\n",
       "    </tr>\n",
       "    <tr>\n",
       "      <th>1</th>\n",
       "      <td>1001</td>\n",
       "      <td>mickey</td>\n",
       "      <td>wilkerson</td>\n",
       "      <td>28</td>\n",
       "      <td>2018-08-13</td>\n",
       "      <td>surf</td>\n",
       "      <td>NaT</td>\n",
       "      <td>Seattle-Tacoma-Bellevue</td>\n",
       "      <td>WA</td>\n",
       "      <td>True</td>\n",
       "      <td>50</td>\n",
       "      <td>15360</td>\n",
       "      <td>500</td>\n",
       "      <td>20</td>\n",
       "      <td>10</td>\n",
       "      <td>0.03</td>\n",
       "      <td>0.03</td>\n",
       "      <td>surf</td>\n",
       "    </tr>\n",
       "    <tr>\n",
       "      <th>2</th>\n",
       "      <td>1002</td>\n",
       "      <td>carlee</td>\n",
       "      <td>hoffman</td>\n",
       "      <td>36</td>\n",
       "      <td>2018-10-21</td>\n",
       "      <td>surf</td>\n",
       "      <td>NaT</td>\n",
       "      <td>Las Vegas-Henderson-Paradise</td>\n",
       "      <td>NV</td>\n",
       "      <td>True</td>\n",
       "      <td>50</td>\n",
       "      <td>15360</td>\n",
       "      <td>500</td>\n",
       "      <td>20</td>\n",
       "      <td>10</td>\n",
       "      <td>0.03</td>\n",
       "      <td>0.03</td>\n",
       "      <td>surf</td>\n",
       "    </tr>\n",
       "    <tr>\n",
       "      <th>3</th>\n",
       "      <td>1003</td>\n",
       "      <td>reynaldo</td>\n",
       "      <td>jenkins</td>\n",
       "      <td>52</td>\n",
       "      <td>2018-01-28</td>\n",
       "      <td>surf</td>\n",
       "      <td>NaT</td>\n",
       "      <td>Tulsa</td>\n",
       "      <td>OK</td>\n",
       "      <td>True</td>\n",
       "      <td>50</td>\n",
       "      <td>15360</td>\n",
       "      <td>500</td>\n",
       "      <td>20</td>\n",
       "      <td>10</td>\n",
       "      <td>0.03</td>\n",
       "      <td>0.03</td>\n",
       "      <td>surf</td>\n",
       "    </tr>\n",
       "    <tr>\n",
       "      <th>4</th>\n",
       "      <td>1004</td>\n",
       "      <td>leonila</td>\n",
       "      <td>thompson</td>\n",
       "      <td>40</td>\n",
       "      <td>2018-05-23</td>\n",
       "      <td>surf</td>\n",
       "      <td>NaT</td>\n",
       "      <td>Seattle-Tacoma-Bellevue</td>\n",
       "      <td>WA</td>\n",
       "      <td>True</td>\n",
       "      <td>50</td>\n",
       "      <td>15360</td>\n",
       "      <td>500</td>\n",
       "      <td>20</td>\n",
       "      <td>10</td>\n",
       "      <td>0.03</td>\n",
       "      <td>0.03</td>\n",
       "      <td>surf</td>\n",
       "    </tr>\n",
       "    <tr>\n",
       "      <th>...</th>\n",
       "      <td>...</td>\n",
       "      <td>...</td>\n",
       "      <td>...</td>\n",
       "      <td>...</td>\n",
       "      <td>...</td>\n",
       "      <td>...</td>\n",
       "      <td>...</td>\n",
       "      <td>...</td>\n",
       "      <td>...</td>\n",
       "      <td>...</td>\n",
       "      <td>...</td>\n",
       "      <td>...</td>\n",
       "      <td>...</td>\n",
       "      <td>...</td>\n",
       "      <td>...</td>\n",
       "      <td>...</td>\n",
       "      <td>...</td>\n",
       "      <td>...</td>\n",
       "    </tr>\n",
       "    <tr>\n",
       "      <th>495</th>\n",
       "      <td>1495</td>\n",
       "      <td>fidel</td>\n",
       "      <td>sharpe</td>\n",
       "      <td>67</td>\n",
       "      <td>2018-09-04</td>\n",
       "      <td>surf</td>\n",
       "      <td>NaT</td>\n",
       "      <td>New York-Newark-Jersey City</td>\n",
       "      <td>NY-NJ-PA</td>\n",
       "      <td>True</td>\n",
       "      <td>50</td>\n",
       "      <td>15360</td>\n",
       "      <td>500</td>\n",
       "      <td>20</td>\n",
       "      <td>10</td>\n",
       "      <td>0.03</td>\n",
       "      <td>0.03</td>\n",
       "      <td>surf</td>\n",
       "    </tr>\n",
       "    <tr>\n",
       "      <th>496</th>\n",
       "      <td>1496</td>\n",
       "      <td>ariel</td>\n",
       "      <td>shepherd</td>\n",
       "      <td>49</td>\n",
       "      <td>2018-02-20</td>\n",
       "      <td>surf</td>\n",
       "      <td>NaT</td>\n",
       "      <td>New Orleans-Metairie</td>\n",
       "      <td>LA</td>\n",
       "      <td>True</td>\n",
       "      <td>50</td>\n",
       "      <td>15360</td>\n",
       "      <td>500</td>\n",
       "      <td>20</td>\n",
       "      <td>10</td>\n",
       "      <td>0.03</td>\n",
       "      <td>0.03</td>\n",
       "      <td>surf</td>\n",
       "    </tr>\n",
       "    <tr>\n",
       "      <th>497</th>\n",
       "      <td>1497</td>\n",
       "      <td>donte</td>\n",
       "      <td>barrera</td>\n",
       "      <td>49</td>\n",
       "      <td>2018-12-10</td>\n",
       "      <td>ultimate</td>\n",
       "      <td>NaT</td>\n",
       "      <td>Los Angeles-Long Beach-Anaheim</td>\n",
       "      <td>CA</td>\n",
       "      <td>True</td>\n",
       "      <td>1000</td>\n",
       "      <td>30720</td>\n",
       "      <td>3000</td>\n",
       "      <td>70</td>\n",
       "      <td>7</td>\n",
       "      <td>0.01</td>\n",
       "      <td>0.01</td>\n",
       "      <td>ultimate</td>\n",
       "    </tr>\n",
       "    <tr>\n",
       "      <th>498</th>\n",
       "      <td>1498</td>\n",
       "      <td>scot</td>\n",
       "      <td>williamson</td>\n",
       "      <td>51</td>\n",
       "      <td>2018-02-04</td>\n",
       "      <td>surf</td>\n",
       "      <td>NaT</td>\n",
       "      <td>New York-Newark-Jersey City</td>\n",
       "      <td>NY-NJ-PA</td>\n",
       "      <td>True</td>\n",
       "      <td>50</td>\n",
       "      <td>15360</td>\n",
       "      <td>500</td>\n",
       "      <td>20</td>\n",
       "      <td>10</td>\n",
       "      <td>0.03</td>\n",
       "      <td>0.03</td>\n",
       "      <td>surf</td>\n",
       "    </tr>\n",
       "    <tr>\n",
       "      <th>499</th>\n",
       "      <td>1499</td>\n",
       "      <td>shena</td>\n",
       "      <td>dickson</td>\n",
       "      <td>37</td>\n",
       "      <td>2018-05-06</td>\n",
       "      <td>surf</td>\n",
       "      <td>NaT</td>\n",
       "      <td>Orlando-Kissimmee-Sanford</td>\n",
       "      <td>FL</td>\n",
       "      <td>True</td>\n",
       "      <td>50</td>\n",
       "      <td>15360</td>\n",
       "      <td>500</td>\n",
       "      <td>20</td>\n",
       "      <td>10</td>\n",
       "      <td>0.03</td>\n",
       "      <td>0.03</td>\n",
       "      <td>surf</td>\n",
       "    </tr>\n",
       "  </tbody>\n",
       "</table>\n",
       "<p>500 rows × 18 columns</p>\n",
       "</div>"
      ],
      "text/plain": [
       "     user_id first_name   last_name  age   reg_date      plan churn_date  \\\n",
       "0       1000   anamaria       bauer   45 2018-12-24  ultimate        NaT   \n",
       "1       1001     mickey   wilkerson   28 2018-08-13      surf        NaT   \n",
       "2       1002     carlee     hoffman   36 2018-10-21      surf        NaT   \n",
       "3       1003   reynaldo     jenkins   52 2018-01-28      surf        NaT   \n",
       "4       1004    leonila    thompson   40 2018-05-23      surf        NaT   \n",
       "..       ...        ...         ...  ...        ...       ...        ...   \n",
       "495     1495      fidel      sharpe   67 2018-09-04      surf        NaT   \n",
       "496     1496      ariel    shepherd   49 2018-02-20      surf        NaT   \n",
       "497     1497      donte     barrera   49 2018-12-10  ultimate        NaT   \n",
       "498     1498       scot  williamson   51 2018-02-04      surf        NaT   \n",
       "499     1499      shena     dickson   37 2018-05-06      surf        NaT   \n",
       "\n",
       "                               city state_msa  is_active  messages_included  \\\n",
       "0     Atlanta-Sandy Springs-Roswell        GA       True               1000   \n",
       "1           Seattle-Tacoma-Bellevue        WA       True                 50   \n",
       "2      Las Vegas-Henderson-Paradise        NV       True                 50   \n",
       "3                             Tulsa        OK       True                 50   \n",
       "4           Seattle-Tacoma-Bellevue        WA       True                 50   \n",
       "..                              ...       ...        ...                ...   \n",
       "495     New York-Newark-Jersey City  NY-NJ-PA       True                 50   \n",
       "496            New Orleans-Metairie        LA       True                 50   \n",
       "497  Los Angeles-Long Beach-Anaheim        CA       True               1000   \n",
       "498     New York-Newark-Jersey City  NY-NJ-PA       True                 50   \n",
       "499       Orlando-Kissimmee-Sanford        FL       True                 50   \n",
       "\n",
       "     mb_per_month_included  minutes_included  usd_monthly_pay  usd_per_gb  \\\n",
       "0                    30720              3000               70           7   \n",
       "1                    15360               500               20          10   \n",
       "2                    15360               500               20          10   \n",
       "3                    15360               500               20          10   \n",
       "4                    15360               500               20          10   \n",
       "..                     ...               ...              ...         ...   \n",
       "495                  15360               500               20          10   \n",
       "496                  15360               500               20          10   \n",
       "497                  30720              3000               70           7   \n",
       "498                  15360               500               20          10   \n",
       "499                  15360               500               20          10   \n",
       "\n",
       "     usd_per_message  usd_per_minute plan_name  \n",
       "0               0.01            0.01  ultimate  \n",
       "1               0.03            0.03      surf  \n",
       "2               0.03            0.03      surf  \n",
       "3               0.03            0.03      surf  \n",
       "4               0.03            0.03      surf  \n",
       "..               ...             ...       ...  \n",
       "495             0.03            0.03      surf  \n",
       "496             0.03            0.03      surf  \n",
       "497             0.01            0.01  ultimate  \n",
       "498             0.03            0.03      surf  \n",
       "499             0.03            0.03      surf  \n",
       "\n",
       "[500 rows x 18 columns]"
      ]
     },
     "execution_count": 42,
     "metadata": {},
     "output_type": "execute_result"
    }
   ],
   "source": [
    "# Unir usuarios_df con planes_df\n",
    "usuarios_con_planes_df = usuarios_df.merge(\n",
    "    planes_df, left_on='plan', right_on='plan_name', how='left')\n",
    "\n",
    "# Mostrar el resultado\n",
    "usuarios_con_planes_df"
   ]
  },
  {
   "cell_type": "code",
   "execution_count": 43,
   "metadata": {
    "id": "0dNOXHag0q1H",
    "scrolled": true
   },
   "outputs": [
    {
     "data": {
      "text/html": [
       "<div>\n",
       "<style scoped>\n",
       "    .dataframe tbody tr th:only-of-type {\n",
       "        vertical-align: middle;\n",
       "    }\n",
       "\n",
       "    .dataframe tbody tr th {\n",
       "        vertical-align: top;\n",
       "    }\n",
       "\n",
       "    .dataframe thead th {\n",
       "        text-align: right;\n",
       "    }\n",
       "</style>\n",
       "<table border=\"1\" class=\"dataframe\">\n",
       "  <thead>\n",
       "    <tr style=\"text-align: right;\">\n",
       "      <th></th>\n",
       "      <th>user_id</th>\n",
       "      <th>month</th>\n",
       "      <th>calls_made</th>\n",
       "      <th>duration</th>\n",
       "      <th>sent_messages</th>\n",
       "      <th>mb_used</th>\n",
       "      <th>plan</th>\n",
       "      <th>messages_included</th>\n",
       "      <th>mb_per_month_included</th>\n",
       "      <th>minutes_included</th>\n",
       "      <th>usd_monthly_pay</th>\n",
       "      <th>usd_per_gb</th>\n",
       "      <th>usd_per_message</th>\n",
       "      <th>usd_per_minute</th>\n",
       "    </tr>\n",
       "  </thead>\n",
       "  <tbody>\n",
       "    <tr>\n",
       "      <th>0</th>\n",
       "      <td>1000</td>\n",
       "      <td>12</td>\n",
       "      <td>16</td>\n",
       "      <td>124</td>\n",
       "      <td>11</td>\n",
       "      <td>1901.47</td>\n",
       "      <td>ultimate</td>\n",
       "      <td>1000</td>\n",
       "      <td>30720</td>\n",
       "      <td>3000</td>\n",
       "      <td>70</td>\n",
       "      <td>7</td>\n",
       "      <td>0.01</td>\n",
       "      <td>0.01</td>\n",
       "    </tr>\n",
       "    <tr>\n",
       "      <th>1</th>\n",
       "      <td>1001</td>\n",
       "      <td>8</td>\n",
       "      <td>27</td>\n",
       "      <td>182</td>\n",
       "      <td>30</td>\n",
       "      <td>6919.15</td>\n",
       "      <td>surf</td>\n",
       "      <td>50</td>\n",
       "      <td>15360</td>\n",
       "      <td>500</td>\n",
       "      <td>20</td>\n",
       "      <td>10</td>\n",
       "      <td>0.03</td>\n",
       "      <td>0.03</td>\n",
       "    </tr>\n",
       "    <tr>\n",
       "      <th>2</th>\n",
       "      <td>1001</td>\n",
       "      <td>9</td>\n",
       "      <td>49</td>\n",
       "      <td>315</td>\n",
       "      <td>44</td>\n",
       "      <td>13314.82</td>\n",
       "      <td>surf</td>\n",
       "      <td>50</td>\n",
       "      <td>15360</td>\n",
       "      <td>500</td>\n",
       "      <td>20</td>\n",
       "      <td>10</td>\n",
       "      <td>0.03</td>\n",
       "      <td>0.03</td>\n",
       "    </tr>\n",
       "    <tr>\n",
       "      <th>3</th>\n",
       "      <td>1001</td>\n",
       "      <td>10</td>\n",
       "      <td>65</td>\n",
       "      <td>393</td>\n",
       "      <td>53</td>\n",
       "      <td>22330.49</td>\n",
       "      <td>surf</td>\n",
       "      <td>50</td>\n",
       "      <td>15360</td>\n",
       "      <td>500</td>\n",
       "      <td>20</td>\n",
       "      <td>10</td>\n",
       "      <td>0.03</td>\n",
       "      <td>0.03</td>\n",
       "    </tr>\n",
       "    <tr>\n",
       "      <th>4</th>\n",
       "      <td>1001</td>\n",
       "      <td>11</td>\n",
       "      <td>64</td>\n",
       "      <td>426</td>\n",
       "      <td>36</td>\n",
       "      <td>18504.30</td>\n",
       "      <td>surf</td>\n",
       "      <td>50</td>\n",
       "      <td>15360</td>\n",
       "      <td>500</td>\n",
       "      <td>20</td>\n",
       "      <td>10</td>\n",
       "      <td>0.03</td>\n",
       "      <td>0.03</td>\n",
       "    </tr>\n",
       "    <tr>\n",
       "      <th>...</th>\n",
       "      <td>...</td>\n",
       "      <td>...</td>\n",
       "      <td>...</td>\n",
       "      <td>...</td>\n",
       "      <td>...</td>\n",
       "      <td>...</td>\n",
       "      <td>...</td>\n",
       "      <td>...</td>\n",
       "      <td>...</td>\n",
       "      <td>...</td>\n",
       "      <td>...</td>\n",
       "      <td>...</td>\n",
       "      <td>...</td>\n",
       "      <td>...</td>\n",
       "    </tr>\n",
       "    <tr>\n",
       "      <th>2288</th>\n",
       "      <td>1498</td>\n",
       "      <td>12</td>\n",
       "      <td>39</td>\n",
       "      <td>339</td>\n",
       "      <td>0</td>\n",
       "      <td>23137.69</td>\n",
       "      <td>surf</td>\n",
       "      <td>50</td>\n",
       "      <td>15360</td>\n",
       "      <td>500</td>\n",
       "      <td>20</td>\n",
       "      <td>10</td>\n",
       "      <td>0.03</td>\n",
       "      <td>0.03</td>\n",
       "    </tr>\n",
       "    <tr>\n",
       "      <th>2289</th>\n",
       "      <td>1499</td>\n",
       "      <td>9</td>\n",
       "      <td>41</td>\n",
       "      <td>346</td>\n",
       "      <td>0</td>\n",
       "      <td>12984.76</td>\n",
       "      <td>surf</td>\n",
       "      <td>50</td>\n",
       "      <td>15360</td>\n",
       "      <td>500</td>\n",
       "      <td>20</td>\n",
       "      <td>10</td>\n",
       "      <td>0.03</td>\n",
       "      <td>0.03</td>\n",
       "    </tr>\n",
       "    <tr>\n",
       "      <th>2290</th>\n",
       "      <td>1499</td>\n",
       "      <td>10</td>\n",
       "      <td>53</td>\n",
       "      <td>385</td>\n",
       "      <td>0</td>\n",
       "      <td>19492.43</td>\n",
       "      <td>surf</td>\n",
       "      <td>50</td>\n",
       "      <td>15360</td>\n",
       "      <td>500</td>\n",
       "      <td>20</td>\n",
       "      <td>10</td>\n",
       "      <td>0.03</td>\n",
       "      <td>0.03</td>\n",
       "    </tr>\n",
       "    <tr>\n",
       "      <th>2291</th>\n",
       "      <td>1499</td>\n",
       "      <td>11</td>\n",
       "      <td>45</td>\n",
       "      <td>308</td>\n",
       "      <td>0</td>\n",
       "      <td>16813.83</td>\n",
       "      <td>surf</td>\n",
       "      <td>50</td>\n",
       "      <td>15360</td>\n",
       "      <td>500</td>\n",
       "      <td>20</td>\n",
       "      <td>10</td>\n",
       "      <td>0.03</td>\n",
       "      <td>0.03</td>\n",
       "    </tr>\n",
       "    <tr>\n",
       "      <th>2292</th>\n",
       "      <td>1499</td>\n",
       "      <td>12</td>\n",
       "      <td>65</td>\n",
       "      <td>496</td>\n",
       "      <td>0</td>\n",
       "      <td>22059.21</td>\n",
       "      <td>surf</td>\n",
       "      <td>50</td>\n",
       "      <td>15360</td>\n",
       "      <td>500</td>\n",
       "      <td>20</td>\n",
       "      <td>10</td>\n",
       "      <td>0.03</td>\n",
       "      <td>0.03</td>\n",
       "    </tr>\n",
       "  </tbody>\n",
       "</table>\n",
       "<p>2293 rows × 14 columns</p>\n",
       "</div>"
      ],
      "text/plain": [
       "      user_id  month  calls_made  duration  sent_messages   mb_used      plan  \\\n",
       "0        1000     12          16       124             11   1901.47  ultimate   \n",
       "1        1001      8          27       182             30   6919.15      surf   \n",
       "2        1001      9          49       315             44  13314.82      surf   \n",
       "3        1001     10          65       393             53  22330.49      surf   \n",
       "4        1001     11          64       426             36  18504.30      surf   \n",
       "...       ...    ...         ...       ...            ...       ...       ...   \n",
       "2288     1498     12          39       339              0  23137.69      surf   \n",
       "2289     1499      9          41       346              0  12984.76      surf   \n",
       "2290     1499     10          53       385              0  19492.43      surf   \n",
       "2291     1499     11          45       308              0  16813.83      surf   \n",
       "2292     1499     12          65       496              0  22059.21      surf   \n",
       "\n",
       "      messages_included  mb_per_month_included  minutes_included  \\\n",
       "0                  1000                  30720              3000   \n",
       "1                    50                  15360               500   \n",
       "2                    50                  15360               500   \n",
       "3                    50                  15360               500   \n",
       "4                    50                  15360               500   \n",
       "...                 ...                    ...               ...   \n",
       "2288                 50                  15360               500   \n",
       "2289                 50                  15360               500   \n",
       "2290                 50                  15360               500   \n",
       "2291                 50                  15360               500   \n",
       "2292                 50                  15360               500   \n",
       "\n",
       "      usd_monthly_pay  usd_per_gb  usd_per_message  usd_per_minute  \n",
       "0                  70           7             0.01            0.01  \n",
       "1                  20          10             0.03            0.03  \n",
       "2                  20          10             0.03            0.03  \n",
       "3                  20          10             0.03            0.03  \n",
       "4                  20          10             0.03            0.03  \n",
       "...               ...         ...              ...             ...  \n",
       "2288               20          10             0.03            0.03  \n",
       "2289               20          10             0.03            0.03  \n",
       "2290               20          10             0.03            0.03  \n",
       "2291               20          10             0.03            0.03  \n",
       "2292               20          10             0.03            0.03  \n",
       "\n",
       "[2293 rows x 14 columns]"
      ]
     },
     "execution_count": 43,
     "metadata": {},
     "output_type": "execute_result"
    }
   ],
   "source": [
    "# Añade la información de la tarifa\n",
    "final_df = users_month_df.merge(usuarios_con_planes_df[['user_id', 'plan', 'messages_included', 'mb_per_month_included',\n",
    "                                'minutes_included', 'usd_monthly_pay', 'usd_per_gb', 'usd_per_message', 'usd_per_minute']], on='user_id', how='left')\n",
    "\n",
    "# Mostrar el resultado\n",
    "final_df"
   ]
  },
  {
   "cell_type": "code",
   "execution_count": 44,
   "metadata": {},
   "outputs": [
    {
     "data": {
      "text/html": [
       "<div>\n",
       "<style scoped>\n",
       "    .dataframe tbody tr th:only-of-type {\n",
       "        vertical-align: middle;\n",
       "    }\n",
       "\n",
       "    .dataframe tbody tr th {\n",
       "        vertical-align: top;\n",
       "    }\n",
       "\n",
       "    .dataframe thead th {\n",
       "        text-align: right;\n",
       "    }\n",
       "</style>\n",
       "<table border=\"1\" class=\"dataframe\">\n",
       "  <thead>\n",
       "    <tr style=\"text-align: right;\">\n",
       "      <th></th>\n",
       "      <th>gb_used_adj</th>\n",
       "      <th>mb_used</th>\n",
       "      <th>gb_per_month_included</th>\n",
       "    </tr>\n",
       "  </thead>\n",
       "  <tbody>\n",
       "    <tr>\n",
       "      <th>0</th>\n",
       "      <td>2</td>\n",
       "      <td>1901.47</td>\n",
       "      <td>30</td>\n",
       "    </tr>\n",
       "    <tr>\n",
       "      <th>1</th>\n",
       "      <td>7</td>\n",
       "      <td>6919.15</td>\n",
       "      <td>15</td>\n",
       "    </tr>\n",
       "    <tr>\n",
       "      <th>2</th>\n",
       "      <td>14</td>\n",
       "      <td>13314.82</td>\n",
       "      <td>15</td>\n",
       "    </tr>\n",
       "    <tr>\n",
       "      <th>3</th>\n",
       "      <td>22</td>\n",
       "      <td>22330.49</td>\n",
       "      <td>15</td>\n",
       "    </tr>\n",
       "    <tr>\n",
       "      <th>4</th>\n",
       "      <td>19</td>\n",
       "      <td>18504.30</td>\n",
       "      <td>15</td>\n",
       "    </tr>\n",
       "    <tr>\n",
       "      <th>...</th>\n",
       "      <td>...</td>\n",
       "      <td>...</td>\n",
       "      <td>...</td>\n",
       "    </tr>\n",
       "    <tr>\n",
       "      <th>2288</th>\n",
       "      <td>23</td>\n",
       "      <td>23137.69</td>\n",
       "      <td>15</td>\n",
       "    </tr>\n",
       "    <tr>\n",
       "      <th>2289</th>\n",
       "      <td>13</td>\n",
       "      <td>12984.76</td>\n",
       "      <td>15</td>\n",
       "    </tr>\n",
       "    <tr>\n",
       "      <th>2290</th>\n",
       "      <td>20</td>\n",
       "      <td>19492.43</td>\n",
       "      <td>15</td>\n",
       "    </tr>\n",
       "    <tr>\n",
       "      <th>2291</th>\n",
       "      <td>17</td>\n",
       "      <td>16813.83</td>\n",
       "      <td>15</td>\n",
       "    </tr>\n",
       "    <tr>\n",
       "      <th>2292</th>\n",
       "      <td>22</td>\n",
       "      <td>22059.21</td>\n",
       "      <td>15</td>\n",
       "    </tr>\n",
       "  </tbody>\n",
       "</table>\n",
       "<p>2293 rows × 3 columns</p>\n",
       "</div>"
      ],
      "text/plain": [
       "      gb_used_adj   mb_used  gb_per_month_included\n",
       "0               2   1901.47                     30\n",
       "1               7   6919.15                     15\n",
       "2              14  13314.82                     15\n",
       "3              22  22330.49                     15\n",
       "4              19  18504.30                     15\n",
       "...           ...       ...                    ...\n",
       "2288           23  23137.69                     15\n",
       "2289           13  12984.76                     15\n",
       "2290           20  19492.43                     15\n",
       "2291           17  16813.83                     15\n",
       "2292           22  22059.21                     15\n",
       "\n",
       "[2293 rows x 3 columns]"
      ]
     },
     "execution_count": 44,
     "metadata": {},
     "output_type": "execute_result"
    }
   ],
   "source": [
    "# crear columna de conversion y aproximacion al superior de megas a Gbs consumidas\n",
    "final_df['gb_used_adj'] = (final_df['mb_used']/1024).apply(math.ceil)\n",
    "# crear columna de conversion de megas a Gbs incluidas en el plan\n",
    "final_df['gb_per_month_included'] = (\n",
    "    final_df['mb_per_month_included']/1024).astype(int)\n",
    "final_df.loc[:, ['gb_used_adj', 'mb_used', 'gb_per_month_included']]"
   ]
  },
  {
   "cell_type": "markdown",
   "metadata": {
    "id": "1IwGo4wg0q1I"
   },
   "source": [
    "\n",
    "Para calcular el ingreso mensual de los usuarios, primero se debe calcular el uso adicional de llamadas, mensajes y datos.\n",
    "\n",
    "Luego se multiplica el valor obtenido por el precio que se cobra al superar el plan.\n",
    "\n",
    "Por ultimo se suma el valor del plan mas los valores de gastos adicionales de llamada, mensaje y datos."
   ]
  },
  {
   "cell_type": "code",
   "execution_count": 45,
   "metadata": {
    "id": "5FGCf_c60q1I"
   },
   "outputs": [
    {
     "data": {
      "text/html": [
       "<div>\n",
       "<style scoped>\n",
       "    .dataframe tbody tr th:only-of-type {\n",
       "        vertical-align: middle;\n",
       "    }\n",
       "\n",
       "    .dataframe tbody tr th {\n",
       "        vertical-align: top;\n",
       "    }\n",
       "\n",
       "    .dataframe thead th {\n",
       "        text-align: right;\n",
       "    }\n",
       "</style>\n",
       "<table border=\"1\" class=\"dataframe\">\n",
       "  <thead>\n",
       "    <tr style=\"text-align: right;\">\n",
       "      <th></th>\n",
       "      <th>user_id</th>\n",
       "      <th>month</th>\n",
       "      <th>calls_made</th>\n",
       "      <th>duration</th>\n",
       "      <th>sent_messages</th>\n",
       "      <th>mb_used</th>\n",
       "      <th>plan</th>\n",
       "      <th>messages_included</th>\n",
       "      <th>mb_per_month_included</th>\n",
       "      <th>minutes_included</th>\n",
       "      <th>usd_monthly_pay</th>\n",
       "      <th>usd_per_gb</th>\n",
       "      <th>usd_per_message</th>\n",
       "      <th>usd_per_minute</th>\n",
       "      <th>gb_used_adj</th>\n",
       "      <th>gb_per_month_included</th>\n",
       "      <th>extra_calls</th>\n",
       "      <th>extra_messages</th>\n",
       "      <th>extra_gb</th>\n",
       "    </tr>\n",
       "  </thead>\n",
       "  <tbody>\n",
       "    <tr>\n",
       "      <th>0</th>\n",
       "      <td>1000</td>\n",
       "      <td>12</td>\n",
       "      <td>16</td>\n",
       "      <td>124</td>\n",
       "      <td>11</td>\n",
       "      <td>1901.47</td>\n",
       "      <td>ultimate</td>\n",
       "      <td>1000</td>\n",
       "      <td>30720</td>\n",
       "      <td>3000</td>\n",
       "      <td>70</td>\n",
       "      <td>7</td>\n",
       "      <td>0.01</td>\n",
       "      <td>0.01</td>\n",
       "      <td>2</td>\n",
       "      <td>30</td>\n",
       "      <td>0</td>\n",
       "      <td>0</td>\n",
       "      <td>0</td>\n",
       "    </tr>\n",
       "    <tr>\n",
       "      <th>1</th>\n",
       "      <td>1001</td>\n",
       "      <td>8</td>\n",
       "      <td>27</td>\n",
       "      <td>182</td>\n",
       "      <td>30</td>\n",
       "      <td>6919.15</td>\n",
       "      <td>surf</td>\n",
       "      <td>50</td>\n",
       "      <td>15360</td>\n",
       "      <td>500</td>\n",
       "      <td>20</td>\n",
       "      <td>10</td>\n",
       "      <td>0.03</td>\n",
       "      <td>0.03</td>\n",
       "      <td>7</td>\n",
       "      <td>15</td>\n",
       "      <td>0</td>\n",
       "      <td>0</td>\n",
       "      <td>0</td>\n",
       "    </tr>\n",
       "    <tr>\n",
       "      <th>2</th>\n",
       "      <td>1001</td>\n",
       "      <td>9</td>\n",
       "      <td>49</td>\n",
       "      <td>315</td>\n",
       "      <td>44</td>\n",
       "      <td>13314.82</td>\n",
       "      <td>surf</td>\n",
       "      <td>50</td>\n",
       "      <td>15360</td>\n",
       "      <td>500</td>\n",
       "      <td>20</td>\n",
       "      <td>10</td>\n",
       "      <td>0.03</td>\n",
       "      <td>0.03</td>\n",
       "      <td>14</td>\n",
       "      <td>15</td>\n",
       "      <td>0</td>\n",
       "      <td>0</td>\n",
       "      <td>0</td>\n",
       "    </tr>\n",
       "    <tr>\n",
       "      <th>3</th>\n",
       "      <td>1001</td>\n",
       "      <td>10</td>\n",
       "      <td>65</td>\n",
       "      <td>393</td>\n",
       "      <td>53</td>\n",
       "      <td>22330.49</td>\n",
       "      <td>surf</td>\n",
       "      <td>50</td>\n",
       "      <td>15360</td>\n",
       "      <td>500</td>\n",
       "      <td>20</td>\n",
       "      <td>10</td>\n",
       "      <td>0.03</td>\n",
       "      <td>0.03</td>\n",
       "      <td>22</td>\n",
       "      <td>15</td>\n",
       "      <td>0</td>\n",
       "      <td>3</td>\n",
       "      <td>7</td>\n",
       "    </tr>\n",
       "    <tr>\n",
       "      <th>4</th>\n",
       "      <td>1001</td>\n",
       "      <td>11</td>\n",
       "      <td>64</td>\n",
       "      <td>426</td>\n",
       "      <td>36</td>\n",
       "      <td>18504.30</td>\n",
       "      <td>surf</td>\n",
       "      <td>50</td>\n",
       "      <td>15360</td>\n",
       "      <td>500</td>\n",
       "      <td>20</td>\n",
       "      <td>10</td>\n",
       "      <td>0.03</td>\n",
       "      <td>0.03</td>\n",
       "      <td>19</td>\n",
       "      <td>15</td>\n",
       "      <td>0</td>\n",
       "      <td>0</td>\n",
       "      <td>4</td>\n",
       "    </tr>\n",
       "    <tr>\n",
       "      <th>...</th>\n",
       "      <td>...</td>\n",
       "      <td>...</td>\n",
       "      <td>...</td>\n",
       "      <td>...</td>\n",
       "      <td>...</td>\n",
       "      <td>...</td>\n",
       "      <td>...</td>\n",
       "      <td>...</td>\n",
       "      <td>...</td>\n",
       "      <td>...</td>\n",
       "      <td>...</td>\n",
       "      <td>...</td>\n",
       "      <td>...</td>\n",
       "      <td>...</td>\n",
       "      <td>...</td>\n",
       "      <td>...</td>\n",
       "      <td>...</td>\n",
       "      <td>...</td>\n",
       "      <td>...</td>\n",
       "    </tr>\n",
       "    <tr>\n",
       "      <th>2288</th>\n",
       "      <td>1498</td>\n",
       "      <td>12</td>\n",
       "      <td>39</td>\n",
       "      <td>339</td>\n",
       "      <td>0</td>\n",
       "      <td>23137.69</td>\n",
       "      <td>surf</td>\n",
       "      <td>50</td>\n",
       "      <td>15360</td>\n",
       "      <td>500</td>\n",
       "      <td>20</td>\n",
       "      <td>10</td>\n",
       "      <td>0.03</td>\n",
       "      <td>0.03</td>\n",
       "      <td>23</td>\n",
       "      <td>15</td>\n",
       "      <td>0</td>\n",
       "      <td>0</td>\n",
       "      <td>8</td>\n",
       "    </tr>\n",
       "    <tr>\n",
       "      <th>2289</th>\n",
       "      <td>1499</td>\n",
       "      <td>9</td>\n",
       "      <td>41</td>\n",
       "      <td>346</td>\n",
       "      <td>0</td>\n",
       "      <td>12984.76</td>\n",
       "      <td>surf</td>\n",
       "      <td>50</td>\n",
       "      <td>15360</td>\n",
       "      <td>500</td>\n",
       "      <td>20</td>\n",
       "      <td>10</td>\n",
       "      <td>0.03</td>\n",
       "      <td>0.03</td>\n",
       "      <td>13</td>\n",
       "      <td>15</td>\n",
       "      <td>0</td>\n",
       "      <td>0</td>\n",
       "      <td>0</td>\n",
       "    </tr>\n",
       "    <tr>\n",
       "      <th>2290</th>\n",
       "      <td>1499</td>\n",
       "      <td>10</td>\n",
       "      <td>53</td>\n",
       "      <td>385</td>\n",
       "      <td>0</td>\n",
       "      <td>19492.43</td>\n",
       "      <td>surf</td>\n",
       "      <td>50</td>\n",
       "      <td>15360</td>\n",
       "      <td>500</td>\n",
       "      <td>20</td>\n",
       "      <td>10</td>\n",
       "      <td>0.03</td>\n",
       "      <td>0.03</td>\n",
       "      <td>20</td>\n",
       "      <td>15</td>\n",
       "      <td>0</td>\n",
       "      <td>0</td>\n",
       "      <td>5</td>\n",
       "    </tr>\n",
       "    <tr>\n",
       "      <th>2291</th>\n",
       "      <td>1499</td>\n",
       "      <td>11</td>\n",
       "      <td>45</td>\n",
       "      <td>308</td>\n",
       "      <td>0</td>\n",
       "      <td>16813.83</td>\n",
       "      <td>surf</td>\n",
       "      <td>50</td>\n",
       "      <td>15360</td>\n",
       "      <td>500</td>\n",
       "      <td>20</td>\n",
       "      <td>10</td>\n",
       "      <td>0.03</td>\n",
       "      <td>0.03</td>\n",
       "      <td>17</td>\n",
       "      <td>15</td>\n",
       "      <td>0</td>\n",
       "      <td>0</td>\n",
       "      <td>2</td>\n",
       "    </tr>\n",
       "    <tr>\n",
       "      <th>2292</th>\n",
       "      <td>1499</td>\n",
       "      <td>12</td>\n",
       "      <td>65</td>\n",
       "      <td>496</td>\n",
       "      <td>0</td>\n",
       "      <td>22059.21</td>\n",
       "      <td>surf</td>\n",
       "      <td>50</td>\n",
       "      <td>15360</td>\n",
       "      <td>500</td>\n",
       "      <td>20</td>\n",
       "      <td>10</td>\n",
       "      <td>0.03</td>\n",
       "      <td>0.03</td>\n",
       "      <td>22</td>\n",
       "      <td>15</td>\n",
       "      <td>0</td>\n",
       "      <td>0</td>\n",
       "      <td>7</td>\n",
       "    </tr>\n",
       "  </tbody>\n",
       "</table>\n",
       "<p>2293 rows × 19 columns</p>\n",
       "</div>"
      ],
      "text/plain": [
       "      user_id  month  calls_made  duration  sent_messages   mb_used      plan  \\\n",
       "0        1000     12          16       124             11   1901.47  ultimate   \n",
       "1        1001      8          27       182             30   6919.15      surf   \n",
       "2        1001      9          49       315             44  13314.82      surf   \n",
       "3        1001     10          65       393             53  22330.49      surf   \n",
       "4        1001     11          64       426             36  18504.30      surf   \n",
       "...       ...    ...         ...       ...            ...       ...       ...   \n",
       "2288     1498     12          39       339              0  23137.69      surf   \n",
       "2289     1499      9          41       346              0  12984.76      surf   \n",
       "2290     1499     10          53       385              0  19492.43      surf   \n",
       "2291     1499     11          45       308              0  16813.83      surf   \n",
       "2292     1499     12          65       496              0  22059.21      surf   \n",
       "\n",
       "      messages_included  mb_per_month_included  minutes_included  \\\n",
       "0                  1000                  30720              3000   \n",
       "1                    50                  15360               500   \n",
       "2                    50                  15360               500   \n",
       "3                    50                  15360               500   \n",
       "4                    50                  15360               500   \n",
       "...                 ...                    ...               ...   \n",
       "2288                 50                  15360               500   \n",
       "2289                 50                  15360               500   \n",
       "2290                 50                  15360               500   \n",
       "2291                 50                  15360               500   \n",
       "2292                 50                  15360               500   \n",
       "\n",
       "      usd_monthly_pay  usd_per_gb  usd_per_message  usd_per_minute  \\\n",
       "0                  70           7             0.01            0.01   \n",
       "1                  20          10             0.03            0.03   \n",
       "2                  20          10             0.03            0.03   \n",
       "3                  20          10             0.03            0.03   \n",
       "4                  20          10             0.03            0.03   \n",
       "...               ...         ...              ...             ...   \n",
       "2288               20          10             0.03            0.03   \n",
       "2289               20          10             0.03            0.03   \n",
       "2290               20          10             0.03            0.03   \n",
       "2291               20          10             0.03            0.03   \n",
       "2292               20          10             0.03            0.03   \n",
       "\n",
       "      gb_used_adj  gb_per_month_included  extra_calls  extra_messages  \\\n",
       "0               2                     30            0               0   \n",
       "1               7                     15            0               0   \n",
       "2              14                     15            0               0   \n",
       "3              22                     15            0               3   \n",
       "4              19                     15            0               0   \n",
       "...           ...                    ...          ...             ...   \n",
       "2288           23                     15            0               0   \n",
       "2289           13                     15            0               0   \n",
       "2290           20                     15            0               0   \n",
       "2291           17                     15            0               0   \n",
       "2292           22                     15            0               0   \n",
       "\n",
       "      extra_gb  \n",
       "0            0  \n",
       "1            0  \n",
       "2            0  \n",
       "3            7  \n",
       "4            4  \n",
       "...        ...  \n",
       "2288         8  \n",
       "2289         0  \n",
       "2290         5  \n",
       "2291         2  \n",
       "2292         7  \n",
       "\n",
       "[2293 rows x 19 columns]"
      ]
     },
     "execution_count": 45,
     "metadata": {},
     "output_type": "execute_result"
    }
   ],
   "source": [
    "# Calcula el ingreso mensual para cada usuario\n",
    "\n",
    "# Calcular el uso adicional de llamadas,\n",
    "final_df['extra_calls'] = (final_df['calls_made'] -\n",
    "                           final_df['minutes_included']).clip(lower=0)\n",
    "# Calcular el uso adicional  mensajes\n",
    "final_df['extra_messages'] = (\n",
    "    final_df['sent_messages'] - final_df['messages_included']).clip(lower=0)\n",
    "# Calcular el uso adicional  datos\n",
    "final_df['extra_gb'] = (final_df['gb_used_adj'] -\n",
    "                        final_df['gb_per_month_included']).clip(lower=0)\n",
    "final_df"
   ]
  },
  {
   "cell_type": "code",
   "execution_count": 46,
   "metadata": {},
   "outputs": [
    {
     "data": {
      "text/html": [
       "<div>\n",
       "<style scoped>\n",
       "    .dataframe tbody tr th:only-of-type {\n",
       "        vertical-align: middle;\n",
       "    }\n",
       "\n",
       "    .dataframe tbody tr th {\n",
       "        vertical-align: top;\n",
       "    }\n",
       "\n",
       "    .dataframe thead th {\n",
       "        text-align: right;\n",
       "    }\n",
       "</style>\n",
       "<table border=\"1\" class=\"dataframe\">\n",
       "  <thead>\n",
       "    <tr style=\"text-align: right;\">\n",
       "      <th></th>\n",
       "      <th>user_id</th>\n",
       "      <th>month</th>\n",
       "      <th>calls_made</th>\n",
       "      <th>duration</th>\n",
       "      <th>sent_messages</th>\n",
       "      <th>mb_used</th>\n",
       "      <th>plan</th>\n",
       "      <th>messages_included</th>\n",
       "      <th>mb_per_month_included</th>\n",
       "      <th>minutes_included</th>\n",
       "      <th>...</th>\n",
       "      <th>usd_per_message</th>\n",
       "      <th>usd_per_minute</th>\n",
       "      <th>gb_used_adj</th>\n",
       "      <th>gb_per_month_included</th>\n",
       "      <th>extra_calls</th>\n",
       "      <th>extra_messages</th>\n",
       "      <th>extra_gb</th>\n",
       "      <th>extra_calls_charge</th>\n",
       "      <th>extra_messages_charge</th>\n",
       "      <th>extra_gb_charge</th>\n",
       "    </tr>\n",
       "  </thead>\n",
       "  <tbody>\n",
       "    <tr>\n",
       "      <th>0</th>\n",
       "      <td>1000</td>\n",
       "      <td>12</td>\n",
       "      <td>16</td>\n",
       "      <td>124</td>\n",
       "      <td>11</td>\n",
       "      <td>1901.47</td>\n",
       "      <td>ultimate</td>\n",
       "      <td>1000</td>\n",
       "      <td>30720</td>\n",
       "      <td>3000</td>\n",
       "      <td>...</td>\n",
       "      <td>0.01</td>\n",
       "      <td>0.01</td>\n",
       "      <td>2</td>\n",
       "      <td>30</td>\n",
       "      <td>0</td>\n",
       "      <td>0</td>\n",
       "      <td>0</td>\n",
       "      <td>0.0</td>\n",
       "      <td>0.00</td>\n",
       "      <td>0</td>\n",
       "    </tr>\n",
       "    <tr>\n",
       "      <th>1</th>\n",
       "      <td>1001</td>\n",
       "      <td>8</td>\n",
       "      <td>27</td>\n",
       "      <td>182</td>\n",
       "      <td>30</td>\n",
       "      <td>6919.15</td>\n",
       "      <td>surf</td>\n",
       "      <td>50</td>\n",
       "      <td>15360</td>\n",
       "      <td>500</td>\n",
       "      <td>...</td>\n",
       "      <td>0.03</td>\n",
       "      <td>0.03</td>\n",
       "      <td>7</td>\n",
       "      <td>15</td>\n",
       "      <td>0</td>\n",
       "      <td>0</td>\n",
       "      <td>0</td>\n",
       "      <td>0.0</td>\n",
       "      <td>0.00</td>\n",
       "      <td>0</td>\n",
       "    </tr>\n",
       "    <tr>\n",
       "      <th>2</th>\n",
       "      <td>1001</td>\n",
       "      <td>9</td>\n",
       "      <td>49</td>\n",
       "      <td>315</td>\n",
       "      <td>44</td>\n",
       "      <td>13314.82</td>\n",
       "      <td>surf</td>\n",
       "      <td>50</td>\n",
       "      <td>15360</td>\n",
       "      <td>500</td>\n",
       "      <td>...</td>\n",
       "      <td>0.03</td>\n",
       "      <td>0.03</td>\n",
       "      <td>14</td>\n",
       "      <td>15</td>\n",
       "      <td>0</td>\n",
       "      <td>0</td>\n",
       "      <td>0</td>\n",
       "      <td>0.0</td>\n",
       "      <td>0.00</td>\n",
       "      <td>0</td>\n",
       "    </tr>\n",
       "    <tr>\n",
       "      <th>3</th>\n",
       "      <td>1001</td>\n",
       "      <td>10</td>\n",
       "      <td>65</td>\n",
       "      <td>393</td>\n",
       "      <td>53</td>\n",
       "      <td>22330.49</td>\n",
       "      <td>surf</td>\n",
       "      <td>50</td>\n",
       "      <td>15360</td>\n",
       "      <td>500</td>\n",
       "      <td>...</td>\n",
       "      <td>0.03</td>\n",
       "      <td>0.03</td>\n",
       "      <td>22</td>\n",
       "      <td>15</td>\n",
       "      <td>0</td>\n",
       "      <td>3</td>\n",
       "      <td>7</td>\n",
       "      <td>0.0</td>\n",
       "      <td>0.09</td>\n",
       "      <td>70</td>\n",
       "    </tr>\n",
       "    <tr>\n",
       "      <th>4</th>\n",
       "      <td>1001</td>\n",
       "      <td>11</td>\n",
       "      <td>64</td>\n",
       "      <td>426</td>\n",
       "      <td>36</td>\n",
       "      <td>18504.30</td>\n",
       "      <td>surf</td>\n",
       "      <td>50</td>\n",
       "      <td>15360</td>\n",
       "      <td>500</td>\n",
       "      <td>...</td>\n",
       "      <td>0.03</td>\n",
       "      <td>0.03</td>\n",
       "      <td>19</td>\n",
       "      <td>15</td>\n",
       "      <td>0</td>\n",
       "      <td>0</td>\n",
       "      <td>4</td>\n",
       "      <td>0.0</td>\n",
       "      <td>0.00</td>\n",
       "      <td>40</td>\n",
       "    </tr>\n",
       "    <tr>\n",
       "      <th>...</th>\n",
       "      <td>...</td>\n",
       "      <td>...</td>\n",
       "      <td>...</td>\n",
       "      <td>...</td>\n",
       "      <td>...</td>\n",
       "      <td>...</td>\n",
       "      <td>...</td>\n",
       "      <td>...</td>\n",
       "      <td>...</td>\n",
       "      <td>...</td>\n",
       "      <td>...</td>\n",
       "      <td>...</td>\n",
       "      <td>...</td>\n",
       "      <td>...</td>\n",
       "      <td>...</td>\n",
       "      <td>...</td>\n",
       "      <td>...</td>\n",
       "      <td>...</td>\n",
       "      <td>...</td>\n",
       "      <td>...</td>\n",
       "      <td>...</td>\n",
       "    </tr>\n",
       "    <tr>\n",
       "      <th>2288</th>\n",
       "      <td>1498</td>\n",
       "      <td>12</td>\n",
       "      <td>39</td>\n",
       "      <td>339</td>\n",
       "      <td>0</td>\n",
       "      <td>23137.69</td>\n",
       "      <td>surf</td>\n",
       "      <td>50</td>\n",
       "      <td>15360</td>\n",
       "      <td>500</td>\n",
       "      <td>...</td>\n",
       "      <td>0.03</td>\n",
       "      <td>0.03</td>\n",
       "      <td>23</td>\n",
       "      <td>15</td>\n",
       "      <td>0</td>\n",
       "      <td>0</td>\n",
       "      <td>8</td>\n",
       "      <td>0.0</td>\n",
       "      <td>0.00</td>\n",
       "      <td>80</td>\n",
       "    </tr>\n",
       "    <tr>\n",
       "      <th>2289</th>\n",
       "      <td>1499</td>\n",
       "      <td>9</td>\n",
       "      <td>41</td>\n",
       "      <td>346</td>\n",
       "      <td>0</td>\n",
       "      <td>12984.76</td>\n",
       "      <td>surf</td>\n",
       "      <td>50</td>\n",
       "      <td>15360</td>\n",
       "      <td>500</td>\n",
       "      <td>...</td>\n",
       "      <td>0.03</td>\n",
       "      <td>0.03</td>\n",
       "      <td>13</td>\n",
       "      <td>15</td>\n",
       "      <td>0</td>\n",
       "      <td>0</td>\n",
       "      <td>0</td>\n",
       "      <td>0.0</td>\n",
       "      <td>0.00</td>\n",
       "      <td>0</td>\n",
       "    </tr>\n",
       "    <tr>\n",
       "      <th>2290</th>\n",
       "      <td>1499</td>\n",
       "      <td>10</td>\n",
       "      <td>53</td>\n",
       "      <td>385</td>\n",
       "      <td>0</td>\n",
       "      <td>19492.43</td>\n",
       "      <td>surf</td>\n",
       "      <td>50</td>\n",
       "      <td>15360</td>\n",
       "      <td>500</td>\n",
       "      <td>...</td>\n",
       "      <td>0.03</td>\n",
       "      <td>0.03</td>\n",
       "      <td>20</td>\n",
       "      <td>15</td>\n",
       "      <td>0</td>\n",
       "      <td>0</td>\n",
       "      <td>5</td>\n",
       "      <td>0.0</td>\n",
       "      <td>0.00</td>\n",
       "      <td>50</td>\n",
       "    </tr>\n",
       "    <tr>\n",
       "      <th>2291</th>\n",
       "      <td>1499</td>\n",
       "      <td>11</td>\n",
       "      <td>45</td>\n",
       "      <td>308</td>\n",
       "      <td>0</td>\n",
       "      <td>16813.83</td>\n",
       "      <td>surf</td>\n",
       "      <td>50</td>\n",
       "      <td>15360</td>\n",
       "      <td>500</td>\n",
       "      <td>...</td>\n",
       "      <td>0.03</td>\n",
       "      <td>0.03</td>\n",
       "      <td>17</td>\n",
       "      <td>15</td>\n",
       "      <td>0</td>\n",
       "      <td>0</td>\n",
       "      <td>2</td>\n",
       "      <td>0.0</td>\n",
       "      <td>0.00</td>\n",
       "      <td>20</td>\n",
       "    </tr>\n",
       "    <tr>\n",
       "      <th>2292</th>\n",
       "      <td>1499</td>\n",
       "      <td>12</td>\n",
       "      <td>65</td>\n",
       "      <td>496</td>\n",
       "      <td>0</td>\n",
       "      <td>22059.21</td>\n",
       "      <td>surf</td>\n",
       "      <td>50</td>\n",
       "      <td>15360</td>\n",
       "      <td>500</td>\n",
       "      <td>...</td>\n",
       "      <td>0.03</td>\n",
       "      <td>0.03</td>\n",
       "      <td>22</td>\n",
       "      <td>15</td>\n",
       "      <td>0</td>\n",
       "      <td>0</td>\n",
       "      <td>7</td>\n",
       "      <td>0.0</td>\n",
       "      <td>0.00</td>\n",
       "      <td>70</td>\n",
       "    </tr>\n",
       "  </tbody>\n",
       "</table>\n",
       "<p>2293 rows × 22 columns</p>\n",
       "</div>"
      ],
      "text/plain": [
       "      user_id  month  calls_made  duration  sent_messages   mb_used      plan  \\\n",
       "0        1000     12          16       124             11   1901.47  ultimate   \n",
       "1        1001      8          27       182             30   6919.15      surf   \n",
       "2        1001      9          49       315             44  13314.82      surf   \n",
       "3        1001     10          65       393             53  22330.49      surf   \n",
       "4        1001     11          64       426             36  18504.30      surf   \n",
       "...       ...    ...         ...       ...            ...       ...       ...   \n",
       "2288     1498     12          39       339              0  23137.69      surf   \n",
       "2289     1499      9          41       346              0  12984.76      surf   \n",
       "2290     1499     10          53       385              0  19492.43      surf   \n",
       "2291     1499     11          45       308              0  16813.83      surf   \n",
       "2292     1499     12          65       496              0  22059.21      surf   \n",
       "\n",
       "      messages_included  mb_per_month_included  minutes_included  ...  \\\n",
       "0                  1000                  30720              3000  ...   \n",
       "1                    50                  15360               500  ...   \n",
       "2                    50                  15360               500  ...   \n",
       "3                    50                  15360               500  ...   \n",
       "4                    50                  15360               500  ...   \n",
       "...                 ...                    ...               ...  ...   \n",
       "2288                 50                  15360               500  ...   \n",
       "2289                 50                  15360               500  ...   \n",
       "2290                 50                  15360               500  ...   \n",
       "2291                 50                  15360               500  ...   \n",
       "2292                 50                  15360               500  ...   \n",
       "\n",
       "      usd_per_message  usd_per_minute  gb_used_adj  gb_per_month_included  \\\n",
       "0                0.01            0.01            2                     30   \n",
       "1                0.03            0.03            7                     15   \n",
       "2                0.03            0.03           14                     15   \n",
       "3                0.03            0.03           22                     15   \n",
       "4                0.03            0.03           19                     15   \n",
       "...               ...             ...          ...                    ...   \n",
       "2288             0.03            0.03           23                     15   \n",
       "2289             0.03            0.03           13                     15   \n",
       "2290             0.03            0.03           20                     15   \n",
       "2291             0.03            0.03           17                     15   \n",
       "2292             0.03            0.03           22                     15   \n",
       "\n",
       "      extra_calls  extra_messages  extra_gb  extra_calls_charge  \\\n",
       "0               0               0         0                 0.0   \n",
       "1               0               0         0                 0.0   \n",
       "2               0               0         0                 0.0   \n",
       "3               0               3         7                 0.0   \n",
       "4               0               0         4                 0.0   \n",
       "...           ...             ...       ...                 ...   \n",
       "2288            0               0         8                 0.0   \n",
       "2289            0               0         0                 0.0   \n",
       "2290            0               0         5                 0.0   \n",
       "2291            0               0         2                 0.0   \n",
       "2292            0               0         7                 0.0   \n",
       "\n",
       "      extra_messages_charge  extra_gb_charge  \n",
       "0                      0.00                0  \n",
       "1                      0.00                0  \n",
       "2                      0.00                0  \n",
       "3                      0.09               70  \n",
       "4                      0.00               40  \n",
       "...                     ...              ...  \n",
       "2288                   0.00               80  \n",
       "2289                   0.00                0  \n",
       "2290                   0.00               50  \n",
       "2291                   0.00               20  \n",
       "2292                   0.00               70  \n",
       "\n",
       "[2293 rows x 22 columns]"
      ]
     },
     "execution_count": 46,
     "metadata": {},
     "output_type": "execute_result"
    }
   ],
   "source": [
    "# Calcular los cargos adicionales por el uso extra de llamadas\n",
    "final_df['extra_calls_charge'] = final_df['extra_calls'] * \\\n",
    "    final_df['usd_per_minute']\n",
    "# Calcular los cargos adicionales por el uso extra de mensajes\n",
    "final_df['extra_messages_charge'] = final_df['extra_messages'] * \\\n",
    "    final_df['usd_per_message']\n",
    "# Calcular los cargos adicionales por el uso extra de datos\n",
    "final_df['extra_gb_charge'] = final_df['extra_gb'] * final_df['usd_per_gb']\n",
    "final_df"
   ]
  },
  {
   "cell_type": "code",
   "execution_count": 47,
   "metadata": {},
   "outputs": [
    {
     "data": {
      "text/html": [
       "<div>\n",
       "<style scoped>\n",
       "    .dataframe tbody tr th:only-of-type {\n",
       "        vertical-align: middle;\n",
       "    }\n",
       "\n",
       "    .dataframe tbody tr th {\n",
       "        vertical-align: top;\n",
       "    }\n",
       "\n",
       "    .dataframe thead th {\n",
       "        text-align: right;\n",
       "    }\n",
       "</style>\n",
       "<table border=\"1\" class=\"dataframe\">\n",
       "  <thead>\n",
       "    <tr style=\"text-align: right;\">\n",
       "      <th></th>\n",
       "      <th>user_id</th>\n",
       "      <th>month</th>\n",
       "      <th>calls_made</th>\n",
       "      <th>duration</th>\n",
       "      <th>sent_messages</th>\n",
       "      <th>mb_used</th>\n",
       "      <th>plan</th>\n",
       "      <th>messages_included</th>\n",
       "      <th>mb_per_month_included</th>\n",
       "      <th>minutes_included</th>\n",
       "      <th>...</th>\n",
       "      <th>usd_per_minute</th>\n",
       "      <th>gb_used_adj</th>\n",
       "      <th>gb_per_month_included</th>\n",
       "      <th>extra_calls</th>\n",
       "      <th>extra_messages</th>\n",
       "      <th>extra_gb</th>\n",
       "      <th>extra_calls_charge</th>\n",
       "      <th>extra_messages_charge</th>\n",
       "      <th>extra_gb_charge</th>\n",
       "      <th>monthly_revenue</th>\n",
       "    </tr>\n",
       "  </thead>\n",
       "  <tbody>\n",
       "    <tr>\n",
       "      <th>0</th>\n",
       "      <td>1000</td>\n",
       "      <td>12</td>\n",
       "      <td>16</td>\n",
       "      <td>124</td>\n",
       "      <td>11</td>\n",
       "      <td>1901.47</td>\n",
       "      <td>ultimate</td>\n",
       "      <td>1000</td>\n",
       "      <td>30720</td>\n",
       "      <td>3000</td>\n",
       "      <td>...</td>\n",
       "      <td>0.01</td>\n",
       "      <td>2</td>\n",
       "      <td>30</td>\n",
       "      <td>0</td>\n",
       "      <td>0</td>\n",
       "      <td>0</td>\n",
       "      <td>0.0</td>\n",
       "      <td>0.00</td>\n",
       "      <td>0</td>\n",
       "      <td>70.00</td>\n",
       "    </tr>\n",
       "    <tr>\n",
       "      <th>1</th>\n",
       "      <td>1001</td>\n",
       "      <td>8</td>\n",
       "      <td>27</td>\n",
       "      <td>182</td>\n",
       "      <td>30</td>\n",
       "      <td>6919.15</td>\n",
       "      <td>surf</td>\n",
       "      <td>50</td>\n",
       "      <td>15360</td>\n",
       "      <td>500</td>\n",
       "      <td>...</td>\n",
       "      <td>0.03</td>\n",
       "      <td>7</td>\n",
       "      <td>15</td>\n",
       "      <td>0</td>\n",
       "      <td>0</td>\n",
       "      <td>0</td>\n",
       "      <td>0.0</td>\n",
       "      <td>0.00</td>\n",
       "      <td>0</td>\n",
       "      <td>20.00</td>\n",
       "    </tr>\n",
       "    <tr>\n",
       "      <th>2</th>\n",
       "      <td>1001</td>\n",
       "      <td>9</td>\n",
       "      <td>49</td>\n",
       "      <td>315</td>\n",
       "      <td>44</td>\n",
       "      <td>13314.82</td>\n",
       "      <td>surf</td>\n",
       "      <td>50</td>\n",
       "      <td>15360</td>\n",
       "      <td>500</td>\n",
       "      <td>...</td>\n",
       "      <td>0.03</td>\n",
       "      <td>14</td>\n",
       "      <td>15</td>\n",
       "      <td>0</td>\n",
       "      <td>0</td>\n",
       "      <td>0</td>\n",
       "      <td>0.0</td>\n",
       "      <td>0.00</td>\n",
       "      <td>0</td>\n",
       "      <td>20.00</td>\n",
       "    </tr>\n",
       "    <tr>\n",
       "      <th>3</th>\n",
       "      <td>1001</td>\n",
       "      <td>10</td>\n",
       "      <td>65</td>\n",
       "      <td>393</td>\n",
       "      <td>53</td>\n",
       "      <td>22330.49</td>\n",
       "      <td>surf</td>\n",
       "      <td>50</td>\n",
       "      <td>15360</td>\n",
       "      <td>500</td>\n",
       "      <td>...</td>\n",
       "      <td>0.03</td>\n",
       "      <td>22</td>\n",
       "      <td>15</td>\n",
       "      <td>0</td>\n",
       "      <td>3</td>\n",
       "      <td>7</td>\n",
       "      <td>0.0</td>\n",
       "      <td>0.09</td>\n",
       "      <td>70</td>\n",
       "      <td>90.09</td>\n",
       "    </tr>\n",
       "    <tr>\n",
       "      <th>4</th>\n",
       "      <td>1001</td>\n",
       "      <td>11</td>\n",
       "      <td>64</td>\n",
       "      <td>426</td>\n",
       "      <td>36</td>\n",
       "      <td>18504.30</td>\n",
       "      <td>surf</td>\n",
       "      <td>50</td>\n",
       "      <td>15360</td>\n",
       "      <td>500</td>\n",
       "      <td>...</td>\n",
       "      <td>0.03</td>\n",
       "      <td>19</td>\n",
       "      <td>15</td>\n",
       "      <td>0</td>\n",
       "      <td>0</td>\n",
       "      <td>4</td>\n",
       "      <td>0.0</td>\n",
       "      <td>0.00</td>\n",
       "      <td>40</td>\n",
       "      <td>60.00</td>\n",
       "    </tr>\n",
       "    <tr>\n",
       "      <th>...</th>\n",
       "      <td>...</td>\n",
       "      <td>...</td>\n",
       "      <td>...</td>\n",
       "      <td>...</td>\n",
       "      <td>...</td>\n",
       "      <td>...</td>\n",
       "      <td>...</td>\n",
       "      <td>...</td>\n",
       "      <td>...</td>\n",
       "      <td>...</td>\n",
       "      <td>...</td>\n",
       "      <td>...</td>\n",
       "      <td>...</td>\n",
       "      <td>...</td>\n",
       "      <td>...</td>\n",
       "      <td>...</td>\n",
       "      <td>...</td>\n",
       "      <td>...</td>\n",
       "      <td>...</td>\n",
       "      <td>...</td>\n",
       "      <td>...</td>\n",
       "    </tr>\n",
       "    <tr>\n",
       "      <th>2288</th>\n",
       "      <td>1498</td>\n",
       "      <td>12</td>\n",
       "      <td>39</td>\n",
       "      <td>339</td>\n",
       "      <td>0</td>\n",
       "      <td>23137.69</td>\n",
       "      <td>surf</td>\n",
       "      <td>50</td>\n",
       "      <td>15360</td>\n",
       "      <td>500</td>\n",
       "      <td>...</td>\n",
       "      <td>0.03</td>\n",
       "      <td>23</td>\n",
       "      <td>15</td>\n",
       "      <td>0</td>\n",
       "      <td>0</td>\n",
       "      <td>8</td>\n",
       "      <td>0.0</td>\n",
       "      <td>0.00</td>\n",
       "      <td>80</td>\n",
       "      <td>100.00</td>\n",
       "    </tr>\n",
       "    <tr>\n",
       "      <th>2289</th>\n",
       "      <td>1499</td>\n",
       "      <td>9</td>\n",
       "      <td>41</td>\n",
       "      <td>346</td>\n",
       "      <td>0</td>\n",
       "      <td>12984.76</td>\n",
       "      <td>surf</td>\n",
       "      <td>50</td>\n",
       "      <td>15360</td>\n",
       "      <td>500</td>\n",
       "      <td>...</td>\n",
       "      <td>0.03</td>\n",
       "      <td>13</td>\n",
       "      <td>15</td>\n",
       "      <td>0</td>\n",
       "      <td>0</td>\n",
       "      <td>0</td>\n",
       "      <td>0.0</td>\n",
       "      <td>0.00</td>\n",
       "      <td>0</td>\n",
       "      <td>20.00</td>\n",
       "    </tr>\n",
       "    <tr>\n",
       "      <th>2290</th>\n",
       "      <td>1499</td>\n",
       "      <td>10</td>\n",
       "      <td>53</td>\n",
       "      <td>385</td>\n",
       "      <td>0</td>\n",
       "      <td>19492.43</td>\n",
       "      <td>surf</td>\n",
       "      <td>50</td>\n",
       "      <td>15360</td>\n",
       "      <td>500</td>\n",
       "      <td>...</td>\n",
       "      <td>0.03</td>\n",
       "      <td>20</td>\n",
       "      <td>15</td>\n",
       "      <td>0</td>\n",
       "      <td>0</td>\n",
       "      <td>5</td>\n",
       "      <td>0.0</td>\n",
       "      <td>0.00</td>\n",
       "      <td>50</td>\n",
       "      <td>70.00</td>\n",
       "    </tr>\n",
       "    <tr>\n",
       "      <th>2291</th>\n",
       "      <td>1499</td>\n",
       "      <td>11</td>\n",
       "      <td>45</td>\n",
       "      <td>308</td>\n",
       "      <td>0</td>\n",
       "      <td>16813.83</td>\n",
       "      <td>surf</td>\n",
       "      <td>50</td>\n",
       "      <td>15360</td>\n",
       "      <td>500</td>\n",
       "      <td>...</td>\n",
       "      <td>0.03</td>\n",
       "      <td>17</td>\n",
       "      <td>15</td>\n",
       "      <td>0</td>\n",
       "      <td>0</td>\n",
       "      <td>2</td>\n",
       "      <td>0.0</td>\n",
       "      <td>0.00</td>\n",
       "      <td>20</td>\n",
       "      <td>40.00</td>\n",
       "    </tr>\n",
       "    <tr>\n",
       "      <th>2292</th>\n",
       "      <td>1499</td>\n",
       "      <td>12</td>\n",
       "      <td>65</td>\n",
       "      <td>496</td>\n",
       "      <td>0</td>\n",
       "      <td>22059.21</td>\n",
       "      <td>surf</td>\n",
       "      <td>50</td>\n",
       "      <td>15360</td>\n",
       "      <td>500</td>\n",
       "      <td>...</td>\n",
       "      <td>0.03</td>\n",
       "      <td>22</td>\n",
       "      <td>15</td>\n",
       "      <td>0</td>\n",
       "      <td>0</td>\n",
       "      <td>7</td>\n",
       "      <td>0.0</td>\n",
       "      <td>0.00</td>\n",
       "      <td>70</td>\n",
       "      <td>90.00</td>\n",
       "    </tr>\n",
       "  </tbody>\n",
       "</table>\n",
       "<p>2293 rows × 23 columns</p>\n",
       "</div>"
      ],
      "text/plain": [
       "      user_id  month  calls_made  duration  sent_messages   mb_used      plan  \\\n",
       "0        1000     12          16       124             11   1901.47  ultimate   \n",
       "1        1001      8          27       182             30   6919.15      surf   \n",
       "2        1001      9          49       315             44  13314.82      surf   \n",
       "3        1001     10          65       393             53  22330.49      surf   \n",
       "4        1001     11          64       426             36  18504.30      surf   \n",
       "...       ...    ...         ...       ...            ...       ...       ...   \n",
       "2288     1498     12          39       339              0  23137.69      surf   \n",
       "2289     1499      9          41       346              0  12984.76      surf   \n",
       "2290     1499     10          53       385              0  19492.43      surf   \n",
       "2291     1499     11          45       308              0  16813.83      surf   \n",
       "2292     1499     12          65       496              0  22059.21      surf   \n",
       "\n",
       "      messages_included  mb_per_month_included  minutes_included  ...  \\\n",
       "0                  1000                  30720              3000  ...   \n",
       "1                    50                  15360               500  ...   \n",
       "2                    50                  15360               500  ...   \n",
       "3                    50                  15360               500  ...   \n",
       "4                    50                  15360               500  ...   \n",
       "...                 ...                    ...               ...  ...   \n",
       "2288                 50                  15360               500  ...   \n",
       "2289                 50                  15360               500  ...   \n",
       "2290                 50                  15360               500  ...   \n",
       "2291                 50                  15360               500  ...   \n",
       "2292                 50                  15360               500  ...   \n",
       "\n",
       "      usd_per_minute  gb_used_adj  gb_per_month_included  extra_calls  \\\n",
       "0               0.01            2                     30            0   \n",
       "1               0.03            7                     15            0   \n",
       "2               0.03           14                     15            0   \n",
       "3               0.03           22                     15            0   \n",
       "4               0.03           19                     15            0   \n",
       "...              ...          ...                    ...          ...   \n",
       "2288            0.03           23                     15            0   \n",
       "2289            0.03           13                     15            0   \n",
       "2290            0.03           20                     15            0   \n",
       "2291            0.03           17                     15            0   \n",
       "2292            0.03           22                     15            0   \n",
       "\n",
       "      extra_messages  extra_gb  extra_calls_charge  extra_messages_charge  \\\n",
       "0                  0         0                 0.0                   0.00   \n",
       "1                  0         0                 0.0                   0.00   \n",
       "2                  0         0                 0.0                   0.00   \n",
       "3                  3         7                 0.0                   0.09   \n",
       "4                  0         4                 0.0                   0.00   \n",
       "...              ...       ...                 ...                    ...   \n",
       "2288               0         8                 0.0                   0.00   \n",
       "2289               0         0                 0.0                   0.00   \n",
       "2290               0         5                 0.0                   0.00   \n",
       "2291               0         2                 0.0                   0.00   \n",
       "2292               0         7                 0.0                   0.00   \n",
       "\n",
       "      extra_gb_charge  monthly_revenue  \n",
       "0                   0            70.00  \n",
       "1                   0            20.00  \n",
       "2                   0            20.00  \n",
       "3                  70            90.09  \n",
       "4                  40            60.00  \n",
       "...               ...              ...  \n",
       "2288               80           100.00  \n",
       "2289                0            20.00  \n",
       "2290               50            70.00  \n",
       "2291               20            40.00  \n",
       "2292               70            90.00  \n",
       "\n",
       "[2293 rows x 23 columns]"
      ]
     },
     "execution_count": 47,
     "metadata": {},
     "output_type": "execute_result"
    }
   ],
   "source": [
    "# Calcular el ingreso total mensual por usuario\n",
    "final_df['monthly_revenue'] = final_df['usd_monthly_pay'] + final_df['extra_calls_charge'] + \\\n",
    "    final_df['extra_messages_charge'] + final_df['extra_gb_charge']\n",
    "final_df"
   ]
  },
  {
   "cell_type": "markdown",
   "metadata": {
    "id": "-jtyHzJb0q1I"
   },
   "source": [
    "## Estudia el comportamiento de usuario"
   ]
  },
  {
   "cell_type": "markdown",
   "metadata": {
    "id": "vtW4CJEe0q1J"
   },
   "source": [
    "### Llamadas"
   ]
  },
  {
   "cell_type": "code",
   "execution_count": 48,
   "metadata": {
    "id": "Jf5v5--k0q1J"
   },
   "outputs": [
    {
     "data": {
      "text/html": [
       "<div>\n",
       "<style scoped>\n",
       "    .dataframe tbody tr th:only-of-type {\n",
       "        vertical-align: middle;\n",
       "    }\n",
       "\n",
       "    .dataframe tbody tr th {\n",
       "        vertical-align: top;\n",
       "    }\n",
       "\n",
       "    .dataframe thead th {\n",
       "        text-align: right;\n",
       "    }\n",
       "</style>\n",
       "<table border=\"1\" class=\"dataframe\">\n",
       "  <thead>\n",
       "    <tr style=\"text-align: right;\">\n",
       "      <th></th>\n",
       "      <th>month</th>\n",
       "      <th>duration_prom_call_surf</th>\n",
       "      <th>duration_prom_call_ultimate</th>\n",
       "    </tr>\n",
       "  </thead>\n",
       "  <tbody>\n",
       "    <tr>\n",
       "      <th>0</th>\n",
       "      <td>1</td>\n",
       "      <td>203.000000</td>\n",
       "      <td>193.500000</td>\n",
       "    </tr>\n",
       "    <tr>\n",
       "      <th>1</th>\n",
       "      <td>2</td>\n",
       "      <td>297.000000</td>\n",
       "      <td>403.142857</td>\n",
       "    </tr>\n",
       "    <tr>\n",
       "      <th>2</th>\n",
       "      <td>3</td>\n",
       "      <td>330.000000</td>\n",
       "      <td>304.250000</td>\n",
       "    </tr>\n",
       "    <tr>\n",
       "      <th>3</th>\n",
       "      <td>4</td>\n",
       "      <td>351.540000</td>\n",
       "      <td>336.857143</td>\n",
       "    </tr>\n",
       "    <tr>\n",
       "      <th>4</th>\n",
       "      <td>5</td>\n",
       "      <td>399.584416</td>\n",
       "      <td>406.241379</td>\n",
       "    </tr>\n",
       "    <tr>\n",
       "      <th>5</th>\n",
       "      <td>6</td>\n",
       "      <td>431.298969</td>\n",
       "      <td>370.957447</td>\n",
       "    </tr>\n",
       "    <tr>\n",
       "      <th>6</th>\n",
       "      <td>7</td>\n",
       "      <td>449.983471</td>\n",
       "      <td>427.067797</td>\n",
       "    </tr>\n",
       "    <tr>\n",
       "      <th>7</th>\n",
       "      <td>8</td>\n",
       "      <td>410.111111</td>\n",
       "      <td>421.436620</td>\n",
       "    </tr>\n",
       "    <tr>\n",
       "      <th>8</th>\n",
       "      <td>9</td>\n",
       "      <td>414.226804</td>\n",
       "      <td>437.511628</td>\n",
       "    </tr>\n",
       "    <tr>\n",
       "      <th>9</th>\n",
       "      <td>10</td>\n",
       "      <td>429.729958</td>\n",
       "      <td>450.735849</td>\n",
       "    </tr>\n",
       "    <tr>\n",
       "      <th>10</th>\n",
       "      <td>11</td>\n",
       "      <td>423.325088</td>\n",
       "      <td>445.196850</td>\n",
       "    </tr>\n",
       "    <tr>\n",
       "      <th>11</th>\n",
       "      <td>12</td>\n",
       "      <td>473.836478</td>\n",
       "      <td>459.099338</td>\n",
       "    </tr>\n",
       "  </tbody>\n",
       "</table>\n",
       "</div>"
      ],
      "text/plain": [
       "    month  duration_prom_call_surf  duration_prom_call_ultimate\n",
       "0       1               203.000000                   193.500000\n",
       "1       2               297.000000                   403.142857\n",
       "2       3               330.000000                   304.250000\n",
       "3       4               351.540000                   336.857143\n",
       "4       5               399.584416                   406.241379\n",
       "5       6               431.298969                   370.957447\n",
       "6       7               449.983471                   427.067797\n",
       "7       8               410.111111                   421.436620\n",
       "8       9               414.226804                   437.511628\n",
       "9      10               429.729958                   450.735849\n",
       "10     11               423.325088                   445.196850\n",
       "11     12               473.836478                   459.099338"
      ]
     },
     "execution_count": 48,
     "metadata": {},
     "output_type": "execute_result"
    }
   ],
   "source": [
    "# Compara la duración promedio de llamadas por cada plan y por cada mes. Traza un gráfico de barras para visualizarla.\n",
    "\n",
    "# Filtrar, agrupar y sacar el promedio de duracion de llamadas\n",
    "mean_surf = final_df[final_df['plan'] == 'surf'].groupby(\n",
    "    'month')['duration'].mean().reset_index()\n",
    "# Renombrar la columna 'duration' a 'duration_prom_call_surf'\n",
    "mean_surf = mean_surf.rename(columns={'duration': 'duration_prom_call_surf'})\n",
    "\n",
    "# Filtrar, agrupar y sacar el promedio de duracion de llamadas\n",
    "mean_ultimate = final_df[final_df['plan'] == 'ultimate'].groupby(\n",
    "    'month')['duration'].mean().reset_index()\n",
    "# Renombrar la columna 'duration' a 'duration_prom_call_ultimate'\n",
    "mean_ultimate = mean_ultimate.rename(\n",
    "    columns={'duration': 'duration_prom_call_ultimate'})\n",
    "\n",
    "# Agrupar los datos\n",
    "avg_duration = mean_surf.merge(mean_ultimate, on=['month'], how='outer')\n",
    "avg_duration"
   ]
  },
  {
   "cell_type": "code",
   "execution_count": 49,
   "metadata": {},
   "outputs": [
    {
     "data": {
      "image/png": "[encoded data removed]",
      "text/plain": [
       "<Figure size 640x480 with 1 Axes>"
      ]
     },
     "metadata": {},
     "output_type": "display_data"
    }
   ],
   "source": [
    "avg_duration.plot(x='month',\n",
    "                  kind='bar',\n",
    "                  title='Comparación de Duración Promedio de Llamadas por Plan y por Mes',\n",
    "                  xlabel=\"Mes\",\n",
    "                  ylabel=\"Duración Promedio de Llamadas\")\n",
    "plt.legend(['plan surf', 'plan ultimate'])\n",
    "plt.show()"
   ]
  },
  {
   "cell_type": "code",
   "execution_count": 50,
   "metadata": {
    "id": "QoLqW1S_0q1J"
   },
   "outputs": [
    {
     "data": {
      "text/html": [
       "<div>\n",
       "<style scoped>\n",
       "    .dataframe tbody tr th:only-of-type {\n",
       "        vertical-align: middle;\n",
       "    }\n",
       "\n",
       "    .dataframe tbody tr th {\n",
       "        vertical-align: top;\n",
       "    }\n",
       "\n",
       "    .dataframe thead th {\n",
       "        text-align: right;\n",
       "    }\n",
       "</style>\n",
       "<table border=\"1\" class=\"dataframe\">\n",
       "  <thead>\n",
       "    <tr style=\"text-align: right;\">\n",
       "      <th></th>\n",
       "      <th>month</th>\n",
       "      <th>minutes_surf</th>\n",
       "      <th>minutes_ultimate</th>\n",
       "    </tr>\n",
       "  </thead>\n",
       "  <tbody>\n",
       "    <tr>\n",
       "      <th>0</th>\n",
       "      <td>1</td>\n",
       "      <td>406</td>\n",
       "      <td>774</td>\n",
       "    </tr>\n",
       "    <tr>\n",
       "      <th>1</th>\n",
       "      <td>2</td>\n",
       "      <td>2673</td>\n",
       "      <td>2822</td>\n",
       "    </tr>\n",
       "    <tr>\n",
       "      <th>2</th>\n",
       "      <td>3</td>\n",
       "      <td>7590</td>\n",
       "      <td>3651</td>\n",
       "    </tr>\n",
       "    <tr>\n",
       "      <th>3</th>\n",
       "      <td>4</td>\n",
       "      <td>17577</td>\n",
       "      <td>7074</td>\n",
       "    </tr>\n",
       "    <tr>\n",
       "      <th>4</th>\n",
       "      <td>5</td>\n",
       "      <td>30768</td>\n",
       "      <td>11781</td>\n",
       "    </tr>\n",
       "    <tr>\n",
       "      <th>5</th>\n",
       "      <td>6</td>\n",
       "      <td>41836</td>\n",
       "      <td>17435</td>\n",
       "    </tr>\n",
       "    <tr>\n",
       "      <th>6</th>\n",
       "      <td>7</td>\n",
       "      <td>54448</td>\n",
       "      <td>25197</td>\n",
       "    </tr>\n",
       "    <tr>\n",
       "      <th>7</th>\n",
       "      <td>8</td>\n",
       "      <td>66438</td>\n",
       "      <td>29922</td>\n",
       "    </tr>\n",
       "    <tr>\n",
       "      <th>8</th>\n",
       "      <td>9</td>\n",
       "      <td>80360</td>\n",
       "      <td>37626</td>\n",
       "    </tr>\n",
       "    <tr>\n",
       "      <th>9</th>\n",
       "      <td>10</td>\n",
       "      <td>101846</td>\n",
       "      <td>47778</td>\n",
       "    </tr>\n",
       "    <tr>\n",
       "      <th>10</th>\n",
       "      <td>11</td>\n",
       "      <td>119801</td>\n",
       "      <td>56540</td>\n",
       "    </tr>\n",
       "    <tr>\n",
       "      <th>11</th>\n",
       "      <td>12</td>\n",
       "      <td>150680</td>\n",
       "      <td>69324</td>\n",
       "    </tr>\n",
       "  </tbody>\n",
       "</table>\n",
       "</div>"
      ],
      "text/plain": [
       "    month  minutes_surf  minutes_ultimate\n",
       "0       1           406               774\n",
       "1       2          2673              2822\n",
       "2       3          7590              3651\n",
       "3       4         17577              7074\n",
       "4       5         30768             11781\n",
       "5       6         41836             17435\n",
       "6       7         54448             25197\n",
       "7       8         66438             29922\n",
       "8       9         80360             37626\n",
       "9      10        101846             47778\n",
       "10     11        119801             56540\n",
       "11     12        150680             69324"
      ]
     },
     "execution_count": 50,
     "metadata": {},
     "output_type": "execute_result"
    }
   ],
   "source": [
    "# Compara el número de minutos mensuales que necesitan los usuarios de cada plan. Traza un histograma.\n",
    "\n",
    "\n",
    "# Filtrar, agrupar y sumar duracion de llamadas\n",
    "mins_surf = final_df[final_df['plan'] == 'surf'].groupby(\n",
    "    'month')['duration'].sum().reset_index()\n",
    "# Renombrar la columna 'duration'\n",
    "mins_surf = mins_surf.rename(columns={'duration': 'minutes_surf'})\n",
    "\n",
    "# Filtrar, agrupar y sumar  duracion de llamadas\n",
    "mins_ultimate = final_df[final_df['plan'] == 'ultimate'].groupby(\n",
    "    'month')['duration'].sum().reset_index()\n",
    "# Renombrar la columna 'duration'\n",
    "mins_ultimate = mins_ultimate.rename(columns={'duration': 'minutes_ultimate'})\n",
    "\n",
    "# Agrupar los datos\n",
    "mins_total = mins_surf.merge(mins_ultimate, on=['month'], how='outer')\n",
    "mins_total"
   ]
  },
  {
   "cell_type": "code",
   "execution_count": 51,
   "metadata": {},
   "outputs": [
    {
     "data": {
      "image/png": "[encoded data removed]",
      "text/plain": [
       "<Figure size 640x480 with 1 Axes>"
      ]
     },
     "metadata": {},
     "output_type": "display_data"
    }
   ],
   "source": [
    "# Agrupar por plan y mes y sumar la duración\n",
    "mins_total = mins_total[['minutes_surf', 'minutes_ultimate']]\n",
    "mins_total.plot(kind='hist',\n",
    "                bins=10,\n",
    "                alpha=0.3)\n",
    "plt.title('Número de minutos mensuales por plan')\n",
    "plt.xlabel('Duración de las llamadas (minutos)')\n",
    "plt.ylabel('Frecuencia')\n",
    "plt.legend(title='Plan')\n",
    "plt.show()"
   ]
  },
  {
   "cell_type": "markdown",
   "metadata": {
    "id": "bLS9T8OH0q1K"
   },
   "source": [
    "Calcula la media y la variable de la duración de las llamadas para averiguar si los usuarios de los distintos planes se comportan de forma diferente al realizar sus llamadas."
   ]
  },
  {
   "cell_type": "code",
   "execution_count": 52,
   "metadata": {
    "id": "oSndbAnt0q1K"
   },
   "outputs": [
    {
     "name": "stderr",
     "output_type": "stream",
     "text": [
      "c:\\Users\\HOME\\AppData\\Local\\Programs\\Python\\Python312\\Lib\\site-packages\\numpy\\_core\\fromnumeric.py:4006: FutureWarning: The behavior of DataFrame.var with axis=None is deprecated, in a future version this will reduce over both axes and return a scalar. To retain the old behavior, pass axis=0 (or do not pass axis)\n",
      "  return var(axis=axis, dtype=dtype, out=out, ddof=ddof, **kwargs)\n"
     ]
    },
    {
     "data": {
      "text/html": [
       "<div>\n",
       "<style scoped>\n",
       "    .dataframe tbody tr th:only-of-type {\n",
       "        vertical-align: middle;\n",
       "    }\n",
       "\n",
       "    .dataframe tbody tr th {\n",
       "        vertical-align: top;\n",
       "    }\n",
       "\n",
       "    .dataframe thead th {\n",
       "        text-align: right;\n",
       "    }\n",
       "</style>\n",
       "<table border=\"1\" class=\"dataframe\">\n",
       "  <thead>\n",
       "    <tr style=\"text-align: right;\">\n",
       "      <th></th>\n",
       "      <th>index</th>\n",
       "      <th>mean_duration</th>\n",
       "      <th>var_duration</th>\n",
       "    </tr>\n",
       "  </thead>\n",
       "  <tbody>\n",
       "    <tr>\n",
       "      <th>0</th>\n",
       "      <td>minutes_surf</td>\n",
       "      <td>56201.916667</td>\n",
       "      <td>2.202716e+09</td>\n",
       "    </tr>\n",
       "    <tr>\n",
       "      <th>1</th>\n",
       "      <td>minutes_ultimate</td>\n",
       "      <td>25827.000000</td>\n",
       "      <td>4.784629e+08</td>\n",
       "    </tr>\n",
       "  </tbody>\n",
       "</table>\n",
       "</div>"
      ],
      "text/plain": [
       "              index  mean_duration  var_duration\n",
       "0      minutes_surf   56201.916667  2.202716e+09\n",
       "1  minutes_ultimate   25827.000000  4.784629e+08"
      ]
     },
     "execution_count": 52,
     "metadata": {},
     "output_type": "execute_result"
    }
   ],
   "source": [
    "# Calcula la media y la varianza de la duración mensual de llamadas.\n",
    "\n",
    "# Calcular la media de la duración mensual de llamadas\n",
    "mean_duration = mins_total.mean().reset_index(name='mean_duration')\n",
    "\n",
    "# Calcular la varianza de la duración mensual de llamadas\n",
    "var_duration = np.var(mins_total).reset_index(name='var_duration')\n",
    "\n",
    "# Unir las dos tablas para ver media y varianza juntos\n",
    "mean_var_duration = mean_duration.merge(var_duration, on=['index'])\n",
    "\n",
    "# Mostrar el resultado\n",
    "mean_var_duration"
   ]
  },
  {
   "cell_type": "code",
   "execution_count": 53,
   "metadata": {
    "id": "nZzoRUKc0q1K"
   },
   "outputs": [
    {
     "data": {
      "text/plain": [
       "<Axes: xlabel='plan', ylabel='duration'>"
      ]
     },
     "execution_count": 53,
     "metadata": {},
     "output_type": "execute_result"
    },
    {
     "data": {
      "image/png": "[encoded data removed]",
      "text/plain": [
       "<Figure size 640x480 with 1 Axes>"
      ]
     },
     "metadata": {},
     "output_type": "display_data"
    }
   ],
   "source": [
    "# Traza un diagrama de caja para visualizar la distribución de la duración mensual de llamadas\n",
    "sns.boxplot(x='plan', y='duration', data=final_df)"
   ]
  },
  {
   "cell_type": "markdown",
   "metadata": {
    "id": "r627zBO50q1K"
   },
   "source": [
    "\n",
    "* El comportamiento de llamadas tiene una leve variacion en las llamadas realizadas en los meses.\n",
    "* Presentan un valor medio semenjante"
   ]
  },
  {
   "cell_type": "markdown",
   "metadata": {
    "id": "8idKy8Wh0q1L"
   },
   "source": [
    "### Mensajes"
   ]
  },
  {
   "cell_type": "markdown",
   "metadata": {},
   "source": [
    "Para estudiar el comportamiento de los mensajes voy a realizar un proceso similar al de llamadas:\n",
    "* identificar el promedio de mensajes enviados por mes y por usuarios de cada plan con una grafico de barras.\n",
    "* comparar el número de mensajes mensuales que necesitan los usuarios de cada plan y trazar un histograma.\n",
    "* calculr la media y la varianza del número de mensajes enviados mensualmente.\n",
    "* realizar un diagrama de caja para visualizar la distribución del número de mensajes enviados mensualmente.\n",
    "\n"
   ]
  },
  {
   "cell_type": "code",
   "execution_count": 54,
   "metadata": {
    "id": "NXLxiTit0q1L"
   },
   "outputs": [
    {
     "data": {
      "text/html": [
       "<div>\n",
       "<style scoped>\n",
       "    .dataframe tbody tr th:only-of-type {\n",
       "        vertical-align: middle;\n",
       "    }\n",
       "\n",
       "    .dataframe tbody tr th {\n",
       "        vertical-align: top;\n",
       "    }\n",
       "\n",
       "    .dataframe thead th {\n",
       "        text-align: right;\n",
       "    }\n",
       "</style>\n",
       "<table border=\"1\" class=\"dataframe\">\n",
       "  <thead>\n",
       "    <tr style=\"text-align: right;\">\n",
       "      <th></th>\n",
       "      <th>month</th>\n",
       "      <th>sent_messages_surf</th>\n",
       "      <th>sent_messages_ultimate</th>\n",
       "    </tr>\n",
       "  </thead>\n",
       "  <tbody>\n",
       "    <tr>\n",
       "      <th>0</th>\n",
       "      <td>1</td>\n",
       "      <td>10.500000</td>\n",
       "      <td>15.500000</td>\n",
       "    </tr>\n",
       "    <tr>\n",
       "      <th>1</th>\n",
       "      <td>2</td>\n",
       "      <td>12.000000</td>\n",
       "      <td>21.571429</td>\n",
       "    </tr>\n",
       "    <tr>\n",
       "      <th>2</th>\n",
       "      <td>3</td>\n",
       "      <td>15.260870</td>\n",
       "      <td>20.250000</td>\n",
       "    </tr>\n",
       "    <tr>\n",
       "      <th>3</th>\n",
       "      <td>4</td>\n",
       "      <td>17.400000</td>\n",
       "      <td>22.047619</td>\n",
       "    </tr>\n",
       "    <tr>\n",
       "      <th>4</th>\n",
       "      <td>5</td>\n",
       "      <td>24.012987</td>\n",
       "      <td>32.103448</td>\n",
       "    </tr>\n",
       "    <tr>\n",
       "      <th>5</th>\n",
       "      <td>6</td>\n",
       "      <td>25.298969</td>\n",
       "      <td>29.340426</td>\n",
       "    </tr>\n",
       "    <tr>\n",
       "      <th>6</th>\n",
       "      <td>7</td>\n",
       "      <td>27.033058</td>\n",
       "      <td>32.830508</td>\n",
       "    </tr>\n",
       "    <tr>\n",
       "      <th>7</th>\n",
       "      <td>8</td>\n",
       "      <td>28.777778</td>\n",
       "      <td>38.478873</td>\n",
       "    </tr>\n",
       "    <tr>\n",
       "      <th>8</th>\n",
       "      <td>9</td>\n",
       "      <td>30.762887</td>\n",
       "      <td>37.895349</td>\n",
       "    </tr>\n",
       "    <tr>\n",
       "      <th>9</th>\n",
       "      <td>10</td>\n",
       "      <td>33.839662</td>\n",
       "      <td>39.443396</td>\n",
       "    </tr>\n",
       "    <tr>\n",
       "      <th>10</th>\n",
       "      <td>11</td>\n",
       "      <td>32.385159</td>\n",
       "      <td>38.606299</td>\n",
       "    </tr>\n",
       "    <tr>\n",
       "      <th>11</th>\n",
       "      <td>12</td>\n",
       "      <td>38.600629</td>\n",
       "      <td>45.006623</td>\n",
       "    </tr>\n",
       "  </tbody>\n",
       "</table>\n",
       "</div>"
      ],
      "text/plain": [
       "    month  sent_messages_surf  sent_messages_ultimate\n",
       "0       1           10.500000               15.500000\n",
       "1       2           12.000000               21.571429\n",
       "2       3           15.260870               20.250000\n",
       "3       4           17.400000               22.047619\n",
       "4       5           24.012987               32.103448\n",
       "5       6           25.298969               29.340426\n",
       "6       7           27.033058               32.830508\n",
       "7       8           28.777778               38.478873\n",
       "8       9           30.762887               37.895349\n",
       "9      10           33.839662               39.443396\n",
       "10     11           32.385159               38.606299\n",
       "11     12           38.600629               45.006623"
      ]
     },
     "execution_count": 54,
     "metadata": {},
     "output_type": "execute_result"
    }
   ],
   "source": [
    "# Comprara el número de mensajes que tienden a enviar cada mes los usuarios de cada plan\n",
    "\n",
    "# Filtrar, agrupar y sacar el promedio de mensajes enviados al mes\n",
    "mean_sms_surf = final_df[final_df['plan'] == 'surf'].groupby(\n",
    "    'month')['sent_messages'].mean().reset_index()\n",
    "# Renombrar la columna 'sent_messages'\n",
    "mean_sms_surf = mean_sms_surf.rename(\n",
    "    columns={'sent_messages': 'sent_messages_surf'})\n",
    "\n",
    "# Filtrar, agrupar y sacar el promedio de de mensajes enviados al mes\n",
    "mean_sms_ultimate = final_df[final_df['plan'] == 'ultimate'].groupby(\n",
    "    'month')['sent_messages'].mean().reset_index()\n",
    "# Renombrar la columna 'sent_messages'\n",
    "mean_sms_ultimate = mean_sms_ultimate.rename(\n",
    "    columns={'sent_messages': 'sent_messages_ultimate'})\n",
    "\n",
    "# Agrupar los datos\n",
    "avg_sms = mean_sms_surf.merge(mean_sms_ultimate, on=['month'], how='outer')\n",
    "avg_sms"
   ]
  },
  {
   "cell_type": "code",
   "execution_count": 55,
   "metadata": {
    "id": "GRI_R7xF0q1L"
   },
   "outputs": [
    {
     "data": {
      "image/png": "[encoded data removed]",
      "text/plain": [
       "<Figure size 640x480 with 1 Axes>"
      ]
     },
     "metadata": {},
     "output_type": "display_data"
    }
   ],
   "source": [
    "avg_sms.plot(x='month',\n",
    "             kind='bar',\n",
    "             title='Media de mensajes enviados por mes para cada plan',\n",
    "             xlabel=\"Mes\",\n",
    "             ylabel=\"Mensajes Promedio\")\n",
    "plt.legend(['plan surf', 'plan ultimate'])\n",
    "plt.show()"
   ]
  },
  {
   "cell_type": "code",
   "execution_count": 56,
   "metadata": {},
   "outputs": [
    {
     "data": {
      "image/png": "[encoded data removed]",
      "text/plain": [
       "<Figure size 640x480 with 1 Axes>"
      ]
     },
     "metadata": {},
     "output_type": "display_data"
    }
   ],
   "source": [
    "# Agrupar por plan y mes para obtener el total de mensajes enviados mensualmente\n",
    "mensajes_por_mes = final_df.groupby(['plan', final_df['month']])[\n",
    "    'sent_messages'].sum().reset_index()\n",
    "\n",
    "# Dividir los datos por plan\n",
    "mensajes_surf = mensajes_por_mes[mensajes_por_mes['plan']\n",
    "                                 == 'surf']['sent_messages']\n",
    "mensajes_ultimate = mensajes_por_mes[mensajes_por_mes['plan']\n",
    "                                     == 'ultimate']['sent_messages']\n",
    "\n",
    "# Trazar el histograma\n",
    "plt.hist(mensajes_surf, bins=10, alpha=0.5, label='Surf')\n",
    "plt.hist(mensajes_ultimate, bins=10, alpha=0.5, label='Ultimate')\n",
    "plt.title('Número de mensajes mensuales por plan')\n",
    "plt.xlabel('Número de mensajes')\n",
    "plt.ylabel('Frecuencia')\n",
    "plt.legend(title='Plan')\n",
    "plt.show()"
   ]
  },
  {
   "cell_type": "code",
   "execution_count": 57,
   "metadata": {
    "id": "dtFwCGAp0q1M"
   },
   "outputs": [
    {
     "data": {
      "text/html": [
       "<div>\n",
       "<style scoped>\n",
       "    .dataframe tbody tr th:only-of-type {\n",
       "        vertical-align: middle;\n",
       "    }\n",
       "\n",
       "    .dataframe tbody tr th {\n",
       "        vertical-align: top;\n",
       "    }\n",
       "\n",
       "    .dataframe thead th {\n",
       "        text-align: right;\n",
       "    }\n",
       "</style>\n",
       "<table border=\"1\" class=\"dataframe\">\n",
       "  <thead>\n",
       "    <tr style=\"text-align: right;\">\n",
       "      <th></th>\n",
       "      <th>plan</th>\n",
       "      <th>mean_sms</th>\n",
       "      <th>var_sms</th>\n",
       "    </tr>\n",
       "  </thead>\n",
       "  <tbody>\n",
       "    <tr>\n",
       "      <th>0</th>\n",
       "      <td>surf</td>\n",
       "      <td>31.159568</td>\n",
       "      <td>1126.724522</td>\n",
       "    </tr>\n",
       "    <tr>\n",
       "      <th>1</th>\n",
       "      <td>ultimate</td>\n",
       "      <td>37.551389</td>\n",
       "      <td>1208.756744</td>\n",
       "    </tr>\n",
       "  </tbody>\n",
       "</table>\n",
       "</div>"
      ],
      "text/plain": [
       "       plan   mean_sms      var_sms\n",
       "0      surf  31.159568  1126.724522\n",
       "1  ultimate  37.551389  1208.756744"
      ]
     },
     "execution_count": 57,
     "metadata": {},
     "output_type": "execute_result"
    }
   ],
   "source": [
    "# Calcula la media y la varianza del número de mensajes enviados mensualmente\n",
    "mean_var_sms = final_df.groupby('plan')['sent_messages'].agg([\n",
    "    'mean', 'var']).reset_index()\n",
    "\n",
    "# Renombrar las columna 'mean' y 'var'\n",
    "mean_var_sms = mean_var_sms.rename(\n",
    "    columns={'mean': 'mean_sms', 'var': 'var_sms'})\n",
    "mean_var_sms"
   ]
  },
  {
   "cell_type": "code",
   "execution_count": 58,
   "metadata": {},
   "outputs": [
    {
     "data": {
      "text/plain": [
       "<Axes: xlabel='plan', ylabel='sent_messages'>"
      ]
     },
     "execution_count": 58,
     "metadata": {},
     "output_type": "execute_result"
    },
    {
     "data": {
      "image/png": "[encoded data removed]",
      "text/plain": [
       "<Figure size 640x480 with 1 Axes>"
      ]
     },
     "metadata": {},
     "output_type": "display_data"
    }
   ],
   "source": [
    "# Traza un diagrama de caja para visualizar la distribución del número de mensajes enviados mensualmente.\n",
    "sns.boxplot(x='plan', y='sent_messages', order=[\n",
    "            'surf', 'ultimate'], data=final_df)"
   ]
  },
  {
   "cell_type": "markdown",
   "metadata": {
    "id": "390SSL480q1M"
   },
   "source": [
    "* Plan surf  50 SMS incluidos en el plan\n",
    "    * La media de mensajes del plan se encuentra en 32 mensajes aprox.\n",
    "* Plan ultimate 1000 SMS incluidos en el plan\n",
    "    * La media de mensajes del plan se encuentra en 38 mensajes aprox.\n",
    "* Existe una diferencia de unos 5 mensajes promedio mas enviados por mes de los clientes que tienen el plan ultimate.\n",
    "* La varianza es alta para ambos planes, lo que sugiere que la cantidad de mensajes enviados por los usuarios varía significativamente dentro de cada plan. \n",
    "    * La varianza es ligeramente mayor para el plan ultimate.\n",
    "* El histograma muestra que existen muchos usuarios que no envias mensajes y que existe una distribucion dispersa entre el numero de mensajes enviados\n",
    "* En el diagrama de caja se observa:\n",
    "    * En ambos planes, surf y ultimate, hay varios outliers que indican usuarios que envían un número significativamente mayor de mensajes en comparación con la mayoría.\n",
    "    "
   ]
  },
  {
   "cell_type": "markdown",
   "metadata": {
    "id": "42YSypXz0q1M"
   },
   "source": [
    "### Internet"
   ]
  },
  {
   "cell_type": "markdown",
   "metadata": {},
   "source": [
    "Para estudiar el comportamiento del uso de internet voy a realizar un proceso similar a los anteriores:\n",
    "* Identificar el promedio de uso de internet por mes y por usuarios de cada plan con un gráfico de barras.\n",
    "* Comparar el número de datos mensuales de internet necesarios por los usuarios de cada plan y trazar un histograma.\n",
    "* Calcular la media y la varianza del uso de internet mensual por plan.\n",
    "* Realizar un diagrama de caja para visualizar la distribución del uso de internet mensual."
   ]
  },
  {
   "cell_type": "code",
   "execution_count": 59,
   "metadata": {
    "id": "lSuKPtjh0q1M"
   },
   "outputs": [
    {
     "data": {
      "text/html": [
       "<div>\n",
       "<style scoped>\n",
       "    .dataframe tbody tr th:only-of-type {\n",
       "        vertical-align: middle;\n",
       "    }\n",
       "\n",
       "    .dataframe tbody tr th {\n",
       "        vertical-align: top;\n",
       "    }\n",
       "\n",
       "    .dataframe thead th {\n",
       "        text-align: right;\n",
       "    }\n",
       "</style>\n",
       "<table border=\"1\" class=\"dataframe\">\n",
       "  <thead>\n",
       "    <tr style=\"text-align: right;\">\n",
       "      <th></th>\n",
       "      <th>month</th>\n",
       "      <th>gb_used_surf</th>\n",
       "      <th>gb_used_ultimate</th>\n",
       "    </tr>\n",
       "  </thead>\n",
       "  <tbody>\n",
       "    <tr>\n",
       "      <th>0</th>\n",
       "      <td>1</td>\n",
       "      <td>5.000000</td>\n",
       "      <td>7.250000</td>\n",
       "    </tr>\n",
       "    <tr>\n",
       "      <th>1</th>\n",
       "      <td>2</td>\n",
       "      <td>12.222222</td>\n",
       "      <td>17.285714</td>\n",
       "    </tr>\n",
       "    <tr>\n",
       "      <th>2</th>\n",
       "      <td>3</td>\n",
       "      <td>13.565217</td>\n",
       "      <td>18.416667</td>\n",
       "    </tr>\n",
       "    <tr>\n",
       "      <th>3</th>\n",
       "      <td>4</td>\n",
       "      <td>12.220000</td>\n",
       "      <td>16.333333</td>\n",
       "    </tr>\n",
       "    <tr>\n",
       "      <th>4</th>\n",
       "      <td>5</td>\n",
       "      <td>14.116883</td>\n",
       "      <td>16.862069</td>\n",
       "    </tr>\n",
       "    <tr>\n",
       "      <th>5</th>\n",
       "      <td>6</td>\n",
       "      <td>15.484536</td>\n",
       "      <td>15.425532</td>\n",
       "    </tr>\n",
       "    <tr>\n",
       "      <th>6</th>\n",
       "      <td>7</td>\n",
       "      <td>16.876033</td>\n",
       "      <td>16.491525</td>\n",
       "    </tr>\n",
       "    <tr>\n",
       "      <th>7</th>\n",
       "      <td>8</td>\n",
       "      <td>16.882716</td>\n",
       "      <td>17.845070</td>\n",
       "    </tr>\n",
       "    <tr>\n",
       "      <th>8</th>\n",
       "      <td>9</td>\n",
       "      <td>16.690722</td>\n",
       "      <td>17.011628</td>\n",
       "    </tr>\n",
       "    <tr>\n",
       "      <th>9</th>\n",
       "      <td>10</td>\n",
       "      <td>17.409283</td>\n",
       "      <td>17.716981</td>\n",
       "    </tr>\n",
       "    <tr>\n",
       "      <th>10</th>\n",
       "      <td>11</td>\n",
       "      <td>16.431095</td>\n",
       "      <td>17.118110</td>\n",
       "    </tr>\n",
       "    <tr>\n",
       "      <th>11</th>\n",
       "      <td>12</td>\n",
       "      <td>18.238994</td>\n",
       "      <td>18.397351</td>\n",
       "    </tr>\n",
       "  </tbody>\n",
       "</table>\n",
       "</div>"
      ],
      "text/plain": [
       "    month  gb_used_surf  gb_used_ultimate\n",
       "0       1      5.000000          7.250000\n",
       "1       2     12.222222         17.285714\n",
       "2       3     13.565217         18.416667\n",
       "3       4     12.220000         16.333333\n",
       "4       5     14.116883         16.862069\n",
       "5       6     15.484536         15.425532\n",
       "6       7     16.876033         16.491525\n",
       "7       8     16.882716         17.845070\n",
       "8       9     16.690722         17.011628\n",
       "9      10     17.409283         17.716981\n",
       "10     11     16.431095         17.118110\n",
       "11     12     18.238994         18.397351"
      ]
     },
     "execution_count": 59,
     "metadata": {},
     "output_type": "execute_result"
    }
   ],
   "source": [
    "# Compara la cantidad de tráfico de Internet consumido por usuarios por plan\n",
    "\n",
    "# Filtrar, agrupar y sacar el promedio de uso de internet en GBs mensual\n",
    "mean_gb_surf = final_df[final_df['plan'] == 'surf'].groupby(\n",
    "    'month')['gb_used_adj'].mean().reset_index()\n",
    "# Renombrar la columna 'gb_used_adj'\n",
    "mean_gb_surf = mean_gb_surf.rename(columns={'gb_used_adj': 'gb_used_surf'})\n",
    "\n",
    "# Filtrar, agrupar y sacar el promedio de uso de internet en GBs mensual\n",
    "mean_gb_ultimate = final_df[final_df['plan'] == 'ultimate'].groupby(\n",
    "    'month')['gb_used_adj'].mean().reset_index()\n",
    "# Renombrar la columna 'gb_used_adj'\n",
    "mean_gb_ultimate = mean_gb_ultimate.rename(\n",
    "    columns={'gb_used_adj': 'gb_used_ultimate'})\n",
    "\n",
    "# Agrupar los datos\n",
    "avg_gb = mean_gb_surf.merge(mean_gb_ultimate, on=['month'], how='outer')\n",
    "avg_gb"
   ]
  },
  {
   "cell_type": "code",
   "execution_count": 60,
   "metadata": {
    "id": "wnh8jYXi0q1N"
   },
   "outputs": [
    {
     "data": {
      "image/png": "[encoded data removed]",
      "text/plain": [
       "<Figure size 640x480 with 1 Axes>"
      ]
     },
     "metadata": {},
     "output_type": "display_data"
    }
   ],
   "source": [
    "avg_gb.plot(x='month',\n",
    "            kind='bar',\n",
    "            title='Media de gigabytes enviados por mes para cada plan',\n",
    "            xlabel=\"Mes\",\n",
    "            ylabel=\"Promedio uso internet (GB)\")\n",
    "plt.legend(['plan surf', 'plan ultimate'])\n",
    "plt.show()"
   ]
  },
  {
   "cell_type": "code",
   "execution_count": 61,
   "metadata": {
    "id": "5VlyJ9ry0q1N"
   },
   "outputs": [
    {
     "data": {
      "image/png": "[encoded data removed]",
      "text/plain": [
       "<Figure size 640x480 with 1 Axes>"
      ]
     },
     "metadata": {},
     "output_type": "display_data"
    }
   ],
   "source": [
    "# Agrupar por plan y mes para obtener el total de GBs utilizados mensualmente\n",
    "gb_por_mes = final_df.groupby(['plan', final_df['month']])[\n",
    "    'gb_used_adj'].sum().reset_index()\n",
    "\n",
    "# Dividir los datos por plan\n",
    "gb_surf = gb_por_mes[gb_por_mes['plan'] == 'surf']['gb_used_adj']\n",
    "gb_ultimate = gb_por_mes[gb_por_mes['plan'] == 'ultimate']['gb_used_adj']\n",
    "\n",
    "# Trazar el histograma\n",
    "plt.hist(gb_surf, bins=10, alpha=0.5, label='Surf')\n",
    "plt.hist(gb_ultimate, bins=10, alpha=0.5, label='Ultimate')\n",
    "plt.title('Número de GBs mensuales por plan')\n",
    "plt.xlabel('Número de GBs')\n",
    "plt.ylabel('Frecuencia')\n",
    "plt.legend(title='Plan')\n",
    "plt.show()"
   ]
  },
  {
   "cell_type": "code",
   "execution_count": 62,
   "metadata": {},
   "outputs": [
    {
     "data": {
      "text/html": [
       "<div>\n",
       "<style scoped>\n",
       "    .dataframe tbody tr th:only-of-type {\n",
       "        vertical-align: middle;\n",
       "    }\n",
       "\n",
       "    .dataframe tbody tr th {\n",
       "        vertical-align: top;\n",
       "    }\n",
       "\n",
       "    .dataframe thead th {\n",
       "        text-align: right;\n",
       "    }\n",
       "</style>\n",
       "<table border=\"1\" class=\"dataframe\">\n",
       "  <thead>\n",
       "    <tr style=\"text-align: right;\">\n",
       "      <th></th>\n",
       "      <th>plan</th>\n",
       "      <th>mean_gb</th>\n",
       "      <th>var_gb</th>\n",
       "    </tr>\n",
       "  </thead>\n",
       "  <tbody>\n",
       "    <tr>\n",
       "      <th>0</th>\n",
       "      <td>surf</td>\n",
       "      <td>16.670693</td>\n",
       "      <td>61.58360</td>\n",
       "    </tr>\n",
       "    <tr>\n",
       "      <th>1</th>\n",
       "      <td>ultimate</td>\n",
       "      <td>17.306944</td>\n",
       "      <td>58.83055</td>\n",
       "    </tr>\n",
       "  </tbody>\n",
       "</table>\n",
       "</div>"
      ],
      "text/plain": [
       "       plan    mean_gb    var_gb\n",
       "0      surf  16.670693  61.58360\n",
       "1  ultimate  17.306944  58.83055"
      ]
     },
     "execution_count": 62,
     "metadata": {},
     "output_type": "execute_result"
    }
   ],
   "source": [
    "# Calcula la media y la varianza del uso de Gbs usados mensualmente\n",
    "mean_var_gb = final_df.groupby('plan')['gb_used_adj'].agg([\n",
    "    'mean', 'var']).reset_index()\n",
    "\n",
    "# Renombrar las columna 'mean' y 'var'\n",
    "mean_var_gb = mean_var_gb.rename(columns={'mean': 'mean_gb', 'var': 'var_gb'})\n",
    "mean_var_gb"
   ]
  },
  {
   "cell_type": "code",
   "execution_count": 63,
   "metadata": {},
   "outputs": [
    {
     "data": {
      "text/plain": [
       "<Axes: xlabel='plan', ylabel='gb_used_adj'>"
      ]
     },
     "execution_count": 63,
     "metadata": {},
     "output_type": "execute_result"
    },
    {
     "data": {
      "image/png": "[encoded data removed]",
      "text/plain": [
       "<Figure size 640x480 with 1 Axes>"
      ]
     },
     "metadata": {},
     "output_type": "display_data"
    }
   ],
   "source": [
    "# Traza un diagrama de caja para visualizar la distribución del uso de GBs mensualmente.\n",
    "sns.boxplot(x='plan', y='gb_used_adj', order=[\n",
    "            'surf', 'ultimate'], data=final_df)"
   ]
  },
  {
   "cell_type": "markdown",
   "metadata": {
    "id": "UN9zwuMP0q1N"
   },
   "source": [
    "* Plan surf  15 GBs incluidos en el plan\n",
    "    * La media de GBs uaados por clientes se encuentra en 17 GBs aprox.\n",
    "* Plan ultimate 30 SMS incluidos en el plan\n",
    "    * La media de GBs usados por clientes se encuentra en 18 GBs aprox. \n",
    "* En varios meses la diferencia entre el uso de datos en los diferentes planes es de 1GB aprox.\n",
    "* La varianza en el uso de datos es similar para ambos planes\n",
    "    * Los usuarios del plan Ultimate usan un poco más de datos en promedio, su uso es un poco más uniforme en comparación con los usuarios del plan Surf.\n",
    "    * La varianza es ligeramente mayor para el plan surf.\n",
    "* El histograma muestra que existen muchos usuarios que no usan datos y que existe una distribucion semenjante entre el uso de GBs en los planes\n",
    "* En el diagrama de caja se observa:\n",
    "    * Hay varios valores atípicos por encima de 35 GB, algunos alcanzando hasta 70 GB, indicando que algunos usuarios del plan Surf usan datos de manera significativamente diferente al promedio."
   ]
  },
  {
   "cell_type": "markdown",
   "metadata": {
    "id": "tCijq3260q1N"
   },
   "source": [
    "## Ingreso"
   ]
  },
  {
   "cell_type": "code",
   "execution_count": 64,
   "metadata": {
    "id": "tz-dq_V00q1O"
   },
   "outputs": [
    {
     "data": {
      "text/html": [
       "<div>\n",
       "<style scoped>\n",
       "    .dataframe tbody tr th:only-of-type {\n",
       "        vertical-align: middle;\n",
       "    }\n",
       "\n",
       "    .dataframe tbody tr th {\n",
       "        vertical-align: top;\n",
       "    }\n",
       "\n",
       "    .dataframe thead th {\n",
       "        text-align: right;\n",
       "    }\n",
       "</style>\n",
       "<table border=\"1\" class=\"dataframe\">\n",
       "  <thead>\n",
       "    <tr style=\"text-align: right;\">\n",
       "      <th></th>\n",
       "      <th>plan</th>\n",
       "      <th>mean</th>\n",
       "      <th>var</th>\n",
       "      <th>std</th>\n",
       "      <th>min</th>\n",
       "      <th>max</th>\n",
       "      <th>median</th>\n",
       "    </tr>\n",
       "  </thead>\n",
       "  <tbody>\n",
       "    <tr>\n",
       "      <th>0</th>\n",
       "      <td>surf</td>\n",
       "      <td>58.862638</td>\n",
       "      <td>2975.596549</td>\n",
       "      <td>54.549029</td>\n",
       "      <td>20.0</td>\n",
       "      <td>572.28</td>\n",
       "      <td>40.0</td>\n",
       "    </tr>\n",
       "    <tr>\n",
       "      <th>1</th>\n",
       "      <td>ultimate</td>\n",
       "      <td>72.313889</td>\n",
       "      <td>129.848486</td>\n",
       "      <td>11.395108</td>\n",
       "      <td>70.0</td>\n",
       "      <td>182.00</td>\n",
       "      <td>70.0</td>\n",
       "    </tr>\n",
       "  </tbody>\n",
       "</table>\n",
       "</div>"
      ],
      "text/plain": [
       "       plan       mean          var        std   min     max  median\n",
       "0      surf  58.862638  2975.596549  54.549029  20.0  572.28    40.0\n",
       "1  ultimate  72.313889   129.848486  11.395108  70.0  182.00    70.0"
      ]
     },
     "execution_count": 64,
     "metadata": {},
     "output_type": "execute_result"
    }
   ],
   "source": [
    "revenue_stats = final_df.groupby('plan')['monthly_revenue'].agg(\n",
    "    ['mean', 'var', 'std', 'min', 'max', 'median']).reset_index()\n",
    "revenue_stats"
   ]
  },
  {
   "cell_type": "code",
   "execution_count": 65,
   "metadata": {
    "id": "0Y1v8ZUz0q1P"
   },
   "outputs": [
    {
     "data": {
      "text/html": [
       "<div>\n",
       "<style scoped>\n",
       "    .dataframe tbody tr th:only-of-type {\n",
       "        vertical-align: middle;\n",
       "    }\n",
       "\n",
       "    .dataframe tbody tr th {\n",
       "        vertical-align: top;\n",
       "    }\n",
       "\n",
       "    .dataframe thead th {\n",
       "        text-align: right;\n",
       "    }\n",
       "</style>\n",
       "<table border=\"1\" class=\"dataframe\">\n",
       "  <thead>\n",
       "    <tr style=\"text-align: right;\">\n",
       "      <th></th>\n",
       "      <th>month</th>\n",
       "      <th>monthly_revenue_surf</th>\n",
       "      <th>monthly_revenue_ultimate</th>\n",
       "    </tr>\n",
       "  </thead>\n",
       "  <tbody>\n",
       "    <tr>\n",
       "      <th>0</th>\n",
       "      <td>1</td>\n",
       "      <td>20.000000</td>\n",
       "      <td>70.000000</td>\n",
       "    </tr>\n",
       "    <tr>\n",
       "      <th>1</th>\n",
       "      <td>2</td>\n",
       "      <td>33.360000</td>\n",
       "      <td>70.000000</td>\n",
       "    </tr>\n",
       "    <tr>\n",
       "      <th>2</th>\n",
       "      <td>3</td>\n",
       "      <td>45.234348</td>\n",
       "      <td>74.666667</td>\n",
       "    </tr>\n",
       "    <tr>\n",
       "      <th>3</th>\n",
       "      <td>4</td>\n",
       "      <td>39.652200</td>\n",
       "      <td>73.000000</td>\n",
       "    </tr>\n",
       "    <tr>\n",
       "      <th>4</th>\n",
       "      <td>5</td>\n",
       "      <td>45.969610</td>\n",
       "      <td>70.724138</td>\n",
       "    </tr>\n",
       "    <tr>\n",
       "      <th>5</th>\n",
       "      <td>6</td>\n",
       "      <td>47.675155</td>\n",
       "      <td>71.638298</td>\n",
       "    </tr>\n",
       "    <tr>\n",
       "      <th>6</th>\n",
       "      <td>7</td>\n",
       "      <td>60.475868</td>\n",
       "      <td>71.898305</td>\n",
       "    </tr>\n",
       "    <tr>\n",
       "      <th>7</th>\n",
       "      <td>8</td>\n",
       "      <td>62.278951</td>\n",
       "      <td>72.859155</td>\n",
       "    </tr>\n",
       "    <tr>\n",
       "      <th>8</th>\n",
       "      <td>9</td>\n",
       "      <td>56.835515</td>\n",
       "      <td>72.034884</td>\n",
       "    </tr>\n",
       "    <tr>\n",
       "      <th>9</th>\n",
       "      <td>10</td>\n",
       "      <td>63.626920</td>\n",
       "      <td>72.311321</td>\n",
       "    </tr>\n",
       "    <tr>\n",
       "      <th>10</th>\n",
       "      <td>11</td>\n",
       "      <td>56.253145</td>\n",
       "      <td>71.708661</td>\n",
       "    </tr>\n",
       "    <tr>\n",
       "      <th>11</th>\n",
       "      <td>12</td>\n",
       "      <td>68.023459</td>\n",
       "      <td>73.291391</td>\n",
       "    </tr>\n",
       "  </tbody>\n",
       "</table>\n",
       "</div>"
      ],
      "text/plain": [
       "    month  monthly_revenue_surf  monthly_revenue_ultimate\n",
       "0       1             20.000000                 70.000000\n",
       "1       2             33.360000                 70.000000\n",
       "2       3             45.234348                 74.666667\n",
       "3       4             39.652200                 73.000000\n",
       "4       5             45.969610                 70.724138\n",
       "5       6             47.675155                 71.638298\n",
       "6       7             60.475868                 71.898305\n",
       "7       8             62.278951                 72.859155\n",
       "8       9             56.835515                 72.034884\n",
       "9      10             63.626920                 72.311321\n",
       "10     11             56.253145                 71.708661\n",
       "11     12             68.023459                 73.291391"
      ]
     },
     "execution_count": 65,
     "metadata": {},
     "output_type": "execute_result"
    }
   ],
   "source": [
    "# Comprara el valor total de ingresos por mes para de cada plan\n",
    "\n",
    "# Filtrar, agrupar y sacar el promedio de ingresos por mes\n",
    "monthly_revenue_surf = final_df[final_df['plan'] == 'surf'].groupby(\n",
    "    'month')['monthly_revenue'].mean().reset_index()\n",
    "# Renombrar la columna 'monthly_revenue'\n",
    "monthly_revenue_surf = monthly_revenue_surf.rename(\n",
    "    columns={'monthly_revenue': 'monthly_revenue_surf'})\n",
    "\n",
    "# Filtrar, agrupar y sacar el promedio de de mensajes enviados al mes\n",
    "monthly_revenue_ultimate = final_df[final_df['plan'] == 'ultimate'].groupby(\n",
    "    'month')['monthly_revenue'].mean().reset_index()\n",
    "# Renombrar la columna 'sent_messages'\n",
    "monthly_revenue_ultimate = monthly_revenue_ultimate.rename(\n",
    "    columns={'monthly_revenue': 'monthly_revenue_ultimate'})\n",
    "\n",
    "# Agrupar los datos\n",
    "avg_revenue = monthly_revenue_surf.merge(\n",
    "    monthly_revenue_ultimate, on=['month'], how='outer')\n",
    "avg_revenue"
   ]
  },
  {
   "cell_type": "code",
   "execution_count": 66,
   "metadata": {
    "id": "bYmwxyVh0q1P"
   },
   "outputs": [
    {
     "data": {
      "image/png": "[encoded data removed]",
      "text/plain": [
       "<Figure size 640x480 with 1 Axes>"
      ]
     },
     "metadata": {},
     "output_type": "display_data"
    }
   ],
   "source": [
    "avg_revenue.plot(x='month',\n",
    "                 kind='bar',\n",
    "                 title='Promedio Ganancia mensual de los planes',\n",
    "                 xlabel=\"Mes\",\n",
    "                 ylabel=\"Ingreso en $\")\n",
    "plt.legend(['plan surf', 'plan ultimate'])\n",
    "plt.show()"
   ]
  },
  {
   "cell_type": "code",
   "execution_count": 67,
   "metadata": {},
   "outputs": [
    {
     "data": {
      "text/plain": [
       "<Axes: xlabel='plan', ylabel='monthly_revenue'>"
      ]
     },
     "execution_count": 67,
     "metadata": {},
     "output_type": "execute_result"
    },
    {
     "data": {
      "image/png": "[encoded data removed]",
      "text/plain": [
       "<Figure size 640x480 with 1 Axes>"
      ]
     },
     "metadata": {},
     "output_type": "display_data"
    }
   ],
   "source": [
    "# Traza un diagrama de caja para visualizar la distribución del uso de GBs mensualmente.\n",
    "sns.boxplot(x='plan', y='monthly_revenue', order=[\n",
    "            'surf', 'ultimate'], data=final_df)"
   ]
  },
  {
   "cell_type": "code",
   "execution_count": 68,
   "metadata": {},
   "outputs": [
    {
     "data": {
      "text/html": [
       "<div>\n",
       "<style scoped>\n",
       "    .dataframe tbody tr th:only-of-type {\n",
       "        vertical-align: middle;\n",
       "    }\n",
       "\n",
       "    .dataframe tbody tr th {\n",
       "        vertical-align: top;\n",
       "    }\n",
       "\n",
       "    .dataframe thead th {\n",
       "        text-align: right;\n",
       "    }\n",
       "</style>\n",
       "<table border=\"1\" class=\"dataframe\">\n",
       "  <thead>\n",
       "    <tr style=\"text-align: right;\">\n",
       "      <th></th>\n",
       "      <th>plan</th>\n",
       "      <th>number_of_users</th>\n",
       "    </tr>\n",
       "  </thead>\n",
       "  <tbody>\n",
       "    <tr>\n",
       "      <th>0</th>\n",
       "      <td>surf</td>\n",
       "      <td>333</td>\n",
       "    </tr>\n",
       "    <tr>\n",
       "      <th>1</th>\n",
       "      <td>ultimate</td>\n",
       "      <td>157</td>\n",
       "    </tr>\n",
       "  </tbody>\n",
       "</table>\n",
       "</div>"
      ],
      "text/plain": [
       "       plan  number_of_users\n",
       "0      surf              333\n",
       "1  ultimate              157"
      ]
     },
     "execution_count": 68,
     "metadata": {},
     "output_type": "execute_result"
    }
   ],
   "source": [
    "# Agrupar por plan y contar el número de usuarios\n",
    "plan_counts = final_df.groupby('plan')['user_id'].nunique().reset_index()\n",
    "\n",
    "# Renombrar las columnas para mayor claridad\n",
    "plan_counts.columns = ['plan', 'number_of_users']\n",
    "# Imprimir los resultados\n",
    "plan_counts"
   ]
  },
  {
   "cell_type": "markdown",
   "metadata": {
    "id": "KAFidcXZ0q1P"
   },
   "source": [
    "* Los usuarios del plan Ultimate generan en promedio más ingresos que los del plan Surf.\n",
    "* La dispersión de los ingresos es mucho mayor en el plan Surf, indicando una variabilidad alta en los ingresos generados por sus usuarios.\n",
    "* El plan Ultimate muestra ingresos más consistentes con una menor variabilidad, reflejado en su baja desviación estándar y mediana igual a su mínimo.\n",
    "* El plan Surf tiene un rango de ingresos más amplio, con valores máximos significativamente más altos que el plan Ultimate.\n",
    "* Se tiene una mayoria de usuarios en el plan surf casi el doble del plan ultimate\n",
    "* Ademas existen 10 clientes que no presentan datos de llamadas, mensajes, ni datos, por lo que el numero de clientes trabajados finalmente es de 490."
   ]
  },
  {
   "cell_type": "markdown",
   "metadata": {
    "id": "ajJ7VKeI0q1Q"
   },
   "source": [
    "## Prueba las hipótesis estadísticas"
   ]
  },
  {
   "cell_type": "markdown",
   "metadata": {
    "id": "AdXAZ-yL0q1Q"
   },
   "source": [
    "Para probar la hipótesis de que los ingresos promedio procedentes de los usuarios de los planes de llamada Ultimate y Surf son diferentes se sigue los siguientes pasos.\n",
    "* crear hipotesis nula.\n",
    "* crear hipotesis alternativa.\n",
    "* realizar la prueba estadística y determinar el valor alfa"
   ]
  },
  {
   "cell_type": "markdown",
   "metadata": {
    "id": "IQwa_hsh0q1Q"
   },
   "source": [
    "* Hipótesis nula: Los ingresos promedio de los usuarios de los planes Ultimate y Surf son iguales.\n",
    "* Hipótesis alternativa: Los ingresos promedio de los usuarios de los planes Ultimate y Surf son diferentes.\n",
    "* Prueba estadistica: una prueba t de dos muestras independientes\n",
    "* Valor alfa: 0.05 lo que significa que estamos dispuestos a aceptar un 5% de probabilidad de cometer un error (rechazar la hipótesis nula cuando es verdadera)"
   ]
  },
  {
   "cell_type": "code",
   "execution_count": 69,
   "metadata": {
    "id": "nFoPNlPq0q1R"
   },
   "outputs": [],
   "source": [
    "# Prueba las hipótesis\n",
    "\n",
    "# Filtrar los datos por plan\n",
    "surf_revenue = final_df[final_df['plan'] == 'surf']['monthly_revenue']\n",
    "ultimate_revenue = final_df[final_df['plan'] == 'ultimate']['monthly_revenue']\n",
    "\n",
    "# Determinar el valor alfa\n",
    "alpha = 0.05\n",
    "\n",
    "# Prueba t de dos muestras independientes\n",
    "results = st.ttest_ind(surf_revenue, ultimate_revenue, equal_var=False)"
   ]
  },
  {
   "cell_type": "code",
   "execution_count": 70,
   "metadata": {},
   "outputs": [
    {
     "name": "stdout",
     "output_type": "stream",
     "text": [
      "valor p:  2.5613755181532966e-20\n",
      "Rechazamos la hipótesis nula\n"
     ]
    }
   ],
   "source": [
    "# imprimir el valor p resultante\n",
    "print('valor p: ', results.pvalue)\n",
    "\n",
    "# comparar el valor p con el umbral\n",
    "if (results.pvalue < alpha):\n",
    "    print(\"Rechazamos la hipótesis nula\")\n",
    "else:\n",
    "    print(\"No podemos rechazar la hipótesis nula\")"
   ]
  },
  {
   "cell_type": "markdown",
   "metadata": {},
   "source": [
    "El valor p es menor que 0.05, rechazamos la hipótesis nula y concluimos que hay una diferencia significativa en los ingresos promedio entre los dos planes."
   ]
  },
  {
   "cell_type": "markdown",
   "metadata": {
    "id": "tCcAruM60q1R"
   },
   "source": [
    "Para probar la hipótesis de que el ingreso promedio de los usuarios del área NY-NJ es diferente al de los usuarios de otras regiones, se debe hacer lo siguiente:\n",
    "* Crear hipótesis nula y alternativa.\n",
    "* realizar la prueba estadística y determinar el valor alfa.\n"
   ]
  },
  {
   "cell_type": "markdown",
   "metadata": {
    "id": "LsBgitqj0q1R"
   },
   "source": [
    "- Hipótesis nula: El ingreso promedio de los usuarios del área NY-NJ es igual al ingreso promedio de los usuarios de otras regiones.\n",
    "- Hipótesis alternativa: El ingreso promedio de los usuarios del área NY-NJ es diferente al ingreso promedio de los usuarios de otras regiones.\n",
    "- Prueba estadistica: una prueba t de dos muestras independientes\n",
    "- Valor alfa: 0.05 lo que significa que estamos dispuestos a aceptar un 5% de probabilidad de cometer un error"
   ]
  },
  {
   "cell_type": "code",
   "execution_count": 71,
   "metadata": {
    "id": "Cqcj7wrZ0q1S"
   },
   "outputs": [
    {
     "name": "stdout",
     "output_type": "stream",
     "text": [
      "['Atlanta-Sandy Springs-Roswell' 'Seattle-Tacoma-Bellevue'\n",
      " 'Las Vegas-Henderson-Paradise' 'Tulsa' 'Dallas-Fort Worth-Arlington'\n",
      " 'San Francisco-Oakland-Berkeley' 'Grand Rapids-Kentwood'\n",
      " 'Orlando-Kissimmee-Sanford' 'San Jose-Sunnyvale-Santa Clara'\n",
      " 'Cleveland-Elyria' 'Chicago-Naperville-Elgin' 'Knoxville'\n",
      " 'New York-Newark-Jersey City' 'Pittsburgh' 'Fresno'\n",
      " 'Washington-Arlington-Alexandria' 'Indianapolis-Carmel-Anderson'\n",
      " 'Jacksonville' 'Los Angeles-Long Beach-Anaheim' 'Omaha-Council Bluffs'\n",
      " 'Houston-The Woodlands-Sugar Land' 'Philadelphia-Camden-Wilmington'\n",
      " 'Tampa-St. Petersburg-Clearwater' 'Birmingham-Hoover' 'Oklahoma City'\n",
      " 'Charlotte-Concord-Gastonia' 'Denver-Aurora-Lakewood'\n",
      " 'Nashville-Davidson–Murfreesboro–Franklin' 'Columbus' 'Albuquerque'\n",
      " 'Boston-Cambridge-Newton' 'Miami-Fort Lauderdale-West Palm Beach'\n",
      " 'San Diego-Chula Vista-Carlsbad' 'Phoenix-Mesa-Chandler'\n",
      " 'Portland-Vancouver-Hillsboro' 'Cincinnati' 'Columbia'\n",
      " 'San Antonio-New Braunfels' 'Buffalo-Cheektowaga' 'Memphis'\n",
      " 'Riverside-San Bernardino-Ontario' 'Louisville/Jefferson County'\n",
      " 'Albany-Schenectady-Troy' 'Providence-Warwick' 'Salt Lake City'\n",
      " 'Urban Honolulu' 'El Paso' 'New Haven-Milford'\n",
      " 'North Port-Sarasota-Bradenton' 'New Orleans-Metairie'\n",
      " 'Bridgeport-Stamford-Norwalk' 'Virginia Beach-Norfolk-Newport News'\n",
      " 'Baltimore-Columbia-Towson' 'Milwaukee-Waukesha'\n",
      " 'Oxnard-Thousand Oaks-Ventura' 'Sacramento–Roseville–Folsom'\n",
      " 'Austin-Round Rock-Georgetown' 'Richmond' 'St. Louis'\n",
      " 'Minneapolis-St. Paul-Bloomington' 'Dayton-Kettering' 'Bakersfield'\n",
      " 'Detroit-Warren-Dearborn' 'Baton Rouge' 'Kansas City'\n",
      " 'Charleston-North Charleston' 'Rochester' 'Raleigh-Cary'\n",
      " 'Greensboro-High Point' 'Tucson' 'Colorado Springs' 'Stockton'\n",
      " 'Cape Coral-Fort Myers']\n",
      "['GA' 'WA' 'NV' 'OK' 'TX' 'CA' 'MI' 'FL' 'OH' 'IL-IN-WI' 'TN' 'NY-NJ-PA'\n",
      " 'PA' 'DC-VA-MD-WV' 'IN' 'NE-IA' 'PA-NJ-DE-MD' 'AL' 'NC-SC' 'CO' 'NM'\n",
      " 'MA-NH' 'AZ' 'OR-WA' 'OH-KY-IN' 'SC' 'NY' 'TN-MS-AR' 'KY-IN' 'RI-MA' 'UT'\n",
      " 'HI' 'CT' 'LA' 'VA-NC' 'MD' 'WI' 'VA' 'MO-IL' 'MN-WI' 'MO-KS' 'NC']\n"
     ]
    }
   ],
   "source": [
    "# Prueba las hipótesis\n",
    "\n",
    "# Añade la información de la tarifa\n",
    "area_df = final_df.merge(usuarios_con_planes_df[[\n",
    "                         'user_id', 'city', 'state_msa']], on='user_id', how='left')\n",
    "print(area_df['city'].unique())\n",
    "print(area_df['state_msa'].unique())"
   ]
  },
  {
   "cell_type": "code",
   "execution_count": 72,
   "metadata": {},
   "outputs": [
    {
     "name": "stdout",
     "output_type": "stream",
     "text": [
      "valor p:  0.028765503550625456\n",
      "Rechazamos la hipótesis nula\n"
     ]
    }
   ],
   "source": [
    "# Segregar los datos por ciudad\n",
    "ny_nj_revenue = area_df[area_df['city'] ==\n",
    "                        'New York-Newark-Jersey City']['monthly_revenue']\n",
    "other_regions_revenue = area_df[area_df['city'] !=\n",
    "                                'New York-Newark-Jersey City']['monthly_revenue']\n",
    "\n",
    "# Determinar el valor alfa\n",
    "alpha = 0.05\n",
    "\n",
    "# Prueba t de dos muestras independientes\n",
    "results_area = st.ttest_ind(\n",
    "    ny_nj_revenue, other_regions_revenue, equal_var=False)\n",
    "# imprimir el valor p resultante\n",
    "print('valor p: ', results_area.pvalue)\n",
    "\n",
    "# comparar el valor p con el umbral\n",
    "if (results_area.pvalue < alpha):\n",
    "    print(\"Rechazamos la hipótesis nula\")\n",
    "else:\n",
    "    print(\"No podemos rechazar la hipótesis nula\")"
   ]
  },
  {
   "cell_type": "markdown",
   "metadata": {
    "id": "bbTR8UQO0q1T"
   },
   "source": [
    "## Conclusión general\n",
    "\n",
    "\n",
    "* La prueba estadística indicó que hay una diferencia significativa en los ingresos promedio entre los usuarios de los planes Surf y Ultimate, con el plan Ultimate generando más ingresos en promedio.\n",
    "* Los usuarios de la tarifa Ultimate tienden a generar ingresos más altos y con menos variabilidad en comparación con los usuarios de la tarifa Surf.\n",
    "* La tarifa Surf muestra una mayor dispersión en los ingresos, con algunos usuarios generando ingresos muy altos.\n",
    "* Duración de Llamadas: No se observan diferencias significativas en la duración promedio de las llamadas entre los dos planes, aunque los usuarios de Ultimate tienden a consumir más minutos.\n",
    "* Mensajes Enviados: Los usuarios de Ultimate envían más mensajes en promedio que los usuarios de Surf.\n",
    "* Uso de Datos: El uso de datos es ligeramente superior en el plan Ultimate, aunque la diferencia no es muy marcada.\n",
    "* Se encontró una diferencia significativa en los ingresos promedio entre los usuarios del área NY-NJ y los usuarios de otras regiones, lo que sugiere que la ubicación geográfica puede influir en los ingresos generados.\n",
    "\n",
    "Dado que el plan Ultimate genera mayores ingresos promedio y tiene una variabilidad menor, es recomendable invertir más en publicidad para atraer más clientes a esta tarifa, ademas su estabilidad en los ingresos del plan Ultimate lo hace una opción más segura.\n",
    "\n",
    "Considerar la segmentación geográfica puede ayudar a optimizar los ingresos en función de las características específicas de los usuarios en diferentes regiones."
   ]
  }
 ],
 "metadata": {
  "ExecuteTimeLog": [
   {
    "duration": 828,
    "start_time": "2021-11-16T09:21:11.304Z"
   },
   {
    "duration": 893,
    "start_time": "2021-11-16T09:21:17.728Z"
   },
   {
    "duration": 1150,
    "start_time": "2021-11-16T09:21:29.568Z"
   },
   {
    "duration": 3,
    "start_time": "2021-11-16T09:24:14.495Z"
   },
   {
    "duration": 120,
    "start_time": "2021-11-16T09:24:46.630Z"
   },
   {
    "duration": 3,
    "start_time": "2021-11-16T09:28:27.882Z"
   },
   {
    "duration": 4,
    "start_time": "2021-11-16T09:29:54.281Z"
   },
   {
    "duration": 3,
    "start_time": "2021-11-16T09:30:45.936Z"
   },
   {
    "duration": 4,
    "start_time": "2021-11-16T09:31:06.300Z"
   },
   {
    "duration": 113,
    "start_time": "2021-11-16T09:31:37.208Z"
   },
   {
    "duration": 143,
    "start_time": "2021-11-16T09:31:48.656Z"
   },
   {
    "duration": 98,
    "start_time": "2021-11-16T09:31:55.678Z"
   },
   {
    "duration": 3,
    "start_time": "2021-11-16T09:32:08.535Z"
   },
   {
    "duration": 111,
    "start_time": "2021-11-16T09:32:10.120Z"
   },
   {
    "duration": 3,
    "start_time": "2021-11-16T09:32:15.732Z"
   },
   {
    "duration": 4,
    "start_time": "2021-11-16T09:32:29.423Z"
   },
   {
    "duration": 3,
    "start_time": "2021-11-16T10:03:03.074Z"
   },
   {
    "duration": 3,
    "start_time": "2021-11-16T10:10:01.288Z"
   },
   {
    "duration": 3,
    "start_time": "2021-11-16T10:10:46.923Z"
   },
   {
    "duration": 121,
    "start_time": "2021-11-16T10:37:46.494Z"
   },
   {
    "duration": 125,
    "start_time": "2021-11-16T10:38:20.632Z"
   },
   {
    "duration": 112,
    "start_time": "2021-11-16T10:46:53.001Z"
   },
   {
    "duration": 110,
    "start_time": "2021-11-16T10:48:25.775Z"
   },
   {
    "duration": 3,
    "start_time": "2021-11-16T10:50:18.720Z"
   },
   {
    "duration": 4,
    "start_time": "2021-11-16T10:50:37.649Z"
   },
   {
    "duration": 2,
    "start_time": "2021-11-16T10:50:51.884Z"
   },
   {
    "duration": 3,
    "start_time": "2021-11-16T10:51:56.237Z"
   },
   {
    "duration": 101,
    "start_time": "2021-11-16T10:53:13.791Z"
   },
   {
    "duration": 3,
    "start_time": "2021-11-16T10:55:59.186Z"
   },
   {
    "duration": 3,
    "start_time": "2021-11-16T10:56:10.751Z"
   },
   {
    "duration": 3,
    "start_time": "2021-11-16T10:56:49.038Z"
   },
   {
    "duration": 3,
    "start_time": "2021-11-16T10:56:49.174Z"
   },
   {
    "duration": 4,
    "start_time": "2021-11-16T10:56:49.414Z"
   },
   {
    "duration": 3,
    "start_time": "2021-11-16T10:56:49.680Z"
   },
   {
    "duration": 3,
    "start_time": "2021-11-16T10:56:50.370Z"
   },
   {
    "duration": 114,
    "start_time": "2021-11-16T10:59:34.518Z"
   },
   {
    "duration": 3,
    "start_time": "2021-11-16T11:01:41.201Z"
   },
   {
    "duration": 116,
    "start_time": "2021-11-16T11:01:48.754Z"
   },
   {
    "duration": 3,
    "start_time": "2021-11-16T11:02:16.685Z"
   },
   {
    "duration": 3,
    "start_time": "2021-11-16T11:02:19.479Z"
   },
   {
    "duration": 3,
    "start_time": "2021-11-16T11:02:47.067Z"
   },
   {
    "duration": 3,
    "start_time": "2021-11-16T11:02:49.353Z"
   },
   {
    "duration": 3,
    "start_time": "2021-11-16T11:03:07.835Z"
   },
   {
    "duration": 3,
    "start_time": "2021-11-16T11:03:07.953Z"
   },
   {
    "duration": 112,
    "start_time": "2021-11-16T11:07:52.072Z"
   },
   {
    "duration": 187,
    "start_time": "2021-11-16T11:09:23.468Z"
   },
   {
    "duration": 4,
    "start_time": "2021-11-16T11:10:01.455Z"
   },
   {
    "duration": 3,
    "start_time": "2021-11-16T11:10:05.069Z"
   },
   {
    "duration": 4,
    "start_time": "2021-11-16T11:10:13.376Z"
   },
   {
    "duration": 3,
    "start_time": "2021-11-16T11:10:14.434Z"
   },
   {
    "duration": 3,
    "start_time": "2021-11-16T11:10:22.853Z"
   },
   {
    "duration": 4,
    "start_time": "2021-11-16T11:27:29.279Z"
   },
   {
    "duration": 4,
    "start_time": "2021-11-16T11:29:08.919Z"
   },
   {
    "duration": 118,
    "start_time": "2021-11-16T11:29:46.703Z"
   },
   {
    "duration": 437,
    "start_time": "2021-11-16T11:36:02.181Z"
   },
   {
    "duration": 157,
    "start_time": "2021-11-16T11:36:14.388Z"
   },
   {
    "duration": 207,
    "start_time": "2021-11-16T11:47:15.898Z"
   },
   {
    "duration": 3,
    "start_time": "2021-11-16T11:53:52.092Z"
   },
   {
    "duration": 3,
    "start_time": "2021-11-16T11:53:52.236Z"
   },
   {
    "duration": 3,
    "start_time": "2021-11-16T11:59:12.005Z"
   },
   {
    "duration": 112,
    "start_time": "2021-11-16T12:00:33.446Z"
   },
   {
    "duration": 3,
    "start_time": "2021-11-16T12:02:14.453Z"
   },
   {
    "duration": 3,
    "start_time": "2021-11-16T12:02:39.512Z"
   },
   {
    "duration": 106,
    "start_time": "2021-11-16T12:03:03.460Z"
   },
   {
    "duration": 3,
    "start_time": "2021-11-17T20:37:21.139Z"
   },
   {
    "duration": 3,
    "start_time": "2021-11-17T20:37:22.229Z"
   },
   {
    "duration": 3,
    "start_time": "2021-11-17T20:38:38.806Z"
   },
   {
    "duration": 3,
    "start_time": "2021-11-17T20:38:41.958Z"
   },
   {
    "duration": 3,
    "start_time": "2021-11-17T20:43:46.551Z"
   },
   {
    "duration": 4,
    "start_time": "2021-11-17T20:58:21.835Z"
   },
   {
    "duration": 3,
    "start_time": "2021-11-17T20:59:21.872Z"
   },
   {
    "duration": 4,
    "start_time": "2021-11-17T20:59:45.352Z"
   },
   {
    "duration": 4,
    "start_time": "2021-11-17T20:59:49.646Z"
   },
   {
    "duration": 159,
    "start_time": "2021-11-17T21:02:26.949Z"
   },
   {
    "duration": 3,
    "start_time": "2021-11-17T21:03:53.461Z"
   },
   {
    "duration": 3,
    "start_time": "2021-11-17T21:03:53.694Z"
   },
   {
    "duration": 3,
    "start_time": "2021-11-17T21:05:28.145Z"
   },
   {
    "duration": 116,
    "start_time": "2021-11-17T21:05:57.787Z"
   },
   {
    "duration": 3,
    "start_time": "2021-11-17T21:06:37.993Z"
   },
   {
    "duration": 3,
    "start_time": "2021-11-17T21:06:38.261Z"
   },
   {
    "duration": 3,
    "start_time": "2021-11-17T21:11:54.358Z"
   },
   {
    "duration": 3,
    "start_time": "2021-11-17T21:12:43.846Z"
   },
   {
    "duration": 4,
    "start_time": "2021-11-17T21:13:08.773Z"
   },
   {
    "duration": 3,
    "start_time": "2021-11-17T21:14:44.441Z"
   },
   {
    "duration": 3,
    "start_time": "2021-11-17T21:15:42.059Z"
   },
   {
    "duration": 4,
    "start_time": "2021-11-17T21:15:51.995Z"
   },
   {
    "duration": 3,
    "start_time": "2021-11-17T21:15:53.923Z"
   },
   {
    "duration": 3,
    "start_time": "2021-11-17T21:15:55.282Z"
   },
   {
    "duration": 3,
    "start_time": "2021-11-17T21:16:28.492Z"
   },
   {
    "duration": 3,
    "start_time": "2021-11-17T21:16:32.603Z"
   },
   {
    "duration": 3,
    "start_time": "2021-11-17T21:17:06.941Z"
   },
   {
    "duration": 98,
    "start_time": "2021-11-17T21:18:05.733Z"
   },
   {
    "duration": 4,
    "start_time": "2021-11-17T21:21:35.255Z"
   },
   {
    "duration": 3,
    "start_time": "2021-11-17T21:21:37.804Z"
   },
   {
    "duration": 4,
    "start_time": "2021-11-17T21:23:06.071Z"
   },
   {
    "duration": 3,
    "start_time": "2021-11-17T21:23:24.799Z"
   },
   {
    "duration": 3,
    "start_time": "2021-11-17T21:23:32.591Z"
   },
   {
    "duration": 98,
    "start_time": "2021-11-17T21:28:31.559Z"
   },
   {
    "duration": 3,
    "start_time": "2021-11-17T21:28:45.448Z"
   },
   {
    "duration": 3,
    "start_time": "2021-11-17T21:29:17.303Z"
   },
   {
    "duration": 3,
    "start_time": "2021-11-17T21:29:29.617Z"
   },
   {
    "duration": 3,
    "start_time": "2021-11-17T21:29:32.681Z"
   },
   {
    "duration": 3,
    "start_time": "2021-11-17T21:36:11.474Z"
   },
   {
    "duration": 3,
    "start_time": "2021-11-17T21:36:14.791Z"
   },
   {
    "duration": 3,
    "start_time": "2021-11-17T21:36:53.943Z"
   },
   {
    "duration": 3,
    "start_time": "2021-11-17T21:36:56.165Z"
   },
   {
    "duration": 4,
    "start_time": "2021-11-17T21:37:16.590Z"
   },
   {
    "duration": 3,
    "start_time": "2021-11-17T21:37:22.702Z"
   },
   {
    "duration": 4,
    "start_time": "2021-11-17T21:38:03.479Z"
   },
   {
    "duration": 3,
    "start_time": "2021-11-17T21:38:08.601Z"
   },
   {
    "duration": 3,
    "start_time": "2021-11-17T21:38:12.928Z"
   },
   {
    "duration": 3,
    "start_time": "2021-11-17T21:38:48.896Z"
   },
   {
    "duration": 2,
    "start_time": "2021-11-17T21:38:49.171Z"
   },
   {
    "duration": 4,
    "start_time": "2021-11-17T21:39:57.889Z"
   },
   {
    "duration": 3,
    "start_time": "2021-11-17T21:39:58.057Z"
   },
   {
    "duration": 3,
    "start_time": "2021-11-17T21:41:20.108Z"
   },
   {
    "duration": 3,
    "start_time": "2021-11-17T21:41:20.629Z"
   },
   {
    "duration": 3,
    "start_time": "2021-11-17T21:42:49.136Z"
   },
   {
    "duration": 3,
    "start_time": "2021-11-17T21:43:15.137Z"
   },
   {
    "duration": 4,
    "start_time": "2021-11-17T21:43:16.766Z"
   },
   {
    "duration": 4,
    "start_time": "2021-11-17T21:43:31.711Z"
   },
   {
    "duration": 3,
    "start_time": "2021-11-17T21:43:36.312Z"
   },
   {
    "duration": 4,
    "start_time": "2021-11-17T21:45:08.825Z"
   },
   {
    "duration": 4,
    "start_time": "2021-11-17T21:45:10.119Z"
   },
   {
    "duration": 4,
    "start_time": "2021-11-17T21:45:13.748Z"
   },
   {
    "duration": 3,
    "start_time": "2021-11-17T21:45:22.219Z"
   },
   {
    "duration": 3,
    "start_time": "2021-11-17T21:45:33.412Z"
   },
   {
    "duration": 2,
    "start_time": "2021-11-17T21:46:01.885Z"
   },
   {
    "duration": 3,
    "start_time": "2021-11-17T21:46:03.628Z"
   },
   {
    "duration": 107,
    "start_time": "2021-11-17T21:47:32.512Z"
   },
   {
    "duration": 103,
    "start_time": "2021-11-17T21:50:36.243Z"
   },
   {
    "duration": 3,
    "start_time": "2021-11-18T06:28:31.440Z"
   },
   {
    "duration": 3,
    "start_time": "2021-11-18T06:29:00.168Z"
   },
   {
    "duration": 3,
    "start_time": "2021-11-18T06:31:27.008Z"
   },
   {
    "duration": 2,
    "start_time": "2021-11-18T06:35:34.288Z"
   },
   {
    "duration": 2,
    "start_time": "2021-11-18T06:38:04.527Z"
   },
   {
    "duration": 956,
    "start_time": "2024-06-27T01:43:43.612Z"
   },
   {
    "duration": 369,
    "start_time": "2024-06-27T01:51:18.398Z"
   },
   {
    "duration": 17,
    "start_time": "2024-06-27T01:53:59.039Z"
   },
   {
    "duration": 18,
    "start_time": "2024-06-27T01:54:30.932Z"
   },
   {
    "duration": 13,
    "start_time": "2024-06-27T01:54:37.784Z"
   },
   {
    "duration": 8,
    "start_time": "2024-06-27T02:07:57.874Z"
   },
   {
    "duration": 17,
    "start_time": "2024-06-27T02:08:19.698Z"
   },
   {
    "duration": 18,
    "start_time": "2024-06-27T02:10:51.102Z"
   },
   {
    "duration": 13,
    "start_time": "2024-06-27T02:11:20.467Z"
   },
   {
    "duration": 14,
    "start_time": "2024-06-27T02:15:23.167Z"
   },
   {
    "duration": 17,
    "start_time": "2024-06-27T02:15:37.974Z"
   },
   {
    "duration": 10,
    "start_time": "2024-06-27T02:23:54.889Z"
   },
   {
    "duration": 9,
    "start_time": "2024-06-27T02:24:01.467Z"
   },
   {
    "duration": 178,
    "start_time": "2024-06-27T02:24:06.074Z"
   },
   {
    "duration": 9,
    "start_time": "2024-06-27T02:24:08.563Z"
   },
   {
    "duration": 280,
    "start_time": "2024-06-27T02:25:44.716Z"
   },
   {
    "duration": 11,
    "start_time": "2024-06-27T02:26:06.568Z"
   },
   {
    "duration": 41,
    "start_time": "2024-06-27T02:27:03.382Z"
   },
   {
    "duration": 33,
    "start_time": "2024-06-27T02:27:17.768Z"
   },
   {
    "duration": 25,
    "start_time": "2024-06-27T02:31:12.818Z"
   },
   {
    "duration": 26,
    "start_time": "2024-06-27T02:31:27.870Z"
   },
   {
    "duration": 12,
    "start_time": "2024-06-27T02:31:33.656Z"
   },
   {
    "duration": 8,
    "start_time": "2024-06-27T02:32:31.570Z"
   },
   {
    "duration": 11,
    "start_time": "2024-06-27T02:32:39.656Z"
   },
   {
    "duration": 198,
    "start_time": "2024-06-27T02:42:05.121Z"
   },
   {
    "duration": 28,
    "start_time": "2024-06-27T02:42:21.533Z"
   },
   {
    "duration": 23,
    "start_time": "2024-06-27T02:44:05.513Z"
   },
   {
    "duration": 37,
    "start_time": "2024-06-27T02:52:48.588Z"
   },
   {
    "duration": 16,
    "start_time": "2024-06-27T02:53:28.937Z"
   },
   {
    "duration": 14,
    "start_time": "2024-06-27T02:53:30.863Z"
   },
   {
    "duration": 25,
    "start_time": "2024-06-27T02:53:32.510Z"
   },
   {
    "duration": 912,
    "start_time": "2024-06-28T15:51:42.163Z"
   },
   {
    "duration": 388,
    "start_time": "2024-06-28T15:51:43.079Z"
   },
   {
    "duration": 17,
    "start_time": "2024-06-28T15:51:43.470Z"
   },
   {
    "duration": 38,
    "start_time": "2024-06-28T15:51:43.490Z"
   },
   {
    "duration": 14,
    "start_time": "2024-06-28T15:51:43.533Z"
   },
   {
    "duration": 21,
    "start_time": "2024-06-28T15:51:43.550Z"
   },
   {
    "duration": 41,
    "start_time": "2024-06-28T15:51:43.574Z"
   },
   {
    "duration": 29,
    "start_time": "2024-06-28T15:51:43.618Z"
   },
   {
    "duration": 26,
    "start_time": "2024-06-28T15:51:43.650Z"
   },
   {
    "duration": 41,
    "start_time": "2024-06-28T15:51:43.679Z"
   },
   {
    "duration": 32,
    "start_time": "2024-06-28T15:51:43.723Z"
   },
   {
    "duration": 23,
    "start_time": "2024-06-28T15:51:43.758Z"
   },
   {
    "duration": 4,
    "start_time": "2024-06-28T15:51:43.813Z"
   },
   {
    "duration": 3,
    "start_time": "2024-06-28T15:51:43.826Z"
   },
   {
    "duration": 4,
    "start_time": "2024-06-28T15:51:43.832Z"
   },
   {
    "duration": 4,
    "start_time": "2024-06-28T15:51:43.839Z"
   },
   {
    "duration": 3,
    "start_time": "2024-06-28T15:51:43.846Z"
   },
   {
    "duration": 4,
    "start_time": "2024-06-28T15:51:43.853Z"
   },
   {
    "duration": 4,
    "start_time": "2024-06-28T15:51:43.913Z"
   },
   {
    "duration": 8,
    "start_time": "2024-06-28T15:51:43.920Z"
   },
   {
    "duration": 3,
    "start_time": "2024-06-28T15:51:43.932Z"
   },
   {
    "duration": 4,
    "start_time": "2024-06-28T15:51:43.939Z"
   },
   {
    "duration": 4,
    "start_time": "2024-06-28T15:51:43.946Z"
   },
   {
    "duration": 4,
    "start_time": "2024-06-28T15:51:43.953Z"
   },
   {
    "duration": 7,
    "start_time": "2024-06-28T15:51:44.013Z"
   },
   {
    "duration": 4,
    "start_time": "2024-06-28T15:51:44.023Z"
   },
   {
    "duration": 3,
    "start_time": "2024-06-28T15:51:44.031Z"
   },
   {
    "duration": 4,
    "start_time": "2024-06-28T15:51:44.037Z"
   },
   {
    "duration": 3,
    "start_time": "2024-06-28T15:51:44.044Z"
   },
   {
    "duration": 4,
    "start_time": "2024-06-28T15:51:44.050Z"
   },
   {
    "duration": 59,
    "start_time": "2024-06-28T15:51:44.057Z"
   },
   {
    "duration": 4,
    "start_time": "2024-06-28T15:51:44.119Z"
   },
   {
    "duration": 9,
    "start_time": "2024-06-28T16:08:56.173Z"
   },
   {
    "duration": 33,
    "start_time": "2024-06-28T16:09:08.528Z"
   },
   {
    "duration": 32,
    "start_time": "2024-06-28T16:10:23.537Z"
   },
   {
    "duration": 33,
    "start_time": "2024-06-28T16:11:18.590Z"
   },
   {
    "duration": 35,
    "start_time": "2024-06-28T16:13:29.398Z"
   },
   {
    "duration": 33,
    "start_time": "2024-06-28T16:14:56.668Z"
   },
   {
    "duration": 1302,
    "start_time": "2024-06-28T16:15:18.232Z"
   },
   {
    "duration": 80,
    "start_time": "2024-06-28T16:15:26.406Z"
   },
   {
    "duration": 83,
    "start_time": "2024-06-28T16:15:28.805Z"
   },
   {
    "duration": 3,
    "start_time": "2024-06-28T16:15:31.803Z"
   },
   {
    "duration": 305,
    "start_time": "2024-06-28T16:15:31.813Z"
   },
   {
    "duration": 17,
    "start_time": "2024-06-28T16:15:32.122Z"
   },
   {
    "duration": 15,
    "start_time": "2024-06-28T16:15:32.142Z"
   },
   {
    "duration": 54,
    "start_time": "2024-06-28T16:15:32.163Z"
   },
   {
    "duration": 19,
    "start_time": "2024-06-28T16:15:32.221Z"
   },
   {
    "duration": 14,
    "start_time": "2024-06-28T16:15:32.244Z"
   },
   {
    "duration": 63,
    "start_time": "2024-06-28T16:15:32.262Z"
   },
   {
    "duration": 36,
    "start_time": "2024-06-28T16:15:32.328Z"
   },
   {
    "duration": 57,
    "start_time": "2024-06-28T16:15:32.367Z"
   },
   {
    "duration": 9,
    "start_time": "2024-06-28T16:15:32.430Z"
   },
   {
    "duration": 29,
    "start_time": "2024-06-28T16:15:32.442Z"
   },
   {
    "duration": 59,
    "start_time": "2024-06-28T16:15:32.474Z"
   },
   {
    "duration": 5,
    "start_time": "2024-06-28T16:15:32.536Z"
   },
   {
    "duration": 2,
    "start_time": "2024-06-28T16:15:32.547Z"
   },
   {
    "duration": 4,
    "start_time": "2024-06-28T16:15:32.552Z"
   },
   {
    "duration": 3,
    "start_time": "2024-06-28T16:15:32.560Z"
   },
   {
    "duration": 46,
    "start_time": "2024-06-28T16:15:32.566Z"
   },
   {
    "duration": 3,
    "start_time": "2024-06-28T16:15:32.615Z"
   },
   {
    "duration": 3,
    "start_time": "2024-06-28T16:15:32.621Z"
   },
   {
    "duration": 4,
    "start_time": "2024-06-28T16:15:32.627Z"
   },
   {
    "duration": 3,
    "start_time": "2024-06-28T16:15:32.635Z"
   },
   {
    "duration": 4,
    "start_time": "2024-06-28T16:15:32.642Z"
   },
   {
    "duration": 4,
    "start_time": "2024-06-28T16:15:32.650Z"
   },
   {
    "duration": 55,
    "start_time": "2024-06-28T16:15:32.657Z"
   },
   {
    "duration": 4,
    "start_time": "2024-06-28T16:15:32.715Z"
   },
   {
    "duration": 6,
    "start_time": "2024-06-28T16:15:32.722Z"
   },
   {
    "duration": 3,
    "start_time": "2024-06-28T16:15:32.732Z"
   },
   {
    "duration": 3,
    "start_time": "2024-06-28T16:15:32.743Z"
   },
   {
    "duration": 4,
    "start_time": "2024-06-28T16:15:32.749Z"
   },
   {
    "duration": 3,
    "start_time": "2024-06-28T16:15:32.757Z"
   },
   {
    "duration": 3,
    "start_time": "2024-06-28T16:15:32.813Z"
   },
   {
    "duration": 3,
    "start_time": "2024-06-28T16:15:32.820Z"
   },
   {
    "duration": 85,
    "start_time": "2024-06-28T16:17:22.754Z"
   },
   {
    "duration": 82,
    "start_time": "2024-06-28T16:17:27.236Z"
   },
   {
    "duration": 79,
    "start_time": "2024-06-28T16:17:30.375Z"
   },
   {
    "duration": 80,
    "start_time": "2024-06-28T16:17:31.213Z"
   },
   {
    "duration": 81,
    "start_time": "2024-06-28T16:17:31.908Z"
   },
   {
    "duration": 80,
    "start_time": "2024-06-28T16:17:32.535Z"
   },
   {
    "duration": 86,
    "start_time": "2024-06-28T16:17:33.160Z"
   },
   {
    "duration": 83,
    "start_time": "2024-06-28T16:17:34.382Z"
   },
   {
    "duration": 83,
    "start_time": "2024-06-28T16:17:36.046Z"
   },
   {
    "duration": 79,
    "start_time": "2024-06-28T16:17:38.429Z"
   },
   {
    "duration": 4,
    "start_time": "2024-06-28T16:17:41.242Z"
   },
   {
    "duration": 286,
    "start_time": "2024-06-28T16:17:41.251Z"
   },
   {
    "duration": 18,
    "start_time": "2024-06-28T16:17:41.540Z"
   },
   {
    "duration": 13,
    "start_time": "2024-06-28T16:17:41.562Z"
   },
   {
    "duration": 43,
    "start_time": "2024-06-28T16:17:41.580Z"
   },
   {
    "duration": 17,
    "start_time": "2024-06-28T16:17:41.626Z"
   },
   {
    "duration": 14,
    "start_time": "2024-06-28T16:17:41.648Z"
   },
   {
    "duration": 70,
    "start_time": "2024-06-28T16:17:41.666Z"
   },
   {
    "duration": 38,
    "start_time": "2024-06-28T16:17:41.740Z"
   },
   {
    "duration": 25,
    "start_time": "2024-06-28T16:17:41.811Z"
   },
   {
    "duration": 11,
    "start_time": "2024-06-28T16:17:41.839Z"
   },
   {
    "duration": 64,
    "start_time": "2024-06-28T16:17:41.853Z"
   },
   {
    "duration": 23,
    "start_time": "2024-06-28T16:17:41.923Z"
   },
   {
    "duration": 3,
    "start_time": "2024-06-28T16:17:41.949Z"
   },
   {
    "duration": 4,
    "start_time": "2024-06-28T16:17:41.956Z"
   },
   {
    "duration": 4,
    "start_time": "2024-06-28T16:17:41.963Z"
   },
   {
    "duration": 44,
    "start_time": "2024-06-28T16:17:41.970Z"
   },
   {
    "duration": 4,
    "start_time": "2024-06-28T16:17:42.018Z"
   },
   {
    "duration": 7,
    "start_time": "2024-06-28T16:17:42.024Z"
   },
   {
    "duration": 5,
    "start_time": "2024-06-28T16:17:42.033Z"
   },
   {
    "duration": 3,
    "start_time": "2024-06-28T16:17:42.041Z"
   },
   {
    "duration": 6,
    "start_time": "2024-06-28T16:17:42.047Z"
   },
   {
    "duration": 4,
    "start_time": "2024-06-28T16:17:42.055Z"
   },
   {
    "duration": 51,
    "start_time": "2024-06-28T16:17:42.062Z"
   },
   {
    "duration": 4,
    "start_time": "2024-06-28T16:17:42.116Z"
   },
   {
    "duration": 4,
    "start_time": "2024-06-28T16:17:42.122Z"
   },
   {
    "duration": 4,
    "start_time": "2024-06-28T16:17:42.129Z"
   },
   {
    "duration": 4,
    "start_time": "2024-06-28T16:17:42.136Z"
   },
   {
    "duration": 3,
    "start_time": "2024-06-28T16:17:42.143Z"
   },
   {
    "duration": 4,
    "start_time": "2024-06-28T16:17:42.149Z"
   },
   {
    "duration": 58,
    "start_time": "2024-06-28T16:17:42.156Z"
   },
   {
    "duration": 3,
    "start_time": "2024-06-28T16:17:42.217Z"
   },
   {
    "duration": 3,
    "start_time": "2024-06-28T16:17:42.224Z"
   },
   {
    "duration": 98,
    "start_time": "2024-06-28T16:21:05.726Z"
   },
   {
    "duration": 50,
    "start_time": "2024-06-28T16:21:08.787Z"
   },
   {
    "duration": 4,
    "start_time": "2024-06-28T16:21:11.190Z"
   },
   {
    "duration": 287,
    "start_time": "2024-06-28T16:21:11.200Z"
   },
   {
    "duration": 27,
    "start_time": "2024-06-28T16:21:11.491Z"
   },
   {
    "duration": 18,
    "start_time": "2024-06-28T16:21:11.525Z"
   },
   {
    "duration": 17,
    "start_time": "2024-06-28T16:21:11.546Z"
   },
   {
    "duration": 46,
    "start_time": "2024-06-28T16:21:11.566Z"
   },
   {
    "duration": 12,
    "start_time": "2024-06-28T16:21:11.616Z"
   },
   {
    "duration": 27,
    "start_time": "2024-06-28T16:21:11.632Z"
   },
   {
    "duration": 71,
    "start_time": "2024-06-28T16:21:11.661Z"
   },
   {
    "duration": 0,
    "start_time": "2024-06-28T16:21:11.737Z"
   },
   {
    "duration": 0,
    "start_time": "2024-06-28T16:21:11.740Z"
   },
   {
    "duration": 0,
    "start_time": "2024-06-28T16:21:11.742Z"
   },
   {
    "duration": 0,
    "start_time": "2024-06-28T16:21:11.745Z"
   },
   {
    "duration": 0,
    "start_time": "2024-06-28T16:21:11.746Z"
   },
   {
    "duration": 0,
    "start_time": "2024-06-28T16:21:11.749Z"
   },
   {
    "duration": 0,
    "start_time": "2024-06-28T16:21:11.751Z"
   },
   {
    "duration": 0,
    "start_time": "2024-06-28T16:21:11.752Z"
   },
   {
    "duration": 0,
    "start_time": "2024-06-28T16:21:11.754Z"
   },
   {
    "duration": 0,
    "start_time": "2024-06-28T16:21:11.757Z"
   },
   {
    "duration": 0,
    "start_time": "2024-06-28T16:21:11.759Z"
   },
   {
    "duration": 0,
    "start_time": "2024-06-28T16:21:11.760Z"
   },
   {
    "duration": 0,
    "start_time": "2024-06-28T16:21:11.762Z"
   },
   {
    "duration": 0,
    "start_time": "2024-06-28T16:21:11.764Z"
   },
   {
    "duration": 0,
    "start_time": "2024-06-28T16:21:11.765Z"
   },
   {
    "duration": 0,
    "start_time": "2024-06-28T16:21:11.767Z"
   },
   {
    "duration": 0,
    "start_time": "2024-06-28T16:21:11.812Z"
   },
   {
    "duration": 0,
    "start_time": "2024-06-28T16:21:11.814Z"
   },
   {
    "duration": 0,
    "start_time": "2024-06-28T16:21:11.816Z"
   },
   {
    "duration": 0,
    "start_time": "2024-06-28T16:21:11.818Z"
   },
   {
    "duration": 0,
    "start_time": "2024-06-28T16:21:11.820Z"
   },
   {
    "duration": 0,
    "start_time": "2024-06-28T16:21:11.821Z"
   },
   {
    "duration": 0,
    "start_time": "2024-06-28T16:21:11.822Z"
   },
   {
    "duration": 0,
    "start_time": "2024-06-28T16:21:11.823Z"
   },
   {
    "duration": 51,
    "start_time": "2024-06-28T16:21:33.522Z"
   },
   {
    "duration": 5,
    "start_time": "2024-06-28T16:21:45.819Z"
   },
   {
    "duration": 314,
    "start_time": "2024-06-28T16:21:45.828Z"
   },
   {
    "duration": 16,
    "start_time": "2024-06-28T16:21:46.145Z"
   },
   {
    "duration": 13,
    "start_time": "2024-06-28T16:21:46.163Z"
   },
   {
    "duration": 43,
    "start_time": "2024-06-28T16:21:46.181Z"
   },
   {
    "duration": 14,
    "start_time": "2024-06-28T16:21:46.228Z"
   },
   {
    "duration": 12,
    "start_time": "2024-06-28T16:21:46.245Z"
   },
   {
    "duration": 64,
    "start_time": "2024-06-28T16:21:46.260Z"
   },
   {
    "duration": 35,
    "start_time": "2024-06-28T16:21:46.327Z"
   },
   {
    "duration": 0,
    "start_time": "2024-06-28T16:21:46.367Z"
   },
   {
    "duration": 0,
    "start_time": "2024-06-28T16:21:46.369Z"
   },
   {
    "duration": 0,
    "start_time": "2024-06-28T16:21:46.371Z"
   },
   {
    "duration": 0,
    "start_time": "2024-06-28T16:21:46.373Z"
   },
   {
    "duration": 0,
    "start_time": "2024-06-28T16:21:46.376Z"
   },
   {
    "duration": 0,
    "start_time": "2024-06-28T16:21:46.413Z"
   },
   {
    "duration": 0,
    "start_time": "2024-06-28T16:21:46.415Z"
   },
   {
    "duration": 0,
    "start_time": "2024-06-28T16:21:46.417Z"
   },
   {
    "duration": 0,
    "start_time": "2024-06-28T16:21:46.419Z"
   },
   {
    "duration": 0,
    "start_time": "2024-06-28T16:21:46.421Z"
   },
   {
    "duration": 0,
    "start_time": "2024-06-28T16:21:46.423Z"
   },
   {
    "duration": 0,
    "start_time": "2024-06-28T16:21:46.426Z"
   },
   {
    "duration": 0,
    "start_time": "2024-06-28T16:21:46.428Z"
   },
   {
    "duration": 0,
    "start_time": "2024-06-28T16:21:46.430Z"
   },
   {
    "duration": 0,
    "start_time": "2024-06-28T16:21:46.432Z"
   },
   {
    "duration": 0,
    "start_time": "2024-06-28T16:21:46.433Z"
   },
   {
    "duration": 0,
    "start_time": "2024-06-28T16:21:46.434Z"
   },
   {
    "duration": 0,
    "start_time": "2024-06-28T16:21:46.437Z"
   },
   {
    "duration": 0,
    "start_time": "2024-06-28T16:21:46.439Z"
   },
   {
    "duration": 0,
    "start_time": "2024-06-28T16:21:46.442Z"
   },
   {
    "duration": 0,
    "start_time": "2024-06-28T16:21:46.444Z"
   },
   {
    "duration": 0,
    "start_time": "2024-06-28T16:21:46.446Z"
   },
   {
    "duration": 0,
    "start_time": "2024-06-28T16:21:46.448Z"
   },
   {
    "duration": 0,
    "start_time": "2024-06-28T16:21:46.451Z"
   },
   {
    "duration": 58,
    "start_time": "2024-06-28T16:21:57.602Z"
   },
   {
    "duration": 5,
    "start_time": "2024-06-28T16:22:00.153Z"
   },
   {
    "duration": 300,
    "start_time": "2024-06-28T16:22:00.163Z"
   },
   {
    "duration": 16,
    "start_time": "2024-06-28T16:22:00.466Z"
   },
   {
    "duration": 31,
    "start_time": "2024-06-28T16:22:00.485Z"
   },
   {
    "duration": 17,
    "start_time": "2024-06-28T16:22:00.521Z"
   },
   {
    "duration": 15,
    "start_time": "2024-06-28T16:22:00.541Z"
   },
   {
    "duration": 13,
    "start_time": "2024-06-28T16:22:00.559Z"
   },
   {
    "duration": 30,
    "start_time": "2024-06-28T16:22:00.612Z"
   },
   {
    "duration": 17,
    "start_time": "2024-06-28T16:22:00.646Z"
   },
   {
    "duration": 66,
    "start_time": "2024-06-28T16:22:00.666Z"
   },
   {
    "duration": 10,
    "start_time": "2024-06-28T16:22:00.735Z"
   },
   {
    "duration": 30,
    "start_time": "2024-06-28T16:22:00.749Z"
   },
   {
    "duration": 23,
    "start_time": "2024-06-28T16:22:00.814Z"
   },
   {
    "duration": 3,
    "start_time": "2024-06-28T16:22:00.839Z"
   },
   {
    "duration": 4,
    "start_time": "2024-06-28T16:22:00.845Z"
   },
   {
    "duration": 3,
    "start_time": "2024-06-28T16:22:00.852Z"
   },
   {
    "duration": 3,
    "start_time": "2024-06-28T16:22:00.859Z"
   },
   {
    "duration": 3,
    "start_time": "2024-06-28T16:22:00.912Z"
   },
   {
    "duration": 8,
    "start_time": "2024-06-28T16:22:00.919Z"
   },
   {
    "duration": 5,
    "start_time": "2024-06-28T16:22:00.932Z"
   },
   {
    "duration": 3,
    "start_time": "2024-06-28T16:22:00.941Z"
   },
   {
    "duration": 4,
    "start_time": "2024-06-28T16:22:00.948Z"
   },
   {
    "duration": 4,
    "start_time": "2024-06-28T16:22:00.956Z"
   },
   {
    "duration": 49,
    "start_time": "2024-06-28T16:22:00.964Z"
   },
   {
    "duration": 3,
    "start_time": "2024-06-28T16:22:01.017Z"
   },
   {
    "duration": 4,
    "start_time": "2024-06-28T16:22:01.023Z"
   },
   {
    "duration": 4,
    "start_time": "2024-06-28T16:22:01.030Z"
   },
   {
    "duration": 3,
    "start_time": "2024-06-28T16:22:01.037Z"
   },
   {
    "duration": 4,
    "start_time": "2024-06-28T16:22:01.043Z"
   },
   {
    "duration": 4,
    "start_time": "2024-06-28T16:22:01.050Z"
   },
   {
    "duration": 3,
    "start_time": "2024-06-28T16:22:01.114Z"
   },
   {
    "duration": 3,
    "start_time": "2024-06-28T16:22:01.121Z"
   },
   {
    "duration": 4,
    "start_time": "2024-06-28T16:22:01.128Z"
   },
   {
    "duration": 52,
    "start_time": "2024-06-28T16:22:09.833Z"
   },
   {
    "duration": 52,
    "start_time": "2024-06-28T16:22:16.342Z"
   },
   {
    "duration": 4,
    "start_time": "2024-06-28T16:22:17.974Z"
   },
   {
    "duration": 288,
    "start_time": "2024-06-28T16:22:17.984Z"
   },
   {
    "duration": 15,
    "start_time": "2024-06-28T16:22:18.276Z"
   },
   {
    "duration": 24,
    "start_time": "2024-06-28T16:22:18.294Z"
   },
   {
    "duration": 15,
    "start_time": "2024-06-28T16:22:18.323Z"
   },
   {
    "duration": 14,
    "start_time": "2024-06-28T16:22:18.341Z"
   },
   {
    "duration": 13,
    "start_time": "2024-06-28T16:22:18.359Z"
   },
   {
    "duration": 27,
    "start_time": "2024-06-28T16:22:18.413Z"
   },
   {
    "duration": 14,
    "start_time": "2024-06-28T16:22:18.444Z"
   },
   {
    "duration": 61,
    "start_time": "2024-06-28T16:22:18.462Z"
   },
   {
    "duration": 10,
    "start_time": "2024-06-28T16:22:18.528Z"
   },
   {
    "duration": 28,
    "start_time": "2024-06-28T16:22:18.541Z"
   },
   {
    "duration": 53,
    "start_time": "2024-06-28T16:22:18.572Z"
   },
   {
    "duration": 4,
    "start_time": "2024-06-28T16:22:18.627Z"
   },
   {
    "duration": 4,
    "start_time": "2024-06-28T16:22:18.633Z"
   },
   {
    "duration": 3,
    "start_time": "2024-06-28T16:22:18.641Z"
   },
   {
    "duration": 3,
    "start_time": "2024-06-28T16:22:18.648Z"
   },
   {
    "duration": 5,
    "start_time": "2024-06-28T16:22:18.655Z"
   },
   {
    "duration": 50,
    "start_time": "2024-06-28T16:22:18.663Z"
   },
   {
    "duration": 3,
    "start_time": "2024-06-28T16:22:18.717Z"
   },
   {
    "duration": 3,
    "start_time": "2024-06-28T16:22:18.724Z"
   },
   {
    "duration": 3,
    "start_time": "2024-06-28T16:22:18.730Z"
   },
   {
    "duration": 4,
    "start_time": "2024-06-28T16:22:18.736Z"
   },
   {
    "duration": 3,
    "start_time": "2024-06-28T16:22:18.743Z"
   },
   {
    "duration": 5,
    "start_time": "2024-06-28T16:22:18.749Z"
   },
   {
    "duration": 3,
    "start_time": "2024-06-28T16:22:18.812Z"
   },
   {
    "duration": 5,
    "start_time": "2024-06-28T16:22:18.819Z"
   },
   {
    "duration": 4,
    "start_time": "2024-06-28T16:22:18.827Z"
   },
   {
    "duration": 2,
    "start_time": "2024-06-28T16:22:18.839Z"
   },
   {
    "duration": 5,
    "start_time": "2024-06-28T16:22:18.844Z"
   },
   {
    "duration": 4,
    "start_time": "2024-06-28T16:22:18.852Z"
   },
   {
    "duration": 53,
    "start_time": "2024-06-28T16:22:18.860Z"
   },
   {
    "duration": 3,
    "start_time": "2024-06-28T16:22:18.917Z"
   },
   {
    "duration": 26,
    "start_time": "2024-06-28T16:22:25.914Z"
   },
   {
    "duration": 24,
    "start_time": "2024-06-28T16:22:45.924Z"
   },
   {
    "duration": 17,
    "start_time": "2024-06-28T16:22:51.986Z"
   },
   {
    "duration": 45,
    "start_time": "2024-06-28T16:27:52.260Z"
   },
   {
    "duration": 43,
    "start_time": "2024-06-28T16:27:56.427Z"
   },
   {
    "duration": 9,
    "start_time": "2024-06-28T16:29:23.228Z"
   },
   {
    "duration": 7,
    "start_time": "2024-06-28T16:31:40.718Z"
   },
   {
    "duration": 5,
    "start_time": "2024-06-28T16:31:45.322Z"
   },
   {
    "duration": 3,
    "start_time": "2024-06-28T16:31:51.066Z"
   },
   {
    "duration": 7,
    "start_time": "2024-06-28T16:34:39.088Z"
   },
   {
    "duration": 6,
    "start_time": "2024-06-28T16:35:08.300Z"
   },
   {
    "duration": 5,
    "start_time": "2024-06-28T16:35:54.409Z"
   },
   {
    "duration": 27,
    "start_time": "2024-06-28T16:36:00.562Z"
   },
   {
    "duration": 22,
    "start_time": "2024-06-28T16:36:04.281Z"
   },
   {
    "duration": 20,
    "start_time": "2024-06-28T16:36:12.349Z"
   },
   {
    "duration": 20,
    "start_time": "2024-06-28T16:38:00.644Z"
   },
   {
    "duration": 23,
    "start_time": "2024-06-28T16:38:03.231Z"
   },
   {
    "duration": 20,
    "start_time": "2024-06-28T16:38:35.525Z"
   },
   {
    "duration": 24,
    "start_time": "2024-06-28T16:38:49.993Z"
   },
   {
    "duration": 56,
    "start_time": "2024-06-28T16:38:55.425Z"
   },
   {
    "duration": 41,
    "start_time": "2024-06-28T16:39:02.411Z"
   },
   {
    "duration": 28,
    "start_time": "2024-06-28T16:41:03.930Z"
   },
   {
    "duration": 8,
    "start_time": "2024-06-28T16:41:09.097Z"
   },
   {
    "duration": 31,
    "start_time": "2024-06-28T16:42:48.109Z"
   },
   {
    "duration": 29,
    "start_time": "2024-06-28T16:42:52.456Z"
   },
   {
    "duration": 23,
    "start_time": "2024-06-28T16:45:37.712Z"
   },
   {
    "duration": 31,
    "start_time": "2024-06-28T16:45:44.935Z"
   },
   {
    "duration": 41,
    "start_time": "2024-06-28T16:46:04.928Z"
   },
   {
    "duration": 23,
    "start_time": "2024-06-28T16:46:48.955Z"
   },
   {
    "duration": 41,
    "start_time": "2024-06-28T16:46:57.581Z"
   },
   {
    "duration": 13,
    "start_time": "2024-06-28T16:48:26.753Z"
   },
   {
    "duration": 10,
    "start_time": "2024-06-28T16:48:45.580Z"
   },
   {
    "duration": 73,
    "start_time": "2024-06-28T16:51:40.314Z"
   },
   {
    "duration": 57,
    "start_time": "2024-06-28T16:51:44.155Z"
   },
   {
    "duration": 22,
    "start_time": "2024-06-28T16:53:45.122Z"
   },
   {
    "duration": 31,
    "start_time": "2024-06-28T16:53:58.822Z"
   },
   {
    "duration": 6,
    "start_time": "2024-06-28T16:54:03.398Z"
   },
   {
    "duration": 43,
    "start_time": "2024-06-28T16:54:05.882Z"
   },
   {
    "duration": 7,
    "start_time": "2024-06-28T16:55:18.310Z"
   },
   {
    "duration": 16,
    "start_time": "2024-06-28T16:55:23.591Z"
   },
   {
    "duration": 36,
    "start_time": "2024-06-28T16:58:43.182Z"
   },
   {
    "duration": 45,
    "start_time": "2024-06-28T16:58:52.318Z"
   },
   {
    "duration": 20,
    "start_time": "2024-06-28T17:08:16.404Z"
   },
   {
    "duration": 49,
    "start_time": "2024-06-28T17:09:24.046Z"
   },
   {
    "duration": 26,
    "start_time": "2024-06-28T17:09:26.216Z"
   },
   {
    "duration": 9,
    "start_time": "2024-06-28T17:09:28.978Z"
   },
   {
    "duration": 66,
    "start_time": "2024-06-28T17:09:50.239Z"
   },
   {
    "duration": 45,
    "start_time": "2024-06-28T17:11:42.010Z"
   },
   {
    "duration": 77,
    "start_time": "2024-06-28T17:14:06.118Z"
   },
   {
    "duration": 39,
    "start_time": "2024-06-28T17:15:26.757Z"
   },
   {
    "duration": 7,
    "start_time": "2024-06-28T17:17:35.003Z"
   },
   {
    "duration": 335,
    "start_time": "2024-06-28T17:17:58.321Z"
   },
   {
    "duration": 21,
    "start_time": "2024-06-28T17:18:21.745Z"
   },
   {
    "duration": 21,
    "start_time": "2024-06-28T17:18:24.084Z"
   },
   {
    "duration": 41,
    "start_time": "2024-06-28T17:19:00.291Z"
   },
   {
    "duration": 55,
    "start_time": "2024-06-28T17:20:48.936Z"
   },
   {
    "duration": 335,
    "start_time": "2024-06-28T17:24:40.752Z"
   },
   {
    "duration": 297,
    "start_time": "2024-06-28T17:24:48.091Z"
   },
   {
    "duration": 59,
    "start_time": "2024-06-28T17:29:23.663Z"
   },
   {
    "duration": 36,
    "start_time": "2024-06-28T17:30:02.979Z"
   },
   {
    "duration": 333,
    "start_time": "2024-06-28T18:26:17.104Z"
   },
   {
    "duration": 1046,
    "start_time": "2024-06-28T18:27:00.690Z"
   },
   {
    "duration": 398,
    "start_time": "2024-06-28T18:27:01.741Z"
   },
   {
    "duration": 18,
    "start_time": "2024-06-28T18:27:02.142Z"
   },
   {
    "duration": 20,
    "start_time": "2024-06-28T18:27:02.165Z"
   },
   {
    "duration": 42,
    "start_time": "2024-06-28T18:27:02.189Z"
   },
   {
    "duration": 16,
    "start_time": "2024-06-28T18:27:02.235Z"
   },
   {
    "duration": 15,
    "start_time": "2024-06-28T18:27:02.255Z"
   },
   {
    "duration": 75,
    "start_time": "2024-06-28T18:27:02.274Z"
   },
   {
    "duration": 18,
    "start_time": "2024-06-28T18:27:02.353Z"
   },
   {
    "duration": 47,
    "start_time": "2024-06-28T18:27:02.378Z"
   },
   {
    "duration": 27,
    "start_time": "2024-06-28T18:27:02.430Z"
   },
   {
    "duration": 11,
    "start_time": "2024-06-28T18:27:02.460Z"
   },
   {
    "duration": 98,
    "start_time": "2024-06-28T18:27:02.475Z"
   },
   {
    "duration": 51,
    "start_time": "2024-06-28T18:27:02.577Z"
   },
   {
    "duration": 25,
    "start_time": "2024-06-28T18:27:02.631Z"
   },
   {
    "duration": 95,
    "start_time": "2024-06-28T18:27:02.660Z"
   },
   {
    "duration": 32,
    "start_time": "2024-06-28T18:27:02.758Z"
   },
   {
    "duration": 35,
    "start_time": "2024-06-28T18:27:02.793Z"
   },
   {
    "duration": 31,
    "start_time": "2024-06-28T18:27:02.832Z"
   },
   {
    "duration": 75,
    "start_time": "2024-06-28T18:27:02.866Z"
   },
   {
    "duration": 28,
    "start_time": "2024-06-28T18:27:02.945Z"
   },
   {
    "duration": 75,
    "start_time": "2024-06-28T18:27:02.976Z"
   },
   {
    "duration": 12,
    "start_time": "2024-06-28T18:27:03.055Z"
   },
   {
    "duration": 111,
    "start_time": "2024-06-28T18:27:03.071Z"
   },
   {
    "duration": 65,
    "start_time": "2024-06-28T18:27:03.185Z"
   },
   {
    "duration": 15,
    "start_time": "2024-06-28T18:27:03.254Z"
   },
   {
    "duration": 79,
    "start_time": "2024-06-28T18:27:03.273Z"
   },
   {
    "duration": 166,
    "start_time": "2024-06-28T18:27:03.359Z"
   },
   {
    "duration": 734,
    "start_time": "2024-06-28T18:27:03.529Z"
   },
   {
    "duration": 88,
    "start_time": "2024-06-28T18:27:04.266Z"
   },
   {
    "duration": 4,
    "start_time": "2024-06-28T18:27:04.358Z"
   },
   {
    "duration": 58,
    "start_time": "2024-06-28T18:27:04.366Z"
   },
   {
    "duration": 4,
    "start_time": "2024-06-28T18:27:04.428Z"
   },
   {
    "duration": 4,
    "start_time": "2024-06-28T18:27:04.435Z"
   },
   {
    "duration": 4,
    "start_time": "2024-06-28T18:27:04.443Z"
   },
   {
    "duration": 4,
    "start_time": "2024-06-28T18:27:04.450Z"
   },
   {
    "duration": 4,
    "start_time": "2024-06-28T18:27:04.458Z"
   },
   {
    "duration": 3,
    "start_time": "2024-06-28T18:27:04.524Z"
   },
   {
    "duration": 4,
    "start_time": "2024-06-28T18:27:04.530Z"
   },
   {
    "duration": 4,
    "start_time": "2024-06-28T18:27:04.538Z"
   },
   {
    "duration": 3,
    "start_time": "2024-06-28T18:27:04.545Z"
   },
   {
    "duration": 105,
    "start_time": "2024-06-28T18:30:43.764Z"
   },
   {
    "duration": 32,
    "start_time": "2024-06-28T18:31:09.691Z"
   },
   {
    "duration": 13,
    "start_time": "2024-06-28T18:31:44.926Z"
   },
   {
    "duration": 24,
    "start_time": "2024-06-28T18:31:54.472Z"
   },
   {
    "duration": 4,
    "start_time": "2024-06-28T18:32:06.025Z"
   },
   {
    "duration": 347,
    "start_time": "2024-06-28T18:32:06.033Z"
   },
   {
    "duration": 16,
    "start_time": "2024-06-28T18:32:06.384Z"
   },
   {
    "duration": 30,
    "start_time": "2024-06-28T18:32:06.404Z"
   },
   {
    "duration": 18,
    "start_time": "2024-06-28T18:32:06.438Z"
   },
   {
    "duration": 36,
    "start_time": "2024-06-28T18:32:06.459Z"
   },
   {
    "duration": 33,
    "start_time": "2024-06-28T18:32:06.499Z"
   },
   {
    "duration": 30,
    "start_time": "2024-06-28T18:32:06.536Z"
   },
   {
    "duration": 57,
    "start_time": "2024-06-28T18:32:06.570Z"
   },
   {
    "duration": 18,
    "start_time": "2024-06-28T18:32:06.631Z"
   },
   {
    "duration": 30,
    "start_time": "2024-06-28T18:32:06.655Z"
   },
   {
    "duration": 44,
    "start_time": "2024-06-28T18:32:06.688Z"
   },
   {
    "duration": 92,
    "start_time": "2024-06-28T18:32:06.736Z"
   },
   {
    "duration": 33,
    "start_time": "2024-06-28T18:32:06.832Z"
   },
   {
    "duration": 26,
    "start_time": "2024-06-28T18:32:06.868Z"
   },
   {
    "duration": 69,
    "start_time": "2024-06-28T18:32:06.924Z"
   },
   {
    "duration": 45,
    "start_time": "2024-06-28T18:32:06.997Z"
   },
   {
    "duration": 12,
    "start_time": "2024-06-28T18:32:07.047Z"
   },
   {
    "duration": 68,
    "start_time": "2024-06-28T18:32:07.062Z"
   },
   {
    "duration": 44,
    "start_time": "2024-06-28T18:32:07.133Z"
   },
   {
    "duration": 53,
    "start_time": "2024-06-28T18:32:07.180Z"
   },
   {
    "duration": 49,
    "start_time": "2024-06-28T18:32:07.236Z"
   },
   {
    "duration": 40,
    "start_time": "2024-06-28T18:32:07.288Z"
   },
   {
    "duration": 94,
    "start_time": "2024-06-28T18:32:07.331Z"
   },
   {
    "duration": 51,
    "start_time": "2024-06-28T18:32:07.428Z"
   },
   {
    "duration": 42,
    "start_time": "2024-06-28T18:32:07.482Z"
   },
   {
    "duration": 52,
    "start_time": "2024-06-28T18:32:07.528Z"
   },
   {
    "duration": 75,
    "start_time": "2024-06-28T18:32:07.583Z"
   },
   {
    "duration": 61,
    "start_time": "2024-06-28T18:32:07.666Z"
   },
   {
    "duration": 39,
    "start_time": "2024-06-28T18:32:07.731Z"
   },
   {
    "duration": 4,
    "start_time": "2024-06-28T18:32:07.773Z"
   },
   {
    "duration": 4,
    "start_time": "2024-06-28T18:32:07.781Z"
   },
   {
    "duration": 3,
    "start_time": "2024-06-28T18:32:07.825Z"
   },
   {
    "duration": 11,
    "start_time": "2024-06-28T18:32:07.831Z"
   },
   {
    "duration": 3,
    "start_time": "2024-06-28T18:32:07.848Z"
   },
   {
    "duration": 4,
    "start_time": "2024-06-28T18:32:07.854Z"
   },
   {
    "duration": 4,
    "start_time": "2024-06-28T18:32:07.862Z"
   },
   {
    "duration": 53,
    "start_time": "2024-06-28T18:32:07.870Z"
   },
   {
    "duration": 3,
    "start_time": "2024-06-28T18:32:07.927Z"
   },
   {
    "duration": 4,
    "start_time": "2024-06-28T18:32:07.935Z"
   },
   {
    "duration": 4,
    "start_time": "2024-06-28T18:32:07.942Z"
   },
   {
    "duration": 712,
    "start_time": "2024-06-28T18:32:55.976Z"
   },
   {
    "duration": 269,
    "start_time": "2024-06-28T18:33:20.736Z"
   },
   {
    "duration": 16,
    "start_time": "2024-06-28T18:33:27.490Z"
   },
   {
    "duration": 16,
    "start_time": "2024-06-28T18:33:31.384Z"
   },
   {
    "duration": 43,
    "start_time": "2024-06-28T18:33:40.362Z"
   },
   {
    "duration": 35,
    "start_time": "2024-06-28T18:36:08.545Z"
   },
   {
    "duration": 47,
    "start_time": "2024-06-28T18:37:10.121Z"
   },
   {
    "duration": 6,
    "start_time": "2024-06-28T18:38:02.417Z"
   },
   {
    "duration": 279,
    "start_time": "2024-06-28T18:38:09.407Z"
   },
   {
    "duration": 30,
    "start_time": "2024-06-28T18:39:10.589Z"
   },
   {
    "duration": 25,
    "start_time": "2024-06-28T18:40:28.905Z"
   },
   {
    "duration": 14,
    "start_time": "2024-06-28T18:40:48.627Z"
   },
   {
    "duration": 29,
    "start_time": "2024-06-28T18:41:02.394Z"
   },
   {
    "duration": 4,
    "start_time": "2024-06-28T18:42:23.175Z"
   },
   {
    "duration": 8,
    "start_time": "2024-06-28T18:42:28.206Z"
   },
   {
    "duration": 6,
    "start_time": "2024-06-28T18:42:50.961Z"
   },
   {
    "duration": 8,
    "start_time": "2024-06-28T18:42:53.785Z"
   },
   {
    "duration": 7,
    "start_time": "2024-06-28T18:43:00.686Z"
   },
   {
    "duration": 9,
    "start_time": "2024-06-28T18:43:08.007Z"
   },
   {
    "duration": 18,
    "start_time": "2024-06-28T18:43:25.353Z"
   },
   {
    "duration": 9,
    "start_time": "2024-06-28T18:43:44.036Z"
   },
   {
    "duration": 188,
    "start_time": "2024-06-28T18:45:51.569Z"
   },
   {
    "duration": 56,
    "start_time": "2024-06-28T18:45:56.627Z"
   },
   {
    "duration": 54,
    "start_time": "2024-06-28T18:45:59.378Z"
   },
   {
    "duration": 55,
    "start_time": "2024-06-28T18:46:04.797Z"
   },
   {
    "duration": 61,
    "start_time": "2024-06-28T18:46:14.746Z"
   },
   {
    "duration": 5,
    "start_time": "2024-06-28T18:46:33.613Z"
   },
   {
    "duration": 365,
    "start_time": "2024-06-28T18:46:33.625Z"
   },
   {
    "duration": 17,
    "start_time": "2024-06-28T18:46:33.994Z"
   },
   {
    "duration": 14,
    "start_time": "2024-06-28T18:46:34.024Z"
   },
   {
    "duration": 15,
    "start_time": "2024-06-28T18:46:34.043Z"
   },
   {
    "duration": 18,
    "start_time": "2024-06-28T18:46:34.061Z"
   },
   {
    "duration": 50,
    "start_time": "2024-06-28T18:46:34.082Z"
   },
   {
    "duration": 29,
    "start_time": "2024-06-28T18:46:34.135Z"
   },
   {
    "duration": 55,
    "start_time": "2024-06-28T18:46:34.168Z"
   },
   {
    "duration": 21,
    "start_time": "2024-06-28T18:46:34.226Z"
   },
   {
    "duration": 26,
    "start_time": "2024-06-28T18:46:34.252Z"
   },
   {
    "duration": 47,
    "start_time": "2024-06-28T18:46:34.283Z"
   },
   {
    "duration": 60,
    "start_time": "2024-06-28T18:46:34.334Z"
   },
   {
    "duration": 50,
    "start_time": "2024-06-28T18:46:34.397Z"
   },
   {
    "duration": 25,
    "start_time": "2024-06-28T18:46:34.450Z"
   },
   {
    "duration": 94,
    "start_time": "2024-06-28T18:46:34.479Z"
   },
   {
    "duration": 50,
    "start_time": "2024-06-28T18:46:34.577Z"
   },
   {
    "duration": 11,
    "start_time": "2024-06-28T18:46:34.630Z"
   },
   {
    "duration": 30,
    "start_time": "2024-06-28T18:46:34.645Z"
   },
   {
    "duration": 80,
    "start_time": "2024-06-28T18:46:34.678Z"
   },
   {
    "duration": 24,
    "start_time": "2024-06-28T18:46:34.761Z"
   },
   {
    "duration": 49,
    "start_time": "2024-06-28T18:46:34.789Z"
   },
   {
    "duration": 52,
    "start_time": "2024-06-28T18:46:34.842Z"
   },
   {
    "duration": 11,
    "start_time": "2024-06-28T18:46:34.924Z"
   },
   {
    "duration": 90,
    "start_time": "2024-06-28T18:46:34.937Z"
   },
   {
    "duration": 54,
    "start_time": "2024-06-28T18:46:35.030Z"
   },
   {
    "duration": 37,
    "start_time": "2024-06-28T18:46:35.088Z"
   },
   {
    "duration": 48,
    "start_time": "2024-06-28T18:46:35.131Z"
   },
   {
    "duration": 65,
    "start_time": "2024-06-28T18:46:35.186Z"
   },
   {
    "duration": 29,
    "start_time": "2024-06-28T18:46:35.255Z"
   },
   {
    "duration": 63,
    "start_time": "2024-06-28T18:46:35.288Z"
   },
   {
    "duration": 4,
    "start_time": "2024-06-28T18:46:35.354Z"
   },
   {
    "duration": 4,
    "start_time": "2024-06-28T18:46:35.361Z"
   },
   {
    "duration": 4,
    "start_time": "2024-06-28T18:46:35.369Z"
   },
   {
    "duration": 4,
    "start_time": "2024-06-28T18:46:35.376Z"
   },
   {
    "duration": 44,
    "start_time": "2024-06-28T18:46:35.382Z"
   },
   {
    "duration": 4,
    "start_time": "2024-06-28T18:46:35.429Z"
   },
   {
    "duration": 4,
    "start_time": "2024-06-28T18:46:35.437Z"
   },
   {
    "duration": 4,
    "start_time": "2024-06-28T18:46:35.445Z"
   },
   {
    "duration": 4,
    "start_time": "2024-06-28T18:46:35.452Z"
   },
   {
    "duration": 4,
    "start_time": "2024-06-28T18:46:35.460Z"
   },
   {
    "duration": 4,
    "start_time": "2024-06-28T18:46:35.523Z"
   },
   {
    "duration": 1026,
    "start_time": "2024-06-28T18:46:53.903Z"
   },
   {
    "duration": 10,
    "start_time": "2024-06-28T18:47:23.046Z"
   },
   {
    "duration": 8,
    "start_time": "2024-06-28T18:47:29.548Z"
   },
   {
    "duration": 13,
    "start_time": "2024-06-28T18:47:46.520Z"
   },
   {
    "duration": 8,
    "start_time": "2024-06-28T18:48:07.671Z"
   },
   {
    "duration": 7,
    "start_time": "2024-06-28T18:48:12.530Z"
   },
   {
    "duration": 9,
    "start_time": "2024-06-28T18:48:19.593Z"
   },
   {
    "duration": 8,
    "start_time": "2024-06-28T18:49:29.511Z"
   },
   {
    "duration": 33,
    "start_time": "2024-06-28T18:50:48.239Z"
   },
   {
    "duration": 22,
    "start_time": "2024-06-28T18:50:50.886Z"
   },
   {
    "duration": 26,
    "start_time": "2024-06-28T18:52:00.165Z"
   },
   {
    "duration": 10,
    "start_time": "2024-06-28T18:52:07.605Z"
   },
   {
    "duration": 10,
    "start_time": "2024-06-28T18:54:01.330Z"
   },
   {
    "duration": 57,
    "start_time": "2024-06-28T18:57:38.676Z"
   },
   {
    "duration": 27,
    "start_time": "2024-06-28T18:58:27.395Z"
   },
   {
    "duration": 43,
    "start_time": "2024-06-28T18:58:39.434Z"
   },
   {
    "duration": 572,
    "start_time": "2024-06-28T18:59:18.585Z"
   },
   {
    "duration": 37,
    "start_time": "2024-06-28T18:59:44.381Z"
   },
   {
    "duration": 27,
    "start_time": "2024-06-28T19:00:54.844Z"
   },
   {
    "duration": 23,
    "start_time": "2024-06-28T19:02:36.165Z"
   },
   {
    "duration": 29,
    "start_time": "2024-06-28T19:03:35.789Z"
   },
   {
    "duration": 25,
    "start_time": "2024-06-28T19:03:40.162Z"
   },
   {
    "duration": 27,
    "start_time": "2024-06-28T19:04:07.326Z"
   },
   {
    "duration": 37,
    "start_time": "2024-06-28T19:04:14.954Z"
   },
   {
    "duration": 45,
    "start_time": "2024-06-28T19:11:44.725Z"
   },
   {
    "duration": 42,
    "start_time": "2024-06-28T19:11:53.033Z"
   },
   {
    "duration": 151,
    "start_time": "2024-06-28T19:13:34.407Z"
   },
   {
    "duration": 84,
    "start_time": "2024-06-28T19:13:48.936Z"
   },
   {
    "duration": 29,
    "start_time": "2024-06-28T19:15:05.147Z"
   },
   {
    "duration": 35,
    "start_time": "2024-06-28T19:15:54.180Z"
   },
   {
    "duration": 113,
    "start_time": "2024-06-28T19:16:17.927Z"
   },
   {
    "duration": 31,
    "start_time": "2024-06-28T19:16:20.451Z"
   },
   {
    "duration": 27,
    "start_time": "2024-06-28T19:16:39.272Z"
   },
   {
    "duration": 38,
    "start_time": "2024-06-28T19:16:43.422Z"
   },
   {
    "duration": 26,
    "start_time": "2024-06-28T19:17:03.721Z"
   },
   {
    "duration": 38,
    "start_time": "2024-06-28T19:17:25.582Z"
   },
   {
    "duration": 35,
    "start_time": "2024-06-28T19:17:49.967Z"
   },
   {
    "duration": 32,
    "start_time": "2024-06-28T19:17:59.124Z"
   },
   {
    "duration": 38,
    "start_time": "2024-06-28T19:18:04.785Z"
   },
   {
    "duration": 45,
    "start_time": "2024-06-28T19:18:17.762Z"
   },
   {
    "duration": 21,
    "start_time": "2024-06-28T19:18:44.345Z"
   },
   {
    "duration": 41,
    "start_time": "2024-06-28T19:19:01.897Z"
   },
   {
    "duration": 40,
    "start_time": "2024-06-28T19:20:43.571Z"
   },
   {
    "duration": 29,
    "start_time": "2024-06-28T19:20:47.638Z"
   },
   {
    "duration": 38,
    "start_time": "2024-06-28T19:20:51.924Z"
   },
   {
    "duration": 30,
    "start_time": "2024-06-28T19:24:31.259Z"
   },
   {
    "duration": 13,
    "start_time": "2024-06-28T19:26:03.859Z"
   },
   {
    "duration": 29,
    "start_time": "2024-06-28T19:26:11.365Z"
   },
   {
    "duration": 13,
    "start_time": "2024-06-28T19:26:44.632Z"
   },
   {
    "duration": 11,
    "start_time": "2024-06-28T19:26:50.697Z"
   },
   {
    "duration": 88,
    "start_time": "2024-06-28T19:28:46.818Z"
   },
   {
    "duration": 87,
    "start_time": "2024-06-28T19:28:50.937Z"
   },
   {
    "duration": 32,
    "start_time": "2024-06-28T19:29:19.381Z"
   },
   {
    "duration": 31,
    "start_time": "2024-06-28T19:29:25.945Z"
   },
   {
    "duration": 37,
    "start_time": "2024-06-28T19:29:28.555Z"
   },
   {
    "duration": 32,
    "start_time": "2024-06-28T19:44:36.939Z"
   },
   {
    "duration": 21,
    "start_time": "2024-06-28T19:44:54.160Z"
   },
   {
    "duration": 29,
    "start_time": "2024-06-28T19:53:05.270Z"
   },
   {
    "duration": 41,
    "start_time": "2024-06-28T19:53:15.595Z"
   },
   {
    "duration": 36,
    "start_time": "2024-06-28T19:54:48.187Z"
   },
   {
    "duration": 23,
    "start_time": "2024-06-28T20:01:18.925Z"
   },
   {
    "duration": 23,
    "start_time": "2024-06-28T20:01:23.263Z"
   },
   {
    "duration": 35,
    "start_time": "2024-06-28T20:01:39.182Z"
   },
   {
    "duration": 8,
    "start_time": "2024-06-28T20:34:26.043Z"
   },
   {
    "duration": 121,
    "start_time": "2024-06-28T20:35:01.119Z"
   },
   {
    "duration": 19,
    "start_time": "2024-06-28T20:36:14.665Z"
   },
   {
    "duration": 20,
    "start_time": "2024-06-28T20:38:41.983Z"
   },
   {
    "duration": 25,
    "start_time": "2024-06-28T20:39:07.663Z"
   },
   {
    "duration": 18,
    "start_time": "2024-06-28T20:39:12.222Z"
   },
   {
    "duration": 12,
    "start_time": "2024-06-28T20:45:14.655Z"
   },
   {
    "duration": 44,
    "start_time": "2024-06-28T20:45:20.588Z"
   },
   {
    "duration": 8,
    "start_time": "2024-06-28T20:46:52.643Z"
   },
   {
    "duration": 49,
    "start_time": "2024-06-28T20:46:57.578Z"
   },
   {
    "duration": 6,
    "start_time": "2024-06-28T20:48:07.792Z"
   },
   {
    "duration": 43,
    "start_time": "2024-06-28T20:48:19.133Z"
   },
   {
    "duration": 13,
    "start_time": "2024-06-28T20:57:05.434Z"
   },
   {
    "duration": 42,
    "start_time": "2024-06-28T20:57:19.693Z"
   },
   {
    "duration": 11,
    "start_time": "2024-06-28T20:58:01.330Z"
   },
   {
    "duration": 32,
    "start_time": "2024-06-28T20:58:27.351Z"
   },
   {
    "duration": 7,
    "start_time": "2024-06-28T20:59:04.655Z"
   },
   {
    "duration": 17,
    "start_time": "2024-06-28T20:59:26.761Z"
   },
   {
    "duration": 10,
    "start_time": "2024-06-28T21:02:48.400Z"
   },
   {
    "duration": 22,
    "start_time": "2024-06-28T21:03:01.685Z"
   },
   {
    "duration": 1151,
    "start_time": "2024-06-28T21:03:14.614Z"
   },
   {
    "duration": 159,
    "start_time": "2024-06-28T21:03:15.976Z"
   },
   {
    "duration": 14,
    "start_time": "2024-06-28T21:03:27.383Z"
   },
   {
    "duration": 12,
    "start_time": "2024-06-28T21:03:50.593Z"
   },
   {
    "duration": 7,
    "start_time": "2024-06-28T21:03:54.594Z"
   },
   {
    "duration": 24,
    "start_time": "2024-06-28T21:04:09.374Z"
   },
   {
    "duration": 34,
    "start_time": "2024-06-28T21:08:13.143Z"
   },
   {
    "duration": 35,
    "start_time": "2024-06-28T21:08:40.093Z"
   },
   {
    "duration": 24,
    "start_time": "2024-06-28T21:09:19.153Z"
   },
   {
    "duration": 24,
    "start_time": "2024-06-28T21:10:36.919Z"
   },
   {
    "duration": 34,
    "start_time": "2024-06-28T21:10:59.925Z"
   },
   {
    "duration": 62,
    "start_time": "2024-06-28T21:13:23.564Z"
   },
   {
    "duration": 59,
    "start_time": "2024-06-28T21:13:54.256Z"
   },
   {
    "duration": 6,
    "start_time": "2024-06-28T21:13:59.328Z"
   },
   {
    "duration": 470,
    "start_time": "2024-06-28T21:13:59.344Z"
   },
   {
    "duration": 29,
    "start_time": "2024-06-28T21:13:59.818Z"
   },
   {
    "duration": 18,
    "start_time": "2024-06-28T21:13:59.850Z"
   },
   {
    "duration": 60,
    "start_time": "2024-06-28T21:13:59.874Z"
   },
   {
    "duration": 22,
    "start_time": "2024-06-28T21:13:59.941Z"
   },
   {
    "duration": 23,
    "start_time": "2024-06-28T21:13:59.971Z"
   },
   {
    "duration": 54,
    "start_time": "2024-06-28T21:14:00.000Z"
   },
   {
    "duration": 18,
    "start_time": "2024-06-28T21:14:00.057Z"
   },
   {
    "duration": 26,
    "start_time": "2024-06-28T21:14:00.079Z"
   },
   {
    "duration": 36,
    "start_time": "2024-06-28T21:14:00.125Z"
   },
   {
    "duration": 14,
    "start_time": "2024-06-28T21:14:00.164Z"
   },
   {
    "duration": 106,
    "start_time": "2024-06-28T21:14:00.181Z"
   },
   {
    "duration": 61,
    "start_time": "2024-06-28T21:14:00.291Z"
   },
   {
    "duration": 34,
    "start_time": "2024-06-28T21:14:00.360Z"
   },
   {
    "duration": 98,
    "start_time": "2024-06-28T21:14:00.398Z"
   },
   {
    "duration": 40,
    "start_time": "2024-06-28T21:14:00.499Z"
   },
   {
    "duration": 13,
    "start_time": "2024-06-28T21:14:00.541Z"
   },
   {
    "duration": 31,
    "start_time": "2024-06-28T21:14:00.558Z"
   },
   {
    "duration": 74,
    "start_time": "2024-06-28T21:14:00.592Z"
   },
   {
    "duration": 40,
    "start_time": "2024-06-28T21:14:00.668Z"
   },
   {
    "duration": 73,
    "start_time": "2024-06-28T21:14:00.711Z"
   },
   {
    "duration": 17,
    "start_time": "2024-06-28T21:14:00.787Z"
   },
   {
    "duration": 107,
    "start_time": "2024-06-28T21:14:00.808Z"
   },
   {
    "duration": 76,
    "start_time": "2024-06-28T21:14:00.923Z"
   },
   {
    "duration": 63,
    "start_time": "2024-06-28T21:14:01.002Z"
   },
   {
    "duration": 15,
    "start_time": "2024-06-28T21:14:01.068Z"
   },
   {
    "duration": 51,
    "start_time": "2024-06-28T21:14:01.087Z"
   },
   {
    "duration": 48,
    "start_time": "2024-06-28T21:14:01.147Z"
   },
   {
    "duration": 41,
    "start_time": "2024-06-28T21:14:01.198Z"
   },
   {
    "duration": 33,
    "start_time": "2024-06-28T21:14:01.243Z"
   },
   {
    "duration": 66,
    "start_time": "2024-06-28T21:14:01.280Z"
   },
   {
    "duration": 15,
    "start_time": "2024-06-28T21:14:01.348Z"
   },
   {
    "duration": 31,
    "start_time": "2024-06-28T21:14:01.370Z"
   },
   {
    "duration": 75,
    "start_time": "2024-06-28T21:14:01.404Z"
   },
   {
    "duration": 75,
    "start_time": "2024-06-28T21:14:01.483Z"
   },
   {
    "duration": 27,
    "start_time": "2024-06-28T21:14:01.561Z"
   },
   {
    "duration": 63,
    "start_time": "2024-06-28T21:14:01.592Z"
   },
   {
    "duration": 83,
    "start_time": "2024-06-28T21:14:01.658Z"
   },
   {
    "duration": 59,
    "start_time": "2024-06-28T21:14:01.751Z"
   },
   {
    "duration": 12,
    "start_time": "2024-06-28T21:14:01.813Z"
   },
   {
    "duration": 14,
    "start_time": "2024-06-28T21:14:01.830Z"
   },
   {
    "duration": 10,
    "start_time": "2024-06-28T21:14:01.847Z"
   },
   {
    "duration": 8,
    "start_time": "2024-06-28T21:14:01.859Z"
   },
   {
    "duration": 4,
    "start_time": "2024-06-28T21:14:01.870Z"
   },
   {
    "duration": 3,
    "start_time": "2024-06-28T21:14:01.877Z"
   },
   {
    "duration": 3,
    "start_time": "2024-06-28T21:14:01.885Z"
   },
   {
    "duration": 3,
    "start_time": "2024-06-28T21:14:01.892Z"
   },
   {
    "duration": 65,
    "start_time": "2024-06-28T21:16:10.415Z"
   },
   {
    "duration": 53,
    "start_time": "2024-06-28T21:16:16.580Z"
   },
   {
    "duration": 4,
    "start_time": "2024-06-28T21:16:27.328Z"
   },
   {
    "duration": 346,
    "start_time": "2024-06-28T21:16:27.339Z"
   },
   {
    "duration": 41,
    "start_time": "2024-06-28T21:16:27.689Z"
   },
   {
    "duration": 16,
    "start_time": "2024-06-28T21:16:27.734Z"
   },
   {
    "duration": 17,
    "start_time": "2024-06-28T21:16:27.755Z"
   },
   {
    "duration": 53,
    "start_time": "2024-06-28T21:16:27.776Z"
   },
   {
    "duration": 14,
    "start_time": "2024-06-28T21:16:27.834Z"
   },
   {
    "duration": 32,
    "start_time": "2024-06-28T21:16:27.851Z"
   },
   {
    "duration": 16,
    "start_time": "2024-06-28T21:16:27.923Z"
   },
   {
    "duration": 21,
    "start_time": "2024-06-28T21:16:27.943Z"
   },
   {
    "duration": 60,
    "start_time": "2024-06-28T21:16:27.972Z"
   },
   {
    "duration": 13,
    "start_time": "2024-06-28T21:16:28.036Z"
   },
   {
    "duration": 97,
    "start_time": "2024-06-28T21:16:28.053Z"
   },
   {
    "duration": 30,
    "start_time": "2024-06-28T21:16:28.153Z"
   },
   {
    "duration": 47,
    "start_time": "2024-06-28T21:16:28.186Z"
   },
   {
    "duration": 96,
    "start_time": "2024-06-28T21:16:28.236Z"
   },
   {
    "duration": 29,
    "start_time": "2024-06-28T21:16:28.335Z"
   },
   {
    "duration": 11,
    "start_time": "2024-06-28T21:16:28.368Z"
   },
   {
    "duration": 63,
    "start_time": "2024-06-28T21:16:28.382Z"
   },
   {
    "duration": 44,
    "start_time": "2024-06-28T21:16:28.448Z"
   },
   {
    "duration": 23,
    "start_time": "2024-06-28T21:16:28.523Z"
   },
   {
    "duration": 45,
    "start_time": "2024-06-28T21:16:28.549Z"
   },
   {
    "duration": 12,
    "start_time": "2024-06-28T21:16:28.624Z"
   },
   {
    "duration": 99,
    "start_time": "2024-06-28T21:16:28.640Z"
   },
   {
    "duration": 54,
    "start_time": "2024-06-28T21:16:28.742Z"
   },
   {
    "duration": 47,
    "start_time": "2024-06-28T21:16:28.800Z"
   },
   {
    "duration": 13,
    "start_time": "2024-06-28T21:16:28.851Z"
   },
   {
    "duration": 70,
    "start_time": "2024-06-28T21:16:28.868Z"
   },
   {
    "duration": 29,
    "start_time": "2024-06-28T21:16:28.947Z"
   },
   {
    "duration": 57,
    "start_time": "2024-06-28T21:16:28.979Z"
   },
   {
    "duration": 26,
    "start_time": "2024-06-28T21:16:29.039Z"
   },
   {
    "duration": 68,
    "start_time": "2024-06-28T21:16:29.069Z"
   },
   {
    "duration": 12,
    "start_time": "2024-06-28T21:16:29.141Z"
   },
   {
    "duration": 29,
    "start_time": "2024-06-28T21:16:29.157Z"
   },
   {
    "duration": 48,
    "start_time": "2024-06-28T21:16:29.222Z"
   },
   {
    "duration": 60,
    "start_time": "2024-06-28T21:16:29.274Z"
   },
   {
    "duration": 23,
    "start_time": "2024-06-28T21:16:29.337Z"
   },
   {
    "duration": 67,
    "start_time": "2024-06-28T21:16:29.363Z"
   },
   {
    "duration": 105,
    "start_time": "2024-06-28T21:16:29.434Z"
   },
   {
    "duration": 0,
    "start_time": "2024-06-28T21:16:29.542Z"
   },
   {
    "duration": 0,
    "start_time": "2024-06-28T21:16:29.544Z"
   },
   {
    "duration": 0,
    "start_time": "2024-06-28T21:16:29.546Z"
   },
   {
    "duration": 0,
    "start_time": "2024-06-28T21:16:29.548Z"
   },
   {
    "duration": 0,
    "start_time": "2024-06-28T21:16:29.551Z"
   },
   {
    "duration": 0,
    "start_time": "2024-06-28T21:16:29.554Z"
   },
   {
    "duration": 0,
    "start_time": "2024-06-28T21:16:29.556Z"
   },
   {
    "duration": 0,
    "start_time": "2024-06-28T21:16:29.558Z"
   },
   {
    "duration": 0,
    "start_time": "2024-06-28T21:16:29.560Z"
   },
   {
    "duration": 44,
    "start_time": "2024-06-28T21:18:52.414Z"
   },
   {
    "duration": 88,
    "start_time": "2024-06-28T21:20:54.448Z"
   },
   {
    "duration": 46,
    "start_time": "2024-06-28T21:21:00.377Z"
   },
   {
    "duration": 11,
    "start_time": "2024-06-28T21:30:13.900Z"
   },
   {
    "duration": 22,
    "start_time": "2024-06-28T21:30:21.148Z"
   },
   {
    "duration": 6008,
    "start_time": "2024-06-28T21:33:36.553Z"
   },
   {
    "duration": 188,
    "start_time": "2024-06-28T21:34:26.811Z"
   },
   {
    "duration": 254,
    "start_time": "2024-06-28T21:34:33.009Z"
   },
   {
    "duration": 445,
    "start_time": "2024-06-28T21:36:57.557Z"
   },
   {
    "duration": 387,
    "start_time": "2024-06-28T21:38:15.991Z"
   },
   {
    "duration": 10,
    "start_time": "2024-06-28T21:40:03.053Z"
   },
   {
    "duration": 7,
    "start_time": "2024-06-28T21:40:11.867Z"
   },
   {
    "duration": 1439,
    "start_time": "2024-06-28T21:40:23.036Z"
   },
   {
    "duration": 24,
    "start_time": "2024-06-28T21:43:09.149Z"
   },
   {
    "duration": 373,
    "start_time": "2024-06-28T21:43:17.482Z"
   },
   {
    "duration": 25,
    "start_time": "2024-06-28T21:44:33.189Z"
   },
   {
    "duration": 21,
    "start_time": "2024-06-28T21:44:51.238Z"
   },
   {
    "duration": 25,
    "start_time": "2024-06-28T21:44:59.728Z"
   },
   {
    "duration": 31,
    "start_time": "2024-06-28T21:46:57.351Z"
   },
   {
    "duration": 20,
    "start_time": "2024-06-28T21:47:36.058Z"
   },
   {
    "duration": 27,
    "start_time": "2024-06-28T21:49:06.060Z"
   },
   {
    "duration": 9,
    "start_time": "2024-06-28T21:49:59.581Z"
   },
   {
    "duration": 13,
    "start_time": "2024-06-28T21:50:02.119Z"
   },
   {
    "duration": 9,
    "start_time": "2024-06-28T21:50:04.498Z"
   },
   {
    "duration": 15,
    "start_time": "2024-06-28T21:50:11.252Z"
   },
   {
    "duration": 21,
    "start_time": "2024-06-28T21:51:02.810Z"
   },
   {
    "duration": 17,
    "start_time": "2024-06-28T21:54:15.837Z"
   },
   {
    "duration": 16,
    "start_time": "2024-06-28T21:54:47.664Z"
   },
   {
    "duration": 28,
    "start_time": "2024-06-28T21:56:18.388Z"
   },
   {
    "duration": 32,
    "start_time": "2024-06-28T21:56:52.364Z"
   },
   {
    "duration": 126,
    "start_time": "2024-06-28T21:57:58.540Z"
   },
   {
    "duration": 358,
    "start_time": "2024-06-28T21:59:05.393Z"
   },
   {
    "duration": 351,
    "start_time": "2024-06-28T21:59:21.109Z"
   },
   {
    "duration": 309,
    "start_time": "2024-06-28T22:00:22.800Z"
   },
   {
    "duration": 315,
    "start_time": "2024-06-28T22:05:10.973Z"
   },
   {
    "duration": 369,
    "start_time": "2024-06-29T13:49:59.875Z"
   },
   {
    "duration": 24,
    "start_time": "2024-06-29T13:50:21.744Z"
   },
   {
    "duration": 6084,
    "start_time": "2024-06-29T13:50:26.029Z"
   },
   {
    "duration": 536,
    "start_time": "2024-06-29T13:50:32.121Z"
   },
   {
    "duration": 28,
    "start_time": "2024-06-29T13:50:32.661Z"
   },
   {
    "duration": 24,
    "start_time": "2024-06-29T13:50:32.704Z"
   },
   {
    "duration": 26,
    "start_time": "2024-06-29T13:50:32.733Z"
   },
   {
    "duration": 44,
    "start_time": "2024-06-29T13:50:32.766Z"
   },
   {
    "duration": 16,
    "start_time": "2024-06-29T13:50:32.813Z"
   },
   {
    "duration": 34,
    "start_time": "2024-06-29T13:50:32.834Z"
   },
   {
    "duration": 19,
    "start_time": "2024-06-29T13:50:32.903Z"
   },
   {
    "duration": 19,
    "start_time": "2024-06-29T13:50:32.927Z"
   },
   {
    "duration": 65,
    "start_time": "2024-06-29T13:50:32.949Z"
   },
   {
    "duration": 22,
    "start_time": "2024-06-29T13:50:33.017Z"
   },
   {
    "duration": 97,
    "start_time": "2024-06-29T13:50:33.042Z"
   },
   {
    "duration": 31,
    "start_time": "2024-06-29T13:50:33.145Z"
   },
   {
    "duration": 45,
    "start_time": "2024-06-29T13:50:33.179Z"
   },
   {
    "duration": 108,
    "start_time": "2024-06-29T13:50:33.226Z"
   },
   {
    "duration": 30,
    "start_time": "2024-06-29T13:50:33.337Z"
   },
   {
    "duration": 36,
    "start_time": "2024-06-29T13:50:33.371Z"
   },
   {
    "duration": 32,
    "start_time": "2024-06-29T13:50:33.410Z"
   },
   {
    "duration": 77,
    "start_time": "2024-06-29T13:50:33.446Z"
   },
   {
    "duration": 24,
    "start_time": "2024-06-29T13:50:33.526Z"
   },
   {
    "duration": 82,
    "start_time": "2024-06-29T13:50:33.554Z"
   },
   {
    "duration": 13,
    "start_time": "2024-06-29T13:50:33.638Z"
   },
   {
    "duration": 111,
    "start_time": "2024-06-29T13:50:33.654Z"
   },
   {
    "duration": 80,
    "start_time": "2024-06-29T13:50:33.769Z"
   },
   {
    "duration": 49,
    "start_time": "2024-06-29T13:50:33.852Z"
   },
   {
    "duration": 13,
    "start_time": "2024-06-29T13:50:33.904Z"
   },
   {
    "duration": 34,
    "start_time": "2024-06-29T13:50:33.928Z"
   },
   {
    "duration": 64,
    "start_time": "2024-06-29T13:50:33.965Z"
   },
   {
    "duration": 30,
    "start_time": "2024-06-29T13:50:34.032Z"
   },
   {
    "duration": 50,
    "start_time": "2024-06-29T13:50:34.065Z"
   },
   {
    "duration": 35,
    "start_time": "2024-06-29T13:50:34.118Z"
   },
   {
    "duration": 10,
    "start_time": "2024-06-29T13:50:34.157Z"
   },
   {
    "duration": 19,
    "start_time": "2024-06-29T13:50:34.201Z"
   },
   {
    "duration": 43,
    "start_time": "2024-06-29T13:50:34.223Z"
   },
   {
    "duration": 62,
    "start_time": "2024-06-29T13:50:34.269Z"
   },
   {
    "duration": 24,
    "start_time": "2024-06-29T13:50:34.333Z"
   },
   {
    "duration": 65,
    "start_time": "2024-06-29T13:50:34.360Z"
   },
   {
    "duration": 44,
    "start_time": "2024-06-29T13:50:34.428Z"
   },
   {
    "duration": 63,
    "start_time": "2024-06-29T13:50:34.474Z"
   },
   {
    "duration": 26,
    "start_time": "2024-06-29T13:50:34.539Z"
   },
   {
    "duration": 347,
    "start_time": "2024-06-29T13:50:34.568Z"
   },
   {
    "duration": 9,
    "start_time": "2024-06-29T13:50:34.919Z"
   },
   {
    "duration": 4,
    "start_time": "2024-06-29T13:50:34.931Z"
   },
   {
    "duration": 4,
    "start_time": "2024-06-29T13:50:34.938Z"
   },
   {
    "duration": 4,
    "start_time": "2024-06-29T13:50:34.946Z"
   },
   {
    "duration": 49,
    "start_time": "2024-06-29T13:50:34.953Z"
   },
   {
    "duration": 3,
    "start_time": "2024-06-29T13:50:35.005Z"
   },
   {
    "duration": 3,
    "start_time": "2024-06-29T13:50:35.012Z"
   },
   {
    "duration": 311,
    "start_time": "2024-06-29T13:52:08.259Z"
   },
   {
    "duration": 270,
    "start_time": "2024-06-29T13:52:46.331Z"
   },
   {
    "duration": 299,
    "start_time": "2024-06-29T13:52:56.061Z"
   },
   {
    "duration": 27,
    "start_time": "2024-06-29T13:56:52.792Z"
   },
   {
    "duration": 274,
    "start_time": "2024-06-29T13:57:13.805Z"
   },
   {
    "duration": 304,
    "start_time": "2024-06-29T13:57:52.648Z"
   },
   {
    "duration": 821,
    "start_time": "2024-06-29T13:59:31.549Z"
   },
   {
    "duration": 24,
    "start_time": "2024-06-29T14:00:26.089Z"
   },
   {
    "duration": 27,
    "start_time": "2024-06-29T14:00:46.498Z"
   },
   {
    "duration": 284,
    "start_time": "2024-06-29T14:01:16.349Z"
   },
   {
    "duration": 294,
    "start_time": "2024-06-29T14:02:41.254Z"
   },
   {
    "duration": 274,
    "start_time": "2024-06-29T14:02:48.811Z"
   },
   {
    "duration": 271,
    "start_time": "2024-06-29T14:02:54.260Z"
   },
   {
    "duration": 280,
    "start_time": "2024-06-29T14:03:08.251Z"
   },
   {
    "duration": 4,
    "start_time": "2024-06-29T14:05:09.955Z"
   },
   {
    "duration": 3,
    "start_time": "2024-06-29T14:05:20.974Z"
   },
   {
    "duration": 27,
    "start_time": "2024-06-29T14:05:27.615Z"
   },
   {
    "duration": 26,
    "start_time": "2024-06-29T14:05:36.217Z"
   },
   {
    "duration": 4,
    "start_time": "2024-06-29T14:15:55.473Z"
   },
   {
    "duration": 302,
    "start_time": "2024-06-29T14:15:55.481Z"
   },
   {
    "duration": 30,
    "start_time": "2024-06-29T14:15:55.786Z"
   },
   {
    "duration": 15,
    "start_time": "2024-06-29T14:15:55.820Z"
   },
   {
    "duration": 16,
    "start_time": "2024-06-29T14:15:55.839Z"
   },
   {
    "duration": 18,
    "start_time": "2024-06-29T14:15:55.904Z"
   },
   {
    "duration": 17,
    "start_time": "2024-06-29T14:15:55.925Z"
   },
   {
    "duration": 59,
    "start_time": "2024-06-29T14:15:55.945Z"
   },
   {
    "duration": 16,
    "start_time": "2024-06-29T14:15:56.008Z"
   },
   {
    "duration": 17,
    "start_time": "2024-06-29T14:15:56.027Z"
   },
   {
    "duration": 62,
    "start_time": "2024-06-29T14:15:56.051Z"
   },
   {
    "duration": 11,
    "start_time": "2024-06-29T14:15:56.116Z"
   },
   {
    "duration": 86,
    "start_time": "2024-06-29T14:15:56.130Z"
   },
   {
    "duration": 31,
    "start_time": "2024-06-29T14:15:56.219Z"
   },
   {
    "duration": 49,
    "start_time": "2024-06-29T14:15:56.253Z"
   },
   {
    "duration": 102,
    "start_time": "2024-06-29T14:15:56.305Z"
   },
   {
    "duration": 27,
    "start_time": "2024-06-29T14:15:56.410Z"
   },
   {
    "duration": 9,
    "start_time": "2024-06-29T14:15:56.440Z"
   },
   {
    "duration": 67,
    "start_time": "2024-06-29T14:15:56.451Z"
   },
   {
    "duration": 41,
    "start_time": "2024-06-29T14:15:56.521Z"
   },
   {
    "duration": 47,
    "start_time": "2024-06-29T14:15:56.565Z"
   },
   {
    "duration": 53,
    "start_time": "2024-06-29T14:15:56.615Z"
   },
   {
    "duration": 34,
    "start_time": "2024-06-29T14:15:56.673Z"
   },
   {
    "duration": 68,
    "start_time": "2024-06-29T14:15:56.710Z"
   },
   {
    "duration": 66,
    "start_time": "2024-06-29T14:15:56.781Z"
   },
   {
    "duration": 26,
    "start_time": "2024-06-29T14:15:56.851Z"
   },
   {
    "duration": 15,
    "start_time": "2024-06-29T14:15:56.901Z"
   },
   {
    "duration": 34,
    "start_time": "2024-06-29T14:15:56.920Z"
   },
   {
    "duration": 65,
    "start_time": "2024-06-29T14:15:56.963Z"
   },
   {
    "duration": 23,
    "start_time": "2024-06-29T14:15:57.031Z"
   },
   {
    "duration": 46,
    "start_time": "2024-06-29T14:15:57.057Z"
   },
   {
    "duration": 37,
    "start_time": "2024-06-29T14:15:57.107Z"
   },
   {
    "duration": 9,
    "start_time": "2024-06-29T14:15:57.147Z"
   },
   {
    "duration": 53,
    "start_time": "2024-06-29T14:15:57.159Z"
   },
   {
    "duration": 40,
    "start_time": "2024-06-29T14:15:57.215Z"
   },
   {
    "duration": 62,
    "start_time": "2024-06-29T14:15:57.258Z"
   },
   {
    "duration": 21,
    "start_time": "2024-06-29T14:15:57.323Z"
   },
   {
    "duration": 65,
    "start_time": "2024-06-29T14:15:57.347Z"
   },
   {
    "duration": 42,
    "start_time": "2024-06-29T14:15:57.415Z"
   },
   {
    "duration": 66,
    "start_time": "2024-06-29T14:15:57.461Z"
   },
   {
    "duration": 25,
    "start_time": "2024-06-29T14:15:57.530Z"
   },
   {
    "duration": 315,
    "start_time": "2024-06-29T14:15:57.558Z"
   },
   {
    "duration": 42,
    "start_time": "2024-06-29T14:15:57.876Z"
   },
   {
    "duration": 323,
    "start_time": "2024-06-29T14:15:57.921Z"
   },
   {
    "duration": 55,
    "start_time": "2024-06-29T14:15:58.248Z"
   },
   {
    "duration": 0,
    "start_time": "2024-06-29T14:15:58.306Z"
   },
   {
    "duration": 0,
    "start_time": "2024-06-29T14:15:58.309Z"
   },
   {
    "duration": 0,
    "start_time": "2024-06-29T14:15:58.311Z"
   },
   {
    "duration": 0,
    "start_time": "2024-06-29T14:15:58.314Z"
   },
   {
    "duration": 0,
    "start_time": "2024-06-29T14:15:58.316Z"
   },
   {
    "duration": 47,
    "start_time": "2024-06-29T14:16:34.430Z"
   },
   {
    "duration": 45,
    "start_time": "2024-06-29T14:16:37.888Z"
   },
   {
    "duration": 7,
    "start_time": "2024-06-29T14:16:47.412Z"
   },
   {
    "duration": 59,
    "start_time": "2024-06-29T14:16:54.802Z"
   },
   {
    "duration": 52,
    "start_time": "2024-06-29T14:17:27.777Z"
   },
   {
    "duration": 60,
    "start_time": "2024-06-29T14:18:25.275Z"
   },
   {
    "duration": 50,
    "start_time": "2024-06-29T14:18:58.949Z"
   },
   {
    "duration": 52,
    "start_time": "2024-06-29T14:19:23.286Z"
   },
   {
    "duration": 25,
    "start_time": "2024-06-29T14:19:44.957Z"
   },
   {
    "duration": 18,
    "start_time": "2024-06-29T14:19:54.225Z"
   },
   {
    "duration": 116,
    "start_time": "2024-06-29T14:21:47.008Z"
   },
   {
    "duration": 70,
    "start_time": "2024-06-29T14:22:20.062Z"
   },
   {
    "duration": 43,
    "start_time": "2024-06-29T14:28:12.698Z"
   },
   {
    "duration": 47,
    "start_time": "2024-06-29T14:29:10.536Z"
   },
   {
    "duration": 8,
    "start_time": "2024-06-29T14:31:32.146Z"
   },
   {
    "duration": 469,
    "start_time": "2024-06-29T14:31:40.411Z"
   },
   {
    "duration": 199,
    "start_time": "2024-06-29T14:32:43.856Z"
   },
   {
    "duration": 4987,
    "start_time": "2024-06-30T15:57:03.370Z"
   },
   {
    "duration": 397,
    "start_time": "2024-06-30T16:08:30.371Z"
   },
   {
    "duration": 5,
    "start_time": "2024-06-30T16:08:34.036Z"
   },
   {
    "duration": 373,
    "start_time": "2024-06-30T16:08:34.044Z"
   },
   {
    "duration": 18,
    "start_time": "2024-06-30T16:08:34.420Z"
   },
   {
    "duration": 16,
    "start_time": "2024-06-30T16:08:34.441Z"
   },
   {
    "duration": 15,
    "start_time": "2024-06-30T16:08:34.460Z"
   },
   {
    "duration": 15,
    "start_time": "2024-06-30T16:08:34.478Z"
   },
   {
    "duration": 14,
    "start_time": "2024-06-30T16:08:34.532Z"
   },
   {
    "duration": 28,
    "start_time": "2024-06-30T16:08:34.548Z"
   },
   {
    "duration": 51,
    "start_time": "2024-06-30T16:08:34.580Z"
   },
   {
    "duration": 17,
    "start_time": "2024-06-30T16:08:34.634Z"
   },
   {
    "duration": 25,
    "start_time": "2024-06-30T16:08:34.658Z"
   },
   {
    "duration": 46,
    "start_time": "2024-06-30T16:08:34.686Z"
   },
   {
    "duration": 57,
    "start_time": "2024-06-30T16:08:34.735Z"
   },
   {
    "duration": 53,
    "start_time": "2024-06-30T16:08:34.795Z"
   },
   {
    "duration": 24,
    "start_time": "2024-06-30T16:08:34.851Z"
   },
   {
    "duration": 104,
    "start_time": "2024-06-30T16:08:34.878Z"
   },
   {
    "duration": 27,
    "start_time": "2024-06-30T16:08:34.985Z"
   },
   {
    "duration": 23,
    "start_time": "2024-06-30T16:08:35.014Z"
   },
   {
    "duration": 28,
    "start_time": "2024-06-30T16:08:35.039Z"
   },
   {
    "duration": 73,
    "start_time": "2024-06-30T16:08:35.073Z"
   },
   {
    "duration": 23,
    "start_time": "2024-06-30T16:08:35.150Z"
   },
   {
    "duration": 67,
    "start_time": "2024-06-30T16:08:35.176Z"
   },
   {
    "duration": 10,
    "start_time": "2024-06-30T16:08:35.246Z"
   },
   {
    "duration": 101,
    "start_time": "2024-06-30T16:08:35.259Z"
   },
   {
    "duration": 64,
    "start_time": "2024-06-30T16:08:35.366Z"
   },
   {
    "duration": 26,
    "start_time": "2024-06-30T16:08:35.433Z"
   },
   {
    "duration": 13,
    "start_time": "2024-06-30T16:08:35.462Z"
   },
   {
    "duration": 63,
    "start_time": "2024-06-30T16:08:35.478Z"
   },
   {
    "duration": 24,
    "start_time": "2024-06-30T16:08:35.549Z"
   },
   {
    "duration": 0,
    "start_time": "2024-06-30T16:08:35.577Z"
   },
   {
    "duration": 0,
    "start_time": "2024-06-30T16:08:35.579Z"
   },
   {
    "duration": 0,
    "start_time": "2024-06-30T16:08:35.582Z"
   },
   {
    "duration": 1,
    "start_time": "2024-06-30T16:08:35.583Z"
   },
   {
    "duration": 0,
    "start_time": "2024-06-30T16:08:35.587Z"
   },
   {
    "duration": 0,
    "start_time": "2024-06-30T16:08:35.589Z"
   },
   {
    "duration": 0,
    "start_time": "2024-06-30T16:08:35.592Z"
   },
   {
    "duration": 0,
    "start_time": "2024-06-30T16:08:35.594Z"
   },
   {
    "duration": 0,
    "start_time": "2024-06-30T16:08:35.632Z"
   },
   {
    "duration": 1,
    "start_time": "2024-06-30T16:08:35.634Z"
   },
   {
    "duration": 0,
    "start_time": "2024-06-30T16:08:35.637Z"
   },
   {
    "duration": 0,
    "start_time": "2024-06-30T16:08:35.639Z"
   },
   {
    "duration": 0,
    "start_time": "2024-06-30T16:08:35.643Z"
   },
   {
    "duration": 0,
    "start_time": "2024-06-30T16:08:35.647Z"
   },
   {
    "duration": 0,
    "start_time": "2024-06-30T16:08:35.649Z"
   },
   {
    "duration": 0,
    "start_time": "2024-06-30T16:08:35.652Z"
   },
   {
    "duration": 0,
    "start_time": "2024-06-30T16:08:35.656Z"
   },
   {
    "duration": 0,
    "start_time": "2024-06-30T16:08:35.659Z"
   },
   {
    "duration": 0,
    "start_time": "2024-06-30T16:08:35.662Z"
   },
   {
    "duration": 0,
    "start_time": "2024-06-30T16:08:35.664Z"
   },
   {
    "duration": 0,
    "start_time": "2024-06-30T16:08:35.669Z"
   },
   {
    "duration": 0,
    "start_time": "2024-06-30T16:08:35.672Z"
   },
   {
    "duration": 23,
    "start_time": "2024-06-30T16:08:57.408Z"
   },
   {
    "duration": 25,
    "start_time": "2024-06-30T16:09:16.762Z"
   },
   {
    "duration": 60,
    "start_time": "2024-06-30T16:09:19.311Z"
   },
   {
    "duration": 7,
    "start_time": "2024-06-30T16:09:27.063Z"
   },
   {
    "duration": 67,
    "start_time": "2024-06-30T16:09:29.436Z"
   },
   {
    "duration": 57,
    "start_time": "2024-06-30T16:09:33.352Z"
   },
   {
    "duration": 27,
    "start_time": "2024-06-30T16:10:57.380Z"
   },
   {
    "duration": 24,
    "start_time": "2024-06-30T16:16:12.850Z"
   },
   {
    "duration": 21,
    "start_time": "2024-06-30T16:16:15.741Z"
   },
   {
    "duration": 36,
    "start_time": "2024-06-30T16:16:18.580Z"
   },
   {
    "duration": 11,
    "start_time": "2024-06-30T16:16:22.377Z"
   },
   {
    "duration": 20,
    "start_time": "2024-06-30T16:16:25.016Z"
   },
   {
    "duration": 41,
    "start_time": "2024-06-30T16:16:27.879Z"
   },
   {
    "duration": 33,
    "start_time": "2024-06-30T16:17:50.530Z"
   },
   {
    "duration": 22,
    "start_time": "2024-06-30T16:17:55.114Z"
   },
   {
    "duration": 37,
    "start_time": "2024-06-30T16:18:00.805Z"
   },
   {
    "duration": 42,
    "start_time": "2024-06-30T16:18:03.631Z"
   },
   {
    "duration": 42,
    "start_time": "2024-06-30T16:18:06.106Z"
   },
   {
    "duration": 25,
    "start_time": "2024-06-30T16:19:05.993Z"
   },
   {
    "duration": 305,
    "start_time": "2024-06-30T16:19:08.761Z"
   },
   {
    "duration": 31,
    "start_time": "2024-06-30T16:19:11.630Z"
   },
   {
    "duration": 282,
    "start_time": "2024-06-30T16:19:14.236Z"
   },
   {
    "duration": 20,
    "start_time": "2024-06-30T16:19:19.811Z"
   },
   {
    "duration": 189,
    "start_time": "2024-06-30T16:19:22.045Z"
   },
   {
    "duration": 28,
    "start_time": "2024-06-30T16:29:30.499Z"
   },
   {
    "duration": 307,
    "start_time": "2024-06-30T16:31:02.212Z"
   },
   {
    "duration": 129,
    "start_time": "2024-06-30T16:35:25.056Z"
   },
   {
    "duration": 29,
    "start_time": "2024-06-30T16:35:27.654Z"
   },
   {
    "duration": 9,
    "start_time": "2024-06-30T16:36:14.347Z"
   },
   {
    "duration": 18,
    "start_time": "2024-06-30T16:36:16.160Z"
   },
   {
    "duration": 15,
    "start_time": "2024-06-30T16:39:03.078Z"
   },
   {
    "duration": 16,
    "start_time": "2024-06-30T16:40:33.320Z"
   },
   {
    "duration": 174,
    "start_time": "2024-06-30T16:42:09.793Z"
   },
   {
    "duration": 171,
    "start_time": "2024-06-30T16:44:27.802Z"
   },
   {
    "duration": 12,
    "start_time": "2024-06-30T16:57:03.621Z"
   },
   {
    "duration": 352,
    "start_time": "2024-06-30T17:00:49.006Z"
   },
   {
    "duration": 479,
    "start_time": "2024-06-30T17:04:39.582Z"
   },
   {
    "duration": 484,
    "start_time": "2024-06-30T17:05:13.520Z"
   },
   {
    "duration": 11,
    "start_time": "2024-06-30T17:11:08.960Z"
   },
   {
    "duration": 33,
    "start_time": "2024-06-30T17:11:18.937Z"
   },
   {
    "duration": 26,
    "start_time": "2024-06-30T17:19:00.485Z"
   },
   {
    "duration": 279,
    "start_time": "2024-06-30T17:19:16.687Z"
   },
   {
    "duration": 379,
    "start_time": "2024-06-30T17:20:39.275Z"
   },
   {
    "duration": 382,
    "start_time": "2024-06-30T17:20:43.641Z"
   },
   {
    "duration": 26,
    "start_time": "2024-06-30T17:32:58.294Z"
   },
   {
    "duration": 309,
    "start_time": "2024-06-30T17:34:36.546Z"
   },
   {
    "duration": 277,
    "start_time": "2024-06-30T17:37:34.253Z"
   },
   {
    "duration": 477,
    "start_time": "2024-06-30T17:37:52.112Z"
   },
   {
    "duration": 338,
    "start_time": "2024-06-30T17:38:36.016Z"
   },
   {
    "duration": 56,
    "start_time": "2024-06-30T17:39:28.377Z"
   },
   {
    "duration": 28,
    "start_time": "2024-06-30T17:40:00.666Z"
   },
   {
    "duration": 315,
    "start_time": "2024-06-30T17:42:50.923Z"
   },
   {
    "duration": 5202,
    "start_time": "2024-06-30T21:53:31.517Z"
   },
   {
    "duration": 379,
    "start_time": "2024-06-30T21:53:36.722Z"
   },
   {
    "duration": 16,
    "start_time": "2024-06-30T21:53:37.105Z"
   },
   {
    "duration": 19,
    "start_time": "2024-06-30T21:53:37.125Z"
   },
   {
    "duration": 50,
    "start_time": "2024-06-30T21:53:37.151Z"
   },
   {
    "duration": 19,
    "start_time": "2024-06-30T21:53:37.204Z"
   },
   {
    "duration": 13,
    "start_time": "2024-06-30T21:53:37.226Z"
   },
   {
    "duration": 58,
    "start_time": "2024-06-30T21:53:37.243Z"
   },
   {
    "duration": 17,
    "start_time": "2024-06-30T21:53:37.304Z"
   },
   {
    "duration": 16,
    "start_time": "2024-06-30T21:53:37.327Z"
   },
   {
    "duration": 60,
    "start_time": "2024-06-30T21:53:37.346Z"
   },
   {
    "duration": 9,
    "start_time": "2024-06-30T21:53:37.409Z"
   },
   {
    "duration": 80,
    "start_time": "2024-06-30T21:53:37.421Z"
   },
   {
    "duration": 28,
    "start_time": "2024-06-30T21:53:37.506Z"
   },
   {
    "duration": 23,
    "start_time": "2024-06-30T21:53:37.537Z"
   },
   {
    "duration": 109,
    "start_time": "2024-06-30T21:53:37.563Z"
   },
   {
    "duration": 42,
    "start_time": "2024-06-30T21:53:37.675Z"
   },
   {
    "duration": 9,
    "start_time": "2024-06-30T21:53:37.720Z"
   },
   {
    "duration": 29,
    "start_time": "2024-06-30T21:53:37.732Z"
   },
   {
    "duration": 68,
    "start_time": "2024-06-30T21:53:37.764Z"
   },
   {
    "duration": 21,
    "start_time": "2024-06-30T21:53:37.835Z"
   },
   {
    "duration": 72,
    "start_time": "2024-06-30T21:53:37.859Z"
   },
   {
    "duration": 10,
    "start_time": "2024-06-30T21:53:37.934Z"
   },
   {
    "duration": 91,
    "start_time": "2024-06-30T21:53:37.947Z"
   },
   {
    "duration": 61,
    "start_time": "2024-06-30T21:53:38.042Z"
   },
   {
    "duration": 25,
    "start_time": "2024-06-30T21:53:38.106Z"
   },
   {
    "duration": 12,
    "start_time": "2024-06-30T21:53:38.134Z"
   },
   {
    "duration": 70,
    "start_time": "2024-06-30T21:53:38.158Z"
   },
   {
    "duration": 83,
    "start_time": "2024-06-30T21:53:38.232Z"
   },
   {
    "duration": 29,
    "start_time": "2024-06-30T21:53:38.322Z"
   },
   {
    "duration": 49,
    "start_time": "2024-06-30T21:53:38.354Z"
   },
   {
    "duration": 22,
    "start_time": "2024-06-30T21:53:38.406Z"
   },
   {
    "duration": 35,
    "start_time": "2024-06-30T21:53:38.431Z"
   },
   {
    "duration": 10,
    "start_time": "2024-06-30T21:53:38.500Z"
   },
   {
    "duration": 21,
    "start_time": "2024-06-30T21:53:38.514Z"
   },
   {
    "duration": 74,
    "start_time": "2024-06-30T21:53:38.537Z"
   },
   {
    "duration": 33,
    "start_time": "2024-06-30T21:53:38.614Z"
   },
   {
    "duration": 23,
    "start_time": "2024-06-30T21:53:38.650Z"
   },
   {
    "duration": 37,
    "start_time": "2024-06-30T21:53:38.703Z"
   },
   {
    "duration": 65,
    "start_time": "2024-06-30T21:53:38.743Z"
   },
   {
    "duration": 41,
    "start_time": "2024-06-30T21:53:38.811Z"
   },
   {
    "duration": 55,
    "start_time": "2024-06-30T21:53:38.855Z"
   },
   {
    "duration": 324,
    "start_time": "2024-06-30T21:53:38.913Z"
   },
   {
    "duration": 29,
    "start_time": "2024-06-30T21:53:39.244Z"
   },
   {
    "duration": 329,
    "start_time": "2024-06-30T21:53:39.278Z"
   },
   {
    "duration": 21,
    "start_time": "2024-06-30T21:53:39.610Z"
   },
   {
    "duration": 224,
    "start_time": "2024-06-30T21:53:39.635Z"
   },
   {
    "duration": 42,
    "start_time": "2024-06-30T21:53:39.862Z"
   },
   {
    "duration": 292,
    "start_time": "2024-06-30T21:53:39.909Z"
   },
   {
    "duration": 301,
    "start_time": "2024-06-30T21:53:40.204Z"
   },
   {
    "duration": 21,
    "start_time": "2024-06-30T21:53:40.508Z"
   },
   {
    "duration": 208,
    "start_time": "2024-06-30T21:53:40.532Z"
   },
   {
    "duration": 25,
    "start_time": "2024-06-30T21:53:40.743Z"
   },
   {
    "duration": 409,
    "start_time": "2024-06-30T21:53:40.771Z"
   },
   {
    "duration": 306,
    "start_time": "2024-06-30T21:53:41.183Z"
   },
   {
    "duration": 10,
    "start_time": "2024-06-30T21:53:41.492Z"
   },
   {
    "duration": 3,
    "start_time": "2024-06-30T21:53:41.506Z"
   },
   {
    "duration": 16,
    "start_time": "2024-06-30T22:02:39.533Z"
   },
   {
    "duration": 16,
    "start_time": "2024-06-30T22:02:49.299Z"
   },
   {
    "duration": 17,
    "start_time": "2024-06-30T22:04:11.917Z"
   },
   {
    "duration": 4,
    "start_time": "2024-06-30T22:04:16.650Z"
   },
   {
    "duration": 298,
    "start_time": "2024-06-30T22:04:16.658Z"
   },
   {
    "duration": 17,
    "start_time": "2024-06-30T22:04:16.959Z"
   },
   {
    "duration": 35,
    "start_time": "2024-06-30T22:04:16.978Z"
   },
   {
    "duration": 15,
    "start_time": "2024-06-30T22:04:17.018Z"
   },
   {
    "duration": 15,
    "start_time": "2024-06-30T22:04:17.036Z"
   },
   {
    "duration": 53,
    "start_time": "2024-06-30T22:04:17.054Z"
   },
   {
    "duration": 28,
    "start_time": "2024-06-30T22:04:17.110Z"
   },
   {
    "duration": 15,
    "start_time": "2024-06-30T22:04:17.141Z"
   },
   {
    "duration": 17,
    "start_time": "2024-06-30T22:04:17.201Z"
   },
   {
    "duration": 28,
    "start_time": "2024-06-30T22:04:17.222Z"
   },
   {
    "duration": 11,
    "start_time": "2024-06-30T22:04:17.254Z"
   },
   {
    "duration": 63,
    "start_time": "2024-06-30T22:04:17.303Z"
   },
   {
    "duration": 44,
    "start_time": "2024-06-30T22:04:17.374Z"
   },
   {
    "duration": 23,
    "start_time": "2024-06-30T22:04:17.421Z"
   },
   {
    "duration": 105,
    "start_time": "2024-06-30T22:04:17.447Z"
   },
   {
    "duration": 28,
    "start_time": "2024-06-30T22:04:17.555Z"
   },
   {
    "duration": 8,
    "start_time": "2024-06-30T22:04:17.602Z"
   },
   {
    "duration": 28,
    "start_time": "2024-06-30T22:04:17.613Z"
   },
   {
    "duration": 72,
    "start_time": "2024-06-30T22:04:17.644Z"
   },
   {
    "duration": 21,
    "start_time": "2024-06-30T22:04:17.719Z"
   },
   {
    "duration": 68,
    "start_time": "2024-06-30T22:04:17.743Z"
   },
   {
    "duration": 10,
    "start_time": "2024-06-30T22:04:17.814Z"
   },
   {
    "duration": 85,
    "start_time": "2024-06-30T22:04:17.827Z"
   },
   {
    "duration": 46,
    "start_time": "2024-06-30T22:04:17.915Z"
   },
   {
    "duration": 50,
    "start_time": "2024-06-30T22:04:17.964Z"
   },
   {
    "duration": 12,
    "start_time": "2024-06-30T22:04:18.017Z"
   },
   {
    "duration": 33,
    "start_time": "2024-06-30T22:04:18.033Z"
   },
   {
    "duration": 89,
    "start_time": "2024-06-30T22:04:18.068Z"
   },
   {
    "duration": 43,
    "start_time": "2024-06-30T22:04:18.160Z"
   },
   {
    "duration": 28,
    "start_time": "2024-06-30T22:04:18.206Z"
   },
   {
    "duration": 23,
    "start_time": "2024-06-30T22:04:18.238Z"
   },
   {
    "duration": 67,
    "start_time": "2024-06-30T22:04:18.264Z"
   },
   {
    "duration": 10,
    "start_time": "2024-06-30T22:04:18.334Z"
   },
   {
    "duration": 23,
    "start_time": "2024-06-30T22:04:18.347Z"
   },
   {
    "duration": 51,
    "start_time": "2024-06-30T22:04:18.403Z"
   },
   {
    "duration": 62,
    "start_time": "2024-06-30T22:04:18.458Z"
   },
   {
    "duration": 21,
    "start_time": "2024-06-30T22:04:18.524Z"
   },
   {
    "duration": 65,
    "start_time": "2024-06-30T22:04:18.547Z"
   },
   {
    "duration": 47,
    "start_time": "2024-06-30T22:04:18.615Z"
   },
   {
    "duration": 62,
    "start_time": "2024-06-30T22:04:18.671Z"
   },
   {
    "duration": 28,
    "start_time": "2024-06-30T22:04:18.736Z"
   },
   {
    "duration": 325,
    "start_time": "2024-06-30T22:04:18.766Z"
   },
   {
    "duration": 29,
    "start_time": "2024-06-30T22:04:19.095Z"
   },
   {
    "duration": 310,
    "start_time": "2024-06-30T22:04:19.127Z"
   },
   {
    "duration": 20,
    "start_time": "2024-06-30T22:04:19.442Z"
   },
   {
    "duration": 219,
    "start_time": "2024-06-30T22:04:19.465Z"
   },
   {
    "duration": 35,
    "start_time": "2024-06-30T22:04:19.687Z"
   },
   {
    "duration": 305,
    "start_time": "2024-06-30T22:04:19.724Z"
   },
   {
    "duration": 304,
    "start_time": "2024-06-30T22:04:20.032Z"
   },
   {
    "duration": 16,
    "start_time": "2024-06-30T22:04:20.340Z"
   },
   {
    "duration": 203,
    "start_time": "2024-06-30T22:04:20.360Z"
   },
   {
    "duration": 39,
    "start_time": "2024-06-30T22:04:20.567Z"
   },
   {
    "duration": 345,
    "start_time": "2024-06-30T22:04:20.612Z"
   },
   {
    "duration": 289,
    "start_time": "2024-06-30T22:04:20.960Z"
   },
   {
    "duration": 16,
    "start_time": "2024-06-30T22:04:21.252Z"
   },
   {
    "duration": 3,
    "start_time": "2024-06-30T22:04:21.271Z"
   },
   {
    "duration": 4,
    "start_time": "2024-06-30T22:04:21.301Z"
   },
   {
    "duration": 280,
    "start_time": "2024-06-30T22:05:26.900Z"
   },
   {
    "duration": 26,
    "start_time": "2024-06-30T22:17:01.017Z"
   },
   {
    "duration": 26,
    "start_time": "2024-06-30T22:21:52.840Z"
   },
   {
    "duration": 308,
    "start_time": "2024-06-30T22:23:01.345Z"
   },
   {
    "duration": 305,
    "start_time": "2024-06-30T22:24:22.289Z"
   },
   {
    "duration": 323,
    "start_time": "2024-06-30T22:25:08.184Z"
   },
   {
    "duration": 321,
    "start_time": "2024-06-30T22:25:13.406Z"
   },
   {
    "duration": 174,
    "start_time": "2024-06-30T22:26:21.634Z"
   },
   {
    "duration": 172,
    "start_time": "2024-06-30T22:26:54.951Z"
   },
   {
    "duration": 174,
    "start_time": "2024-06-30T22:27:03.048Z"
   },
   {
    "duration": 171,
    "start_time": "2024-06-30T22:32:27.963Z"
   },
   {
    "duration": 149,
    "start_time": "2024-06-30T22:32:36.129Z"
   },
   {
    "duration": 175,
    "start_time": "2024-06-30T22:32:38.982Z"
   },
   {
    "duration": 147,
    "start_time": "2024-06-30T22:33:03.243Z"
   },
   {
    "duration": 296,
    "start_time": "2024-06-30T22:33:24.122Z"
   },
   {
    "duration": 9,
    "start_time": "2024-06-30T22:34:33.129Z"
   },
   {
    "duration": 15,
    "start_time": "2024-06-30T22:34:40.353Z"
   },
   {
    "duration": 7,
    "start_time": "2024-06-30T22:37:13.005Z"
   },
   {
    "duration": 13,
    "start_time": "2024-06-30T22:40:59.723Z"
   },
   {
    "duration": 430,
    "start_time": "2024-06-30T22:41:58.162Z"
   },
   {
    "duration": 5,
    "start_time": "2024-06-30T22:42:14.848Z"
   },
   {
    "duration": 7,
    "start_time": "2024-06-30T22:43:59.102Z"
   },
   {
    "duration": 25,
    "start_time": "2024-06-30T22:44:08.265Z"
   },
   {
    "duration": 7,
    "start_time": "2024-06-30T22:44:11.579Z"
   },
   {
    "duration": 11,
    "start_time": "2024-06-30T22:44:29.437Z"
   },
   {
    "duration": 6,
    "start_time": "2024-06-30T22:44:37.608Z"
   },
   {
    "duration": 6,
    "start_time": "2024-06-30T22:44:52.903Z"
   },
   {
    "duration": 24,
    "start_time": "2024-06-30T22:45:23.381Z"
   },
   {
    "duration": 9,
    "start_time": "2024-06-30T22:45:26.545Z"
   },
   {
    "duration": 11,
    "start_time": "2024-06-30T22:47:14.950Z"
   },
   {
    "duration": 12,
    "start_time": "2024-06-30T22:51:06.461Z"
   },
   {
    "duration": 13,
    "start_time": "2024-06-30T22:51:48.798Z"
   },
   {
    "duration": 762,
    "start_time": "2024-06-30T22:52:18.473Z"
   },
   {
    "duration": 14,
    "start_time": "2024-06-30T22:52:40.491Z"
   },
   {
    "duration": 6,
    "start_time": "2024-06-30T22:54:16.742Z"
   },
   {
    "duration": 73,
    "start_time": "2024-06-30T22:54:35.205Z"
   },
   {
    "duration": 43,
    "start_time": "2024-06-30T22:55:01.986Z"
   },
   {
    "duration": 4,
    "start_time": "2024-06-30T22:55:14.991Z"
   },
   {
    "duration": 288,
    "start_time": "2024-06-30T22:55:15.002Z"
   },
   {
    "duration": 24,
    "start_time": "2024-06-30T22:55:15.294Z"
   },
   {
    "duration": 14,
    "start_time": "2024-06-30T22:55:15.322Z"
   },
   {
    "duration": 18,
    "start_time": "2024-06-30T22:55:15.341Z"
   },
   {
    "duration": 17,
    "start_time": "2024-06-30T22:55:15.403Z"
   },
   {
    "duration": 12,
    "start_time": "2024-06-30T22:55:15.423Z"
   },
   {
    "duration": 72,
    "start_time": "2024-06-30T22:55:15.439Z"
   },
   {
    "duration": 14,
    "start_time": "2024-06-30T22:55:15.514Z"
   },
   {
    "duration": 19,
    "start_time": "2024-06-30T22:55:15.532Z"
   },
   {
    "duration": 65,
    "start_time": "2024-06-30T22:55:15.558Z"
   },
   {
    "duration": 12,
    "start_time": "2024-06-30T22:55:15.625Z"
   },
   {
    "duration": 96,
    "start_time": "2024-06-30T22:55:15.640Z"
   },
   {
    "duration": 29,
    "start_time": "2024-06-30T22:55:15.739Z"
   },
   {
    "duration": 42,
    "start_time": "2024-06-30T22:55:15.771Z"
   },
   {
    "duration": 94,
    "start_time": "2024-06-30T22:55:15.816Z"
   },
   {
    "duration": 33,
    "start_time": "2024-06-30T22:55:15.912Z"
   },
   {
    "duration": 12,
    "start_time": "2024-06-30T22:55:15.950Z"
   },
   {
    "duration": 47,
    "start_time": "2024-06-30T22:55:15.976Z"
   },
   {
    "duration": 41,
    "start_time": "2024-06-30T22:55:16.026Z"
   },
   {
    "duration": 56,
    "start_time": "2024-06-30T22:55:16.070Z"
   },
   {
    "duration": 43,
    "start_time": "2024-06-30T22:55:16.129Z"
   },
   {
    "duration": 12,
    "start_time": "2024-06-30T22:55:16.203Z"
   },
   {
    "duration": 85,
    "start_time": "2024-06-30T22:55:16.218Z"
   },
   {
    "duration": 51,
    "start_time": "2024-06-30T22:55:16.306Z"
   },
   {
    "duration": 56,
    "start_time": "2024-06-30T22:55:16.360Z"
   },
   {
    "duration": 15,
    "start_time": "2024-06-30T22:55:16.419Z"
   },
   {
    "duration": 38,
    "start_time": "2024-06-30T22:55:16.437Z"
   },
   {
    "duration": 57,
    "start_time": "2024-06-30T22:55:16.511Z"
   },
   {
    "duration": 49,
    "start_time": "2024-06-30T22:55:16.571Z"
   },
   {
    "duration": 23,
    "start_time": "2024-06-30T22:55:16.623Z"
   },
   {
    "duration": 22,
    "start_time": "2024-06-30T22:55:16.649Z"
   },
   {
    "duration": 64,
    "start_time": "2024-06-30T22:55:16.675Z"
   },
   {
    "duration": 10,
    "start_time": "2024-06-30T22:55:16.742Z"
   },
   {
    "duration": 60,
    "start_time": "2024-06-30T22:55:16.755Z"
   },
   {
    "duration": 41,
    "start_time": "2024-06-30T22:55:16.818Z"
   },
   {
    "duration": 65,
    "start_time": "2024-06-30T22:55:16.863Z"
   },
   {
    "duration": 11,
    "start_time": "2024-06-30T22:55:16.931Z"
   },
   {
    "duration": 23,
    "start_time": "2024-06-30T22:55:16.945Z"
   },
   {
    "duration": 71,
    "start_time": "2024-06-30T22:55:16.970Z"
   },
   {
    "duration": 69,
    "start_time": "2024-06-30T22:55:17.044Z"
   },
   {
    "duration": 42,
    "start_time": "2024-06-30T22:55:17.116Z"
   },
   {
    "duration": 57,
    "start_time": "2024-06-30T22:55:17.161Z"
   },
   {
    "duration": 319,
    "start_time": "2024-06-30T22:55:17.221Z"
   },
   {
    "duration": 31,
    "start_time": "2024-06-30T22:55:17.543Z"
   },
   {
    "duration": 319,
    "start_time": "2024-06-30T22:55:17.577Z"
   },
   {
    "duration": 20,
    "start_time": "2024-06-30T22:55:17.902Z"
   },
   {
    "duration": 211,
    "start_time": "2024-06-30T22:55:17.926Z"
   },
   {
    "duration": 32,
    "start_time": "2024-06-30T22:55:18.141Z"
   },
   {
    "duration": 329,
    "start_time": "2024-06-30T22:55:18.176Z"
   },
   {
    "duration": 309,
    "start_time": "2024-06-30T22:55:18.508Z"
   },
   {
    "duration": 17,
    "start_time": "2024-06-30T22:55:18.820Z"
   },
   {
    "duration": 301,
    "start_time": "2024-06-30T22:55:18.840Z"
   },
   {
    "duration": 82,
    "start_time": "2024-06-30T22:55:19.144Z"
   },
   {
    "duration": 692,
    "start_time": "2024-06-30T22:55:19.229Z"
   },
   {
    "duration": 434,
    "start_time": "2024-06-30T22:55:19.924Z"
   },
   {
    "duration": 17,
    "start_time": "2024-06-30T22:55:20.361Z"
   },
   {
    "duration": 215,
    "start_time": "2024-06-30T22:55:20.381Z"
   },
   {
    "duration": 20,
    "start_time": "2024-06-30T22:55:20.598Z"
   },
   {
    "duration": 25,
    "start_time": "2024-06-30T22:55:20.621Z"
   },
   {
    "duration": 380,
    "start_time": "2024-06-30T22:55:20.649Z"
   },
   {
    "duration": 190,
    "start_time": "2024-06-30T22:55:21.032Z"
   },
   {
    "duration": 15,
    "start_time": "2024-06-30T22:55:21.225Z"
   },
   {
    "duration": 4,
    "start_time": "2024-06-30T22:55:21.243Z"
   },
   {
    "duration": 3,
    "start_time": "2024-06-30T22:55:21.251Z"
   },
   {
    "duration": 5,
    "start_time": "2024-06-30T22:55:53.831Z"
   },
   {
    "duration": 279,
    "start_time": "2024-06-30T22:55:53.841Z"
   },
   {
    "duration": 16,
    "start_time": "2024-06-30T22:55:54.124Z"
   },
   {
    "duration": 13,
    "start_time": "2024-06-30T22:55:54.143Z"
   },
   {
    "duration": 47,
    "start_time": "2024-06-30T22:55:54.161Z"
   },
   {
    "duration": 16,
    "start_time": "2024-06-30T22:55:54.211Z"
   },
   {
    "duration": 173,
    "start_time": "2024-06-30T22:55:54.230Z"
   },
   {
    "duration": 26,
    "start_time": "2024-06-30T22:55:54.407Z"
   },
   {
    "duration": 16,
    "start_time": "2024-06-30T22:55:54.436Z"
   },
   {
    "duration": 55,
    "start_time": "2024-06-30T22:55:54.455Z"
   },
   {
    "duration": 25,
    "start_time": "2024-06-30T22:55:54.516Z"
   },
   {
    "duration": 11,
    "start_time": "2024-06-30T22:55:54.543Z"
   },
   {
    "duration": 51,
    "start_time": "2024-06-30T22:55:54.602Z"
   },
   {
    "duration": 51,
    "start_time": "2024-06-30T22:55:54.657Z"
   },
   {
    "duration": 26,
    "start_time": "2024-06-30T22:55:54.711Z"
   },
   {
    "duration": 97,
    "start_time": "2024-06-30T22:55:54.740Z"
   },
   {
    "duration": 30,
    "start_time": "2024-06-30T22:55:54.840Z"
   },
   {
    "duration": 35,
    "start_time": "2024-06-30T22:55:54.872Z"
   },
   {
    "duration": 32,
    "start_time": "2024-06-30T22:55:54.910Z"
   },
   {
    "duration": 74,
    "start_time": "2024-06-30T22:55:54.945Z"
   },
   {
    "duration": 22,
    "start_time": "2024-06-30T22:55:55.023Z"
   },
   {
    "duration": 73,
    "start_time": "2024-06-30T22:55:55.048Z"
   },
   {
    "duration": 11,
    "start_time": "2024-06-30T22:55:55.123Z"
   },
   {
    "duration": 89,
    "start_time": "2024-06-30T22:55:55.137Z"
   },
   {
    "duration": 49,
    "start_time": "2024-06-30T22:55:55.230Z"
   },
   {
    "duration": 41,
    "start_time": "2024-06-30T22:55:55.282Z"
   },
   {
    "duration": 11,
    "start_time": "2024-06-30T22:55:55.326Z"
   },
   {
    "duration": 28,
    "start_time": "2024-06-30T22:55:55.341Z"
   },
   {
    "duration": 50,
    "start_time": "2024-06-30T22:55:55.410Z"
   },
   {
    "duration": 47,
    "start_time": "2024-06-30T22:55:55.463Z"
   },
   {
    "duration": 22,
    "start_time": "2024-06-30T22:55:55.513Z"
   },
   {
    "duration": 23,
    "start_time": "2024-06-30T22:55:55.539Z"
   },
   {
    "duration": 69,
    "start_time": "2024-06-30T22:55:55.565Z"
   },
   {
    "duration": 9,
    "start_time": "2024-06-30T22:55:55.637Z"
   },
   {
    "duration": 58,
    "start_time": "2024-06-30T22:55:55.650Z"
   },
   {
    "duration": 42,
    "start_time": "2024-06-30T22:55:55.711Z"
   },
   {
    "duration": 63,
    "start_time": "2024-06-30T22:55:55.756Z"
   },
   {
    "duration": 12,
    "start_time": "2024-06-30T22:55:55.823Z"
   },
   {
    "duration": 22,
    "start_time": "2024-06-30T22:55:55.838Z"
   },
   {
    "duration": 73,
    "start_time": "2024-06-30T22:55:55.863Z"
   },
   {
    "duration": 71,
    "start_time": "2024-06-30T22:55:55.941Z"
   },
   {
    "duration": 45,
    "start_time": "2024-06-30T22:55:56.015Z"
   },
   {
    "duration": 59,
    "start_time": "2024-06-30T22:55:56.063Z"
   },
   {
    "duration": 356,
    "start_time": "2024-06-30T22:55:56.126Z"
   },
   {
    "duration": 39,
    "start_time": "2024-06-30T22:55:56.485Z"
   },
   {
    "duration": 309,
    "start_time": "2024-06-30T22:55:56.527Z"
   },
   {
    "duration": 21,
    "start_time": "2024-06-30T22:55:56.839Z"
   },
   {
    "duration": 218,
    "start_time": "2024-06-30T22:55:56.863Z"
   },
   {
    "duration": 36,
    "start_time": "2024-06-30T22:55:57.083Z"
   },
   {
    "duration": 483,
    "start_time": "2024-06-30T22:55:57.122Z"
   },
   {
    "duration": 594,
    "start_time": "2024-06-30T22:55:57.608Z"
   },
   {
    "duration": 28,
    "start_time": "2024-06-30T22:55:58.206Z"
   },
   {
    "duration": 415,
    "start_time": "2024-06-30T22:55:58.238Z"
   },
   {
    "duration": 66,
    "start_time": "2024-06-30T22:55:58.657Z"
   },
   {
    "duration": 334,
    "start_time": "2024-06-30T22:55:58.726Z"
   },
   {
    "duration": 306,
    "start_time": "2024-06-30T22:55:59.063Z"
   },
   {
    "duration": 38,
    "start_time": "2024-06-30T22:55:59.372Z"
   },
   {
    "duration": 210,
    "start_time": "2024-06-30T22:55:59.414Z"
   },
   {
    "duration": 20,
    "start_time": "2024-06-30T22:55:59.627Z"
   },
   {
    "duration": 53,
    "start_time": "2024-06-30T22:55:59.650Z"
   },
   {
    "duration": 315,
    "start_time": "2024-06-30T22:55:59.706Z"
   },
   {
    "duration": 195,
    "start_time": "2024-06-30T22:56:00.024Z"
   },
   {
    "duration": 13,
    "start_time": "2024-06-30T22:56:00.222Z"
   },
   {
    "duration": 3,
    "start_time": "2024-06-30T22:56:00.238Z"
   },
   {
    "duration": 6,
    "start_time": "2024-06-30T22:56:00.247Z"
   },
   {
    "duration": 43,
    "start_time": "2024-06-30T22:56:39.316Z"
   },
   {
    "duration": 44,
    "start_time": "2024-06-30T22:56:42.678Z"
   },
   {
    "duration": 44,
    "start_time": "2024-06-30T22:56:45.753Z"
   },
   {
    "duration": 4,
    "start_time": "2024-06-30T22:56:47.474Z"
   },
   {
    "duration": 270,
    "start_time": "2024-06-30T22:56:47.487Z"
   },
   {
    "duration": 26,
    "start_time": "2024-06-30T22:56:47.763Z"
   },
   {
    "duration": 15,
    "start_time": "2024-06-30T22:56:47.802Z"
   },
   {
    "duration": 31,
    "start_time": "2024-06-30T22:56:47.822Z"
   },
   {
    "duration": 46,
    "start_time": "2024-06-30T22:56:47.857Z"
   },
   {
    "duration": 13,
    "start_time": "2024-06-30T22:56:47.907Z"
   },
   {
    "duration": 27,
    "start_time": "2024-06-30T22:56:47.923Z"
   },
   {
    "duration": 57,
    "start_time": "2024-06-30T22:56:47.953Z"
   },
   {
    "duration": 19,
    "start_time": "2024-06-30T22:56:48.012Z"
   },
   {
    "duration": 64,
    "start_time": "2024-06-30T22:56:48.038Z"
   },
   {
    "duration": 10,
    "start_time": "2024-06-30T22:56:48.105Z"
   },
   {
    "duration": 55,
    "start_time": "2024-06-30T22:56:48.118Z"
   },
   {
    "duration": 34,
    "start_time": "2024-06-30T22:56:48.203Z"
   },
   {
    "duration": 24,
    "start_time": "2024-06-30T22:56:48.241Z"
   },
   {
    "duration": 100,
    "start_time": "2024-06-30T22:56:48.268Z"
   },
   {
    "duration": 44,
    "start_time": "2024-06-30T22:56:48.372Z"
   },
   {
    "duration": 10,
    "start_time": "2024-06-30T22:56:48.419Z"
   },
   {
    "duration": 30,
    "start_time": "2024-06-30T22:56:48.431Z"
   },
   {
    "duration": 69,
    "start_time": "2024-06-30T22:56:48.464Z"
   },
   {
    "duration": 22,
    "start_time": "2024-06-30T22:56:48.536Z"
   },
   {
    "duration": 73,
    "start_time": "2024-06-30T22:56:48.561Z"
   },
   {
    "duration": 10,
    "start_time": "2024-06-30T22:56:48.638Z"
   },
   {
    "duration": 92,
    "start_time": "2024-06-30T22:56:48.652Z"
   },
   {
    "duration": 61,
    "start_time": "2024-06-30T22:56:48.748Z"
   },
   {
    "duration": 27,
    "start_time": "2024-06-30T22:56:48.812Z"
   },
   {
    "duration": 12,
    "start_time": "2024-06-30T22:56:48.842Z"
   },
   {
    "duration": 79,
    "start_time": "2024-06-30T22:56:48.858Z"
   },
   {
    "duration": 78,
    "start_time": "2024-06-30T22:56:48.947Z"
   },
   {
    "duration": 23,
    "start_time": "2024-06-30T22:56:49.027Z"
   },
   {
    "duration": 49,
    "start_time": "2024-06-30T22:56:49.054Z"
   },
   {
    "duration": 22,
    "start_time": "2024-06-30T22:56:49.106Z"
   },
   {
    "duration": 36,
    "start_time": "2024-06-30T22:56:49.130Z"
   },
   {
    "duration": 39,
    "start_time": "2024-06-30T22:56:49.169Z"
   },
   {
    "duration": 20,
    "start_time": "2024-06-30T22:56:49.211Z"
   },
   {
    "duration": 77,
    "start_time": "2024-06-30T22:56:49.235Z"
   },
   {
    "duration": 33,
    "start_time": "2024-06-30T22:56:49.315Z"
   },
   {
    "duration": 12,
    "start_time": "2024-06-30T22:56:49.351Z"
   },
   {
    "duration": 54,
    "start_time": "2024-06-30T22:56:49.365Z"
   },
   {
    "duration": 37,
    "start_time": "2024-06-30T22:56:49.421Z"
   },
   {
    "duration": 72,
    "start_time": "2024-06-30T22:56:49.461Z"
   },
   {
    "duration": 42,
    "start_time": "2024-06-30T22:56:49.537Z"
   },
   {
    "duration": 27,
    "start_time": "2024-06-30T22:56:49.601Z"
   },
   {
    "duration": 316,
    "start_time": "2024-06-30T22:56:49.631Z"
   },
   {
    "duration": 25,
    "start_time": "2024-06-30T22:56:49.951Z"
   },
   {
    "duration": 332,
    "start_time": "2024-06-30T22:56:49.979Z"
   },
   {
    "duration": 19,
    "start_time": "2024-06-30T22:56:50.314Z"
   },
   {
    "duration": 213,
    "start_time": "2024-06-30T22:56:50.336Z"
   },
   {
    "duration": 25,
    "start_time": "2024-06-30T22:56:50.552Z"
   },
   {
    "duration": 443,
    "start_time": "2024-06-30T22:56:50.580Z"
   },
   {
    "duration": 601,
    "start_time": "2024-06-30T22:56:51.027Z"
   },
   {
    "duration": 71,
    "start_time": "2024-06-30T22:56:51.632Z"
   },
   {
    "duration": 527,
    "start_time": "2024-06-30T22:56:51.707Z"
   },
   {
    "duration": 30,
    "start_time": "2024-06-30T22:56:52.237Z"
   },
   {
    "duration": 342,
    "start_time": "2024-06-30T22:56:52.270Z"
   },
   {
    "duration": 293,
    "start_time": "2024-06-30T22:56:52.616Z"
   },
   {
    "duration": 17,
    "start_time": "2024-06-30T22:56:52.911Z"
   },
   {
    "duration": 204,
    "start_time": "2024-06-30T22:56:52.931Z"
   },
   {
    "duration": 20,
    "start_time": "2024-06-30T22:56:53.139Z"
   },
   {
    "duration": 51,
    "start_time": "2024-06-30T22:56:53.162Z"
   },
   {
    "duration": 429,
    "start_time": "2024-06-30T22:56:53.216Z"
   },
   {
    "duration": 240,
    "start_time": "2024-06-30T22:56:53.648Z"
   },
   {
    "duration": 36,
    "start_time": "2024-06-30T22:56:53.905Z"
   },
   {
    "duration": 4,
    "start_time": "2024-06-30T22:56:53.946Z"
   },
   {
    "duration": 3,
    "start_time": "2024-06-30T22:56:53.954Z"
   },
   {
    "duration": 24,
    "start_time": "2024-06-30T22:58:00.603Z"
   },
   {
    "duration": 23,
    "start_time": "2024-06-30T22:58:15.465Z"
   },
   {
    "duration": 16,
    "start_time": "2024-06-30T22:58:38.827Z"
   },
   {
    "duration": 24,
    "start_time": "2024-06-30T22:58:51.716Z"
   },
   {
    "duration": 27,
    "start_time": "2024-06-30T22:59:33.923Z"
   },
   {
    "duration": 28,
    "start_time": "2024-06-30T22:59:40.191Z"
   },
   {
    "duration": 25,
    "start_time": "2024-06-30T23:01:43.775Z"
   },
   {
    "duration": 26,
    "start_time": "2024-06-30T23:01:51.073Z"
   },
   {
    "duration": 12,
    "start_time": "2024-06-30T23:01:55.732Z"
   },
   {
    "duration": 8,
    "start_time": "2024-06-30T23:03:45.060Z"
   },
   {
    "duration": 10,
    "start_time": "2024-06-30T23:03:52.858Z"
   },
   {
    "duration": 12,
    "start_time": "2024-06-30T23:04:19.573Z"
   },
   {
    "duration": 9,
    "start_time": "2024-06-30T23:04:54.231Z"
   },
   {
    "duration": 11,
    "start_time": "2024-06-30T23:05:09.644Z"
   },
   {
    "duration": 7,
    "start_time": "2024-06-30T23:05:39.135Z"
   },
   {
    "duration": 30,
    "start_time": "2024-06-30T23:07:00.752Z"
   },
   {
    "duration": 9,
    "start_time": "2024-06-30T23:07:04.947Z"
   },
   {
    "duration": 12,
    "start_time": "2024-06-30T23:08:59.071Z"
   },
   {
    "duration": 320,
    "start_time": "2024-07-01T01:03:33.319Z"
   },
   {
    "duration": 4951,
    "start_time": "2024-07-01T01:03:40.401Z"
   },
   {
    "duration": 386,
    "start_time": "2024-07-01T01:03:45.355Z"
   },
   {
    "duration": 18,
    "start_time": "2024-07-01T01:03:45.743Z"
   },
   {
    "duration": 17,
    "start_time": "2024-07-01T01:03:45.764Z"
   },
   {
    "duration": 14,
    "start_time": "2024-07-01T01:03:45.804Z"
   },
   {
    "duration": 16,
    "start_time": "2024-07-01T01:03:45.822Z"
   },
   {
    "duration": 14,
    "start_time": "2024-07-01T01:03:45.841Z"
   },
   {
    "duration": 71,
    "start_time": "2024-07-01T01:03:45.858Z"
   },
   {
    "duration": 22,
    "start_time": "2024-07-01T01:03:45.932Z"
   },
   {
    "duration": 21,
    "start_time": "2024-07-01T01:03:45.963Z"
   },
   {
    "duration": 28,
    "start_time": "2024-07-01T01:03:46.003Z"
   },
   {
    "duration": 11,
    "start_time": "2024-07-01T01:03:46.034Z"
   },
   {
    "duration": 95,
    "start_time": "2024-07-01T01:03:46.049Z"
   },
   {
    "duration": 29,
    "start_time": "2024-07-01T01:03:46.151Z"
   },
   {
    "duration": 46,
    "start_time": "2024-07-01T01:03:46.182Z"
   },
   {
    "duration": 101,
    "start_time": "2024-07-01T01:03:46.231Z"
   },
   {
    "duration": 29,
    "start_time": "2024-07-01T01:03:46.335Z"
   },
   {
    "duration": 10,
    "start_time": "2024-07-01T01:03:46.366Z"
   },
   {
    "duration": 32,
    "start_time": "2024-07-01T01:03:46.402Z"
   },
   {
    "duration": 67,
    "start_time": "2024-07-01T01:03:46.436Z"
   },
   {
    "duration": 22,
    "start_time": "2024-07-01T01:03:46.509Z"
   },
   {
    "duration": 80,
    "start_time": "2024-07-01T01:03:46.534Z"
   },
   {
    "duration": 12,
    "start_time": "2024-07-01T01:03:46.620Z"
   },
   {
    "duration": 91,
    "start_time": "2024-07-01T01:03:46.636Z"
   },
   {
    "duration": 50,
    "start_time": "2024-07-01T01:03:46.730Z"
   },
   {
    "duration": 26,
    "start_time": "2024-07-01T01:03:46.805Z"
   },
   {
    "duration": 13,
    "start_time": "2024-07-01T01:03:46.834Z"
   },
   {
    "duration": 62,
    "start_time": "2024-07-01T01:03:46.850Z"
   },
   {
    "duration": 62,
    "start_time": "2024-07-01T01:03:46.915Z"
   },
   {
    "duration": 44,
    "start_time": "2024-07-01T01:03:46.980Z"
   },
   {
    "duration": 24,
    "start_time": "2024-07-01T01:03:47.027Z"
   },
   {
    "duration": 58,
    "start_time": "2024-07-01T01:03:47.054Z"
   },
   {
    "duration": 37,
    "start_time": "2024-07-01T01:03:47.115Z"
   },
   {
    "duration": 10,
    "start_time": "2024-07-01T01:03:47.155Z"
   },
   {
    "duration": 20,
    "start_time": "2024-07-01T01:03:47.201Z"
   },
   {
    "duration": 42,
    "start_time": "2024-07-01T01:03:47.224Z"
   },
   {
    "duration": 58,
    "start_time": "2024-07-01T01:03:47.269Z"
   },
   {
    "duration": 22,
    "start_time": "2024-07-01T01:03:47.330Z"
   },
   {
    "duration": 71,
    "start_time": "2024-07-01T01:03:47.356Z"
   },
   {
    "duration": 42,
    "start_time": "2024-07-01T01:03:47.430Z"
   },
   {
    "duration": 44,
    "start_time": "2024-07-01T01:03:47.503Z"
   },
   {
    "duration": 53,
    "start_time": "2024-07-01T01:03:47.550Z"
   },
   {
    "duration": 341,
    "start_time": "2024-07-01T01:03:47.606Z"
   },
   {
    "duration": 27,
    "start_time": "2024-07-01T01:03:47.951Z"
   },
   {
    "duration": 323,
    "start_time": "2024-07-01T01:03:47.981Z"
   },
   {
    "duration": 20,
    "start_time": "2024-07-01T01:03:48.307Z"
   },
   {
    "duration": 217,
    "start_time": "2024-07-01T01:03:48.330Z"
   },
   {
    "duration": 26,
    "start_time": "2024-07-01T01:03:48.550Z"
   },
   {
    "duration": 385,
    "start_time": "2024-07-01T01:03:48.582Z"
   },
   {
    "duration": 297,
    "start_time": "2024-07-01T01:03:48.971Z"
   },
   {
    "duration": 31,
    "start_time": "2024-07-01T01:03:49.272Z"
   },
   {
    "duration": 190,
    "start_time": "2024-07-01T01:03:49.307Z"
   },
   {
    "duration": 26,
    "start_time": "2024-07-01T01:03:49.502Z"
   },
   {
    "duration": 337,
    "start_time": "2024-07-01T01:03:49.531Z"
   },
   {
    "duration": 301,
    "start_time": "2024-07-01T01:03:49.871Z"
   },
   {
    "duration": 29,
    "start_time": "2024-07-01T01:03:50.175Z"
   },
   {
    "duration": 200,
    "start_time": "2024-07-01T01:03:50.207Z"
   },
   {
    "duration": 20,
    "start_time": "2024-07-01T01:03:50.409Z"
   },
   {
    "duration": 26,
    "start_time": "2024-07-01T01:03:50.432Z"
   },
   {
    "duration": 343,
    "start_time": "2024-07-01T01:03:50.461Z"
   },
   {
    "duration": 187,
    "start_time": "2024-07-01T01:03:50.807Z"
   },
   {
    "duration": 14,
    "start_time": "2024-07-01T01:03:51.002Z"
   },
   {
    "duration": 10,
    "start_time": "2024-07-01T01:03:51.018Z"
   },
   {
    "duration": 6,
    "start_time": "2024-07-01T01:03:51.031Z"
   },
   {
    "duration": 3,
    "start_time": "2024-07-01T01:03:51.041Z"
   },
   {
    "duration": 9,
    "start_time": "2024-07-01T01:04:20.226Z"
   },
   {
    "duration": 5,
    "start_time": "2024-07-01T01:04:21.858Z"
   },
   {
    "duration": 10,
    "start_time": "2024-07-01T01:06:58.754Z"
   },
   {
    "duration": 5,
    "start_time": "2024-07-01T01:07:00.379Z"
   },
   {
    "duration": 18,
    "start_time": "2024-07-01T02:02:35.972Z"
   },
   {
    "duration": 42,
    "start_time": "2024-07-01T02:04:22.336Z"
   },
   {
    "duration": 45,
    "start_time": "2024-07-01T02:08:53.860Z"
   },
   {
    "duration": 11,
    "start_time": "2024-07-01T02:13:38.674Z"
   },
   {
    "duration": 7,
    "start_time": "2024-07-01T02:14:14.953Z"
   },
   {
    "duration": 35,
    "start_time": "2024-07-01T02:15:29.892Z"
   },
   {
    "duration": 168,
    "start_time": "2024-07-01T02:16:26.331Z"
   },
   {
    "duration": 17,
    "start_time": "2024-07-01T02:16:34.536Z"
   },
   {
    "duration": 16,
    "start_time": "2024-07-01T02:18:05.402Z"
   },
   {
    "duration": 5,
    "start_time": "2024-07-01T02:19:55.486Z"
   },
   {
    "duration": 4,
    "start_time": "2024-07-01T02:20:36.482Z"
   },
   {
    "duration": 292,
    "start_time": "2024-07-01T02:20:36.509Z"
   },
   {
    "duration": 19,
    "start_time": "2024-07-01T02:20:36.805Z"
   },
   {
    "duration": 14,
    "start_time": "2024-07-01T02:20:36.827Z"
   },
   {
    "duration": 15,
    "start_time": "2024-07-01T02:20:36.845Z"
   },
   {
    "duration": 41,
    "start_time": "2024-07-01T02:20:36.863Z"
   },
   {
    "duration": 15,
    "start_time": "2024-07-01T02:20:36.908Z"
   },
   {
    "duration": 28,
    "start_time": "2024-07-01T02:20:36.926Z"
   },
   {
    "duration": 55,
    "start_time": "2024-07-01T02:20:36.958Z"
   },
   {
    "duration": 21,
    "start_time": "2024-07-01T02:20:37.016Z"
   },
   {
    "duration": 61,
    "start_time": "2024-07-01T02:20:37.045Z"
   },
   {
    "duration": 10,
    "start_time": "2024-07-01T02:20:37.110Z"
   },
   {
    "duration": 85,
    "start_time": "2024-07-01T02:20:37.124Z"
   },
   {
    "duration": 29,
    "start_time": "2024-07-01T02:20:37.212Z"
   },
   {
    "duration": 61,
    "start_time": "2024-07-01T02:20:37.244Z"
   },
   {
    "duration": 75,
    "start_time": "2024-07-01T02:20:37.308Z"
   },
   {
    "duration": 28,
    "start_time": "2024-07-01T02:20:37.402Z"
   },
   {
    "duration": 10,
    "start_time": "2024-07-01T02:20:37.433Z"
   },
   {
    "duration": 61,
    "start_time": "2024-07-01T02:20:37.445Z"
   },
   {
    "duration": 37,
    "start_time": "2024-07-01T02:20:37.509Z"
   },
   {
    "duration": 23,
    "start_time": "2024-07-01T02:20:37.549Z"
   },
   {
    "duration": 43,
    "start_time": "2024-07-01T02:20:37.602Z"
   },
   {
    "duration": 11,
    "start_time": "2024-07-01T02:20:37.648Z"
   },
   {
    "duration": 88,
    "start_time": "2024-07-01T02:20:37.663Z"
   },
   {
    "duration": 73,
    "start_time": "2024-07-01T02:20:37.754Z"
   },
   {
    "duration": 27,
    "start_time": "2024-07-01T02:20:37.831Z"
   },
   {
    "duration": 13,
    "start_time": "2024-07-01T02:20:37.862Z"
   },
   {
    "duration": 32,
    "start_time": "2024-07-01T02:20:37.903Z"
   },
   {
    "duration": 77,
    "start_time": "2024-07-01T02:20:37.944Z"
   },
   {
    "duration": 23,
    "start_time": "2024-07-01T02:20:38.025Z"
   },
   {
    "duration": 50,
    "start_time": "2024-07-01T02:20:38.051Z"
   },
   {
    "duration": 21,
    "start_time": "2024-07-01T02:20:38.104Z"
   },
   {
    "duration": 37,
    "start_time": "2024-07-01T02:20:38.129Z"
   },
   {
    "duration": 45,
    "start_time": "2024-07-01T02:20:38.169Z"
   },
   {
    "duration": 21,
    "start_time": "2024-07-01T02:20:38.219Z"
   },
   {
    "duration": 67,
    "start_time": "2024-07-01T02:20:38.243Z"
   },
   {
    "duration": 33,
    "start_time": "2024-07-01T02:20:38.313Z"
   },
   {
    "duration": 22,
    "start_time": "2024-07-01T02:20:38.348Z"
   },
   {
    "duration": 35,
    "start_time": "2024-07-01T02:20:38.402Z"
   },
   {
    "duration": 64,
    "start_time": "2024-07-01T02:20:38.439Z"
   },
   {
    "duration": 41,
    "start_time": "2024-07-01T02:20:38.506Z"
   },
   {
    "duration": 25,
    "start_time": "2024-07-01T02:20:38.550Z"
   },
   {
    "duration": 322,
    "start_time": "2024-07-01T02:20:38.602Z"
   },
   {
    "duration": 31,
    "start_time": "2024-07-01T02:20:38.927Z"
   },
   {
    "duration": 311,
    "start_time": "2024-07-01T02:20:38.962Z"
   },
   {
    "duration": 33,
    "start_time": "2024-07-01T02:20:39.277Z"
   },
   {
    "duration": 294,
    "start_time": "2024-07-01T02:20:39.313Z"
   },
   {
    "duration": 25,
    "start_time": "2024-07-01T02:20:39.611Z"
   },
   {
    "duration": 315,
    "start_time": "2024-07-01T02:20:39.639Z"
   },
   {
    "duration": 324,
    "start_time": "2024-07-01T02:20:39.957Z"
   },
   {
    "duration": 28,
    "start_time": "2024-07-01T02:20:40.284Z"
   },
   {
    "duration": 199,
    "start_time": "2024-07-01T02:20:40.315Z"
   },
   {
    "duration": 26,
    "start_time": "2024-07-01T02:20:40.516Z"
   },
   {
    "duration": 958,
    "start_time": "2024-07-01T02:20:40.545Z"
   },
   {
    "duration": 523,
    "start_time": "2024-07-01T02:20:41.506Z"
   },
   {
    "duration": 18,
    "start_time": "2024-07-01T02:20:42.033Z"
   },
   {
    "duration": 211,
    "start_time": "2024-07-01T02:20:42.054Z"
   },
   {
    "duration": 36,
    "start_time": "2024-07-01T02:20:42.268Z"
   },
   {
    "duration": 27,
    "start_time": "2024-07-01T02:20:42.307Z"
   },
   {
    "duration": 343,
    "start_time": "2024-07-01T02:20:42.338Z"
   },
   {
    "duration": 194,
    "start_time": "2024-07-01T02:20:42.685Z"
   },
   {
    "duration": 25,
    "start_time": "2024-07-01T02:20:42.882Z"
   },
   {
    "duration": 9,
    "start_time": "2024-07-01T02:20:42.911Z"
   },
   {
    "duration": 5,
    "start_time": "2024-07-01T02:20:42.923Z"
   },
   {
    "duration": 17,
    "start_time": "2024-07-01T02:20:42.932Z"
   },
   {
    "duration": 7,
    "start_time": "2024-07-01T02:20:42.952Z"
   },
   {
    "duration": 17,
    "start_time": "2024-07-01T02:25:49.826Z"
   },
   {
    "duration": 4,
    "start_time": "2024-07-01T02:25:56.921Z"
   },
   {
    "duration": 274,
    "start_time": "2024-07-01T02:25:56.932Z"
   },
   {
    "duration": 14,
    "start_time": "2024-07-01T02:25:57.209Z"
   },
   {
    "duration": 13,
    "start_time": "2024-07-01T02:25:57.226Z"
   },
   {
    "duration": 15,
    "start_time": "2024-07-01T02:25:57.244Z"
   },
   {
    "duration": 19,
    "start_time": "2024-07-01T02:25:57.301Z"
   },
   {
    "duration": 13,
    "start_time": "2024-07-01T02:25:57.323Z"
   },
   {
    "duration": 75,
    "start_time": "2024-07-01T02:25:57.339Z"
   },
   {
    "duration": 14,
    "start_time": "2024-07-01T02:25:57.417Z"
   },
   {
    "duration": 18,
    "start_time": "2024-07-01T02:25:57.434Z"
   },
   {
    "duration": 26,
    "start_time": "2024-07-01T02:25:57.501Z"
   },
   {
    "duration": 10,
    "start_time": "2024-07-01T02:25:57.530Z"
   },
   {
    "duration": 82,
    "start_time": "2024-07-01T02:25:57.543Z"
   },
   {
    "duration": 29,
    "start_time": "2024-07-01T02:25:57.629Z"
   },
   {
    "duration": 56,
    "start_time": "2024-07-01T02:25:57.661Z"
   },
   {
    "duration": 80,
    "start_time": "2024-07-01T02:25:57.720Z"
   },
   {
    "duration": 27,
    "start_time": "2024-07-01T02:25:57.804Z"
   },
   {
    "duration": 9,
    "start_time": "2024-07-01T02:25:57.835Z"
   },
   {
    "duration": 60,
    "start_time": "2024-07-01T02:25:57.847Z"
   },
   {
    "duration": 40,
    "start_time": "2024-07-01T02:25:57.910Z"
   },
   {
    "duration": 50,
    "start_time": "2024-07-01T02:25:57.952Z"
   },
   {
    "duration": 42,
    "start_time": "2024-07-01T02:25:58.005Z"
   },
   {
    "duration": 10,
    "start_time": "2024-07-01T02:25:58.053Z"
   },
   {
    "duration": 91,
    "start_time": "2024-07-01T02:25:58.067Z"
   },
   {
    "duration": 72,
    "start_time": "2024-07-01T02:25:58.161Z"
   },
   {
    "duration": 25,
    "start_time": "2024-07-01T02:25:58.236Z"
   },
   {
    "duration": 38,
    "start_time": "2024-07-01T02:25:58.264Z"
   },
   {
    "duration": 30,
    "start_time": "2024-07-01T02:25:58.305Z"
   },
   {
    "duration": 73,
    "start_time": "2024-07-01T02:25:58.343Z"
   },
   {
    "duration": 22,
    "start_time": "2024-07-01T02:25:58.419Z"
   },
   {
    "duration": 23,
    "start_time": "2024-07-01T02:25:58.444Z"
   },
   {
    "duration": 50,
    "start_time": "2024-07-01T02:25:58.471Z"
   },
   {
    "duration": 35,
    "start_time": "2024-07-01T02:25:58.524Z"
   },
   {
    "duration": 42,
    "start_time": "2024-07-01T02:25:58.561Z"
   },
   {
    "duration": 20,
    "start_time": "2024-07-01T02:25:58.606Z"
   },
   {
    "duration": 44,
    "start_time": "2024-07-01T02:25:58.629Z"
   },
   {
    "duration": 35,
    "start_time": "2024-07-01T02:25:58.705Z"
   },
   {
    "duration": 23,
    "start_time": "2024-07-01T02:25:58.744Z"
   },
   {
    "duration": 65,
    "start_time": "2024-07-01T02:25:58.769Z"
   },
   {
    "duration": 66,
    "start_time": "2024-07-01T02:25:58.837Z"
   },
   {
    "duration": 41,
    "start_time": "2024-07-01T02:25:58.906Z"
   },
   {
    "duration": 51,
    "start_time": "2024-07-01T02:25:58.950Z"
   },
   {
    "duration": 324,
    "start_time": "2024-07-01T02:25:59.004Z"
   },
   {
    "duration": 25,
    "start_time": "2024-07-01T02:25:59.331Z"
   },
   {
    "duration": 301,
    "start_time": "2024-07-01T02:25:59.359Z"
   },
   {
    "duration": 20,
    "start_time": "2024-07-01T02:25:59.663Z"
   },
   {
    "duration": 301,
    "start_time": "2024-07-01T02:25:59.703Z"
   },
   {
    "duration": 26,
    "start_time": "2024-07-01T02:26:00.007Z"
   },
   {
    "duration": 308,
    "start_time": "2024-07-01T02:26:00.036Z"
   },
   {
    "duration": 297,
    "start_time": "2024-07-01T02:26:00.348Z"
   },
   {
    "duration": 17,
    "start_time": "2024-07-01T02:26:00.649Z"
   },
   {
    "duration": 200,
    "start_time": "2024-07-01T02:26:00.670Z"
   },
   {
    "duration": 44,
    "start_time": "2024-07-01T02:26:00.873Z"
   },
   {
    "duration": 334,
    "start_time": "2024-07-01T02:26:00.921Z"
   },
   {
    "duration": 282,
    "start_time": "2024-07-01T02:26:01.258Z"
   },
   {
    "duration": 16,
    "start_time": "2024-07-01T02:26:01.543Z"
   },
   {
    "duration": 208,
    "start_time": "2024-07-01T02:26:01.562Z"
   },
   {
    "duration": 33,
    "start_time": "2024-07-01T02:26:01.773Z"
   },
   {
    "duration": 25,
    "start_time": "2024-07-01T02:26:01.809Z"
   },
   {
    "duration": 331,
    "start_time": "2024-07-01T02:26:01.837Z"
   },
   {
    "duration": 186,
    "start_time": "2024-07-01T02:26:02.171Z"
   },
   {
    "duration": 15,
    "start_time": "2024-07-01T02:26:02.360Z"
   },
   {
    "duration": 29,
    "start_time": "2024-07-01T02:26:02.378Z"
   },
   {
    "duration": 5,
    "start_time": "2024-07-01T02:26:02.410Z"
   },
   {
    "duration": 16,
    "start_time": "2024-07-01T02:26:02.418Z"
   },
   {
    "duration": 7,
    "start_time": "2024-07-01T02:26:02.437Z"
   },
   {
    "duration": 327,
    "start_time": "2024-07-01T16:15:44.383Z"
   },
   {
    "duration": 27,
    "start_time": "2024-07-01T16:16:06.339Z"
   },
   {
    "duration": 4915,
    "start_time": "2024-07-01T16:16:13.380Z"
   },
   {
    "duration": 387,
    "start_time": "2024-07-01T16:16:18.299Z"
   },
   {
    "duration": 16,
    "start_time": "2024-07-01T16:16:18.689Z"
   },
   {
    "duration": 33,
    "start_time": "2024-07-01T16:16:18.710Z"
   },
   {
    "duration": 15,
    "start_time": "2024-07-01T16:16:18.746Z"
   },
   {
    "duration": 15,
    "start_time": "2024-07-01T16:16:18.765Z"
   },
   {
    "duration": 49,
    "start_time": "2024-07-01T16:16:18.784Z"
   },
   {
    "duration": 26,
    "start_time": "2024-07-01T16:16:18.836Z"
   },
   {
    "duration": 14,
    "start_time": "2024-07-01T16:16:18.865Z"
   },
   {
    "duration": 53,
    "start_time": "2024-07-01T16:16:18.885Z"
   },
   {
    "duration": 27,
    "start_time": "2024-07-01T16:16:18.941Z"
   },
   {
    "duration": 11,
    "start_time": "2024-07-01T16:16:18.971Z"
   },
   {
    "duration": 90,
    "start_time": "2024-07-01T16:16:18.984Z"
   },
   {
    "duration": 29,
    "start_time": "2024-07-01T16:16:19.078Z"
   },
   {
    "duration": 22,
    "start_time": "2024-07-01T16:16:19.130Z"
   },
   {
    "duration": 98,
    "start_time": "2024-07-01T16:16:19.155Z"
   },
   {
    "duration": 27,
    "start_time": "2024-07-01T16:16:19.257Z"
   },
   {
    "duration": 8,
    "start_time": "2024-07-01T16:16:19.287Z"
   },
   {
    "duration": 57,
    "start_time": "2024-07-01T16:16:19.298Z"
   },
   {
    "duration": 39,
    "start_time": "2024-07-01T16:16:19.358Z"
   },
   {
    "duration": 47,
    "start_time": "2024-07-01T16:16:19.400Z"
   },
   {
    "duration": 45,
    "start_time": "2024-07-01T16:16:19.450Z"
   },
   {
    "duration": 9,
    "start_time": "2024-07-01T16:16:19.530Z"
   },
   {
    "duration": 63,
    "start_time": "2024-07-01T16:16:19.542Z"
   },
   {
    "duration": 47,
    "start_time": "2024-07-01T16:16:19.630Z"
   },
   {
    "duration": 26,
    "start_time": "2024-07-01T16:16:19.680Z"
   },
   {
    "duration": 14,
    "start_time": "2024-07-01T16:16:19.734Z"
   },
   {
    "duration": 37,
    "start_time": "2024-07-01T16:16:19.759Z"
   },
   {
    "duration": 90,
    "start_time": "2024-07-01T16:16:19.799Z"
   },
   {
    "duration": 42,
    "start_time": "2024-07-01T16:16:19.893Z"
   },
   {
    "duration": 24,
    "start_time": "2024-07-01T16:16:19.938Z"
   },
   {
    "duration": 23,
    "start_time": "2024-07-01T16:16:19.965Z"
   },
   {
    "duration": 68,
    "start_time": "2024-07-01T16:16:19.991Z"
   },
   {
    "duration": 12,
    "start_time": "2024-07-01T16:16:20.062Z"
   },
   {
    "duration": 21,
    "start_time": "2024-07-01T16:16:20.077Z"
   },
   {
    "duration": 64,
    "start_time": "2024-07-01T16:16:20.101Z"
   },
   {
    "duration": 33,
    "start_time": "2024-07-01T16:16:20.167Z"
   },
   {
    "duration": 45,
    "start_time": "2024-07-01T16:16:20.202Z"
   },
   {
    "duration": 38,
    "start_time": "2024-07-01T16:16:20.250Z"
   },
   {
    "duration": 71,
    "start_time": "2024-07-01T16:16:20.291Z"
   },
   {
    "duration": 42,
    "start_time": "2024-07-01T16:16:20.365Z"
   },
   {
    "duration": 25,
    "start_time": "2024-07-01T16:16:20.431Z"
   },
   {
    "duration": 331,
    "start_time": "2024-07-01T16:16:20.459Z"
   },
   {
    "duration": 37,
    "start_time": "2024-07-01T16:16:20.793Z"
   },
   {
    "duration": 310,
    "start_time": "2024-07-01T16:16:20.833Z"
   },
   {
    "duration": 19,
    "start_time": "2024-07-01T16:16:21.146Z"
   },
   {
    "duration": 201,
    "start_time": "2024-07-01T16:16:21.170Z"
   },
   {
    "duration": 27,
    "start_time": "2024-07-01T16:16:21.373Z"
   },
   {
    "duration": 383,
    "start_time": "2024-07-01T16:16:21.404Z"
   },
   {
    "duration": 357,
    "start_time": "2024-07-01T16:16:21.790Z"
   },
   {
    "duration": 16,
    "start_time": "2024-07-01T16:16:22.150Z"
   },
   {
    "duration": 201,
    "start_time": "2024-07-01T16:16:22.169Z"
   },
   {
    "duration": 26,
    "start_time": "2024-07-01T16:16:22.373Z"
   },
   {
    "duration": 337,
    "start_time": "2024-07-01T16:16:22.402Z"
   },
   {
    "duration": 291,
    "start_time": "2024-07-01T16:16:22.743Z"
   },
   {
    "duration": 18,
    "start_time": "2024-07-01T16:16:23.037Z"
   },
   {
    "duration": 232,
    "start_time": "2024-07-01T16:16:23.058Z"
   },
   {
    "duration": 20,
    "start_time": "2024-07-01T16:16:23.293Z"
   },
   {
    "duration": 37,
    "start_time": "2024-07-01T16:16:23.315Z"
   },
   {
    "duration": 324,
    "start_time": "2024-07-01T16:16:23.355Z"
   },
   {
    "duration": 184,
    "start_time": "2024-07-01T16:16:23.682Z"
   },
   {
    "duration": 15,
    "start_time": "2024-07-01T16:16:23.868Z"
   },
   {
    "duration": 10,
    "start_time": "2024-07-01T16:16:23.885Z"
   },
   {
    "duration": 32,
    "start_time": "2024-07-01T16:16:23.899Z"
   },
   {
    "duration": 14,
    "start_time": "2024-07-01T16:16:23.934Z"
   },
   {
    "duration": 12,
    "start_time": "2024-07-01T16:16:23.950Z"
   },
   {
    "duration": 1304,
    "start_time": "2024-07-30T21:56:01.864Z"
   },
   {
    "duration": 372,
    "start_time": "2024-07-30T21:56:03.171Z"
   },
   {
    "duration": 17,
    "start_time": "2024-07-30T21:56:03.545Z"
   },
   {
    "duration": 15,
    "start_time": "2024-07-30T21:56:03.567Z"
   },
   {
    "duration": 35,
    "start_time": "2024-07-30T21:56:03.585Z"
   },
   {
    "duration": 16,
    "start_time": "2024-07-30T21:56:03.623Z"
   },
   {
    "duration": 12,
    "start_time": "2024-07-30T21:56:03.642Z"
   },
   {
    "duration": 65,
    "start_time": "2024-07-30T21:56:03.658Z"
   },
   {
    "duration": 16,
    "start_time": "2024-07-30T21:56:03.727Z"
   },
   {
    "duration": 17,
    "start_time": "2024-07-30T21:56:03.748Z"
   },
   {
    "duration": 25,
    "start_time": "2024-07-30T21:56:03.805Z"
   },
   {
    "duration": 10,
    "start_time": "2024-07-30T21:56:03.834Z"
   },
   {
    "duration": 85,
    "start_time": "2024-07-30T21:56:03.848Z"
   },
   {
    "duration": 27,
    "start_time": "2024-07-30T21:56:03.936Z"
   },
   {
    "duration": 44,
    "start_time": "2024-07-30T21:56:03.967Z"
   },
   {
    "duration": 93,
    "start_time": "2024-07-30T21:56:04.014Z"
   },
   {
    "duration": 28,
    "start_time": "2024-07-30T21:56:04.110Z"
   },
   {
    "duration": 9,
    "start_time": "2024-07-30T21:56:04.141Z"
   },
   {
    "duration": 61,
    "start_time": "2024-07-30T21:56:04.153Z"
   },
   {
    "duration": 41,
    "start_time": "2024-07-30T21:56:04.217Z"
   },
   {
    "duration": 45,
    "start_time": "2024-07-30T21:56:04.262Z"
   },
   {
    "duration": 42,
    "start_time": "2024-07-30T21:56:04.310Z"
   },
   {
    "duration": 10,
    "start_time": "2024-07-30T21:56:04.355Z"
   },
   {
    "duration": 99,
    "start_time": "2024-07-30T21:56:04.368Z"
   },
   {
    "duration": 64,
    "start_time": "2024-07-30T21:56:04.471Z"
   },
   {
    "duration": 25,
    "start_time": "2024-07-30T21:56:04.538Z"
   },
   {
    "duration": 39,
    "start_time": "2024-07-30T21:56:04.566Z"
   },
   {
    "duration": 33,
    "start_time": "2024-07-30T21:56:04.614Z"
   },
   {
    "duration": 84,
    "start_time": "2024-07-30T21:56:04.650Z"
   },
   {
    "duration": 29,
    "start_time": "2024-07-30T21:56:04.738Z"
   },
   {
    "duration": 52,
    "start_time": "2024-07-30T21:56:04.770Z"
   },
   {
    "duration": 22,
    "start_time": "2024-07-30T21:56:04.825Z"
   },
   {
    "duration": 57,
    "start_time": "2024-07-30T21:56:04.850Z"
   },
   {
    "duration": 9,
    "start_time": "2024-07-30T21:56:04.910Z"
   },
   {
    "duration": 22,
    "start_time": "2024-07-30T21:56:04.923Z"
   },
   {
    "duration": 75,
    "start_time": "2024-07-30T21:56:04.948Z"
   },
   {
    "duration": 33,
    "start_time": "2024-07-30T21:56:05.026Z"
   },
   {
    "duration": 45,
    "start_time": "2024-07-30T21:56:05.062Z"
   },
   {
    "duration": 38,
    "start_time": "2024-07-30T21:56:05.110Z"
   },
   {
    "duration": 70,
    "start_time": "2024-07-30T21:56:05.151Z"
   },
   {
    "duration": 44,
    "start_time": "2024-07-30T21:56:05.224Z"
   },
   {
    "duration": 50,
    "start_time": "2024-07-30T21:56:05.271Z"
   },
   {
    "duration": 333,
    "start_time": "2024-07-30T21:56:05.323Z"
   },
   {
    "duration": 26,
    "start_time": "2024-07-30T21:56:05.659Z"
   },
   {
    "duration": 349,
    "start_time": "2024-07-30T21:56:05.706Z"
   },
   {
    "duration": 21,
    "start_time": "2024-07-30T21:56:06.058Z"
   },
   {
    "duration": 211,
    "start_time": "2024-07-30T21:56:06.082Z"
   },
   {
    "duration": 32,
    "start_time": "2024-07-30T21:56:06.296Z"
   },
   {
    "duration": 302,
    "start_time": "2024-07-30T21:56:06.334Z"
   },
   {
    "duration": 298,
    "start_time": "2024-07-30T21:56:06.639Z"
   },
   {
    "duration": 19,
    "start_time": "2024-07-30T21:56:06.941Z"
   },
   {
    "duration": 199,
    "start_time": "2024-07-30T21:56:06.964Z"
   },
   {
    "duration": 40,
    "start_time": "2024-07-30T21:56:07.166Z"
   },
   {
    "duration": 324,
    "start_time": "2024-07-30T21:56:07.209Z"
   },
   {
    "duration": 288,
    "start_time": "2024-07-30T21:56:07.536Z"
   },
   {
    "duration": 18,
    "start_time": "2024-07-30T21:56:07.827Z"
   },
   {
    "duration": 241,
    "start_time": "2024-07-30T21:56:07.847Z"
   },
   {
    "duration": 36,
    "start_time": "2024-07-30T21:56:08.092Z"
   },
   {
    "duration": 26,
    "start_time": "2024-07-30T21:56:08.131Z"
   },
   {
    "duration": 342,
    "start_time": "2024-07-30T21:56:08.160Z"
   },
   {
    "duration": 191,
    "start_time": "2024-07-30T21:56:08.509Z"
   },
   {
    "duration": 14,
    "start_time": "2024-07-30T21:56:08.705Z"
   },
   {
    "duration": 11,
    "start_time": "2024-07-30T21:56:08.722Z"
   },
   {
    "duration": 5,
    "start_time": "2024-07-30T21:56:08.736Z"
   },
   {
    "duration": 15,
    "start_time": "2024-07-30T21:56:08.744Z"
   },
   {
    "duration": 13,
    "start_time": "2024-07-30T21:56:08.807Z"
   }
  ],
  "colab": {
   "provenance": []
  },
  "kernelspec": {
   "display_name": "Python 3 (ipykernel)",
   "language": "python",
   "name": "python3"
  },
  "language_info": {
   "codemirror_mode": {
    "name": "ipython",
    "version": 3
   },
   "file_extension": ".py",
   "mimetype": "text/x-python",
   "name": "python",
   "nbconvert_exporter": "python",
   "pygments_lexer": "ipython3",
   "version": "3.12.3"
  },
  "toc": {
   "base_numbering": 1,
   "nav_menu": {},
   "number_sections": true,
   "sideBar": true,
   "skip_h1_title": false,
   "title_cell": "Table of Contents",
   "title_sidebar": "Contents",
   "toc_cell": false,
   "toc_position": {
    "height": "calc(100% - 180px)",
    "left": "10px",
    "top": "150px",
    "width": "257.188px"
   },
   "toc_section_display": true,
   "toc_window_display": true
  }
 },
 "nbformat": 4,
 "nbformat_minor": 1
}
